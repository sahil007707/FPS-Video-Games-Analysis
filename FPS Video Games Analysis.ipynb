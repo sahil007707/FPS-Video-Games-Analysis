{
 "cells": [
  {
   "cell_type": "code",
   "execution_count": 377,
   "id": "fb7b3630",
   "metadata": {},
   "outputs": [],
   "source": [
    "import pandas as pd\n",
    "import seaborn as sns \n",
    "import matplotlib.pyplot as plt\n",
    "import numpy as np\n",
    "import plotly.express as px\n",
    "import warnings\n",
    "warnings.filterwarnings(\"ignore\")"
   ]
  },
  {
   "cell_type": "markdown",
   "id": "9144013f",
   "metadata": {},
   "source": [
    "# Project\n",
    "## FPS Video Games Analysis"
   ]
  },
  {
   "cell_type": "code",
   "execution_count": 378,
   "id": "afcdcaf1",
   "metadata": {},
   "outputs": [],
   "source": [
    "df=pd.read_csv(r\"c:\\Users\\user\\Desktop\\Kaggle Datasets\\first_person_shooter.csv\")"
   ]
  },
  {
   "cell_type": "markdown",
   "id": "b2ad94a9",
   "metadata": {},
   "source": [
    "# Data Info "
   ]
  },
  {
   "cell_type": "code",
   "execution_count": 379,
   "id": "2dfcd36e",
   "metadata": {},
   "outputs": [
    {
     "data": {
      "text/plain": [
       "Index(['Title', 'Developer', 'Platform', 'Release_Date'], dtype='object')"
      ]
     },
     "execution_count": 379,
     "metadata": {},
     "output_type": "execute_result"
    }
   ],
   "source": [
    "df.columns"
   ]
  },
  {
   "cell_type": "code",
   "execution_count": 380,
   "id": "6953d9ed",
   "metadata": {},
   "outputs": [
    {
     "data": {
      "text/plain": [
       "(867, 4)"
      ]
     },
     "execution_count": 380,
     "metadata": {},
     "output_type": "execute_result"
    }
   ],
   "source": [
    "df.shape"
   ]
  },
  {
   "cell_type": "code",
   "execution_count": 381,
   "id": "54ec3c6d",
   "metadata": {},
   "outputs": [
    {
     "name": "stdout",
     "output_type": "stream",
     "text": [
      "<class 'pandas.core.frame.DataFrame'>\n",
      "RangeIndex: 867 entries, 0 to 866\n",
      "Data columns (total 4 columns):\n",
      " #   Column        Non-Null Count  Dtype \n",
      "---  ------        --------------  ----- \n",
      " 0   Title         867 non-null    object\n",
      " 1   Developer     867 non-null    object\n",
      " 2   Platform      867 non-null    object\n",
      " 3   Release_Date  867 non-null    object\n",
      "dtypes: object(4)\n",
      "memory usage: 27.2+ KB\n"
     ]
    }
   ],
   "source": [
    "df.info()"
   ]
  },
  {
   "cell_type": "code",
   "execution_count": 382,
   "id": "7745f0de",
   "metadata": {},
   "outputs": [
    {
     "data": {
      "text/html": [
       "<div>\n",
       "<style scoped>\n",
       "    .dataframe tbody tr th:only-of-type {\n",
       "        vertical-align: middle;\n",
       "    }\n",
       "\n",
       "    .dataframe tbody tr th {\n",
       "        vertical-align: top;\n",
       "    }\n",
       "\n",
       "    .dataframe thead th {\n",
       "        text-align: right;\n",
       "    }\n",
       "</style>\n",
       "<table border=\"1\" class=\"dataframe\">\n",
       "  <thead>\n",
       "    <tr style=\"text-align: right;\">\n",
       "      <th></th>\n",
       "      <th>Title</th>\n",
       "      <th>Developer</th>\n",
       "      <th>Platform</th>\n",
       "      <th>Release_Date</th>\n",
       "    </tr>\n",
       "  </thead>\n",
       "  <tbody>\n",
       "    <tr>\n",
       "      <th>0</th>\n",
       "      <td>007: Agent Under Fire</td>\n",
       "      <td>EA Redwood Shores, EA Canada</td>\n",
       "      <td>PS2, Xbox, GCN</td>\n",
       "      <td>2001-11-13</td>\n",
       "    </tr>\n",
       "    <tr>\n",
       "      <th>1</th>\n",
       "      <td>007: Nightfire</td>\n",
       "      <td>Eurocom, Gearbox Software</td>\n",
       "      <td>WIN, PS2, Xbox, GCN, GBA, OSX</td>\n",
       "      <td>2002-11-19</td>\n",
       "    </tr>\n",
       "    <tr>\n",
       "      <th>2</th>\n",
       "      <td>007: Quantum of Solace</td>\n",
       "      <td>Treyarch, Beenox</td>\n",
       "      <td>WIN, PS3, X360, Wii</td>\n",
       "      <td>2008-10-31</td>\n",
       "    </tr>\n",
       "    <tr>\n",
       "      <th>3</th>\n",
       "      <td>007 Legends</td>\n",
       "      <td>Eurocom</td>\n",
       "      <td>WIN, PS3, X360, WiiU</td>\n",
       "      <td>2012-10-16</td>\n",
       "    </tr>\n",
       "    <tr>\n",
       "      <th>4</th>\n",
       "      <td>3D Monster Chase</td>\n",
       "      <td>Romik</td>\n",
       "      <td>AMSCPC, ZX</td>\n",
       "      <td>1984</td>\n",
       "    </tr>\n",
       "  </tbody>\n",
       "</table>\n",
       "</div>"
      ],
      "text/plain": [
       "                    Title                     Developer  \\\n",
       "0   007: Agent Under Fire  EA Redwood Shores, EA Canada   \n",
       "1          007: Nightfire     Eurocom, Gearbox Software   \n",
       "2  007: Quantum of Solace              Treyarch, Beenox   \n",
       "3             007 Legends                       Eurocom   \n",
       "4        3D Monster Chase                         Romik   \n",
       "\n",
       "                        Platform Release_Date  \n",
       "0                 PS2, Xbox, GCN   2001-11-13  \n",
       "1  WIN, PS2, Xbox, GCN, GBA, OSX   2002-11-19  \n",
       "2            WIN, PS3, X360, Wii   2008-10-31  \n",
       "3           WIN, PS3, X360, WiiU   2012-10-16  \n",
       "4                     AMSCPC, ZX         1984  "
      ]
     },
     "execution_count": 382,
     "metadata": {},
     "output_type": "execute_result"
    }
   ],
   "source": [
    "df.head()"
   ]
  },
  {
   "cell_type": "markdown",
   "id": "79cfef4d",
   "metadata": {},
   "source": [
    "# Data Handling & Cleaning "
   ]
  },
  {
   "cell_type": "code",
   "execution_count": 383,
   "id": "f42aee8f",
   "metadata": {},
   "outputs": [
    {
     "data": {
      "text/plain": [
       "np.int64(0)"
      ]
     },
     "execution_count": 383,
     "metadata": {},
     "output_type": "execute_result"
    }
   ],
   "source": [
    "df.isna().sum()\n",
    "df.duplicated().sum()"
   ]
  },
  {
   "cell_type": "code",
   "execution_count": 384,
   "id": "5f4987a3",
   "metadata": {},
   "outputs": [],
   "source": [
    "def clean_date(val):\n",
    "    val=str(val).strip()\n",
    "    if \"-\" in val:\n",
    "        return val\n",
    "    elif val.isdigit() and len(val)==4:\n",
    "        return f\"{val}-01-01\"\n",
    "    else:\n",
    "        pd.NaT\n",
    "df['Release_Date_Clean'] = df['Release_Date'].apply(clean_date)\n",
    "df['Release_Date_Clean'] = pd.to_datetime(df['Release_Date_Clean'], errors='coerce')\n",
    "df['Release_Year'] = df['Release_Date_Clean'].dt.year\n",
    "df['Release_Year'] = df['Release_Year'].fillna(0).astype(int)\n",
    "df.drop(columns=[\"Release_Date\",\"Release_Date_Clean\"],inplace=True)"
   ]
  },
  {
   "cell_type": "code",
   "execution_count": 385,
   "id": "9e278d85",
   "metadata": {},
   "outputs": [
    {
     "data": {
      "text/html": [
       "<div>\n",
       "<style scoped>\n",
       "    .dataframe tbody tr th:only-of-type {\n",
       "        vertical-align: middle;\n",
       "    }\n",
       "\n",
       "    .dataframe tbody tr th {\n",
       "        vertical-align: top;\n",
       "    }\n",
       "\n",
       "    .dataframe thead th {\n",
       "        text-align: right;\n",
       "    }\n",
       "</style>\n",
       "<table border=\"1\" class=\"dataframe\">\n",
       "  <thead>\n",
       "    <tr style=\"text-align: right;\">\n",
       "      <th></th>\n",
       "      <th>Title</th>\n",
       "      <th>Developer</th>\n",
       "      <th>Platform</th>\n",
       "      <th>Release_Year</th>\n",
       "    </tr>\n",
       "  </thead>\n",
       "  <tbody>\n",
       "    <tr>\n",
       "      <th>0</th>\n",
       "      <td>007: Agent Under Fire</td>\n",
       "      <td>EA Redwood Shores, EA Canada</td>\n",
       "      <td>PS2, Xbox, GCN</td>\n",
       "      <td>2001</td>\n",
       "    </tr>\n",
       "    <tr>\n",
       "      <th>1</th>\n",
       "      <td>007: Nightfire</td>\n",
       "      <td>Eurocom, Gearbox Software</td>\n",
       "      <td>WIN, PS2, Xbox, GCN, GBA, OSX</td>\n",
       "      <td>2002</td>\n",
       "    </tr>\n",
       "    <tr>\n",
       "      <th>2</th>\n",
       "      <td>007: Quantum of Solace</td>\n",
       "      <td>Treyarch, Beenox</td>\n",
       "      <td>WIN, PS3, X360, Wii</td>\n",
       "      <td>2008</td>\n",
       "    </tr>\n",
       "    <tr>\n",
       "      <th>3</th>\n",
       "      <td>007 Legends</td>\n",
       "      <td>Eurocom</td>\n",
       "      <td>WIN, PS3, X360, WiiU</td>\n",
       "      <td>2012</td>\n",
       "    </tr>\n",
       "    <tr>\n",
       "      <th>4</th>\n",
       "      <td>3D Monster Chase</td>\n",
       "      <td>Romik</td>\n",
       "      <td>AMSCPC, ZX</td>\n",
       "      <td>1984</td>\n",
       "    </tr>\n",
       "  </tbody>\n",
       "</table>\n",
       "</div>"
      ],
      "text/plain": [
       "                    Title                     Developer  \\\n",
       "0   007: Agent Under Fire  EA Redwood Shores, EA Canada   \n",
       "1          007: Nightfire     Eurocom, Gearbox Software   \n",
       "2  007: Quantum of Solace              Treyarch, Beenox   \n",
       "3             007 Legends                       Eurocom   \n",
       "4        3D Monster Chase                         Romik   \n",
       "\n",
       "                        Platform  Release_Year  \n",
       "0                 PS2, Xbox, GCN          2001  \n",
       "1  WIN, PS2, Xbox, GCN, GBA, OSX          2002  \n",
       "2            WIN, PS3, X360, Wii          2008  \n",
       "3           WIN, PS3, X360, WiiU          2012  \n",
       "4                     AMSCPC, ZX          1984  "
      ]
     },
     "execution_count": 385,
     "metadata": {},
     "output_type": "execute_result"
    }
   ],
   "source": [
    "df.head()"
   ]
  },
  {
   "cell_type": "code",
   "execution_count": 386,
   "id": "0e9e42dd",
   "metadata": {},
   "outputs": [
    {
     "data": {
      "text/html": [
       "<div>\n",
       "<style scoped>\n",
       "    .dataframe tbody tr th:only-of-type {\n",
       "        vertical-align: middle;\n",
       "    }\n",
       "\n",
       "    .dataframe tbody tr th {\n",
       "        vertical-align: top;\n",
       "    }\n",
       "\n",
       "    .dataframe thead th {\n",
       "        text-align: right;\n",
       "    }\n",
       "</style>\n",
       "<table border=\"1\" class=\"dataframe\">\n",
       "  <thead>\n",
       "    <tr style=\"text-align: right;\">\n",
       "      <th></th>\n",
       "      <th>Title</th>\n",
       "      <th>Release_Year</th>\n",
       "      <th>Platform_List</th>\n",
       "      <th>Developer_List</th>\n",
       "    </tr>\n",
       "  </thead>\n",
       "  <tbody>\n",
       "    <tr>\n",
       "      <th>0</th>\n",
       "      <td>007: Agent Under Fire</td>\n",
       "      <td>2001</td>\n",
       "      <td>PS2</td>\n",
       "      <td>EA Redwood Shores</td>\n",
       "    </tr>\n",
       "    <tr>\n",
       "      <th>1</th>\n",
       "      <td>007: Agent Under Fire</td>\n",
       "      <td>2001</td>\n",
       "      <td>PS2</td>\n",
       "      <td>EA Canada</td>\n",
       "    </tr>\n",
       "    <tr>\n",
       "      <th>2</th>\n",
       "      <td>007: Agent Under Fire</td>\n",
       "      <td>2001</td>\n",
       "      <td>Xbox</td>\n",
       "      <td>EA Redwood Shores</td>\n",
       "    </tr>\n",
       "    <tr>\n",
       "      <th>3</th>\n",
       "      <td>007: Agent Under Fire</td>\n",
       "      <td>2001</td>\n",
       "      <td>Xbox</td>\n",
       "      <td>EA Canada</td>\n",
       "    </tr>\n",
       "    <tr>\n",
       "      <th>4</th>\n",
       "      <td>007: Agent Under Fire</td>\n",
       "      <td>2001</td>\n",
       "      <td>GCN</td>\n",
       "      <td>EA Redwood Shores</td>\n",
       "    </tr>\n",
       "    <tr>\n",
       "      <th>...</th>\n",
       "      <td>...</td>\n",
       "      <td>...</td>\n",
       "      <td>...</td>\n",
       "      <td>...</td>\n",
       "    </tr>\n",
       "    <tr>\n",
       "      <th>2495</th>\n",
       "      <td>ZombiU</td>\n",
       "      <td>2012</td>\n",
       "      <td>WiiU</td>\n",
       "      <td>Ubisoft Montpellier</td>\n",
       "    </tr>\n",
       "    <tr>\n",
       "      <th>2496</th>\n",
       "      <td>ZombiU</td>\n",
       "      <td>2012</td>\n",
       "      <td>WIN</td>\n",
       "      <td>Ubisoft Montpellier</td>\n",
       "    </tr>\n",
       "    <tr>\n",
       "      <th>2497</th>\n",
       "      <td>ZombiU</td>\n",
       "      <td>2012</td>\n",
       "      <td>PS4</td>\n",
       "      <td>Ubisoft Montpellier</td>\n",
       "    </tr>\n",
       "    <tr>\n",
       "      <th>2498</th>\n",
       "      <td>ZombiU</td>\n",
       "      <td>2012</td>\n",
       "      <td>XONE</td>\n",
       "      <td>Ubisoft Montpellier</td>\n",
       "    </tr>\n",
       "    <tr>\n",
       "      <th>2499</th>\n",
       "      <td>ZPC</td>\n",
       "      <td>1996</td>\n",
       "      <td>WIN</td>\n",
       "      <td>Zombie Studios</td>\n",
       "    </tr>\n",
       "  </tbody>\n",
       "</table>\n",
       "<p>2500 rows × 4 columns</p>\n",
       "</div>"
      ],
      "text/plain": [
       "                      Title  Release_Year Platform_List       Developer_List\n",
       "0     007: Agent Under Fire          2001           PS2    EA Redwood Shores\n",
       "1     007: Agent Under Fire          2001           PS2            EA Canada\n",
       "2     007: Agent Under Fire          2001          Xbox    EA Redwood Shores\n",
       "3     007: Agent Under Fire          2001          Xbox            EA Canada\n",
       "4     007: Agent Under Fire          2001           GCN    EA Redwood Shores\n",
       "...                     ...           ...           ...                  ...\n",
       "2495                 ZombiU          2012          WiiU  Ubisoft Montpellier\n",
       "2496                 ZombiU          2012           WIN  Ubisoft Montpellier\n",
       "2497                 ZombiU          2012           PS4  Ubisoft Montpellier\n",
       "2498                 ZombiU          2012          XONE  Ubisoft Montpellier\n",
       "2499                    ZPC          1996           WIN       Zombie Studios\n",
       "\n",
       "[2500 rows x 4 columns]"
      ]
     },
     "execution_count": 386,
     "metadata": {},
     "output_type": "execute_result"
    }
   ],
   "source": [
    "# Split platform strings into lists\n",
    "df['Platform_List'] = df['Platform'].str.split(',\\s*')\n",
    "\n",
    "# Create row per platform\n",
    "df_ex = df.explode('Platform_List').reset_index(drop=True)\n",
    "\n",
    "# Split developer strings into lists\n",
    "df_ex['Developer_List'] = df_ex['Developer'].str.split(',\\s*')\n",
    "\n",
    "# Create row per developer\n",
    "df_ex = df_ex.explode('Developer_List').reset_index(drop=True)\n",
    "df_ex.drop(columns=[\"Developer\",\"Platform\"],inplace=True)\n",
    "df_ex"
   ]
  },
  {
   "cell_type": "markdown",
   "id": "aafc9adc",
   "metadata": {},
   "source": [
    "# EDA & Visualization"
   ]
  },
  {
   "cell_type": "code",
   "execution_count": 387,
   "id": "815d415b",
   "metadata": {},
   "outputs": [
    {
     "data": {
      "text/plain": [
       "Index(['Title', 'Developer', 'Platform', 'Release_Year', 'Platform_List'], dtype='object')"
      ]
     },
     "execution_count": 387,
     "metadata": {},
     "output_type": "execute_result"
    }
   ],
   "source": [
    "df.columns"
   ]
  },
  {
   "cell_type": "code",
   "execution_count": 388,
   "id": "e4dd1029",
   "metadata": {},
   "outputs": [
    {
     "name": "stdout",
     "output_type": "stream",
     "text": [
      "<class 'pandas.core.frame.DataFrame'>\n",
      "RangeIndex: 867 entries, 0 to 866\n",
      "Data columns (total 5 columns):\n",
      " #   Column         Non-Null Count  Dtype \n",
      "---  ------         --------------  ----- \n",
      " 0   Title          867 non-null    object\n",
      " 1   Developer      867 non-null    object\n",
      " 2   Platform       867 non-null    object\n",
      " 3   Release_Year   867 non-null    int64 \n",
      " 4   Platform_List  867 non-null    object\n",
      "dtypes: int64(1), object(4)\n",
      "memory usage: 34.0+ KB\n"
     ]
    }
   ],
   "source": [
    "df.info()"
   ]
  },
  {
   "cell_type": "code",
   "execution_count": 389,
   "id": "51f8cdab",
   "metadata": {},
   "outputs": [
    {
     "data": {
      "image/png": "[encoded data removed]",
      "text/plain": [
       "<Figure size 1000x600 with 1 Axes>"
      ]
     },
     "metadata": {},
     "output_type": "display_data"
    }
   ],
   "source": [
    "import seaborn as sns\n",
    "import matplotlib.pyplot as plt\n",
    "\n",
    "platform_counts = df_ex['Platform_List'].value_counts().head(10)\n",
    "\n",
    "plt.figure(figsize=(10,6))\n",
    "sns.barplot(x=platform_counts.values, y=platform_counts.index, palette='viridis')\n",
    "plt.title('Top 10 Most Common Platforms')\n",
    "plt.xlabel('Number of Titles')\n",
    "plt.ylabel('Platform')\n",
    "plt.tight_layout()\n",
    "plt.show()\n"
   ]
  },
  {
   "cell_type": "code",
   "execution_count": 390,
   "id": "febde68a",
   "metadata": {},
   "outputs": [
    {
     "data": {
      "image/png": "[encoded data removed]",
      "text/plain": [
       "<Figure size 1200x600 with 1 Axes>"
      ]
     },
     "metadata": {},
     "output_type": "display_data"
    }
   ],
   "source": [
    "release_counts = df_ex.groupby('Release_Year')['Title'].count()\n",
    "\n",
    "plt.figure(figsize=(12,6))\n",
    "sns.lineplot(x=release_counts.index, y=release_counts.values, marker='o')\n",
    "plt.title('Game Releases Over Time')\n",
    "plt.xlabel('Release Year')\n",
    "plt.ylabel('Number of Releases')\n",
    "plt.grid(True)\n",
    "plt.tight_layout()\n",
    "plt.show()\n"
   ]
  },
  {
   "cell_type": "code",
   "execution_count": 391,
   "id": "b31eae17",
   "metadata": {},
   "outputs": [
    {
     "data": {
      "image/png": "[encoded data removed]",
      "text/plain": [
       "<Figure size 1000x600 with 1 Axes>"
      ]
     },
     "metadata": {},
     "output_type": "display_data"
    }
   ],
   "source": [
    "dev_counts = df_ex['Developer_List'].value_counts().head(10)\n",
    "\n",
    "plt.figure(figsize=(10,6))\n",
    "sns.barplot(x=dev_counts.values, y=dev_counts.index, palette='rocket')\n",
    "plt.title('Top 10 Developers by Game Count')\n",
    "plt.xlabel('Number of Games')\n",
    "plt.ylabel('Developer')\n",
    "plt.tight_layout()\n",
    "plt.show()\n"
   ]
  },
  {
   "cell_type": "code",
   "execution_count": 392,
   "id": "4e3d9a7b",
   "metadata": {},
   "outputs": [
    {
     "data": {
      "image/png": "[encoded data removed]",
      "text/plain": [
       "<Figure size 1500x800 with 2 Axes>"
      ]
     },
     "metadata": {},
     "output_type": "display_data"
    }
   ],
   "source": [
    "heatmap_data = df_ex.pivot_table(index='Platform_List', columns='Release_Year', values='Title', aggfunc='count').fillna(0)\n",
    "\n",
    "plt.figure(figsize=(15,8))\n",
    "sns.heatmap(heatmap_data, cmap='coolwarm')\n",
    "plt.title('Platform Popularity Over Time')\n",
    "plt.xlabel('Release Year')\n",
    "plt.ylabel('Platform')\n",
    "plt.tight_layout()\n",
    "plt.show()\n"
   ]
  },
  {
   "cell_type": "code",
   "execution_count": 393,
   "id": "f58d039a",
   "metadata": {},
   "outputs": [
    {
     "data": {
      "application/vnd.plotly.v1+json": {
       "config": {
        "plotlyServerURL": "https://plot.ly"
       },
       "data": [
        {
         "customdata": [
          [
           "007: Agent Under Fire"
          ],
          [
           "007: Agent Under Fire"
          ],
          [
           "007: Agent Under Fire"
          ]
         ],
         "hovertemplate": "Developer_List=EA Redwood Shores<br>Release_Year=%{x}<br>Platform_List=%{y}<br>Title=%{customdata[0]}<extra></extra>",
         "legendgroup": "EA Redwood Shores",
         "marker": {
          "color": "#636efa",
          "symbol": "circle"
         },
         "mode": "markers",
         "name": "EA Redwood Shores",
         "showlegend": true,
         "type": "scattergl",
         "x": {
          "bdata": "0QfRB9EH",
          "dtype": "i2"
         },
         "xaxis": "x",
         "y": [
          "PS2",
          "Xbox",
          "GCN"
         ],
         "yaxis": "y"
        },
        {
         "customdata": [
          [
           "007: Agent Under Fire"
          ],
          [
           "007: Agent Under Fire"
          ],
          [
           "007: Agent Under Fire"
          ],
          [
           "Medal of Honor: Heroes 2"
          ],
          [
           "Medal of Honor: Heroes 2"
          ]
         ],
         "hovertemplate": "Developer_List=EA Canada<br>Release_Year=%{x}<br>Platform_List=%{y}<br>Title=%{customdata[0]}<extra></extra>",
         "legendgroup": "EA Canada",
         "marker": {
          "color": "#EF553B",
          "symbol": "circle"
         },
         "mode": "markers",
         "name": "EA Canada",
         "showlegend": true,
         "type": "scattergl",
         "x": {
          "bdata": "0QfRB9EH1wfXBw==",
          "dtype": "i2"
         },
         "xaxis": "x",
         "y": [
          "PS2",
          "Xbox",
          "GCN",
          "Wii",
          "PSP"
         ],
         "yaxis": "y"
        },
        {
         "customdata": [
          [
           "007: Nightfire"
          ],
          [
           "007: Nightfire"
          ],
          [
           "007: Nightfire"
          ],
          [
           "007: Nightfire"
          ],
          [
           "007: Nightfire"
          ],
          [
           "007: Nightfire"
          ],
          [
           "007 Legends"
          ],
          [
           "007 Legends"
          ],
          [
           "007 Legends"
          ],
          [
           "007 Legends"
          ],
          [
           "GoldenEye 007"
          ],
          [
           "GoldenEye 007"
          ],
          [
           "GoldenEye 007"
          ],
          [
           "GoldenEye 007"
          ],
          [
           "The World Is Not Enough"
          ],
          [
           "The World Is Not Enough"
          ]
         ],
         "hovertemplate": "Developer_List=Eurocom<br>Release_Year=%{x}<br>Platform_List=%{y}<br>Title=%{customdata[0]}<extra></extra>",
         "legendgroup": "Eurocom",
         "marker": {
          "color": "#00cc96",
          "symbol": "circle"
         },
         "mode": "markers",
         "name": "Eurocom",
         "showlegend": true,
         "type": "scattergl",
         "x": {
          "bdata": "0gfSB9IH0gfSB9IH3AfcB9wH3AfaB9oH2gfaB9AH0Ac=",
          "dtype": "i2"
         },
         "xaxis": "x",
         "y": [
          "WIN",
          "PS2",
          "Xbox",
          "GCN",
          "GBA",
          "OSX",
          "WIN",
          "PS3",
          "X360",
          "WiiU",
          "Wii",
          "DS",
          "PS3",
          "X360",
          "N64",
          "PS1"
         ],
         "yaxis": "y"
        },
        {
         "customdata": [
          [
           "007: Nightfire"
          ],
          [
           "007: Nightfire"
          ],
          [
           "007: Nightfire"
          ],
          [
           "007: Nightfire"
          ],
          [
           "007: Nightfire"
          ],
          [
           "007: Nightfire"
          ],
          [
           "Aliens: Colonial Marines"
          ],
          [
           "Aliens: Colonial Marines"
          ],
          [
           "Aliens: Colonial Marines"
          ],
          [
           "Borderlands"
          ],
          [
           "Borderlands"
          ],
          [
           "Borderlands"
          ],
          [
           "Borderlands"
          ],
          [
           "Borderlands"
          ],
          [
           "Borderlands"
          ],
          [
           "Borderlands"
          ],
          [
           "Borderlands 2"
          ],
          [
           "Borderlands 2"
          ],
          [
           "Borderlands 2"
          ],
          [
           "Borderlands 2"
          ],
          [
           "Borderlands 2"
          ],
          [
           "Borderlands 2"
          ],
          [
           "Borderlands 2"
          ],
          [
           "Borderlands 2"
          ],
          [
           "Borderlands 2"
          ],
          [
           "Borderlands 2"
          ],
          [
           "Borderlands 3"
          ],
          [
           "Borderlands 3"
          ],
          [
           "Borderlands 3"
          ],
          [
           "Borderlands 3"
          ],
          [
           "Borderlands 3"
          ],
          [
           "Borderlands 3"
          ],
          [
           "Borderlands 3"
          ],
          [
           "Brothers in Arms: Road to Hill 30"
          ],
          [
           "Brothers in Arms: Road to Hill 30"
          ],
          [
           "Brothers in Arms: Road to Hill 30"
          ],
          [
           "Brothers in Arms: Earned in Blood"
          ],
          [
           "Brothers in Arms: Earned in Blood"
          ],
          [
           "Brothers in Arms: Earned in Blood"
          ],
          [
           "Brothers in Arms: Hell's Highway"
          ],
          [
           "Brothers in Arms: Hell's Highway"
          ],
          [
           "Brothers in Arms: Hell's Highway"
          ],
          [
           "Duke Nukem Forever"
          ],
          [
           "Duke Nukem Forever"
          ],
          [
           "Duke Nukem Forever"
          ],
          [
           "Duke Nukem Forever"
          ],
          [
           "Half-Life: Opposing Force"
          ],
          [
           "Half-Life: Opposing Force"
          ],
          [
           "Half-Life: Opposing Force"
          ],
          [
           "Half-Life: Blue Shift"
          ],
          [
           "Half-Life: Blue Shift"
          ],
          [
           "Half-Life: Blue Shift"
          ],
          [
           "Half-Life: Decay"
          ]
         ],
         "hovertemplate": "Developer_List=Gearbox Software<br>Release_Year=%{x}<br>Platform_List=%{y}<br>Title=%{customdata[0]}<extra></extra>",
         "legendgroup": "Gearbox Software",
         "marker": {
          "color": "#ab63fa",
          "symbol": "circle"
         },
         "mode": "markers",
         "name": "Gearbox Software",
         "showlegend": true,
         "type": "scattergl",
         "x": {
          "bdata": "0gfSB9IH0gfSB9IH3QfdB90H2QfZB9kH2QfZB9kH2QfcB9wH3AfcB9wH3AfcB9wH3AfcB+MH4wfjB+MH4wfjB+MH1QfVB9UH1QfVB9UH2AfYB9gH2wfbB9sH2wfPB88HzwfRB9EH0QfRBw==",
          "dtype": "i2"
         },
         "xaxis": "x",
         "y": [
          "WIN",
          "PS2",
          "Xbox",
          "GCN",
          "GBA",
          "OSX",
          "WIN",
          "PS3",
          "X360",
          "WIN",
          "PS3",
          "X360",
          "OSX",
          "PS4",
          "XONE",
          "NX",
          "WIN",
          "OSX",
          "PS3",
          "X360",
          "VITA",
          "LIN",
          "PS4",
          "XONE",
          "Android",
          "NX",
          "WIN",
          "PS4",
          "XONE",
          "OSX",
          "XSX",
          "PS5",
          "NX",
          "WIN",
          "PS2",
          "Xbox",
          "WIN",
          "PS2",
          "Xbox",
          "WIN",
          "PS3",
          "X360",
          "WIN",
          "PS3",
          "X360",
          "OSX",
          "WIN",
          "OSX",
          "LIN",
          "WIN",
          "OSX",
          "LIN",
          "PS2"
         ],
         "yaxis": "y"
        },
        {
         "customdata": [
          [
           "007: Quantum of Solace"
          ],
          [
           "007: Quantum of Solace"
          ],
          [
           "007: Quantum of Solace"
          ],
          [
           "007: Quantum of Solace"
          ],
          [
           "Call of Duty 2: Big Red One"
          ],
          [
           "Call of Duty 2: Big Red One"
          ],
          [
           "Call of Duty 2: Big Red One"
          ],
          [
           "Call of Duty 3"
          ],
          [
           "Call of Duty 3"
          ],
          [
           "Call of Duty 3"
          ],
          [
           "Call of Duty 3"
          ],
          [
           "Call of Duty 3"
          ],
          [
           "Call of Duty: World at War"
          ],
          [
           "Call of Duty: World at War"
          ],
          [
           "Call of Duty: World at War"
          ],
          [
           "Call of Duty: World at War"
          ],
          [
           "Call of Duty: World at War"
          ],
          [
           "Call of Duty: Black Ops"
          ],
          [
           "Call of Duty: Black Ops"
          ],
          [
           "Call of Duty: Black Ops"
          ],
          [
           "Call of Duty: Black Ops"
          ],
          [
           "Call of Duty: Black Ops"
          ],
          [
           "Call of Duty: Black Ops II"
          ],
          [
           "Call of Duty: Black Ops II"
          ],
          [
           "Call of Duty: Black Ops II"
          ],
          [
           "Call of Duty: Black Ops II"
          ],
          [
           "Call of Duty: Black Ops III"
          ],
          [
           "Call of Duty: Black Ops III"
          ],
          [
           "Call of Duty: Black Ops III"
          ],
          [
           "Call of Duty: Black Ops III"
          ],
          [
           "Call of Duty: Black Ops III"
          ],
          [
           "Call of Duty: Black Ops 4"
          ],
          [
           "Call of Duty: Black Ops 4"
          ],
          [
           "Call of Duty: Black Ops 4"
          ],
          [
           "Call of Duty: Black Ops Cold War"
          ],
          [
           "Call of Duty: Black Ops Cold War"
          ],
          [
           "Call of Duty: Black Ops Cold War"
          ],
          [
           "Call of Duty: Black Ops Cold War"
          ],
          [
           "Call of Duty: Black Ops Cold War"
          ],
          [
           "Call of Duty: Black Ops 6"
          ],
          [
           "Call of Duty: Black Ops 6"
          ],
          [
           "Call of Duty: Black Ops 6"
          ],
          [
           "Call of Duty: Black Ops 6"
          ],
          [
           "Call of Duty: Black Ops 6"
          ]
         ],
         "hovertemplate": "Developer_List=Treyarch<br>Release_Year=%{x}<br>Platform_List=%{y}<br>Title=%{customdata[0]}<extra></extra>",
         "legendgroup": "Treyarch",
         "marker": {
          "color": "#FFA15A",
          "symbol": "circle"
         },
         "mode": "markers",
         "name": "Treyarch",
         "showlegend": true,
         "type": "scattergl",
         "x": {
          "bdata": "2AfYB9gH2AfVB9UH1QfWB9YH1gfWB9YH2AfYB9gH2AfYB9oH2gfaB9oH2gfcB9wH3AfcB98H3wffB98H3wfiB+IH4gfkB+QH5AfkB+QH6AfoB+gH6AfoBw==",
          "dtype": "i2"
         },
         "xaxis": "x",
         "y": [
          "WIN",
          "PS3",
          "X360",
          "Wii",
          "PS2",
          "Xbox",
          "GCN",
          "PS2",
          "PS3",
          "Xbox",
          "X360",
          "Wii",
          "WIN",
          "PS3",
          "X360",
          "DS",
          "Wii",
          "WIN",
          "PS3",
          "X360",
          "DS",
          "Wii",
          "WIN",
          "PS3",
          "X360",
          "WiiU",
          "WIN",
          "PS3",
          "PS4",
          "X360",
          "XONE",
          "WIN",
          "PS4",
          "XONE",
          "WIN",
          "PS4",
          "PS5",
          "XONE",
          "XSX",
          "WIN",
          "PS4",
          "PS5",
          "XONE",
          "XSX"
         ],
         "yaxis": "y"
        },
        {
         "customdata": [
          [
           "007: Quantum of Solace"
          ],
          [
           "007: Quantum of Solace"
          ],
          [
           "007: Quantum of Solace"
          ],
          [
           "007: Quantum of Solace"
          ],
          [
           "Call of Duty: Modern Warfare 2 Campaign Remastered"
          ],
          [
           "Call of Duty: Modern Warfare 2 Campaign Remastered"
          ],
          [
           "Call of Duty: Modern Warfare 2 Campaign Remastered"
          ]
         ],
         "hovertemplate": "Developer_List=Beenox<br>Release_Year=%{x}<br>Platform_List=%{y}<br>Title=%{customdata[0]}<extra></extra>",
         "legendgroup": "Beenox",
         "marker": {
          "color": "#19d3f3",
          "symbol": "circle"
         },
         "mode": "markers",
         "name": "Beenox",
         "showlegend": true,
         "type": "scattergl",
         "x": {
          "bdata": "2AfYB9gH2AfkB+QH5Ac=",
          "dtype": "i2"
         },
         "xaxis": "x",
         "y": [
          "WIN",
          "PS3",
          "X360",
          "Wii",
          "WIN",
          "PS4",
          "XONE"
         ],
         "yaxis": "y"
        },
        {
         "customdata": [
          [
           "3D Monster Chase"
          ],
          [
           "3D Monster Chase"
          ]
         ],
         "hovertemplate": "Developer_List=Romik<br>Release_Year=%{x}<br>Platform_List=%{y}<br>Title=%{customdata[0]}<extra></extra>",
         "legendgroup": "Romik",
         "marker": {
          "color": "#FF6692",
          "symbol": "circle"
         },
         "mode": "markers",
         "name": "Romik",
         "showlegend": true,
         "type": "scattergl",
         "x": {
          "bdata": "wAfABw==",
          "dtype": "i2"
         },
         "xaxis": "x",
         "y": [
          "AMSCPC",
          "ZX"
         ],
         "yaxis": "y"
        },
        {
         "customdata": [
          [
           "7554"
          ]
         ],
         "hovertemplate": "Developer_List=Emobi Games<br>Release_Year=%{x}<br>Platform_List=%{y}<br>Title=%{customdata[0]}<extra></extra>",
         "legendgroup": "Emobi Games",
         "marker": {
          "color": "#B6E880",
          "symbol": "circle"
         },
         "mode": "markers",
         "name": "Emobi Games",
         "showlegend": true,
         "type": "scattergl",
         "x": {
          "bdata": "2wc=",
          "dtype": "i2"
         },
         "xaxis": "x",
         "y": [
          "WIN"
         ],
         "yaxis": "y"
        },
        {
         "customdata": [
          [
           "Ace of Spades"
          ]
         ],
         "hovertemplate": "Developer_List=Ben Aksoy<br>Release_Year=%{x}<br>Platform_List=%{y}<br>Title=%{customdata[0]}<extra></extra>",
         "legendgroup": "Ben Aksoy",
         "marker": {
          "color": "#FF97FF",
          "symbol": "circle"
         },
         "mode": "markers",
         "name": "Ben Aksoy",
         "showlegend": true,
         "type": "scattergl",
         "x": {
          "bdata": "2wc=",
          "dtype": "i2"
         },
         "xaxis": "x",
         "y": [
          "WIN"
         ],
         "yaxis": "y"
        },
        {
         "customdata": [
          [
           "Alcatraz"
          ],
          [
           "Chernobyl: Terrorist Attack"
          ]
         ],
         "hovertemplate": "Developer_List=Silden<br>Release_Year=%{x}<br>Platform_List=%{y}<br>Title=%{customdata[0]}<extra></extra>",
         "legendgroup": "Silden",
         "marker": {
          "color": "#FECB52",
          "symbol": "circle"
         },
         "mode": "markers",
         "name": "Silden",
         "showlegend": true,
         "type": "scattergl",
         "x": {
          "bdata": "2gfbBw==",
          "dtype": "i2"
         },
         "xaxis": "x",
         "y": [
          "WIN",
          "WIN"
         ],
         "yaxis": "y"
        },
        {
         "customdata": [
          [
           "Alien Arena"
          ],
          [
           "Alien Arena"
          ],
          [
           "Alien Arena"
          ],
          [
           "Alien Arena"
          ]
         ],
         "hovertemplate": "Developer_List=COR Entertainment<br>Release_Year=%{x}<br>Platform_List=%{y}<br>Title=%{customdata[0]}<extra></extra>",
         "legendgroup": "COR Entertainment",
         "marker": {
          "color": "#636efa",
          "symbol": "circle"
         },
         "mode": "markers",
         "name": "COR Entertainment",
         "showlegend": true,
         "type": "scattergl",
         "x": {
          "bdata": "1QfVB9UH1Qc=",
          "dtype": "i2"
         },
         "xaxis": "x",
         "y": [
          "FreeBSD (BSD)",
          "LIN",
          "OSX (unsupported)",
          "WIN"
         ],
         "yaxis": "y"
        },
        {
         "customdata": [
          [
           "Alien Breed 3D"
          ],
          [
           "Alien Breed 3D"
          ],
          [
           "Alien Breed 3D II: The Killing Grounds"
          ],
          [
           "Alien Breed 3D II: The Killing Grounds"
          ]
         ],
         "hovertemplate": "Developer_List=Team17<br>Release_Year=%{x}<br>Platform_List=%{y}<br>Title=%{customdata[0]}<extra></extra>",
         "legendgroup": "Team17",
         "marker": {
          "color": "#EF553B",
          "symbol": "circle"
         },
         "mode": "markers",
         "name": "Team17",
         "showlegend": true,
         "type": "scattergl",
         "x": {
          "bdata": "ywfLB8wHzAc=",
          "dtype": "i2"
         },
         "xaxis": "x",
         "y": [
          "AMI",
          "AMI32",
          "AMI",
          "AMI32"
         ],
         "yaxis": "y"
        },
        {
         "customdata": [
          [
           "Alien Rage"
          ],
          [
           "Alien Rage"
          ],
          [
           "Alien Rage"
          ],
          [
           "Enemy Front"
          ],
          [
           "Enemy Front"
          ],
          [
           "Enemy Front"
          ],
          [
           "Sniper Ghost Warrior 3"
          ],
          [
           "Sniper Ghost Warrior 3"
          ],
          [
           "Sniper Ghost Warrior 3"
          ],
          [
           "Sniper Ghost Warrior Contracts"
          ],
          [
           "Sniper Ghost Warrior Contracts"
          ],
          [
           "Sniper Ghost Warrior Contracts"
          ],
          [
           "Sniper Ghost Warrior Contracts 2"
          ],
          [
           "Sniper Ghost Warrior Contracts 2"
          ],
          [
           "Sniper Ghost Warrior Contracts 2"
          ],
          [
           "Sniper Ghost Warrior Contracts 2"
          ],
          [
           "Sniper Ghost Warrior Contracts 2"
          ]
         ],
         "hovertemplate": "Developer_List=CI Games<br>Release_Year=%{x}<br>Platform_List=%{y}<br>Title=%{customdata[0]}<extra></extra>",
         "legendgroup": "CI Games",
         "marker": {
          "color": "#00cc96",
          "symbol": "circle"
         },
         "mode": "markers",
         "name": "CI Games",
         "showlegend": true,
         "type": "scattergl",
         "x": {
          "bdata": "3QfdB90H3gfeB94H4QfhB+EH4wfjB+MH5QflB+UH5QflBw==",
          "dtype": "i2"
         },
         "xaxis": "x",
         "y": [
          "WIN",
          "PS3 (PSN)",
          "X360 (XBLA)",
          "WIN",
          "PS3",
          "X360",
          "WIN",
          "PS4",
          "XONE",
          "WIN",
          "PS4",
          "XONE",
          "WIN",
          "PS4",
          "PS5",
          "XONE",
          "XSX"
         ],
         "yaxis": "y"
        },
        {
         "customdata": [
          [
           "Alien Trilogy"
          ],
          [
           "Alien Trilogy"
          ],
          [
           "Alien Trilogy"
          ],
          [
           "Forsaken"
          ],
          [
           "Forsaken"
          ],
          [
           "Forsaken"
          ],
          [
           "Forsaken"
          ],
          [
           "Forsaken"
          ],
          [
           "Forsaken"
          ]
         ],
         "hovertemplate": "Developer_List=Probe Entertainment<br>Release_Year=%{x}<br>Platform_List=%{y}<br>Title=%{customdata[0]}<extra></extra>",
         "legendgroup": "Probe Entertainment",
         "marker": {
          "color": "#ab63fa",
          "symbol": "circle"
         },
         "mode": "markers",
         "name": "Probe Entertainment",
         "showlegend": true,
         "type": "scattergl",
         "x": {
          "bdata": "zAfMB8wHzgfOB84HzgfOB84H",
          "dtype": "i2"
         },
         "xaxis": "x",
         "y": [
          "DOS",
          "PS1",
          "SAT",
          "WIN",
          "PS1",
          "N64",
          "OSX",
          "LIN",
          "XONE"
         ],
         "yaxis": "y"
        },
        {
         "customdata": [
          [
           "Alien: Resurrection"
          ],
          [
           "SWAT: Global Strike Team"
          ],
          [
           "SWAT: Global Strike Team"
          ]
         ],
         "hovertemplate": "Developer_List=Argonaut Games<br>Release_Year=%{x}<br>Platform_List=%{y}<br>Title=%{customdata[0]}<extra></extra>",
         "legendgroup": "Argonaut Games",
         "marker": {
          "color": "#FFA15A",
          "symbol": "circle"
         },
         "mode": "markers",
         "name": "Argonaut Games",
         "showlegend": true,
         "type": "scattergl",
         "x": {
          "bdata": "0AfTB9MH",
          "dtype": "i2"
         },
         "xaxis": "x",
         "y": [
          "PS1",
          "PS2",
          "Xbox"
         ],
         "yaxis": "y"
        },
        {
         "customdata": [
          [
           "Alien vs Predator"
          ],
          [
           "Aliens versus Predator"
          ],
          [
           "Aliens versus Predator"
          ],
          [
           "Aliens versus Predator"
          ],
          [
           "Aliens vs. Predator"
          ],
          [
           "Aliens vs. Predator"
          ],
          [
           "Aliens vs. Predator"
          ],
          [
           "Call of Duty: World at War – Final Fronts"
          ],
          [
           "Delta Force: Urban Warfare"
          ],
          [
           "Delta Force: Urban Warfare"
          ],
          [
           "Judge Dredd: Dredd Vs. Death"
          ],
          [
           "Judge Dredd: Dredd Vs. Death"
          ],
          [
           "Judge Dredd: Dredd Vs. Death"
          ],
          [
           "Judge Dredd: Dredd Vs. Death"
          ],
          [
           "Rogue Warrior"
          ],
          [
           "Rogue Warrior"
          ],
          [
           "Rogue Warrior"
          ]
         ],
         "hovertemplate": "Developer_List=Rebellion Developments<br>Release_Year=%{x}<br>Platform_List=%{y}<br>Title=%{customdata[0]}<extra></extra>",
         "legendgroup": "Rebellion Developments",
         "marker": {
          "color": "#19d3f3",
          "symbol": "circle"
         },
         "mode": "markers",
         "name": "Rebellion Developments",
         "showlegend": true,
         "type": "scattergl",
         "x": {
          "bdata": "ygfPB88HzwfaB9oH2gfYB9IH0gfTB9MH0wfTB9kH2QfZBw==",
          "dtype": "i2"
         },
         "xaxis": "x",
         "y": [
          "JAG",
          "WIN",
          "MAC",
          "OSX",
          "WIN",
          "PS3",
          "X360",
          "PS2",
          "PS1",
          "PSN",
          "WIN",
          "PS2",
          "Xbox",
          "GCN",
          "WIN",
          "PS3",
          "X360"
         ],
         "yaxis": "y"
        },
        {
         "customdata": [
          [
           "Aliens versus Predator 2"
          ],
          [
           "Aliens versus Predator 2"
          ],
          [
           "Blood"
          ],
          [
           "Blood: Fresh Supply"
          ],
          [
           "Blood: Plasma Pak"
          ],
          [
           "Blood II: The Chosen"
          ],
          [
           "Blood II: The Chosen – The Nightmare Levels"
          ],
          [
           "Contract J.A.C.K."
          ],
          [
           "F.E.A.R."
          ],
          [
           "F.E.A.R."
          ],
          [
           "F.E.A.R."
          ],
          [
           "F.E.A.R. 2: Project Origin"
          ],
          [
           "F.E.A.R. 2: Project Origin"
          ],
          [
           "F.E.A.R. 2: Project Origin"
          ],
          [
           "The Operative: No One Lives Forever"
          ],
          [
           "The Operative: No One Lives Forever"
          ],
          [
           "The Operative: No One Lives Forever"
          ],
          [
           "No One Lives Forever 2: A Spy in H.A.R.M.'s Way"
          ],
          [
           "No One Lives Forever 2: A Spy in H.A.R.M.'s Way"
          ],
          [
           "Shogo: Mobile Armor Division"
          ],
          [
           "Shogo: Mobile Armor Division"
          ],
          [
           "Shogo: Mobile Armor Division"
          ],
          [
           "Shogo: Mobile Armor Division"
          ],
          [
           "Tron 2.0"
          ],
          [
           "Tron 2.0"
          ],
          [
           "Tron 2.0"
          ]
         ],
         "hovertemplate": "Developer_List=Monolith Productions<br>Release_Year=%{x}<br>Platform_List=%{y}<br>Title=%{customdata[0]}<extra></extra>",
         "legendgroup": "Monolith Productions",
         "marker": {
          "color": "#FF6692",
          "symbol": "circle"
         },
         "mode": "markers",
         "name": "Monolith Productions",
         "showlegend": true,
         "type": "scattergl",
         "x": {
          "bdata": "0QfRB80H4wfNB84HzwfTB9UH1QfVB9kH2QfZB9AH0AfQB9IH0gfOB84HzgfOB9MH0wfTBw==",
          "dtype": "i2"
         },
         "xaxis": "x",
         "y": [
          "WIN",
          "OSX",
          "DOS",
          "WIN",
          "DOS",
          "WIN",
          "WIN",
          "WIN",
          "WIN",
          "X360",
          "PS3",
          "WIN",
          "PS3",
          "X360",
          "WIN",
          "PS2",
          "OSX",
          "WIN",
          "OSX",
          "WIN",
          "MAC",
          "LIN",
          "AMI",
          "WIN",
          "OSX",
          "Xbox"
         ],
         "yaxis": "y"
        },
        {
         "customdata": [
          [
           "Alliance of Valiant Arms"
          ]
         ],
         "hovertemplate": "Developer_List=Red Duck Inc.<br>Release_Year=%{x}<br>Platform_List=%{y}<br>Title=%{customdata[0]}<extra></extra>",
         "legendgroup": "Red Duck Inc.",
         "marker": {
          "color": "#B6E880",
          "symbol": "circle"
         },
         "mode": "markers",
         "name": "Red Duck Inc.",
         "showlegend": true,
         "type": "scattergl",
         "x": {
          "bdata": "1wc=",
          "dtype": "i2"
         },
         "xaxis": "x",
         "y": [
          "WIN"
         ],
         "yaxis": "y"
        },
        {
         "customdata": [
          [
           "Alpha Prime"
          ]
         ],
         "hovertemplate": "Developer_List=Black Element Software<br>Release_Year=%{x}<br>Platform_List=%{y}<br>Title=%{customdata[0]}<extra></extra>",
         "legendgroup": "Black Element Software",
         "marker": {
          "color": "#FF97FF",
          "symbol": "circle"
         },
         "mode": "markers",
         "name": "Black Element Software",
         "showlegend": true,
         "type": "scattergl",
         "x": {
          "bdata": "1gc=",
          "dtype": "i2"
         },
         "xaxis": "x",
         "y": [
          "WIN"
         ],
         "yaxis": "y"
        },
        {
         "customdata": [
          [
           "America's Army"
          ],
          [
           "America's Army"
          ],
          [
           "America's Army"
          ]
         ],
         "hovertemplate": "Developer_List=United States Army<br>Release_Year=%{x}<br>Platform_List=%{y}<br>Title=%{customdata[0]}<extra></extra>",
         "legendgroup": "United States Army",
         "marker": {
          "color": "#FECB52",
          "symbol": "circle"
         },
         "mode": "markers",
         "name": "United States Army",
         "showlegend": true,
         "type": "scattergl",
         "x": {
          "bdata": "0gfSB9IH",
          "dtype": "i2"
         },
         "xaxis": "x",
         "y": [
          "WIN",
          "LIN",
          "OSX (dropped)"
         ],
         "yaxis": "y"
        },
        {
         "customdata": [
          [
           "Amid Evil"
          ],
          [
           "Amid Evil"
          ]
         ],
         "hovertemplate": "Developer_List=Indefatigable<br>Release_Year=%{x}<br>Platform_List=%{y}<br>Title=%{customdata[0]}<extra></extra>",
         "legendgroup": "Indefatigable",
         "marker": {
          "color": "#636efa",
          "symbol": "circle"
         },
         "mode": "markers",
         "name": "Indefatigable",
         "showlegend": true,
         "type": "scattergl",
         "x": {
          "bdata": "4wfjBw==",
          "dtype": "i2"
         },
         "xaxis": "x",
         "y": [
          "WIN",
          "NX"
         ],
         "yaxis": "y"
        },
        {
         "customdata": [
          [
           "Apex Legends"
          ],
          [
           "Apex Legends"
          ],
          [
           "Apex Legends"
          ],
          [
           "Apex Legends"
          ],
          [
           "Apex Legends"
          ],
          [
           "Apex Legends"
          ],
          [
           "Apex Legends"
          ],
          [
           "Apex Legends"
          ],
          [
           "Medal of Honor: Above and Beyond"
          ],
          [
           "Titanfall"
          ],
          [
           "Titanfall"
          ],
          [
           "Titanfall"
          ],
          [
           "Titanfall 2"
          ],
          [
           "Titanfall 2"
          ],
          [
           "Titanfall 2"
          ]
         ],
         "hovertemplate": "Developer_List=Respawn Entertainment<br>Release_Year=%{x}<br>Platform_List=%{y}<br>Title=%{customdata[0]}<extra></extra>",
         "legendgroup": "Respawn Entertainment",
         "marker": {
          "color": "#EF553B",
          "symbol": "circle"
         },
         "mode": "markers",
         "name": "Respawn Entertainment",
         "showlegend": true,
         "type": "scattergl",
         "x": {
          "bdata": "4wfjB+MH4wfjB+MH4wfjB+QH3gfeB94H4AfgB+AH",
          "dtype": "i2"
         },
         "xaxis": "x",
         "y": [
          "WIN",
          "PS4",
          "XONE",
          "NX",
          "PS5",
          "XSX",
          "iOS",
          "Android",
          "WIN",
          "WIN",
          "X360",
          "XONE",
          "WIN",
          "PS4",
          "XONE"
         ],
         "yaxis": "y"
        },
        {
         "customdata": [
          [
           "AquaNox"
          ],
          [
           "AquaNox 2: Revelation"
          ]
         ],
         "hovertemplate": "Developer_List=Massive Development<br>Release_Year=%{x}<br>Platform_List=%{y}<br>Title=%{customdata[0]}<extra></extra>",
         "legendgroup": "Massive Development",
         "marker": {
          "color": "#00cc96",
          "symbol": "circle"
         },
         "mode": "markers",
         "name": "Massive Development",
         "showlegend": true,
         "type": "scattergl",
         "x": {
          "bdata": "0QfTBw==",
          "dtype": "i2"
         },
         "xaxis": "x",
         "y": [
          "WIN",
          "WIN"
         ],
         "yaxis": "y"
        },
        {
         "customdata": [
          [
           "Area 51"
          ],
          [
           "Area 51"
          ],
          [
           "Area 51"
          ],
          [
           "BlackSite: Area 51"
          ],
          [
           "BlackSite: Area 51"
          ],
          [
           "BlackSite: Area 51"
          ]
         ],
         "hovertemplate": "Developer_List=Midway Studios Austin<br>Release_Year=%{x}<br>Platform_List=%{y}<br>Title=%{customdata[0]}<extra></extra>",
         "legendgroup": "Midway Studios Austin",
         "marker": {
          "color": "#ab63fa",
          "symbol": "circle"
         },
         "mode": "markers",
         "name": "Midway Studios Austin",
         "showlegend": true,
         "type": "scattergl",
         "x": {
          "bdata": "1QfVB9UH1wfXB9cH",
          "dtype": "i2"
         },
         "xaxis": "x",
         "y": [
          "WIN",
          "PS2",
          "Xbox",
          "WIN",
          "PS3",
          "X360"
         ],
         "yaxis": "y"
        },
        {
         "customdata": [
          [
           "Arma: Armed Assault"
          ],
          [
           "Arma 2"
          ],
          [
           "Arma 2: Operation Arrowhead"
          ],
          [
           "Arma: Cold War Assault"
          ],
          [
           "Arma 3"
          ]
         ],
         "hovertemplate": "Developer_List=Bohemia Interactive<br>Release_Year=%{x}<br>Platform_List=%{y}<br>Title=%{customdata[0]}<extra></extra>",
         "legendgroup": "Bohemia Interactive",
         "marker": {
          "color": "#FFA15A",
          "symbol": "circle"
         },
         "mode": "markers",
         "name": "Bohemia Interactive",
         "showlegend": true,
         "type": "scattergl",
         "x": {
          "bdata": "1gfZB9oH2wfdBw==",
          "dtype": "i2"
         },
         "xaxis": "x",
         "y": [
          "WIN",
          "WIN",
          "WIN",
          "WIN",
          "WIN"
         ],
         "yaxis": "y"
        },
        {
         "customdata": [
          [
           "Armorines: Project S.W.A.R.M."
          ],
          [
           "Armorines: Project S.W.A.R.M."
          ]
         ],
         "hovertemplate": "Developer_List=Acclaim Studios London<br>Release_Year=%{x}<br>Platform_List=%{y}<br>Title=%{customdata[0]}<extra></extra>",
         "legendgroup": "Acclaim Studios London",
         "marker": {
          "color": "#19d3f3",
          "symbol": "circle"
         },
         "mode": "markers",
         "name": "Acclaim Studios London",
         "showlegend": true,
         "type": "scattergl",
         "x": {
          "bdata": "zwfPBw==",
          "dtype": "i2"
         },
         "xaxis": "x",
         "y": [
          "N64",
          "PS1"
         ],
         "yaxis": "y"
        },
        {
         "customdata": [
          [
           "Army Ranger: Mogadishu"
          ],
          [
           "CTU: Marine Sharpshooter"
          ],
          [
           "CTU: Marine Sharpshooter"
          ],
          [
           "Western Outlaw: Wanted Dead or Alive"
          ]
         ],
         "hovertemplate": "Developer_List=Jarhead Games<br>Release_Year=%{x}<br>Platform_List=%{y}<br>Title=%{customdata[0]}<extra></extra>",
         "legendgroup": "Jarhead Games",
         "marker": {
          "color": "#FF6692",
          "symbol": "circle"
         },
         "mode": "markers",
         "name": "Jarhead Games",
         "showlegend": true,
         "type": "scattergl",
         "x": {
          "bdata": "1QfTB9MH0wc=",
          "dtype": "i2"
         },
         "xaxis": "x",
         "y": [
          "WIN",
          "WIN",
          "iOS",
          "WIN"
         ],
         "yaxis": "y"
        },
        {
         "customdata": [
          [
           "AssaultCube"
          ],
          [
           "AssaultCube"
          ],
          [
           "AssaultCube"
          ],
          [
           "AssaultCube"
          ]
         ],
         "hovertemplate": "Developer_List=Rabid Viper Productions<br>Release_Year=%{x}<br>Platform_List=%{y}<br>Title=%{customdata[0]}<extra></extra>",
         "legendgroup": "Rabid Viper Productions",
         "marker": {
          "color": "#B6E880",
          "symbol": "circle"
         },
         "mode": "markers",
         "name": "Rabid Viper Productions",
         "showlegend": true,
         "type": "scattergl",
         "x": {
          "bdata": "5QflB+UH5Qc=",
          "dtype": "i2"
         },
         "xaxis": "x",
         "y": [
          "WIN",
          "LIN",
          "MAC",
          "ANDROID"
         ],
         "yaxis": "y"
        },
        {
         "customdata": [
          [
           "Atomic Heart"
          ],
          [
           "Atomic Heart"
          ],
          [
           "Atomic Heart"
          ],
          [
           "Atomic Heart"
          ],
          [
           "Atomic Heart"
          ]
         ],
         "hovertemplate": "Developer_List=Mundfish<br>Release_Year=%{x}<br>Platform_List=%{y}<br>Title=%{customdata[0]}<extra></extra>",
         "legendgroup": "Mundfish",
         "marker": {
          "color": "#FF97FF",
          "symbol": "circle"
         },
         "mode": "markers",
         "name": "Mundfish",
         "showlegend": true,
         "type": "scattergl",
         "x": {
          "bdata": "5wfnB+cH5wfnBw==",
          "dtype": "i2"
         },
         "xaxis": "x",
         "y": [
          "WIN",
          "PS4",
          "PS5",
          "XONE",
          "XSX"
         ],
         "yaxis": "y"
        },
        {
         "customdata": [
          [
           "Avatar: Frontiers of Pandora"
          ],
          [
           "Avatar: Frontiers of Pandora"
          ],
          [
           "Avatar: Frontiers of Pandora"
          ]
         ],
         "hovertemplate": "Developer_List=Massive Entertainment<br>Release_Year=%{x}<br>Platform_List=%{y}<br>Title=%{customdata[0]}<extra></extra>",
         "legendgroup": "Massive Entertainment",
         "marker": {
          "color": "#FECB52",
          "symbol": "circle"
         },
         "mode": "markers",
         "name": "Massive Entertainment",
         "showlegend": true,
         "type": "scattergl",
         "x": {
          "bdata": "5wfnB+cH",
          "dtype": "i2"
         },
         "xaxis": "x",
         "y": [
          "WIN",
          "PS5",
          "XSX"
         ],
         "yaxis": "y"
        },
        {
         "customdata": [
          [
           "Back 4 Blood"
          ],
          [
           "Back 4 Blood"
          ],
          [
           "Back 4 Blood"
          ],
          [
           "Back 4 Blood"
          ],
          [
           "Back 4 Blood"
          ],
          [
           "Counter-Strike: Condition Zero"
          ],
          [
           "Counter-Strike: Condition Zero"
          ],
          [
           "Counter-Strike: Condition Zero"
          ]
         ],
         "hovertemplate": "Developer_List=Turtle Rock Studios<br>Release_Year=%{x}<br>Platform_List=%{y}<br>Title=%{customdata[0]}<extra></extra>",
         "legendgroup": "Turtle Rock Studios",
         "marker": {
          "color": "#636efa",
          "symbol": "circle"
         },
         "mode": "markers",
         "name": "Turtle Rock Studios",
         "showlegend": true,
         "type": "scattergl",
         "x": {
          "bdata": "5QflB+UH5QflB9QH1AfUBw==",
          "dtype": "i2"
         },
         "xaxis": "x",
         "y": [
          "WIN",
          "PS4",
          "PS5",
          "XONE",
          "XSX",
          "WIN",
          "OSX",
          "LIN"
         ],
         "yaxis": "y"
        },
        {
         "customdata": [
          [
           "Back Track"
          ],
          [
           "Back Track"
          ]
         ],
         "hovertemplate": "Developer_List=JV Games<br>Release_Year=%{x}<br>Platform_List=%{y}<br>Title=%{customdata[0]}<extra></extra>",
         "legendgroup": "JV Games",
         "marker": {
          "color": "#EF553B",
          "symbol": "circle"
         },
         "mode": "markers",
         "name": "JV Games",
         "showlegend": true,
         "type": "scattergl",
         "x": {
          "bdata": "0QfRBw==",
          "dtype": "i2"
         },
         "xaxis": "x",
         "y": [
          "WIN",
          "GBA"
         ],
         "yaxis": "y"
        },
        {
         "customdata": [
          [
           "Ballistic: Ecks vs. Sever"
          ],
          [
           "Ecks vs. Sever"
          ]
         ],
         "hovertemplate": "Developer_List=Crawfish Interactive<br>Release_Year=%{x}<br>Platform_List=%{y}<br>Title=%{customdata[0]}<extra></extra>",
         "legendgroup": "Crawfish Interactive",
         "marker": {
          "color": "#00cc96",
          "symbol": "circle"
         },
         "mode": "markers",
         "name": "Crawfish Interactive",
         "showlegend": true,
         "type": "scattergl",
         "x": {
          "bdata": "0gfRBw==",
          "dtype": "i2"
         },
         "xaxis": "x",
         "y": [
          "GBA",
          "GBA"
         ],
         "yaxis": "y"
        },
        {
         "customdata": [
          [
           "Battlefield 1942"
          ],
          [
           "Battlefield 1942"
          ],
          [
           "Battlefield 2"
          ]
         ],
         "hovertemplate": "Developer_List=Digital Illusions CE<br>Release_Year=%{x}<br>Platform_List=%{y}<br>Title=%{customdata[0]}<extra></extra>",
         "legendgroup": "Digital Illusions CE",
         "marker": {
          "color": "#ab63fa",
          "symbol": "circle"
         },
         "mode": "markers",
         "name": "Digital Illusions CE",
         "showlegend": true,
         "type": "scattergl",
         "x": {
          "bdata": "0gfSB9UH",
          "dtype": "i2"
         },
         "xaxis": "x",
         "y": [
          "WIN",
          "OSX",
          "WIN"
         ],
         "yaxis": "y"
        },
        {
         "customdata": [
          [
           "Battlefield Vietnam"
          ]
         ],
         "hovertemplate": "Developer_List=Digital Illusions Canada<br>Release_Year=%{x}<br>Platform_List=%{y}<br>Title=%{customdata[0]}<extra></extra>",
         "legendgroup": "Digital Illusions Canada",
         "marker": {
          "color": "#FFA15A",
          "symbol": "circle"
         },
         "mode": "markers",
         "name": "Digital Illusions Canada",
         "showlegend": true,
         "type": "scattergl",
         "x": {
          "bdata": "1Ac=",
          "dtype": "i2"
         },
         "xaxis": "x",
         "y": [
          "WIN"
         ],
         "yaxis": "y"
        },
        {
         "customdata": [
          [
           "Battlefield 2: Modern Combat"
          ],
          [
           "Battlefield 2: Modern Combat"
          ],
          [
           "Battlefield 2: Modern Combat"
          ],
          [
           "Battlefield 2142"
          ],
          [
           "Battlefield 2142"
          ],
          [
           "Battlefield: Bad Company"
          ],
          [
           "Battlefield: Bad Company"
          ],
          [
           "Battlefield 1943"
          ],
          [
           "Battlefield 1943"
          ],
          [
           "Battlefield: Bad Company 2"
          ],
          [
           "Battlefield: Bad Company 2"
          ],
          [
           "Battlefield: Bad Company 2"
          ],
          [
           "Battlefield: Bad Company 2"
          ],
          [
           "Battlefield: Bad Company 2"
          ],
          [
           "Battlefield: Bad Company 2"
          ],
          [
           "Battlefield 3"
          ],
          [
           "Battlefield 3"
          ],
          [
           "Battlefield 3"
          ],
          [
           "Battlefield 4"
          ],
          [
           "Battlefield 4"
          ],
          [
           "Battlefield 4"
          ],
          [
           "Battlefield 4"
          ],
          [
           "Battlefield 4"
          ],
          [
           "Battlefield 1"
          ],
          [
           "Battlefield 1"
          ],
          [
           "Battlefield 1"
          ],
          [
           "Battlefield V"
          ],
          [
           "Battlefield V"
          ],
          [
           "Battlefield V"
          ],
          [
           "Battlefield 2042"
          ],
          [
           "Battlefield 2042"
          ],
          [
           "Battlefield 2042"
          ],
          [
           "Battlefield 2042"
          ],
          [
           "Battlefield 2042"
          ],
          [
           "Medal of Honor"
          ],
          [
           "Medal of Honor"
          ],
          [
           "Medal of Honor"
          ],
          [
           "Star Wars Battlefront"
          ],
          [
           "Star Wars Battlefront"
          ],
          [
           "Star Wars Battlefront"
          ],
          [
           "Star Wars Battlefront II"
          ],
          [
           "Star Wars Battlefront II"
          ],
          [
           "Star Wars Battlefront II"
          ]
         ],
         "hovertemplate": "Developer_List=DICE<br>Release_Year=%{x}<br>Platform_List=%{y}<br>Title=%{customdata[0]}<extra></extra>",
         "legendgroup": "DICE",
         "marker": {
          "color": "#19d3f3",
          "symbol": "circle"
         },
         "mode": "markers",
         "name": "DICE",
         "showlegend": true,
         "type": "scattergl",
         "x": {
          "bdata": "1QfVB9UH1gfWB9gH2AfZB9kH2gfaB9oH2gfaB9oH2wfbB9sH3QfdB90H3QfdB+AH4AfgB+IH4gfiB+UH5QflB+UH5QfaB9oH2gffB98H3wfhB+EH4Qc=",
          "dtype": "i2"
         },
         "xaxis": "x",
         "y": [
          "PS2",
          "Xbox",
          "X360",
          "WIN",
          "OSX",
          "PS3",
          "X360",
          "PS3 (PSN)",
          "X360 (XBLA)",
          "WIN",
          "PS3",
          "X360",
          "iOS",
          "Android",
          "Kindle Fire",
          "WIN",
          "PS3",
          "X360",
          "WIN",
          "PS3",
          "PS4",
          "X360",
          "XONE",
          "WIN",
          "PS4",
          "XONE",
          "WIN",
          "PS4",
          "XONE",
          "WIN",
          "PS4",
          "PS5",
          "XONE",
          "XSX",
          "WIN",
          "PS3",
          "X360",
          "WIN",
          "PS4",
          "XONE",
          "WIN",
          "PS4",
          "XONE"
         ],
         "yaxis": "y"
        },
        {
         "customdata": [
          [
           "Battlefield Hardline"
          ],
          [
           "Battlefield Hardline"
          ],
          [
           "Battlefield Hardline"
          ],
          [
           "Battlefield Hardline"
          ],
          [
           "Battlefield Hardline"
          ]
         ],
         "hovertemplate": "Developer_List=Visceral Games<br>Release_Year=%{x}<br>Platform_List=%{y}<br>Title=%{customdata[0]}<extra></extra>",
         "legendgroup": "Visceral Games",
         "marker": {
          "color": "#FF6692",
          "symbol": "circle"
         },
         "mode": "markers",
         "name": "Visceral Games",
         "showlegend": true,
         "type": "scattergl",
         "x": {
          "bdata": "3wffB98H3wffBw==",
          "dtype": "i2"
         },
         "xaxis": "x",
         "y": [
          "WIN",
          "PS3",
          "PS4",
          "X360",
          "XONE"
         ],
         "yaxis": "y"
        },
        {
         "customdata": [
          [
           "Battle Frenzy"
          ],
          [
           "Battle Frenzy"
          ]
         ],
         "hovertemplate": "Developer_List=Domark<br>Release_Year=%{x}<br>Platform_List=%{y}<br>Title=%{customdata[0]}<extra></extra>",
         "legendgroup": "Domark",
         "marker": {
          "color": "#B6E880",
          "symbol": "circle"
         },
         "mode": "markers",
         "name": "Domark",
         "showlegend": true,
         "type": "scattergl",
         "x": {
          "bdata": "ygfKBw==",
          "dtype": "i2"
         },
         "xaxis": "x",
         "y": [
          "GEN",
          "SCD"
         ],
         "yaxis": "y"
        },
        {
         "customdata": [
          [
           "Battle: Los Angeles"
          ],
          [
           "Battle: Los Angeles"
          ],
          [
           "Battle: Los Angeles"
          ],
          [
           "TimeShift"
          ],
          [
           "TimeShift"
          ],
          [
           "TimeShift"
          ],
          [
           "Will Rock"
          ]
         ],
         "hovertemplate": "Developer_List=Saber Interactive<br>Release_Year=%{x}<br>Platform_List=%{y}<br>Title=%{customdata[0]}<extra></extra>",
         "legendgroup": "Saber Interactive",
         "marker": {
          "color": "#FF97FF",
          "symbol": "circle"
         },
         "mode": "markers",
         "name": "Saber Interactive",
         "showlegend": true,
         "type": "scattergl",
         "x": {
          "bdata": "2wfbB9sH1wfXB9cH0wc=",
          "dtype": "i2"
         },
         "xaxis": "x",
         "y": [
          "WIN",
          "X360 (XBLA)",
          "PS3 (PSN)",
          "WIN",
          "PS3",
          "X360",
          "WIN"
         ],
         "yaxis": "y"
        },
        {
         "customdata": [
          [
           "Battleship"
          ],
          [
           "Battleship"
          ]
         ],
         "hovertemplate": "Developer_List=Double Helix Games<br>Release_Year=%{x}<br>Platform_List=%{y}<br>Title=%{customdata[0]}<extra></extra>",
         "legendgroup": "Double Helix Games",
         "marker": {
          "color": "#FECB52",
          "symbol": "circle"
         },
         "mode": "markers",
         "name": "Double Helix Games",
         "showlegend": true,
         "type": "scattergl",
         "x": {
          "bdata": "3AfcBw==",
          "dtype": "i2"
         },
         "xaxis": "x",
         "y": [
          "PS3",
          "X360"
         ],
         "yaxis": "y"
        },
        {
         "customdata": [
          [
           "Battlezone"
          ],
          [
           "Star Raiders"
          ],
          [
           "Star Ship"
          ],
          [
           "Star Wars"
          ],
          [
           "Star Wars: The Empire Strikes Back"
          ]
         ],
         "hovertemplate": "Developer_List=Atari<br>Release_Year=%{x}<br>Platform_List=%{y}<br>Title=%{customdata[0]}<extra></extra>",
         "legendgroup": "Atari",
         "marker": {
          "color": "#636efa",
          "symbol": "circle"
         },
         "mode": "markers",
         "name": "Atari",
         "showlegend": true,
         "type": "scattergl",
         "x": {
          "bdata": "AAC7B7kHvwfBBw==",
          "dtype": "i2"
         },
         "xaxis": "x",
         "y": [
          "Arcade",
          "A400/800",
          "A2600",
          "Arcade",
          "Arcade"
         ],
         "yaxis": "y"
        },
        {
         "customdata": [
          [
           "Bet On Soldier: Blood Sport"
          ]
         ],
         "hovertemplate": "Developer_List=Kylotonn<br>Release_Year=%{x}<br>Platform_List=%{y}<br>Title=%{customdata[0]}<extra></extra>",
         "legendgroup": "Kylotonn",
         "marker": {
          "color": "#EF553B",
          "symbol": "circle"
         },
         "mode": "markers",
         "name": "Kylotonn",
         "showlegend": true,
         "type": "scattergl",
         "x": {
          "bdata": "1Qc=",
          "dtype": "i2"
         },
         "xaxis": "x",
         "y": [
          "WIN"
         ],
         "yaxis": "y"
        },
        {
         "customdata": [
          [
           "Betrayer"
          ]
         ],
         "hovertemplate": "Developer_List=Blackpowder Games<br>Release_Year=%{x}<br>Platform_List=%{y}<br>Title=%{customdata[0]}<extra></extra>",
         "legendgroup": "Blackpowder Games",
         "marker": {
          "color": "#00cc96",
          "symbol": "circle"
         },
         "mode": "markers",
         "name": "Blackpowder Games",
         "showlegend": true,
         "type": "scattergl",
         "x": {
          "bdata": "3gc=",
          "dtype": "i2"
         },
         "xaxis": "x",
         "y": [
          "WIN"
         ],
         "yaxis": "y"
        },
        {
         "customdata": [
          [
           "BioShock"
          ],
          [
           "BioShock"
          ],
          [
           "BioShock"
          ],
          [
           "BioShock"
          ],
          [
           "BioShock"
          ],
          [
           "BioShock"
          ],
          [
           "BioShock"
          ],
          [
           "BioShock"
          ],
          [
           "BioShock Infinite"
          ],
          [
           "BioShock Infinite"
          ],
          [
           "BioShock Infinite"
          ],
          [
           "BioShock Infinite"
          ],
          [
           "BioShock Infinite"
          ],
          [
           "BioShock Infinite"
          ],
          [
           "BioShock Infinite"
          ],
          [
           "BioShock Infinite"
          ],
          [
           "BioShock Infinite: Burial at Sea"
          ],
          [
           "BioShock Infinite: Burial at Sea"
          ],
          [
           "BioShock Infinite: Burial at Sea"
          ],
          [
           "BioShock Infinite: Burial at Sea"
          ],
          [
           "BioShock Infinite: Burial at Sea"
          ],
          [
           "BioShock Infinite: Burial at Sea"
          ],
          [
           "BioShock Infinite: Burial at Sea"
          ],
          [
           "BioShock Infinite: Burial at Sea"
          ],
          [
           "SWAT 4"
          ],
          [
           "System Shock 2"
          ],
          [
           "System Shock 2"
          ],
          [
           "System Shock 2"
          ],
          [
           "Tribes: Vengeance"
          ]
         ],
         "hovertemplate": "Developer_List=Irrational Games<br>Release_Year=%{x}<br>Platform_List=%{y}<br>Title=%{customdata[0]}<extra></extra>",
         "legendgroup": "Irrational Games",
         "marker": {
          "color": "#ab63fa",
          "symbol": "circle"
         },
         "mode": "markers",
         "name": "Irrational Games",
         "showlegend": true,
         "type": "scattergl",
         "x": {
          "bdata": "1wfXB9cH1wfXB9cH1wfXB90H3QfdB90H3QfdB90H3QfdB90H3QfdB90H3QfdB90H1QfPB88HzwfUBw==",
          "dtype": "i2"
         },
         "xaxis": "x",
         "y": [
          "WIN",
          "X360",
          "PS3",
          "OSX",
          "iOS",
          "PS4",
          "XONE",
          "NX",
          "WIN",
          "PS3",
          "X360",
          "OSX",
          "LIN",
          "PS4",
          "XONE",
          "NX",
          "WIN",
          "PS3",
          "X360",
          "OSX",
          "LIN",
          "PS4",
          "XONE",
          "NX",
          "WIN",
          "WIN",
          "OSX",
          "LIN",
          "WIN"
         ],
         "yaxis": "y"
        },
        {
         "customdata": [
          [
           "BioShock 2"
          ],
          [
           "BioShock 2"
          ],
          [
           "BioShock 2"
          ],
          [
           "BioShock 2"
          ],
          [
           "BioShock 2"
          ],
          [
           "BioShock 2"
          ],
          [
           "BioShock 2"
          ]
         ],
         "hovertemplate": "Developer_List=2K Marin<br>Release_Year=%{x}<br>Platform_List=%{y}<br>Title=%{customdata[0]}<extra></extra>",
         "legendgroup": "2K Marin",
         "marker": {
          "color": "#FFA15A",
          "symbol": "circle"
         },
         "mode": "markers",
         "name": "2K Marin",
         "showlegend": true,
         "type": "scattergl",
         "x": {
          "bdata": "2gfaB9oH2gfaB9oH2gc=",
          "dtype": "i2"
         },
         "xaxis": "x",
         "y": [
          "WIN",
          "PS3",
          "X360",
          "OSX",
          "PS4",
          "XONE",
          "NX"
         ],
         "yaxis": "y"
        },
        {
         "customdata": [
          [
           "Black"
          ],
          [
           "Black"
          ]
         ],
         "hovertemplate": "Developer_List=Criterion Games<br>Release_Year=%{x}<br>Platform_List=%{y}<br>Title=%{customdata[0]}<extra></extra>",
         "legendgroup": "Criterion Games",
         "marker": {
          "color": "#19d3f3",
          "symbol": "circle"
         },
         "mode": "markers",
         "name": "Criterion Games",
         "showlegend": true,
         "type": "scattergl",
         "x": {
          "bdata": "1gfWBw==",
          "dtype": "i2"
         },
         "xaxis": "x",
         "y": [
          "PS2",
          "Xbox"
         ],
         "yaxis": "y"
        },
        {
         "customdata": [
          [
           "Black Mesa"
          ],
          [
           "Black Mesa"
          ]
         ],
         "hovertemplate": "Developer_List=Crowbar Collective<br>Release_Year=%{x}<br>Platform_List=%{y}<br>Title=%{customdata[0]}<extra></extra>",
         "legendgroup": "Crowbar Collective",
         "marker": {
          "color": "#FF6692",
          "symbol": "circle"
         },
         "mode": "markers",
         "name": "Crowbar Collective",
         "showlegend": true,
         "type": "scattergl",
         "x": {
          "bdata": "3AfcBw==",
          "dtype": "i2"
         },
         "xaxis": "x",
         "y": [
          "WIN",
          "LIN"
         ],
         "yaxis": "y"
        },
        {
         "customdata": [
          [
           "Blacklight: Retribution"
          ],
          [
           "Blacklight: Retribution"
          ],
          [
           "Blacklight: Tango Down"
          ],
          [
           "Blacklight: Tango Down"
          ],
          [
           "Blacklight: Tango Down"
          ],
          [
           "Delta Force: Task Force Dagger"
          ],
          [
           "Shadow Ops: Red Mercury"
          ],
          [
           "Shadow Ops: Red Mercury"
          ],
          [
           "Spec Ops: Rangers Lead the Way"
          ],
          [
           "Spec Ops: Ranger Team Bravo"
          ],
          [
           "Spec Ops II: Green Berets"
          ],
          [
           "ZPC"
          ]
         ],
         "hovertemplate": "Developer_List=Zombie Studios<br>Release_Year=%{x}<br>Platform_List=%{y}<br>Title=%{customdata[0]}<extra></extra>",
         "legendgroup": "Zombie Studios",
         "marker": {
          "color": "#B6E880",
          "symbol": "circle"
         },
         "mode": "markers",
         "name": "Zombie Studios",
         "showlegend": true,
         "type": "scattergl",
         "x": {
          "bdata": "3AfcB9oH2gfaB9IH1AfUB84HzgfPB8wH",
          "dtype": "i2"
         },
         "xaxis": "x",
         "y": [
          "WIN",
          "PS4",
          "WIN",
          "X360",
          "PS3",
          "WIN",
          "Xbox",
          "WIN",
          "WIN",
          "WIN",
          "WIN",
          "WIN"
         ],
         "yaxis": "y"
        },
        {
         "customdata": [
          [
           "Blake Stone: Aliens of Gold"
          ],
          [
           "Blake Stone: Planet Strike"
          ]
         ],
         "hovertemplate": "Developer_List=JAM Productions<br>Release_Year=%{x}<br>Platform_List=%{y}<br>Title=%{customdata[0]}<extra></extra>",
         "legendgroup": "JAM Productions",
         "marker": {
          "color": "#FF97FF",
          "symbol": "circle"
         },
         "mode": "markers",
         "name": "JAM Productions",
         "showlegend": true,
         "type": "scattergl",
         "x": {
          "bdata": "yQfKBw==",
          "dtype": "i2"
         },
         "xaxis": "x",
         "y": [
          "DOS",
          "DOS"
         ],
         "yaxis": "y"
        },
        {
         "customdata": [
          [
           "Blood: Fresh Supply"
          ],
          [
           "System Shock"
          ],
          [
           "System Shock"
          ],
          [
           "System Shock"
          ],
          [
           "System Shock"
          ],
          [
           "System Shock"
          ]
         ],
         "hovertemplate": "Developer_List=Nightdive Studios<br>Release_Year=%{x}<br>Platform_List=%{y}<br>Title=%{customdata[0]}<extra></extra>",
         "legendgroup": "Nightdive Studios",
         "marker": {
          "color": "#FECB52",
          "symbol": "circle"
         },
         "mode": "markers",
         "name": "Nightdive Studios",
         "showlegend": true,
         "type": "scattergl",
         "x": {
          "bdata": "4wfnB+cH5wfnB+cH",
          "dtype": "i2"
         },
         "xaxis": "x",
         "y": [
          "WIN",
          "WIN",
          "PS4",
          "PS5",
          "XONE",
          "XSX"
         ],
         "yaxis": "y"
        },
        {
         "customdata": [
          [
           "Bodycount"
          ],
          [
           "Bodycount"
          ]
         ],
         "hovertemplate": "Developer_List=Codemasters Guildford<br>Release_Year=%{x}<br>Platform_List=%{y}<br>Title=%{customdata[0]}<extra></extra>",
         "legendgroup": "Codemasters Guildford",
         "marker": {
          "color": "#636efa",
          "symbol": "circle"
         },
         "mode": "markers",
         "name": "Codemasters Guildford",
         "showlegend": true,
         "type": "scattergl",
         "x": {
          "bdata": "2wfbBw==",
          "dtype": "i2"
         },
         "xaxis": "x",
         "y": [
          "PS3",
          "X360"
         ],
         "yaxis": "y"
        },
        {
         "customdata": [
          [
           "Boiling Point: Road to Hell"
          ],
          [
           "The Precursors"
          ],
          [
           "White Gold: War in Paradise"
          ]
         ],
         "hovertemplate": "Developer_List=Deep Shadows<br>Release_Year=%{x}<br>Platform_List=%{y}<br>Title=%{customdata[0]}<extra></extra>",
         "legendgroup": "Deep Shadows",
         "marker": {
          "color": "#EF553B",
          "symbol": "circle"
         },
         "mode": "markers",
         "name": "Deep Shadows",
         "showlegend": true,
         "type": "scattergl",
         "x": {
          "bdata": "1QfZB9gH",
          "dtype": "i2"
         },
         "xaxis": "x",
         "y": [
          "WIN",
          "WIN",
          "WIN"
         ],
         "yaxis": "y"
        },
        {
         "customdata": [
          [
           "Borderlands: The Pre-Sequel"
          ],
          [
           "Borderlands: The Pre-Sequel"
          ],
          [
           "Borderlands: The Pre-Sequel"
          ],
          [
           "Borderlands: The Pre-Sequel"
          ],
          [
           "Borderlands: The Pre-Sequel"
          ],
          [
           "Borderlands: The Pre-Sequel"
          ],
          [
           "Borderlands: The Pre-Sequel"
          ],
          [
           "Borderlands: The Pre-Sequel"
          ]
         ],
         "hovertemplate": "Developer_List=2K Australia<br>Release_Year=%{x}<br>Platform_List=%{y}<br>Title=%{customdata[0]}<extra></extra>",
         "legendgroup": "2K Australia",
         "marker": {
          "color": "#00cc96",
          "symbol": "circle"
         },
         "mode": "markers",
         "name": "2K Australia",
         "showlegend": true,
         "type": "scattergl",
         "x": {
          "bdata": "3gfeB94H3gfeB94H3gfeBw==",
          "dtype": "i2"
         },
         "xaxis": "x",
         "y": [
          "WIN",
          "OSX",
          "LIN",
          "PS3",
          "X360",
          "PS4",
          "XONE",
          "NX"
         ],
         "yaxis": "y"
        },
        {
         "customdata": [
          [
           "Boundary"
          ]
         ],
         "hovertemplate": "Developer_List=Studio Surgical Scalpels<br>Release_Year=%{x}<br>Platform_List=%{y}<br>Title=%{customdata[0]}<extra></extra>",
         "legendgroup": "Studio Surgical Scalpels",
         "marker": {
          "color": "#ab63fa",
          "symbol": "circle"
         },
         "mode": "markers",
         "name": "Studio Surgical Scalpels",
         "showlegend": true,
         "type": "scattergl",
         "x": {
          "bdata": "5wc=",
          "dtype": "i2"
         },
         "xaxis": "x",
         "y": [
          "WIN"
         ],
         "yaxis": "y"
        },
        {
         "customdata": [
          [
           "BRAHMA Force: The Assault on Beltlogger 9"
          ],
          [
           "Kileak: The DNA Imperative"
          ]
         ],
         "hovertemplate": "Developer_List=Genki<br>Release_Year=%{x}<br>Platform_List=%{y}<br>Title=%{customdata[0]}<extra></extra>",
         "legendgroup": "Genki",
         "marker": {
          "color": "#FFA15A",
          "symbol": "circle"
         },
         "mode": "markers",
         "name": "Genki",
         "showlegend": true,
         "type": "scattergl",
         "x": {
          "bdata": "zAfLBw==",
          "dtype": "i2"
         },
         "xaxis": "x",
         "y": [
          "PS1",
          "PS1"
         ],
         "yaxis": "y"
        },
        {
         "customdata": [
          [
           "Bram Stoker's Dracula"
          ]
         ],
         "hovertemplate": "Developer_List=TAG<br>Release_Year=%{x}<br>Platform_List=%{y}<br>Title=%{customdata[0]}<extra></extra>",
         "legendgroup": "TAG",
         "marker": {
          "color": "#19d3f3",
          "symbol": "circle"
         },
         "mode": "markers",
         "name": "TAG",
         "showlegend": true,
         "type": "scattergl",
         "x": {
          "bdata": "AA==",
          "dtype": "i1"
         },
         "xaxis": "x",
         "y": [
          "DOS"
         ],
         "yaxis": "y"
        },
        {
         "customdata": [
          [
           "Breed"
          ]
         ],
         "hovertemplate": "Developer_List=Brat Designs<br>Release_Year=%{x}<br>Platform_List=%{y}<br>Title=%{customdata[0]}<extra></extra>",
         "legendgroup": "Brat Designs",
         "marker": {
          "color": "#FF6692",
          "symbol": "circle"
         },
         "mode": "markers",
         "name": "Brat Designs",
         "showlegend": true,
         "type": "scattergl",
         "x": {
          "bdata": "1Ac=",
          "dtype": "i2"
         },
         "xaxis": "x",
         "y": [
          "WIN"
         ],
         "yaxis": "y"
        },
        {
         "customdata": [
          [
           "Bright Memory"
          ],
          [
           "Bright Memory"
          ],
          [
           "Bright Memory"
          ],
          [
           "Bright Memory"
          ],
          [
           "Bright Memory: Infinite"
          ],
          [
           "Bright Memory: Infinite"
          ],
          [
           "Bright Memory: Infinite"
          ],
          [
           "Bright Memory: Infinite"
          ]
         ],
         "hovertemplate": "Developer_List=FYQD Personal Studio<br>Release_Year=%{x}<br>Platform_List=%{y}<br>Title=%{customdata[0]}<extra></extra>",
         "legendgroup": "FYQD Personal Studio",
         "marker": {
          "color": "#B6E880",
          "symbol": "circle"
         },
         "mode": "markers",
         "name": "FYQD Personal Studio",
         "showlegend": true,
         "type": "scattergl",
         "x": {
          "bdata": "4wfjB+MH4wflB+UH5QflBw==",
          "dtype": "i2"
         },
         "xaxis": "x",
         "y": [
          "WIN",
          "iOS",
          "Android",
          "XSX",
          "WIN",
          "PS5",
          "XSX",
          "NX"
         ],
         "yaxis": "y"
        },
        {
         "customdata": [
          [
           "Brink"
          ],
          [
           "Brink"
          ],
          [
           "Brink"
          ],
          [
           "Enemy Territory: Quake Wars"
          ],
          [
           "Enemy Territory: Quake Wars"
          ],
          [
           "Enemy Territory: Quake Wars"
          ],
          [
           "Enemy Territory: Quake Wars"
          ],
          [
           "Enemy Territory: Quake Wars"
          ],
          [
           "Wolfenstein: Enemy Territory"
          ],
          [
           "Wolfenstein: Enemy Territory"
          ],
          [
           "Wolfenstein: Enemy Territory"
          ]
         ],
         "hovertemplate": "Developer_List=Splash Damage<br>Release_Year=%{x}<br>Platform_List=%{y}<br>Title=%{customdata[0]}<extra></extra>",
         "legendgroup": "Splash Damage",
         "marker": {
          "color": "#FF97FF",
          "symbol": "circle"
         },
         "mode": "markers",
         "name": "Splash Damage",
         "showlegend": true,
         "type": "scattergl",
         "x": {
          "bdata": "2wfbB9sH1wfXB9cH1wfXB9MH0wfTBw==",
          "dtype": "i2"
         },
         "xaxis": "x",
         "y": [
          "WIN",
          "PS3",
          "X360",
          "LIN",
          "OSX",
          "PS3",
          "WIN",
          "X360",
          "LIN",
          "WIN",
          "OSX"
         ],
         "yaxis": "y"
        },
        {
         "customdata": [
          [
           "Breach"
          ],
          [
           "Breach"
          ]
         ],
         "hovertemplate": "Developer_List=Atomic Games<br>Release_Year=%{x}<br>Platform_List=%{y}<br>Title=%{customdata[0]}<extra></extra>",
         "legendgroup": "Atomic Games",
         "marker": {
          "color": "#FECB52",
          "symbol": "circle"
         },
         "mode": "markers",
         "name": "Atomic Games",
         "showlegend": true,
         "type": "scattergl",
         "x": {
          "bdata": "2wfbBw==",
          "dtype": "i2"
         },
         "xaxis": "x",
         "y": [
          "WIN",
          "X360"
         ],
         "yaxis": "y"
        },
        {
         "customdata": [
          [
           "Bulletstorm"
          ],
          [
           "Bulletstorm"
          ],
          [
           "Bulletstorm"
          ],
          [
           "Bulletstorm"
          ],
          [
           "Bulletstorm"
          ],
          [
           "Bulletstorm"
          ],
          [
           "Painkiller"
          ],
          [
           "Painkiller"
          ],
          [
           "Painkiller: Battle out of Hell"
          ],
          [
           "Painkiller: Battle out of Hell"
          ]
         ],
         "hovertemplate": "Developer_List=People Can Fly<br>Release_Year=%{x}<br>Platform_List=%{y}<br>Title=%{customdata[0]}<extra></extra>",
         "legendgroup": "People Can Fly",
         "marker": {
          "color": "#636efa",
          "symbol": "circle"
         },
         "mode": "markers",
         "name": "People Can Fly",
         "showlegend": true,
         "type": "scattergl",
         "x": {
          "bdata": "2wfbB9sH2wfbB9sH1AfUB9QH1Ac=",
          "dtype": "i2"
         },
         "xaxis": "x",
         "y": [
          "WIN",
          "PS3",
          "X360",
          "PS4",
          "XONE",
          "NX",
          "WIN",
          "Xbox",
          "WIN",
          "Xbox"
         ],
         "yaxis": "y"
        },
        {
         "customdata": [
          [
           "Bulletstorm"
          ],
          [
           "Bulletstorm"
          ],
          [
           "Bulletstorm"
          ],
          [
           "Bulletstorm"
          ],
          [
           "Bulletstorm"
          ],
          [
           "Bulletstorm"
          ],
          [
           "Unreal Tournament"
          ],
          [
           "Unreal Tournament"
          ],
          [
           "Unreal Tournament"
          ],
          [
           "Unreal Tournament"
          ],
          [
           "Unreal Tournament"
          ],
          [
           "Unreal Tournament 2003"
          ],
          [
           "Unreal Tournament 2003"
          ],
          [
           "Unreal Tournament 2003"
          ],
          [
           "Unreal Championship"
          ],
          [
           "Unreal Tournament 2004"
          ],
          [
           "Unreal Tournament 2004"
          ],
          [
           "Unreal Tournament 2004"
          ],
          [
           "Unreal Championship 2: The Liandri Conflict"
          ],
          [
           "Unreal Tournament 3"
          ],
          [
           "Unreal Tournament 3"
          ],
          [
           "Unreal Tournament 3"
          ]
         ],
         "hovertemplate": "Developer_List=Epic Games<br>Release_Year=%{x}<br>Platform_List=%{y}<br>Title=%{customdata[0]}<extra></extra>",
         "legendgroup": "Epic Games",
         "marker": {
          "color": "#EF553B",
          "symbol": "circle"
         },
         "mode": "markers",
         "name": "Epic Games",
         "showlegend": true,
         "type": "scattergl",
         "x": {
          "bdata": "2wfbB9sH2wfbB9sHzwfPB88HzwfPB9IH0gfSB9IH1AfUB9QH1QfXB9cH1wc=",
          "dtype": "i2"
         },
         "xaxis": "x",
         "y": [
          "WIN",
          "PS3",
          "X360",
          "PS4",
          "XONE",
          "NX",
          "WIN",
          "LIN",
          "MAC",
          "PS2",
          "DC",
          "WIN",
          "OSX",
          "LIN",
          "Xbox",
          "WIN",
          "LIN",
          "OSX",
          "Xbox",
          "WIN",
          "PS3",
          "X360"
         ],
         "yaxis": "y"
        },
        {
         "customdata": [
          [
           "Call of Cthulhu: Dark Corners of the Earth"
          ],
          [
           "Call of Cthulhu: Dark Corners of the Earth"
          ]
         ],
         "hovertemplate": "Developer_List=Headfirst Productions<br>Release_Year=%{x}<br>Platform_List=%{y}<br>Title=%{customdata[0]}<extra></extra>",
         "legendgroup": "Headfirst Productions",
         "marker": {
          "color": "#00cc96",
          "symbol": "circle"
         },
         "mode": "markers",
         "name": "Headfirst Productions",
         "showlegend": true,
         "type": "scattergl",
         "x": {
          "bdata": "1QfVBw==",
          "dtype": "i2"
         },
         "xaxis": "x",
         "y": [
          "Xbox",
          "WIN"
         ],
         "yaxis": "y"
        },
        {
         "customdata": [
          [
           "Call of Duty"
          ],
          [
           "Call of Duty"
          ],
          [
           "Call of Duty"
          ],
          [
           "Call of Duty"
          ],
          [
           "Call of Duty"
          ],
          [
           "Call of Duty 2"
          ],
          [
           "Call of Duty 2"
          ],
          [
           "Call of Duty 2"
          ],
          [
           "Call of Duty 4: Modern Warfare"
          ],
          [
           "Call of Duty 4: Modern Warfare"
          ],
          [
           "Call of Duty 4: Modern Warfare"
          ],
          [
           "Call of Duty 4: Modern Warfare"
          ],
          [
           "Call of Duty 4: Modern Warfare"
          ],
          [
           "Call of Duty 4: Modern Warfare"
          ],
          [
           "Call of Duty: Modern Warfare 2"
          ],
          [
           "Call of Duty: Modern Warfare 2"
          ],
          [
           "Call of Duty: Modern Warfare 2"
          ],
          [
           "Call of Duty: Modern Warfare 3"
          ],
          [
           "Call of Duty: Modern Warfare 3"
          ],
          [
           "Call of Duty: Modern Warfare 3"
          ],
          [
           "Call of Duty: Modern Warfare 3"
          ],
          [
           "Call of Duty: Ghosts"
          ],
          [
           "Call of Duty: Ghosts"
          ],
          [
           "Call of Duty: Ghosts"
          ],
          [
           "Call of Duty: Ghosts"
          ],
          [
           "Call of Duty: Ghosts"
          ],
          [
           "Call of Duty: Ghosts"
          ],
          [
           "Call of Duty: Infinite Warfare"
          ],
          [
           "Call of Duty: Infinite Warfare"
          ],
          [
           "Call of Duty: Infinite Warfare"
          ],
          [
           "Call of Duty: Modern Warfare"
          ],
          [
           "Call of Duty: Modern Warfare"
          ],
          [
           "Call of Duty: Modern Warfare"
          ],
          [
           "Call of Duty: Warzone"
          ],
          [
           "Call of Duty: Warzone"
          ],
          [
           "Call of Duty: Warzone"
          ],
          [
           "Call of Duty: Modern Warfare II"
          ],
          [
           "Call of Duty: Modern Warfare II"
          ],
          [
           "Call of Duty: Modern Warfare II"
          ],
          [
           "Call of Duty: Modern Warfare II"
          ],
          [
           "Call of Duty: Modern Warfare II"
          ]
         ],
         "hovertemplate": "Developer_List=Infinity Ward<br>Release_Year=%{x}<br>Platform_List=%{y}<br>Title=%{customdata[0]}<extra></extra>",
         "legendgroup": "Infinity Ward",
         "marker": {
          "color": "#ab63fa",
          "symbol": "circle"
         },
         "mode": "markers",
         "name": "Infinity Ward",
         "showlegend": true,
         "type": "scattergl",
         "x": {
          "bdata": "0wfTB9MH0wfTB9UH1QfVB9cH1wfXB9cH1wfXB9kH2QfZB9sH2wfbB9sH3QfdB90H3QfdB90H4AfgB+AH4wfjB+MH5AfkB+QH5gfmB+YH5gfmBw==",
          "dtype": "i2"
         },
         "xaxis": "x",
         "y": [
          "WIN",
          "OSX",
          "PS3 (PSN)",
          "X360 (XBLA)",
          "NGE",
          "WIN",
          "X360",
          "OSX",
          "WIN",
          "OSX",
          "PS3",
          "X360",
          "DS",
          "Wii",
          "WIN",
          "PS3",
          "X360",
          "WIN",
          "PS3",
          "X360",
          "Wii",
          "WIN",
          "PS3",
          "PS4",
          "X360",
          "XONE",
          "WiiU",
          "WIN",
          "PS4",
          "XONE",
          "WIN",
          "PS4",
          "XONE",
          "WIN",
          "PS4",
          "XONE",
          "WIN",
          "PS4",
          "PS5",
          "XONE",
          "XSX"
         ],
         "yaxis": "y"
        },
        {
         "customdata": [
          [
           "Call of Duty: United Offensive"
          ],
          [
           "Call of Duty: United Offensive"
          ],
          [
           "Return to Castle Wolfenstein"
          ],
          [
           "Return to Castle Wolfenstein"
          ],
          [
           "Return to Castle Wolfenstein"
          ],
          [
           "Return to Castle Wolfenstein"
          ],
          [
           "Return to Castle Wolfenstein"
          ]
         ],
         "hovertemplate": "Developer_List=Gray Matter Studios<br>Release_Year=%{x}<br>Platform_List=%{y}<br>Title=%{customdata[0]}<extra></extra>",
         "legendgroup": "Gray Matter Studios",
         "marker": {
          "color": "#FFA15A",
          "symbol": "circle"
         },
         "mode": "markers",
         "name": "Gray Matter Studios",
         "showlegend": true,
         "type": "scattergl",
         "x": {
          "bdata": "1AfUB9EH0QfRB9EH0Qc=",
          "dtype": "i2"
         },
         "xaxis": "x",
         "y": [
          "WIN",
          "OSX",
          "WIN",
          "LIN",
          "OSX",
          "PS2",
          "Xbox"
         ],
         "yaxis": "y"
        },
        {
         "customdata": [
          [
           "Call of Duty: Finest Hour"
          ],
          [
           "Call of Duty: Finest Hour"
          ],
          [
           "Call of Duty: Finest Hour"
          ],
          [
           "Legendary"
          ],
          [
           "Legendary"
          ],
          [
           "Legendary"
          ],
          [
           "Turning Point: Fall of Liberty"
          ],
          [
           "Turning Point: Fall of Liberty"
          ],
          [
           "Turning Point: Fall of Liberty"
          ]
         ],
         "hovertemplate": "Developer_List=Spark Unlimited<br>Release_Year=%{x}<br>Platform_List=%{y}<br>Title=%{customdata[0]}<extra></extra>",
         "legendgroup": "Spark Unlimited",
         "marker": {
          "color": "#19d3f3",
          "symbol": "circle"
         },
         "mode": "markers",
         "name": "Spark Unlimited",
         "showlegend": true,
         "type": "scattergl",
         "x": {
          "bdata": "1AfUB9QH2AfYB9gH2AfYB9gH",
          "dtype": "i2"
         },
         "xaxis": "x",
         "y": [
          "PS2",
          "Xbox",
          "GCN",
          "WIN",
          "PS3",
          "X360",
          "WIN",
          "PS3",
          "X360"
         ],
         "yaxis": "y"
        },
        {
         "customdata": [
          [
           "Call of Duty: Modern Warfare: Mobilized"
          ],
          [
           "Call of Duty: Modern Warfare 3 – Defiance"
          ],
          [
           "Geist"
          ]
         ],
         "hovertemplate": "Developer_List=n-Space<br>Release_Year=%{x}<br>Platform_List=%{y}<br>Title=%{customdata[0]}<extra></extra>",
         "legendgroup": "n-Space",
         "marker": {
          "color": "#FF6692",
          "symbol": "circle"
         },
         "mode": "markers",
         "name": "n-Space",
         "showlegend": true,
         "type": "scattergl",
         "x": {
          "bdata": "2QfbB9UH",
          "dtype": "i2"
         },
         "xaxis": "x",
         "y": [
          "DS",
          "DS",
          "GameCube"
         ],
         "yaxis": "y"
        },
        {
         "customdata": [
          [
           "Call of Duty: Black Ops: Declassified"
          ]
         ],
         "hovertemplate": "Developer_List=nStigate Games<br>Release_Year=%{x}<br>Platform_List=%{y}<br>Title=%{customdata[0]}<extra></extra>",
         "legendgroup": "nStigate Games",
         "marker": {
          "color": "#B6E880",
          "symbol": "circle"
         },
         "mode": "markers",
         "name": "nStigate Games",
         "showlegend": true,
         "type": "scattergl",
         "x": {
          "bdata": "3Ac=",
          "dtype": "i2"
         },
         "xaxis": "x",
         "y": [
          "VITA"
         ],
         "yaxis": "y"
        },
        {
         "customdata": [
          [
           "Call of Duty: Advanced Warfare"
          ],
          [
           "Call of Duty: Advanced Warfare"
          ],
          [
           "Call of Duty: Advanced Warfare"
          ],
          [
           "Call of Duty: Advanced Warfare"
          ],
          [
           "Call of Duty: Advanced Warfare"
          ],
          [
           "Call of Duty: WWII"
          ],
          [
           "Call of Duty: WWII"
          ],
          [
           "Call of Duty: WWII"
          ],
          [
           "Call of Duty: Vanguard"
          ],
          [
           "Call of Duty: Vanguard"
          ],
          [
           "Call of Duty: Vanguard"
          ],
          [
           "Call of Duty: Vanguard"
          ],
          [
           "Call of Duty: Vanguard"
          ],
          [
           "Call of Duty: Modern Warfare III"
          ],
          [
           "Call of Duty: Modern Warfare III"
          ],
          [
           "Call of Duty: Modern Warfare III"
          ],
          [
           "Call of Duty: Modern Warfare III"
          ],
          [
           "Call of Duty: Modern Warfare III"
          ]
         ],
         "hovertemplate": "Developer_List=Sledgehammer Games<br>Release_Year=%{x}<br>Platform_List=%{y}<br>Title=%{customdata[0]}<extra></extra>",
         "legendgroup": "Sledgehammer Games",
         "marker": {
          "color": "#FF97FF",
          "symbol": "circle"
         },
         "mode": "markers",
         "name": "Sledgehammer Games",
         "showlegend": true,
         "type": "scattergl",
         "x": {
          "bdata": "3gfeB94H3gfeB+EH4QfhB+UH5QflB+UH5QfnB+cH5wfnB+cH",
          "dtype": "i2"
         },
         "xaxis": "x",
         "y": [
          "WIN",
          "PS3",
          "PS4",
          "X360",
          "XONE",
          "WIN",
          "PS4",
          "XONE",
          "WIN",
          "PS4",
          "PS5",
          "XONE",
          "XSX",
          "WIN",
          "PS4",
          "PS5",
          "XONE",
          "XSX"
         ],
         "yaxis": "y"
        },
        {
         "customdata": [
          [
           "Call of Duty: Modern Warfare Remastered"
          ],
          [
           "Call of Duty: Modern Warfare Remastered"
          ],
          [
           "Call of Duty: Modern Warfare Remastered"
          ],
          [
           "Call of Duty: Warzone"
          ],
          [
           "Call of Duty: Warzone"
          ],
          [
           "Call of Duty: Warzone"
          ],
          [
           "Call of Duty: Black Ops Cold War"
          ],
          [
           "Call of Duty: Black Ops Cold War"
          ],
          [
           "Call of Duty: Black Ops Cold War"
          ],
          [
           "Call of Duty: Black Ops Cold War"
          ],
          [
           "Call of Duty: Black Ops Cold War"
          ],
          [
           "Call of Duty: Black Ops 6"
          ],
          [
           "Call of Duty: Black Ops 6"
          ],
          [
           "Call of Duty: Black Ops 6"
          ],
          [
           "Call of Duty: Black Ops 6"
          ],
          [
           "Call of Duty: Black Ops 6"
          ],
          [
           "CyClones"
          ],
          [
           "Heretic"
          ],
          [
           "Heretic"
          ],
          [
           "Heretic: Shadow of the Serpent Riders"
          ],
          [
           "Hexen: Beyond Heretic"
          ],
          [
           "Hexen: Beyond Heretic"
          ],
          [
           "Hexen: Beyond Heretic"
          ],
          [
           "Hexen: Beyond Heretic"
          ],
          [
           "Hexen: Beyond Heretic"
          ],
          [
           "Hexen: Deathkings of the Dark Citadel"
          ],
          [
           "Hexen II"
          ],
          [
           "Hexen II"
          ],
          [
           "Hexen II Mission Pack: Portal of Praevus"
          ],
          [
           "Necrodome"
          ],
          [
           "Quake 4"
          ],
          [
           "Quake 4"
          ],
          [
           "Quake 4"
          ],
          [
           "Quake 4"
          ],
          [
           "Singularity"
          ],
          [
           "Singularity"
          ],
          [
           "Singularity"
          ],
          [
           "Soldier of Fortune"
          ],
          [
           "Soldier of Fortune"
          ],
          [
           "Soldier of Fortune"
          ],
          [
           "Soldier of Fortune"
          ],
          [
           "Soldier of Fortune II: Double Helix"
          ],
          [
           "Soldier of Fortune II: Double Helix"
          ],
          [
           "Soldier of Fortune II: Double Helix"
          ],
          [
           "Star Trek: Voyager – Elite Force"
          ],
          [
           "Star Trek: Voyager – Elite Force"
          ],
          [
           "Star Trek: Voyager – Elite Force"
          ],
          [
           "Star Wars Jedi Knight II: Jedi Outcast"
          ],
          [
           "Star Wars Jedi Knight II: Jedi Outcast"
          ],
          [
           "Star Wars Jedi Knight II: Jedi Outcast"
          ],
          [
           "Star Wars Jedi Knight II: Jedi Outcast"
          ],
          [
           "Star Wars Jedi Knight II: Jedi Outcast"
          ],
          [
           "Star Wars Jedi Knight II: Jedi Outcast"
          ],
          [
           "Star Wars Jedi Knight: Jedi Academy"
          ],
          [
           "Star Wars Jedi Knight: Jedi Academy"
          ],
          [
           "Star Wars Jedi Knight: Jedi Academy"
          ],
          [
           "Star Wars Jedi Knight: Jedi Academy"
          ],
          [
           "Star Wars Jedi Knight: Jedi Academy"
          ],
          [
           "Wolfenstein"
          ],
          [
           "Wolfenstein"
          ],
          [
           "Wolfenstein"
          ]
         ],
         "hovertemplate": "Developer_List=Raven Software<br>Release_Year=%{x}<br>Platform_List=%{y}<br>Title=%{customdata[0]}<extra></extra>",
         "legendgroup": "Raven Software",
         "marker": {
          "color": "#FECB52",
          "symbol": "circle"
         },
         "mode": "markers",
         "name": "Raven Software",
         "showlegend": true,
         "type": "scattergl",
         "x": {
          "bdata": "4AfgB+AH5AfkB+QH5AfkB+QH5AfkB+gH6AfoB+gH6AfKB8oHygfMB8sHywfLB8sHywfMB80HzQfOB8wH1QfVB9UH1QfaB9oH2gfQB9AH0AfQB9IH0gfSB9AH0AfQB9IH0gfSB9IH0gfSB9MH0wfTB9MH0wfZB9kH2Qc=",
          "dtype": "i2"
         },
         "xaxis": "x",
         "y": [
          "WIN",
          "PS4",
          "XONE",
          "WIN",
          "PS4",
          "XONE",
          "WIN",
          "PS4",
          "PS5",
          "XONE",
          "XSX",
          "WIN",
          "PS4",
          "PS5",
          "XONE",
          "XSX",
          "DOS",
          "DOS",
          "MAC",
          "DOS",
          "DOS",
          "MAC",
          "N64",
          "PS1",
          "SAT",
          "DOS",
          "MAC",
          "WIN",
          "WIN",
          "PC",
          "WIN",
          "LIN",
          "X360",
          "OSX",
          "WIN",
          "PS3",
          "X360",
          "WIN",
          "LIN",
          "DC",
          "PS2",
          "WIN",
          "OSX",
          "Xbox",
          "WIN",
          "MAC",
          "PS2",
          "WIN",
          "OSX",
          "Xbox",
          "GCN",
          "PS4",
          "NX",
          "WIN",
          "OSX",
          "Xbox",
          "PS4",
          "NX",
          "WIN",
          "PS3",
          "X360"
         ],
         "yaxis": "y"
        },
        {
         "customdata": [
          [
           "Call of Duty: Mobile"
          ],
          [
           "Call of Duty: Mobile"
          ]
         ],
         "hovertemplate": "Developer_List=TiMi Studios<br>Release_Year=%{x}<br>Platform_List=%{y}<br>Title=%{customdata[0]}<extra></extra>",
         "legendgroup": "TiMi Studios",
         "marker": {
          "color": "#636efa",
          "symbol": "circle"
         },
         "mode": "markers",
         "name": "TiMi Studios",
         "showlegend": true,
         "type": "scattergl",
         "x": {
          "bdata": "4wfjBw==",
          "dtype": "i2"
         },
         "xaxis": "x",
         "y": [
          "ANDROID",
          "IOS"
         ],
         "yaxis": "y"
        },
        {
         "customdata": [
          [
           "Call of Juarez"
          ],
          [
           "Call of Juarez"
          ],
          [
           "Call of Juarez: Bound in Blood"
          ],
          [
           "Call of Juarez: Bound in Blood"
          ],
          [
           "Call of Juarez: Bound in Blood"
          ],
          [
           "Call of Juarez: The Cartel"
          ],
          [
           "Call of Juarez: The Cartel"
          ],
          [
           "Call of Juarez: The Cartel"
          ],
          [
           "Call of Juarez: Gunslinger"
          ],
          [
           "Call of Juarez: Gunslinger"
          ],
          [
           "Call of Juarez: Gunslinger"
          ],
          [
           "Call of Juarez: Gunslinger"
          ],
          [
           "Chrome"
          ],
          [
           "Chrome SpecForce"
          ],
          [
           "Dead Island"
          ],
          [
           "Dead Island"
          ],
          [
           "Dead Island"
          ],
          [
           "Dead Island"
          ],
          [
           "Dead Island"
          ],
          [
           "Dead Island"
          ],
          [
           "Dead Island"
          ],
          [
           "Dead Island: Riptide"
          ],
          [
           "Dead Island: Riptide"
          ],
          [
           "Dead Island: Riptide"
          ],
          [
           "Dead Island: Riptide"
          ],
          [
           "Dead Island: Riptide"
          ],
          [
           "Dead Island: Riptide"
          ],
          [
           "Dying Light"
          ],
          [
           "Dying Light"
          ],
          [
           "Dying Light"
          ],
          [
           "Dying Light"
          ],
          [
           "Dying Light"
          ],
          [
           "Dying Light"
          ],
          [
           "Dying Light"
          ],
          [
           "Dying Light"
          ],
          [
           "Dying Light: The Following"
          ],
          [
           "Dying Light: The Following"
          ],
          [
           "Dying Light: The Following"
          ],
          [
           "Dying Light: The Following"
          ],
          [
           "Dying Light: The Following"
          ],
          [
           "Dying Light: The Following"
          ],
          [
           "Dying Light: The Following"
          ],
          [
           "Dying Light: The Following"
          ],
          [
           "Dying Light 2 Stay Human"
          ],
          [
           "Dying Light 2 Stay Human"
          ],
          [
           "Dying Light 2 Stay Human"
          ],
          [
           "Dying Light 2 Stay Human"
          ],
          [
           "Dying Light 2 Stay Human"
          ],
          [
           "Dying Light 2 Stay Human"
          ]
         ],
         "hovertemplate": "Developer_List=Techland<br>Release_Year=%{x}<br>Platform_List=%{y}<br>Title=%{customdata[0]}<extra></extra>",
         "legendgroup": "Techland",
         "marker": {
          "color": "#EF553B",
          "symbol": "circle"
         },
         "mode": "markers",
         "name": "Techland",
         "showlegend": true,
         "type": "scattergl",
         "x": {
          "bdata": "1gfWB9kH2QfZB9sH2wfbB90H3QfdB90H0wfVB9sH2wfbB9sH2wfbB9sH3QfdB90H3QfdB90H3wffB98H3wffB98H3wffB+AH4AfgB+AH4AfgB+AH4AfmB+YH5gfmB+YH5gc=",
          "dtype": "i2"
         },
         "xaxis": "x",
         "y": [
          "WIN",
          "X360",
          "WIN",
          "PS3",
          "X360",
          "WIN",
          "PS3",
          "X360",
          "WIN",
          "PS3 (PSN)",
          "X360 (XBLA)",
          "NX",
          "WIN",
          "WIN",
          "WIN",
          "PS3",
          "X360",
          "OSX",
          "LIN",
          "PS4",
          "XONE",
          "WIN",
          "PS3",
          "X360",
          "PS4",
          "XONE",
          "LIN",
          "WIN",
          "LIN",
          "PS4",
          "XONE",
          "OSX",
          "NX",
          "PS5",
          "XSX",
          "WIN",
          "LIN",
          "PS4",
          "XONE",
          "OSX",
          "NX",
          "PS5",
          "XSX",
          "WIN",
          "PS4",
          "PS5",
          "XONE",
          "XSX",
          "NX"
         ],
         "yaxis": "y"
        },
        {
         "customdata": [
          [
           "Carnivores"
          ],
          [
           "Carnivores 2"
          ],
          [
           "Chasm: The Rift"
          ],
          [
           "Cryostasis: Sleep of Reason"
          ],
          [
           "Vivisector: Beast Inside"
          ]
         ],
         "hovertemplate": "Developer_List=Action Forms<br>Release_Year=%{x}<br>Platform_List=%{y}<br>Title=%{customdata[0]}<extra></extra>",
         "legendgroup": "Action Forms",
         "marker": {
          "color": "#00cc96",
          "symbol": "circle"
         },
         "mode": "markers",
         "name": "Action Forms",
         "showlegend": true,
         "type": "scattergl",
         "x": {
          "bdata": "zgfPB80H2AfVBw==",
          "dtype": "i2"
         },
         "xaxis": "x",
         "y": [
          "WIN",
          "WIN",
          "DOS",
          "WIN",
          "WIN"
         ],
         "yaxis": "y"
        },
        {
         "customdata": [
          [
           "Carnivores: Cityscape"
          ],
          [
           "Cryptic Passage for Blood"
          ],
          [
           "Duke Caribbean: Life's a Beach"
          ],
          [
           "Duke It Out In D.C."
          ]
         ],
         "hovertemplate": "Developer_List=Sunstorm Interactive<br>Release_Year=%{x}<br>Platform_List=%{y}<br>Title=%{customdata[0]}<extra></extra>",
         "legendgroup": "Sunstorm Interactive",
         "marker": {
          "color": "#ab63fa",
          "symbol": "circle"
         },
         "mode": "markers",
         "name": "Sunstorm Interactive",
         "showlegend": true,
         "type": "scattergl",
         "x": {
          "bdata": "0gfNBwAAzQc=",
          "dtype": "i2"
         },
         "xaxis": "x",
         "y": [
          "WIN",
          "DOS",
          "DOS",
          "DOS"
         ],
         "yaxis": "y"
        },
        {
         "customdata": [
          [
           "Chaser"
          ]
         ],
         "hovertemplate": "Developer_List=Cauldron<br>Release_Year=%{x}<br>Platform_List=%{y}<br>Title=%{customdata[0]}<extra></extra>",
         "legendgroup": "Cauldron",
         "marker": {
          "color": "#FFA15A",
          "symbol": "circle"
         },
         "mode": "markers",
         "name": "Cauldron",
         "showlegend": true,
         "type": "scattergl",
         "x": {
          "bdata": "0wc=",
          "dtype": "i2"
         },
         "xaxis": "x",
         "y": [
          "WIN"
         ],
         "yaxis": "y"
        },
        {
         "customdata": [
          [
           "Castle Master"
          ],
          [
           "Castle Master"
          ],
          [
           "Castle Master"
          ],
          [
           "Castle Master"
          ]
         ],
         "hovertemplate": "Developer_List=Teque Software Development<br>Release_Year=%{x}<br>Platform_List=%{y}<br>Title=%{customdata[0]}<extra></extra>",
         "legendgroup": "Teque Software Development",
         "marker": {
          "color": "#19d3f3",
          "symbol": "circle"
         },
         "mode": "markers",
         "name": "Teque Software Development",
         "showlegend": true,
         "type": "scattergl",
         "x": {
          "bdata": "xgfGB8YHxgc=",
          "dtype": "i2"
         },
         "xaxis": "x",
         "y": [
          "AMI",
          "C64",
          "ZX",
          "PC"
         ],
         "yaxis": "y"
        },
        {
         "customdata": [
          [
           "Catacomb 3-D"
          ],
          [
           "Doom"
          ],
          [
           "Doom II: Hell on Earth"
          ],
          [
           "Doom II: Hell on Earth"
          ],
          [
           "Doom II: Hell on Earth"
          ],
          [
           "Doom II: Hell on Earth"
          ],
          [
           "Doom II: Hell on Earth"
          ],
          [
           "Doom II: Hell on Earth"
          ],
          [
           "Doom II: Hell on Earth"
          ],
          [
           "Doom II: Hell on Earth"
          ],
          [
           "Doom II: Hell on Earth"
          ],
          [
           "Doom II: Hell on Earth"
          ],
          [
           "Doom II: Hell on Earth"
          ],
          [
           "Doom II: Hell on Earth"
          ],
          [
           "Doom II: Hell on Earth"
          ],
          [
           "Doom II: Hell on Earth"
          ],
          [
           "Doom II: Hell on Earth"
          ],
          [
           "Doom II: Hell on Earth"
          ],
          [
           "Doom 3"
          ],
          [
           "Doom 3"
          ],
          [
           "Doom 3"
          ],
          [
           "Doom 3"
          ],
          [
           "Doom 3 BFG Edition"
          ],
          [
           "Doom 3 BFG Edition"
          ],
          [
           "Doom 3 BFG Edition"
          ],
          [
           "Doom 3 BFG Edition"
          ],
          [
           "Doom 3 BFG Edition"
          ],
          [
           "Doom 3 BFG Edition"
          ],
          [
           "Doom 3 BFG Edition"
          ],
          [
           "Doom 3 BFG Edition"
          ],
          [
           "Doom"
          ],
          [
           "Doom"
          ],
          [
           "Doom"
          ],
          [
           "Doom"
          ],
          [
           "Doom Eternal"
          ],
          [
           "Doom Eternal"
          ],
          [
           "Doom Eternal"
          ],
          [
           "Doom Eternal"
          ],
          [
           "Doom Eternal"
          ],
          [
           "Doom Eternal"
          ],
          [
           "Doom: The Dark Ages"
          ],
          [
           "Doom: The Dark Ages"
          ],
          [
           "Doom: The Dark Ages"
          ],
          [
           "Hovertank 3D"
          ],
          [
           "Master Levels for Doom II"
          ],
          [
           "Master Levels for Doom II"
          ],
          [
           "Quake"
          ],
          [
           "Quake"
          ],
          [
           "Quake"
          ],
          [
           "Quake"
          ],
          [
           "Quake"
          ],
          [
           "Quake"
          ],
          [
           "Quake"
          ],
          [
           "Quake"
          ],
          [
           "Quake"
          ],
          [
           "Quake"
          ],
          [
           "Quake"
          ],
          [
           "Quake"
          ],
          [
           "Quake"
          ],
          [
           "Quake"
          ],
          [
           "Quake"
          ],
          [
           "Quake"
          ],
          [
           "Quake"
          ],
          [
           "Quake"
          ],
          [
           "Quake"
          ],
          [
           "Quake"
          ],
          [
           "Quake II"
          ],
          [
           "Quake II"
          ],
          [
           "Quake II"
          ],
          [
           "Quake II"
          ],
          [
           "Quake II"
          ],
          [
           "Quake II"
          ],
          [
           "Quake II"
          ],
          [
           "Quake II"
          ],
          [
           "Quake II"
          ],
          [
           "Quake II"
          ],
          [
           "Quake II"
          ],
          [
           "Quake II"
          ],
          [
           "Quake II"
          ],
          [
           "Quake II"
          ],
          [
           "Quake II"
          ],
          [
           "Quake II"
          ],
          [
           "Quake III Arena"
          ],
          [
           "Quake III Arena"
          ],
          [
           "Quake III Arena"
          ],
          [
           "Quake III Arena"
          ],
          [
           "Quake III Arena"
          ],
          [
           "Quake III Arena"
          ],
          [
           "Quake III Arena"
          ],
          [
           "Quake III Arena"
          ],
          [
           "Quake III: Team Arena"
          ],
          [
           "Quake Live"
          ],
          [
           "Quake Live"
          ],
          [
           "Quake Live"
          ],
          [
           "Quake Champions"
          ],
          [
           "Rage"
          ],
          [
           "Rage"
          ],
          [
           "Rage"
          ],
          [
           "Rage"
          ],
          [
           "Spear of Destiny"
          ],
          [
           "The Ultimate Doom"
          ],
          [
           "The Ultimate Doom"
          ],
          [
           "The Ultimate Doom"
          ],
          [
           "The Ultimate Doom"
          ],
          [
           "Wolfenstein 3D"
          ],
          [
           "Wolfenstein 3D"
          ],
          [
           "Wolfenstein 3D"
          ],
          [
           "Wolfenstein 3D"
          ],
          [
           "Wolfenstein 3D"
          ],
          [
           "Wolfenstein 3D"
          ],
          [
           "Wolfenstein 3D"
          ],
          [
           "Wolfenstein 3D"
          ],
          [
           "Wolfenstein 3D"
          ],
          [
           "Wolfenstein 3D"
          ],
          [
           "Wolfenstein 3D"
          ],
          [
           "Wolfenstein 3D"
          ],
          [
           "Wolfenstein 3D"
          ],
          [
           "Wolfenstein 3D"
          ],
          [
           "Wolfenstein 3D"
          ]
         ],
         "hovertemplate": "Developer_List=id Software<br>Release_Year=%{x}<br>Platform_List=%{y}<br>Title=%{customdata[0]}<extra></extra>",
         "legendgroup": "id Software",
         "marker": {
          "color": "#FF6692",
          "symbol": "circle"
         },
         "mode": "markers",
         "name": "id Software",
         "showlegend": true,
         "type": "scattergl",
         "x": {
          "bdata": "AADJB8oHygfKB8oHygfKB8oHygfKB8oHygfKB8oHygfKB8oH1AfUB9QH1AfcB9wH3AfcB9wH3AfcB9wH4AfgB+AH4AfkB+QH5AfkB+QH5AfpB+kH6QcAAMsHywfMB8wHzAfMB8wHzAfMB8wHzAfMB8wHzAfMB8wHzAfMB8wHzAfMB8wHzQfNB80HzQfNB80HzQfNB80HzQfNB80HzQfNB80HzQfPB88HzwfPB88HzwfPB88H0AfaB9oH2gfhB9sH2wfbB9sHyAfLB8sHywfLB8gHyAfIB8gHyAfIB8gHyAfIB8gHyAfIB8gHyAfIBw==",
          "dtype": "i2"
         },
         "xaxis": "x",
         "y": [
          "DOS",
          "Official versions of Doom",
          "AMI 1200",
          "DOS",
          "GBA",
          "LIN",
          "MAC",
          "PS1",
          "SAT",
          "Tapwave Zodiac",
          "WIN",
          "XBLA",
          "PSN",
          "PS4",
          "XONE",
          "NX",
          "Android",
          "iOS",
          "WIN",
          "LIN",
          "OSX",
          "Xbox",
          "WIN",
          "LIN",
          "PS3",
          "X360",
          "PS4",
          "XONE",
          "NX",
          "PSVR",
          "WIN",
          "PS4",
          "XONE",
          "NX",
          "WIN",
          "PS4",
          "XONE",
          "NX",
          "PS5",
          "XSX",
          "WIN",
          "PS5",
          "XSX",
          "DOS",
          "DOS",
          "PS1",
          "AMI",
          "BSD (IRIX)",
          "DOS",
          "Falcon 060",
          "LIN",
          "MAC",
          "N64",
          "OS2",
          "ROS (Risc PC)",
          "SAT",
          "UNIX (Solaris (operating system))",
          "WIN",
          "WMO",
          "Zeebo",
          "and source ports to additional platforms",
          "PS4",
          "XONE",
          "NX",
          "PS5",
          "XSX",
          "AMI",
          "AmigaOS 4",
          "BEOS",
          "BSD (IRIX)",
          "LIN",
          "MAC",
          "N64",
          "PS1",
          "WIN",
          "X360",
          "Zeebo",
          "PS4",
          "PS5",
          "XONE",
          "XSX",
          "NX",
          "WIN",
          "BSD (IRIX)",
          "DC",
          "iOS",
          "LIN",
          "MAC",
          "PS2",
          "XBLA",
          "WIN",
          "LIN",
          "OSX",
          "WIN",
          "WIN",
          "WIN",
          "PS3",
          "X360",
          "OSX",
          "DOS",
          "DOS",
          "MAC",
          "PS1",
          "SAT",
          "3DO",
          "AMI",
          "APPGS",
          "Arcade",
          "DOS",
          "GBA",
          "iPhone",
          "JAG",
          "MAC",
          "Nintendo 3DS",
          "PC98",
          "PSN",
          "SNES",
          "WMO",
          "XBLA"
         ],
         "yaxis": "y"
        },
        {
         "customdata": [
          [
           "Catacomb Abyss"
          ],
          [
           "Catacomb Armageddon"
          ],
          [
           "Catacomb Apocalypse"
          ]
         ],
         "hovertemplate": "Developer_List=Softdisk Publishing<br>Release_Year=%{x}<br>Platform_List=%{y}<br>Title=%{customdata[0]}<extra></extra>",
         "legendgroup": "Softdisk Publishing",
         "marker": {
          "color": "#B6E880",
          "symbol": "circle"
         },
         "mode": "markers",
         "name": "Softdisk Publishing",
         "showlegend": true,
         "type": "scattergl",
         "x": {
          "bdata": "AAAA",
          "dtype": "i1"
         },
         "xaxis": "x",
         "y": [
          "DOS",
          "DOS",
          "DOS"
         ],
         "yaxis": "y"
        },
        {
         "customdata": [
          [
           "Catechumen"
          ],
          [
           "Ominous Horizons: A Paladin's Calling"
          ]
         ],
         "hovertemplate": "Developer_List=N'Lightning Software Development<br>Release_Year=%{x}<br>Platform_List=%{y}<br>Title=%{customdata[0]}<extra></extra>",
         "legendgroup": "N'Lightning Software Development",
         "marker": {
          "color": "#FF97FF",
          "symbol": "circle"
         },
         "mode": "markers",
         "name": "N'Lightning Software Development",
         "showlegend": true,
         "type": "scattergl",
         "x": {
          "bdata": "0AfRBw==",
          "dtype": "i2"
         },
         "xaxis": "x",
         "y": [
          "WIN",
          "WIN"
         ],
         "yaxis": "y"
        },
        {
         "customdata": [
          [
           "Chernobylite"
          ],
          [
           "Chernobylite"
          ],
          [
           "Chernobylite"
          ],
          [
           "Chernobylite"
          ],
          [
           "Chernobylite"
          ],
          [
           "Deadfall Adventures"
          ],
          [
           "Deadfall Adventures"
          ],
          [
           "Deadfall Adventures"
          ],
          [
           "NecroVisioN"
          ],
          [
           "NecroVisioN: Lost Company"
          ],
          [
           "Painkiller: Hell & Damnation"
          ],
          [
           "Painkiller: Hell & Damnation"
          ],
          [
           "Painkiller: Hell & Damnation"
          ]
         ],
         "hovertemplate": "Developer_List=The Farm 51<br>Release_Year=%{x}<br>Platform_List=%{y}<br>Title=%{customdata[0]}<extra></extra>",
         "legendgroup": "The Farm 51",
         "marker": {
          "color": "#FECB52",
          "symbol": "circle"
         },
         "mode": "markers",
         "name": "The Farm 51",
         "showlegend": true,
         "type": "scattergl",
         "x": {
          "bdata": "5QflB+UH5QflB90H3QfdB9kH2gfcB9wH3Ac=",
          "dtype": "i2"
         },
         "xaxis": "x",
         "y": [
          "WIN",
          "PS5",
          "XONE",
          "PS4",
          "XSX",
          "WIN",
          "X360",
          "PS3 (PSN)",
          "WIN",
          "WIN",
          "WIN",
          "PS3",
          "X360"
         ],
         "yaxis": "y"
        },
        {
         "customdata": [
          [
           "Chex Quest"
          ],
          [
           "Chex Quest"
          ],
          [
           "Chex Quest 2: Flemoids Take Chextropolis"
          ],
          [
           "Chex Quest 2: Flemoids Take Chextropolis"
          ],
          [
           "Chex Quest 3"
          ],
          [
           "Chex Quest 3"
          ]
         ],
         "hovertemplate": "Developer_List=Digital Café<br>Release_Year=%{x}<br>Platform_List=%{y}<br>Title=%{customdata[0]}<extra></extra>",
         "legendgroup": "Digital Café",
         "marker": {
          "color": "#636efa",
          "symbol": "circle"
         },
         "mode": "markers",
         "name": "Digital Café",
         "showlegend": true,
         "type": "scattergl",
         "x": {
          "bdata": "zAfMB80HzQfYB9gH",
          "dtype": "i2"
         },
         "xaxis": "x",
         "y": [
          "DOS",
          "WIN",
          "DOS",
          "WIN",
          "DOS",
          "WIN"
         ],
         "yaxis": "y"
        },
        {
         "customdata": [
          [
           "The Chronicles of Riddick: Escape from Butcher Bay"
          ],
          [
           "The Chronicles of Riddick: Escape from Butcher Bay"
          ],
          [
           "The Chronicles of Riddick: Escape from Butcher Bay"
          ],
          [
           "The Chronicles of Riddick: Escape from Butcher Bay"
          ],
          [
           "The Chronicles of Riddick: Assault on Dark Athena"
          ],
          [
           "The Chronicles of Riddick: Assault on Dark Athena"
          ],
          [
           "The Chronicles of Riddick: Assault on Dark Athena"
          ],
          [
           "The Chronicles of Riddick: Assault on Dark Athena"
          ]
         ],
         "hovertemplate": "Developer_List=Starbreeze Studios Tigon Studios<br>Release_Year=%{x}<br>Platform_List=%{y}<br>Title=%{customdata[0]}<extra></extra>",
         "legendgroup": "Starbreeze Studios Tigon Studios",
         "marker": {
          "color": "#EF553B",
          "symbol": "circle"
         },
         "mode": "markers",
         "name": "Starbreeze Studios Tigon Studios",
         "showlegend": true,
         "type": "scattergl",
         "x": {
          "bdata": "1AfUB9QH1AfZB9kH2QfZBw==",
          "dtype": "i2"
         },
         "xaxis": "x",
         "y": [
          "Xbox",
          "WIN",
          "X360",
          "OSX",
          "WIN",
          "PS3",
          "X360",
          "OSX"
         ],
         "yaxis": "y"
        },
        {
         "customdata": [
          [
           "Clive Barker's Jericho"
          ],
          [
           "Clive Barker's Jericho"
          ],
          [
           "Clive Barker's Jericho"
          ]
         ],
         "hovertemplate": "Developer_List=MercurySteam<br>Release_Year=%{x}<br>Platform_List=%{y}<br>Title=%{customdata[0]}<extra></extra>",
         "legendgroup": "MercurySteam",
         "marker": {
          "color": "#00cc96",
          "symbol": "circle"
         },
         "mode": "markers",
         "name": "MercurySteam",
         "showlegend": true,
         "type": "scattergl",
         "x": {
          "bdata": "1wfXB9cH",
          "dtype": "i2"
         },
         "xaxis": "x",
         "y": [
          "WIN",
          "PS3",
          "X360"
         ],
         "yaxis": "y"
        },
        {
         "customdata": [
          [
           "Clive Barker's Jericho"
          ],
          [
           "Clive Barker's Jericho"
          ],
          [
           "Clive Barker's Jericho"
          ]
         ],
         "hovertemplate": "Developer_List=Alchemic Productions<br>Release_Year=%{x}<br>Platform_List=%{y}<br>Title=%{customdata[0]}<extra></extra>",
         "legendgroup": "Alchemic Productions",
         "marker": {
          "color": "#ab63fa",
          "symbol": "circle"
         },
         "mode": "markers",
         "name": "Alchemic Productions",
         "showlegend": true,
         "type": "scattergl",
         "x": {
          "bdata": "1wfXB9cH",
          "dtype": "i2"
         },
         "xaxis": "x",
         "y": [
          "WIN",
          "PS3",
          "X360"
         ],
         "yaxis": "y"
        },
        {
         "customdata": [
          [
           "Clive Barker's Undying"
          ],
          [
           "Clive Barker's Undying"
          ],
          [
           "GoldenEye: Rogue Agent"
          ],
          [
           "GoldenEye: Rogue Agent"
          ],
          [
           "GoldenEye: Rogue Agent"
          ],
          [
           "GoldenEye: Rogue Agent"
          ],
          [
           "Medal of Honor: Frontline"
          ],
          [
           "Medal of Honor: Frontline"
          ],
          [
           "Medal of Honor: Frontline"
          ],
          [
           "Medal of Honor: Frontline"
          ],
          [
           "Medal of Honor: Allied Assault: Spearhead"
          ],
          [
           "Medal of Honor: Allied Assault: Spearhead"
          ],
          [
           "Medal of Honor: Allied Assault: Spearhead"
          ],
          [
           "Medal of Honor: Rising Sun"
          ],
          [
           "Medal of Honor: Rising Sun"
          ],
          [
           "Medal of Honor: Rising Sun"
          ],
          [
           "Medal of Honor: Pacific Assault"
          ],
          [
           "Medal of Honor: European Assault"
          ],
          [
           "Medal of Honor: European Assault"
          ],
          [
           "Medal of Honor: European Assault"
          ],
          [
           "Medal of Honor: Vanguard"
          ],
          [
           "Medal of Honor: Vanguard"
          ],
          [
           "Medal of Honor: Airborne"
          ],
          [
           "Medal of Honor: Airborne"
          ],
          [
           "Medal of Honor: Airborne"
          ],
          [
           "Medal of Honor: Heroes 2"
          ],
          [
           "Medal of Honor: Heroes 2"
          ]
         ],
         "hovertemplate": "Developer_List=EA Los Angeles<br>Release_Year=%{x}<br>Platform_List=%{y}<br>Title=%{customdata[0]}<extra></extra>",
         "legendgroup": "EA Los Angeles",
         "marker": {
          "color": "#FFA15A",
          "symbol": "circle"
         },
         "mode": "markers",
         "name": "EA Los Angeles",
         "showlegend": true,
         "type": "scattergl",
         "x": {
          "bdata": "0QfRB9QH1AfUB9QH0gfSB9IH0gfSB9IH0gfTB9MH0wfUB9UH1QfVB9cH1wfXB9cH1wfXB9cH",
          "dtype": "i2"
         },
         "xaxis": "x",
         "y": [
          "WIN",
          "OSX",
          "PS2",
          "Xbox",
          "GCN",
          "DS",
          "PS2",
          "Xbox",
          "GCN",
          "PS3",
          "WIN",
          "OSX",
          "LIN",
          "PS2",
          "Xbox",
          "GCN",
          "WIN",
          "PS2",
          "Xbox",
          "GCN",
          "PS2",
          "Wii",
          "WIN",
          "X360",
          "PS3",
          "Wii",
          "PSP"
         ],
         "yaxis": "y"
        },
        {
         "customdata": [
          [
           "Close Combat: First to Fight"
          ],
          [
           "Close Combat: First to Fight"
          ],
          [
           "Close Combat: First to Fight"
          ],
          [
           "Close Combat: First to Fight"
          ]
         ],
         "hovertemplate": "Developer_List=Destineer<br>Release_Year=%{x}<br>Platform_List=%{y}<br>Title=%{customdata[0]}<extra></extra>",
         "legendgroup": "Destineer",
         "marker": {
          "color": "#19d3f3",
          "symbol": "circle"
         },
         "mode": "markers",
         "name": "Destineer",
         "showlegend": true,
         "type": "scattergl",
         "x": {
          "bdata": "1QfVB9UH1Qc=",
          "dtype": "i2"
         },
         "xaxis": "x",
         "y": [
          "WIN",
          "Xbox",
          "OSX",
          "Wii"
         ],
         "yaxis": "y"
        },
        {
         "customdata": [
          [
           "Codename Eagle"
          ]
         ],
         "hovertemplate": "Developer_List=Refraction Games<br>Release_Year=%{x}<br>Platform_List=%{y}<br>Title=%{customdata[0]}<extra></extra>",
         "legendgroup": "Refraction Games",
         "marker": {
          "color": "#FF6692",
          "symbol": "circle"
         },
         "mode": "markers",
         "name": "Refraction Games",
         "showlegend": true,
         "type": "scattergl",
         "x": {
          "bdata": "zwc=",
          "dtype": "i2"
         },
         "xaxis": "x",
         "y": [
          "WIN9X"
         ],
         "yaxis": "y"
        },
        {
         "customdata": [
          [
           "Codename MAT II"
          ],
          [
           "Codename MAT II"
          ],
          [
           "Codename MAT II"
          ]
         ],
         "hovertemplate": "Developer_List=Derek Brewster<br>Release_Year=%{x}<br>Platform_List=%{y}<br>Title=%{customdata[0]}<extra></extra>",
         "legendgroup": "Derek Brewster",
         "marker": {
          "color": "#B6E880",
          "symbol": "circle"
         },
         "mode": "markers",
         "name": "Derek Brewster",
         "showlegend": true,
         "type": "scattergl",
         "x": {
          "bdata": "wAfAB8AH",
          "dtype": "i2"
         },
         "xaxis": "x",
         "y": [
          "AMSCPC",
          "C64",
          "ZX"
         ],
         "yaxis": "y"
        },
        {
         "customdata": [
          [
           "Codename: Outbreak"
          ],
          [
           "S.T.A.L.K.E.R.: Shadow of Chernobyl"
          ],
          [
           "S.T.A.L.K.E.R.: Shadow of Chernobyl"
          ],
          [
           "S.T.A.L.K.E.R.: Shadow of Chernobyl"
          ],
          [
           "S.T.A.L.K.E.R.: Shadow of Chernobyl"
          ],
          [
           "S.T.A.L.K.E.R.: Clear Sky"
          ],
          [
           "S.T.A.L.K.E.R.: Clear Sky"
          ],
          [
           "S.T.A.L.K.E.R.: Clear Sky"
          ],
          [
           "S.T.A.L.K.E.R.: Clear Sky"
          ],
          [
           "S.T.A.L.K.E.R.: Call of Pripyat"
          ],
          [
           "S.T.A.L.K.E.R.: Call of Pripyat"
          ],
          [
           "S.T.A.L.K.E.R.: Call of Pripyat"
          ],
          [
           "S.T.A.L.K.E.R.: Call of Pripyat"
          ],
          [
           "S.T.A.L.K.E.R. 2: Heart of Chornobyl"
          ],
          [
           "S.T.A.L.K.E.R. 2: Heart of Chornobyl"
          ]
         ],
         "hovertemplate": "Developer_List=GSC Game World<br>Release_Year=%{x}<br>Platform_List=%{y}<br>Title=%{customdata[0]}<extra></extra>",
         "legendgroup": "GSC Game World",
         "marker": {
          "color": "#FF97FF",
          "symbol": "circle"
         },
         "mode": "markers",
         "name": "GSC Game World",
         "showlegend": true,
         "type": "scattergl",
         "x": {
          "bdata": "0QfXB9cH1wfXB9gH2AfYB9gH2QfZB9kH2QfoB+gH",
          "dtype": "i2"
         },
         "xaxis": "x",
         "y": [
          "WIN",
          "WIN",
          "PS4",
          "XONE",
          "NX",
          "WIN",
          "PS4",
          "XONE",
          "NX",
          "WIN",
          "PS4",
          "XONE",
          "NX",
          "WIN",
          "XSX"
         ],
         "yaxis": "y"
        },
        {
         "customdata": [
          [
           "Code of Honor: The French Foreign Legion"
          ],
          [
           "SAS: Secure Tomorrow"
          ],
          [
           "Sniper: Art of Victory"
          ],
          [
           "Sniper: Ghost Warrior"
          ],
          [
           "Sniper: Ghost Warrior"
          ],
          [
           "Sniper: Ghost Warrior"
          ],
          [
           "Sniper: Ghost Warrior 2"
          ],
          [
           "Sniper: Ghost Warrior 2"
          ],
          [
           "Sniper: Ghost Warrior 2"
          ]
         ],
         "hovertemplate": "Developer_List=City Interactive<br>Release_Year=%{x}<br>Platform_List=%{y}<br>Title=%{customdata[0]}<extra></extra>",
         "legendgroup": "City Interactive",
         "marker": {
          "color": "#FECB52",
          "symbol": "circle"
         },
         "mode": "markers",
         "name": "City Interactive",
         "showlegend": true,
         "type": "scattergl",
         "x": {
          "bdata": "1wfYB9gH2gfaB9oH3QfdB90H",
          "dtype": "i2"
         },
         "xaxis": "x",
         "y": [
          "WIN",
          "WIN",
          "WIN",
          "WIN",
          "PS3",
          "X360",
          "WIN",
          "PS3",
          "X360"
         ],
         "yaxis": "y"
        },
        {
         "customdata": [
          [
           "Cold Winter"
          ]
         ],
         "hovertemplate": "Developer_List=Swordfish Studios<br>Release_Year=%{x}<br>Platform_List=%{y}<br>Title=%{customdata[0]}<extra></extra>",
         "legendgroup": "Swordfish Studios",
         "marker": {
          "color": "#636efa",
          "symbol": "circle"
         },
         "mode": "markers",
         "name": "Swordfish Studios",
         "showlegend": true,
         "type": "scattergl",
         "x": {
          "bdata": "1Qc=",
          "dtype": "i2"
         },
         "xaxis": "x",
         "y": [
          "PS2"
         ],
         "yaxis": "y"
        },
        {
         "customdata": [
          [
           "The Colony"
          ]
         ],
         "hovertemplate": "Developer_List=David Alan Smith<br>Release_Year=%{x}<br>Platform_List=%{y}<br>Title=%{customdata[0]}<extra></extra>",
         "legendgroup": "David Alan Smith",
         "marker": {
          "color": "#EF553B",
          "symbol": "circle"
         },
         "mode": "markers",
         "name": "David Alan Smith",
         "showlegend": true,
         "type": "scattergl",
         "x": {
          "bdata": "xAc=",
          "dtype": "i2"
         },
         "xaxis": "x",
         "y": [
          "MAC"
         ],
         "yaxis": "y"
        },
        {
         "customdata": [
          [
           "Combat Arms: Reloaded"
          ]
         ],
         "hovertemplate": "Developer_List=Nexon<br>Release_Year=%{x}<br>Platform_List=%{y}<br>Title=%{customdata[0]}<extra></extra>",
         "legendgroup": "Nexon",
         "marker": {
          "color": "#00cc96",
          "symbol": "circle"
         },
         "mode": "markers",
         "name": "Nexon",
         "showlegend": true,
         "type": "scattergl",
         "x": {
          "bdata": "2Ac=",
          "dtype": "i2"
         },
         "xaxis": "x",
         "y": [
          "WIN"
         ],
         "yaxis": "y"
        },
        {
         "customdata": [
          [
           "Combat: Task Force 121"
          ],
          [
           "Combat: Task Force 121"
          ],
          [
           "World War II Combat: Road to Berlin"
          ],
          [
           "World War II Combat: Road to Berlin"
          ],
          [
           "World War II Combat: Iwo Jima"
          ],
          [
           "World War II Combat: Iwo Jima"
          ]
         ],
         "hovertemplate": "Developer_List=Direct Action Games<br>Release_Year=%{x}<br>Platform_List=%{y}<br>Title=%{customdata[0]}<extra></extra>",
         "legendgroup": "Direct Action Games",
         "marker": {
          "color": "#ab63fa",
          "symbol": "circle"
         },
         "mode": "markers",
         "name": "Direct Action Games",
         "showlegend": true,
         "type": "scattergl",
         "x": {
          "bdata": "1QfVBwAAAAAAAAAA",
          "dtype": "i2"
         },
         "xaxis": "x",
         "y": [
          "WIN",
          "Xbox",
          "WIN",
          "Xbox",
          "WIN",
          "Xbox"
         ],
         "yaxis": "y"
        },
        {
         "customdata": [
          [
           "Command & Conquer: Renegade"
          ]
         ],
         "hovertemplate": "Developer_List=Westwood Studios<br>Release_Year=%{x}<br>Platform_List=%{y}<br>Title=%{customdata[0]}<extra></extra>",
         "legendgroup": "Westwood Studios",
         "marker": {
          "color": "#FFA15A",
          "symbol": "circle"
         },
         "mode": "markers",
         "name": "Westwood Studios",
         "showlegend": true,
         "type": "scattergl",
         "x": {
          "bdata": "0gc=",
          "dtype": "i2"
         },
         "xaxis": "x",
         "y": [
          "WIN"
         ],
         "yaxis": "y"
        },
        {
         "customdata": [
          [
           "Commandos: Strike Force"
          ],
          [
           "Commandos: Strike Force"
          ],
          [
           "Commandos: Strike Force"
          ]
         ],
         "hovertemplate": "Developer_List=Pyro Studios<br>Release_Year=%{x}<br>Platform_List=%{y}<br>Title=%{customdata[0]}<extra></extra>",
         "legendgroup": "Pyro Studios",
         "marker": {
          "color": "#19d3f3",
          "symbol": "circle"
         },
         "mode": "markers",
         "name": "Pyro Studios",
         "showlegend": true,
         "type": "scattergl",
         "x": {
          "bdata": "1gfWB9YH",
          "dtype": "i2"
         },
         "xaxis": "x",
         "y": [
          "WIN",
          "PS2",
          "Xbox"
         ],
         "yaxis": "y"
        },
        {
         "customdata": [
          [
           "The Conduit"
          ],
          [
           "The Conduit"
          ],
          [
           "Conduit 2"
          ]
         ],
         "hovertemplate": "Developer_List=High Voltage Software<br>Release_Year=%{x}<br>Platform_List=%{y}<br>Title=%{customdata[0]}<extra></extra>",
         "legendgroup": "High Voltage Software",
         "marker": {
          "color": "#FF6692",
          "symbol": "circle"
         },
         "mode": "markers",
         "name": "High Voltage Software",
         "showlegend": true,
         "type": "scattergl",
         "x": {
          "bdata": "2QfZB9sH",
          "dtype": "i2"
         },
         "xaxis": "x",
         "y": [
          "Wii",
          "Android",
          "Wii"
         ],
         "yaxis": "y"
        },
        {
         "customdata": [
          [
           "Conflict: Denied Ops"
          ],
          [
           "Conflict: Denied Ops"
          ],
          [
           "Conflict: Denied Ops"
          ]
         ],
         "hovertemplate": "Developer_List=Pivotal Games<br>Release_Year=%{x}<br>Platform_List=%{y}<br>Title=%{customdata[0]}<extra></extra>",
         "legendgroup": "Pivotal Games",
         "marker": {
          "color": "#B6E880",
          "symbol": "circle"
         },
         "mode": "markers",
         "name": "Pivotal Games",
         "showlegend": true,
         "type": "scattergl",
         "x": {
          "bdata": "2AfYB9gH",
          "dtype": "i2"
         },
         "xaxis": "x",
         "y": [
          "WIN",
          "PS3",
          "X360"
         ],
         "yaxis": "y"
        },
        {
         "customdata": [
          [
           "Congo The Movie: The Lost City of Zinj"
          ]
         ],
         "hovertemplate": "Developer_List=Jumpin Jack<br>Release_Year=%{x}<br>Platform_List=%{y}<br>Title=%{customdata[0]}<extra></extra>",
         "legendgroup": "Jumpin Jack",
         "marker": {
          "color": "#FF97FF",
          "symbol": "circle"
         },
         "mode": "markers",
         "name": "Jumpin Jack",
         "showlegend": true,
         "type": "scattergl",
         "x": {
          "bdata": "zAc=",
          "dtype": "i2"
         },
         "xaxis": "x",
         "y": [
          "SAT"
         ],
         "yaxis": "y"
        },
        {
         "customdata": [
          [
           "Consortium"
          ]
         ],
         "hovertemplate": "Developer_List=interdimensional games<br>Release_Year=%{x}<br>Platform_List=%{y}<br>Title=%{customdata[0]}<extra></extra>",
         "legendgroup": "interdimensional games",
         "marker": {
          "color": "#FECB52",
          "symbol": "circle"
         },
         "mode": "markers",
         "name": "interdimensional games",
         "showlegend": true,
         "type": "scattergl",
         "x": {
          "bdata": "3gc=",
          "dtype": "i2"
         },
         "xaxis": "x",
         "y": [
          "WIN"
         ],
         "yaxis": "y"
        },
        {
         "customdata": [
          [
           "Consortium: The Tower"
          ],
          [
           "Consortium: The Tower"
          ],
          [
           "Consortium: The Tower"
          ],
          [
           "Consortium: The Tower"
          ],
          [
           "Consortium: The Tower"
          ]
         ],
         "hovertemplate": "Developer_List=Interdimensional Games<br>Release_Year=%{x}<br>Platform_List=%{y}<br>Title=%{customdata[0]}<extra></extra>",
         "legendgroup": "Interdimensional Games",
         "marker": {
          "color": "#636efa",
          "symbol": "circle"
         },
         "mode": "markers",
         "name": "Interdimensional Games",
         "showlegend": true,
         "type": "scattergl",
         "x": {
          "bdata": "4QfhB+EH4QfhBw==",
          "dtype": "i2"
         },
         "xaxis": "x",
         "y": [
          "WIN",
          "LIN",
          "OSX",
          "XONE",
          "PS4"
         ],
         "yaxis": "y"
        },
        {
         "customdata": [
          [
           "Corporation"
          ],
          [
           "Corporation"
          ],
          [
           "Corporation"
          ],
          [
           "Corporation"
          ]
         ],
         "hovertemplate": "Developer_List=Core Design Ltd. Dementia<br>Release_Year=%{x}<br>Platform_List=%{y}<br>Title=%{customdata[0]}<extra></extra>",
         "legendgroup": "Core Design Ltd. Dementia",
         "marker": {
          "color": "#EF553B",
          "symbol": "circle"
         },
         "mode": "markers",
         "name": "Core Design Ltd. Dementia",
         "showlegend": true,
         "type": "scattergl",
         "x": {
          "bdata": "xgfGB8YHxgc=",
          "dtype": "i2"
         },
         "xaxis": "x",
         "y": [
          "AMI",
          "DOS",
          "GEN",
          "ST"
         ],
         "yaxis": "y"
        },
        {
         "customdata": [
          [
           "Corridor 7: Alien Invasion"
          ],
          [
           "Operation Body Count"
          ],
          [
           "William Shatner's TekWar"
          ],
          [
           "Witchaven"
          ],
          [
           "Witchaven II: Blood Vengeance"
          ]
         ],
         "hovertemplate": "Developer_List=Capstone Software<br>Release_Year=%{x}<br>Platform_List=%{y}<br>Title=%{customdata[0]}<extra></extra>",
         "legendgroup": "Capstone Software",
         "marker": {
          "color": "#00cc96",
          "symbol": "circle"
         },
         "mode": "markers",
         "name": "Capstone Software",
         "showlegend": true,
         "type": "scattergl",
         "x": {
          "bdata": "AAAAAMsHywfMBw==",
          "dtype": "i2"
         },
         "xaxis": "x",
         "y": [
          "DOS",
          "DOS",
          "DOS",
          "DOS",
          "DOS"
         ],
         "yaxis": "y"
        },
        {
         "customdata": [
          [
           "Cosmic Conflict"
          ]
         ],
         "hovertemplate": "Developer_List=Magnavox<br>Release_Year=%{x}<br>Platform_List=%{y}<br>Title=%{customdata[0]}<extra></extra>",
         "legendgroup": "Magnavox",
         "marker": {
          "color": "#ab63fa",
          "symbol": "circle"
         },
         "mode": "markers",
         "name": "Magnavox",
         "showlegend": true,
         "type": "scattergl",
         "x": {
          "bdata": "ugc=",
          "dtype": "i2"
         },
         "xaxis": "x",
         "y": [
          "ODY2"
         ],
         "yaxis": "y"
        },
        {
         "customdata": [
          [
           "Counter-Strike"
          ],
          [
           "Counter-Strike"
          ],
          [
           "Counter-Strike"
          ],
          [
           "Counter-Strike"
          ],
          [
           "Counter-Strike: Condition Zero"
          ],
          [
           "Counter-Strike: Condition Zero"
          ],
          [
           "Counter-Strike: Condition Zero"
          ],
          [
           "Counter-Strike: Source"
          ],
          [
           "Counter-Strike: Source"
          ],
          [
           "Counter-Strike: Source"
          ],
          [
           "Counter-Strike: Global Offensive"
          ],
          [
           "Counter-Strike: Global Offensive"
          ],
          [
           "Counter-Strike: Global Offensive"
          ],
          [
           "Counter-Strike: Global Offensive"
          ],
          [
           "Counter-Strike: Global Offensive"
          ],
          [
           "Counter-Strike 2"
          ],
          [
           "Counter-Strike 2"
          ],
          [
           "Day of Defeat"
          ],
          [
           "Day of Defeat"
          ],
          [
           "Day of Defeat"
          ],
          [
           "Day of Defeat: Source"
          ],
          [
           "Day of Defeat: Source"
          ],
          [
           "Day of Defeat: Source"
          ],
          [
           "Half-Life"
          ],
          [
           "Half-Life"
          ],
          [
           "Half-Life"
          ],
          [
           "Half-Life"
          ],
          [
           "Half-Life 2"
          ],
          [
           "Half-Life 2"
          ],
          [
           "Half-Life 2"
          ],
          [
           "Half-Life 2"
          ],
          [
           "Half-Life 2"
          ],
          [
           "Half-Life 2"
          ],
          [
           "Half-Life 2"
          ],
          [
           "Half-Life 2: Episode One"
          ],
          [
           "Half-Life 2: Episode One"
          ],
          [
           "Half-Life 2: Episode One"
          ],
          [
           "Half-Life 2: Episode One"
          ],
          [
           "Half-Life 2: Episode One"
          ],
          [
           "Half-Life 2: Episode One"
          ],
          [
           "Half-Life 2: Episode Two"
          ],
          [
           "Half-Life 2: Episode Two"
          ],
          [
           "Half-Life 2: Episode Two"
          ],
          [
           "Half-Life 2: Episode Two"
          ],
          [
           "Half-Life 2: Episode Two"
          ],
          [
           "Half-Life: Alyx"
          ],
          [
           "Half-Life: Alyx"
          ],
          [
           "Left 4 Dead"
          ],
          [
           "Left 4 Dead"
          ],
          [
           "Left 4 Dead"
          ],
          [
           "Left 4 Dead 2"
          ],
          [
           "Left 4 Dead 2"
          ],
          [
           "Left 4 Dead 2"
          ],
          [
           "Left 4 Dead 2"
          ],
          [
           "Portal"
          ],
          [
           "Portal"
          ],
          [
           "Portal"
          ],
          [
           "Portal"
          ],
          [
           "Portal"
          ],
          [
           "Portal"
          ],
          [
           "Portal"
          ],
          [
           "Portal 2"
          ],
          [
           "Portal 2"
          ],
          [
           "Portal 2"
          ],
          [
           "Portal 2"
          ],
          [
           "Portal 2"
          ],
          [
           "Portal 2"
          ],
          [
           "Team Fortress Classic"
          ],
          [
           "Team Fortress Classic"
          ],
          [
           "Team Fortress Classic"
          ],
          [
           "Team Fortress 2"
          ],
          [
           "Team Fortress 2"
          ],
          [
           "Team Fortress 2"
          ],
          [
           "Team Fortress 2"
          ],
          [
           "Team Fortress 2"
          ]
         ],
         "hovertemplate": "Developer_List=Valve<br>Release_Year=%{x}<br>Platform_List=%{y}<br>Title=%{customdata[0]}<extra></extra>",
         "legendgroup": "Valve",
         "marker": {
          "color": "#FFA15A",
          "symbol": "circle"
         },
         "mode": "markers",
         "name": "Valve",
         "showlegend": true,
         "type": "scattergl",
         "x": {
          "bdata": "0AfQB9AH0AfUB9QH1AfUB9QH1AfcB9wH3AfcB9wH5wfnB9MH0wfTB9UH1QfVB84HzgfOB84H1AfUB9QH1AfUB9QH1AfWB9YH1gfWB9YH1gfXB9cH1wfXB9cH5AfkB9gH2AfYB9kH2QfZB9kH1wfXB9cH1wfXB9cH1wfbB9sH2wfbB9sH2wfPB88HzwfXB9cH1wfXB9cH",
          "dtype": "i2"
         },
         "xaxis": "x",
         "y": [
          "WIN",
          "Xbox",
          "OSX",
          "LIN",
          "WIN",
          "OSX",
          "LIN",
          "WIN",
          "OSX",
          "LIN",
          "WIN",
          "OSX",
          "PS3",
          "X360",
          "LIN",
          "WIN",
          "LIN",
          "WIN",
          "OSX",
          "LIN",
          "WIN",
          "OSX",
          "LIN",
          "WIN",
          "PS2",
          "OSX",
          "LIN",
          "WIN",
          "Xbox",
          "X360",
          "PS3",
          "OSX",
          "LIN",
          "Android",
          "WIN",
          "X360",
          "PS3",
          "OSX",
          "LIN",
          "Android",
          "WIN",
          "X360",
          "PS3",
          "OSX",
          "LIN",
          "WIN",
          "LIN",
          "WIN",
          "X360",
          "OSX",
          "WIN",
          "X360",
          "OSX",
          "LIN",
          "WIN",
          "X360",
          "PS3",
          "OSX",
          "LIN",
          "Android",
          "NX",
          "WIN",
          "OSX",
          "PS3",
          "X360",
          "LIN",
          "NX",
          "WIN",
          "OSX",
          "LIN",
          "WIN",
          "X360",
          "PS3",
          "OSX",
          "LIN"
         ],
         "yaxis": "y"
        },
        {
         "customdata": [
          [
           "Counter-Strike: Condition Zero"
          ],
          [
           "Counter-Strike: Condition Zero"
          ],
          [
           "Counter-Strike: Condition Zero"
          ],
          [
           "SiN"
          ],
          [
           "SiN"
          ],
          [
           "SiN"
          ],
          [
           "SiN Episodes"
          ],
          [
           "Star Trek: Elite Force II"
          ],
          [
           "Star Trek: Elite Force II"
          ]
         ],
         "hovertemplate": "Developer_List=Ritual Entertainment<br>Release_Year=%{x}<br>Platform_List=%{y}<br>Title=%{customdata[0]}<extra></extra>",
         "legendgroup": "Ritual Entertainment",
         "marker": {
          "color": "#19d3f3",
          "symbol": "circle"
         },
         "mode": "markers",
         "name": "Ritual Entertainment",
         "showlegend": true,
         "type": "scattergl",
         "x": {
          "bdata": "1AfUB9QHzgfOB84H1gfTB9MH",
          "dtype": "i2"
         },
         "xaxis": "x",
         "y": [
          "WIN",
          "OSX",
          "LIN",
          "WIN",
          "LIN",
          "MAC",
          "WIN",
          "WIN",
          "OSX"
         ],
         "yaxis": "y"
        },
        {
         "customdata": [
          [
           "Crime Boss: Rockay City"
          ],
          [
           "Crime Boss: Rockay City"
          ],
          [
           "Crime Boss: Rockay City"
          ]
         ],
         "hovertemplate": "Developer_List=Ingame Studios<br>Release_Year=%{x}<br>Platform_List=%{y}<br>Title=%{customdata[0]}<extra></extra>",
         "legendgroup": "Ingame Studios",
         "marker": {
          "color": "#FF6692",
          "symbol": "circle"
         },
         "mode": "markers",
         "name": "Ingame Studios",
         "showlegend": true,
         "type": "scattergl",
         "x": {
          "bdata": "5wfnB+cH",
          "dtype": "i2"
         },
         "xaxis": "x",
         "y": [
          "WIN",
          "PS5",
          "XSX"
         ],
         "yaxis": "y"
        },
        {
         "customdata": [
          [
           "Crime Crackers"
          ]
         ],
         "hovertemplate": "Developer_List=Media.Vision<br>Release_Year=%{x}<br>Platform_List=%{y}<br>Title=%{customdata[0]}<extra></extra>",
         "legendgroup": "Media.Vision",
         "marker": {
          "color": "#B6E880",
          "symbol": "circle"
         },
         "mode": "markers",
         "name": "Media.Vision",
         "showlegend": true,
         "type": "scattergl",
         "x": {
          "bdata": "ygc=",
          "dtype": "i2"
         },
         "xaxis": "x",
         "y": [
          "PS1"
         ],
         "yaxis": "y"
        },
        {
         "customdata": [
          [
           "Crossfire"
          ],
          [
           "CrossfireX"
          ],
          [
           "CrossfireX"
          ]
         ],
         "hovertemplate": "Developer_List=Smilegate Entertainment<br>Release_Year=%{x}<br>Platform_List=%{y}<br>Title=%{customdata[0]}<extra></extra>",
         "legendgroup": "Smilegate Entertainment",
         "marker": {
          "color": "#FF97FF",
          "symbol": "circle"
         },
         "mode": "markers",
         "name": "Smilegate Entertainment",
         "showlegend": true,
         "type": "scattergl",
         "x": {
          "bdata": "1wfmB+YH",
          "dtype": "i2"
         },
         "xaxis": "x",
         "y": [
          "WIN",
          "XONE",
          "XSX"
         ],
         "yaxis": "y"
        },
        {
         "customdata": [
          [
           "CrossfireX"
          ],
          [
           "CrossfireX"
          ]
         ],
         "hovertemplate": "Developer_List=Remedy Entertainment<br>Release_Year=%{x}<br>Platform_List=%{y}<br>Title=%{customdata[0]}<extra></extra>",
         "legendgroup": "Remedy Entertainment",
         "marker": {
          "color": "#FECB52",
          "symbol": "circle"
         },
         "mode": "markers",
         "name": "Remedy Entertainment",
         "showlegend": true,
         "type": "scattergl",
         "x": {
          "bdata": "5gfmBw==",
          "dtype": "i2"
         },
         "xaxis": "x",
         "y": [
          "XONE",
          "XSX"
         ],
         "yaxis": "y"
        },
        {
         "customdata": [
          [
           "Cruelty Squad"
          ]
         ],
         "hovertemplate": "Developer_List=Consumer Softproducts<br>Release_Year=%{x}<br>Platform_List=%{y}<br>Title=%{customdata[0]}<extra></extra>",
         "legendgroup": "Consumer Softproducts",
         "marker": {
          "color": "#636efa",
          "symbol": "circle"
         },
         "mode": "markers",
         "name": "Consumer Softproducts",
         "showlegend": true,
         "type": "scattergl",
         "x": {
          "bdata": "5Qc=",
          "dtype": "i2"
         },
         "xaxis": "x",
         "y": [
          "WIN"
         ],
         "yaxis": "y"
        },
        {
         "customdata": [
          [
           "Crysis"
          ],
          [
           "Crysis"
          ],
          [
           "Crysis"
          ],
          [
           "Crysis"
          ],
          [
           "Crysis"
          ],
          [
           "Crysis"
          ],
          [
           "Crysis 2"
          ],
          [
           "Crysis 2"
          ],
          [
           "Crysis 2"
          ],
          [
           "Crysis 2"
          ],
          [
           "Crysis 2"
          ],
          [
           "Crysis 2"
          ],
          [
           "Crysis 3"
          ],
          [
           "Crysis 3"
          ],
          [
           "Crysis 3"
          ],
          [
           "Crysis 3"
          ],
          [
           "Crysis 3"
          ],
          [
           "Crysis 3"
          ],
          [
           "Far Cry"
          ],
          [
           "Far Cry"
          ],
          [
           "Far Cry"
          ],
          [
           "Hunt: Showdown"
          ],
          [
           "Hunt: Showdown"
          ],
          [
           "Hunt: Showdown"
          ],
          [
           "Hunt: Showdown"
          ],
          [
           "Hunt: Showdown"
          ]
         ],
         "hovertemplate": "Developer_List=Crytek<br>Release_Year=%{x}<br>Platform_List=%{y}<br>Title=%{customdata[0]}<extra></extra>",
         "legendgroup": "Crytek",
         "marker": {
          "color": "#EF553B",
          "symbol": "circle"
         },
         "mode": "markers",
         "name": "Crytek",
         "showlegend": true,
         "type": "scattergl",
         "x": {
          "bdata": "1wfXB9cH1wfXB9cH2wfbB9sH2wfbB9sH3QfdB90H3QfdB90H1AfUB9QH4gfiB+IH4gfiBw==",
          "dtype": "i2"
         },
         "xaxis": "x",
         "y": [
          "WIN",
          "PS3 (PSN)",
          "X360 (XBLA)",
          "NX",
          "PS4",
          "XONE",
          "WIN",
          "PS3",
          "X360",
          "PS4",
          "XONE",
          "NX",
          "WIN",
          "PS3",
          "X360",
          "PS4",
          "XONE",
          "NX",
          "WIN",
          "PS3 (PSN)",
          "X360 (XBLA)",
          "WIN",
          "XONE",
          "PS4",
          "PS5",
          "XSX"
         ],
         "yaxis": "y"
        },
        {
         "customdata": [
          [
           "Crysis Warhead"
          ]
         ],
         "hovertemplate": "Developer_List=Crytek Budapest<br>Release_Year=%{x}<br>Platform_List=%{y}<br>Title=%{customdata[0]}<extra></extra>",
         "legendgroup": "Crytek Budapest",
         "marker": {
          "color": "#00cc96",
          "symbol": "circle"
         },
         "mode": "markers",
         "name": "Crytek Budapest",
         "showlegend": true,
         "type": "scattergl",
         "x": {
          "bdata": "2Ac=",
          "dtype": "i2"
         },
         "xaxis": "x",
         "y": [
          "WIN"
         ],
         "yaxis": "y"
        },
        {
         "customdata": [
          [
           "Cube 2: Sauerbraten"
          ],
          [
           "Cube 2: Sauerbraten"
          ],
          [
           "Cube 2: Sauerbraten"
          ],
          [
           "Cube 2: Sauerbraten"
          ],
          [
           "Cube 2: Sauerbraten"
          ],
          [
           "Cube 2: Sauerbraten"
          ]
         ],
         "hovertemplate": "Developer_List=Wouter van Oortmerssen<br>Release_Year=%{x}<br>Platform_List=%{y}<br>Title=%{customdata[0]}<extra></extra>",
         "legendgroup": "Wouter van Oortmerssen",
         "marker": {
          "color": "#ab63fa",
          "symbol": "circle"
         },
         "mode": "markers",
         "name": "Wouter van Oortmerssen",
         "showlegend": true,
         "type": "scattergl",
         "x": {
          "bdata": "1AfUB9QH1AfUB9QH",
          "dtype": "i2"
         },
         "xaxis": "x",
         "y": [
          "WIN",
          "LIN",
          "FreeBSD",
          "OpenBSD",
          "OSX",
          "Unix"
         ],
         "yaxis": "y"
        },
        {
         "customdata": [
          [
           "Cube 2: Sauerbraten"
          ],
          [
           "Cube 2: Sauerbraten"
          ],
          [
           "Cube 2: Sauerbraten"
          ],
          [
           "Cube 2: Sauerbraten"
          ],
          [
           "Cube 2: Sauerbraten"
          ],
          [
           "Cube 2: Sauerbraten"
          ]
         ],
         "hovertemplate": "Developer_List=Lee Salzman<br>Release_Year=%{x}<br>Platform_List=%{y}<br>Title=%{customdata[0]}<extra></extra>",
         "legendgroup": "Lee Salzman",
         "marker": {
          "color": "#FFA15A",
          "symbol": "circle"
         },
         "mode": "markers",
         "name": "Lee Salzman",
         "showlegend": true,
         "type": "scattergl",
         "x": {
          "bdata": "1AfUB9QH1AfUB9QH",
          "dtype": "i2"
         },
         "xaxis": "x",
         "y": [
          "WIN",
          "LIN",
          "FreeBSD",
          "OpenBSD",
          "OSX",
          "Unix"
         ],
         "yaxis": "y"
        },
        {
         "customdata": [
          [
           "Cube 2: Sauerbraten"
          ],
          [
           "Cube 2: Sauerbraten"
          ],
          [
           "Cube 2: Sauerbraten"
          ],
          [
           "Cube 2: Sauerbraten"
          ],
          [
           "Cube 2: Sauerbraten"
          ],
          [
           "Cube 2: Sauerbraten"
          ]
         ],
         "hovertemplate": "Developer_List=Mike Dysart<br>Release_Year=%{x}<br>Platform_List=%{y}<br>Title=%{customdata[0]}<extra></extra>",
         "legendgroup": "Mike Dysart",
         "marker": {
          "color": "#19d3f3",
          "symbol": "circle"
         },
         "mode": "markers",
         "name": "Mike Dysart",
         "showlegend": true,
         "type": "scattergl",
         "x": {
          "bdata": "1AfUB9QH1AfUB9QH",
          "dtype": "i2"
         },
         "xaxis": "x",
         "y": [
          "WIN",
          "LIN",
          "FreeBSD",
          "OpenBSD",
          "OSX",
          "Unix"
         ],
         "yaxis": "y"
        },
        {
         "customdata": [
          [
           "Cybercon III"
          ],
          [
           "Cybercon III"
          ],
          [
           "Cybercon III"
          ],
          [
           "Interphase"
          ],
          [
           "Interphase"
          ],
          [
           "Interphase"
          ]
         ],
         "hovertemplate": "Developer_List=The Assembly Line<br>Release_Year=%{x}<br>Platform_List=%{y}<br>Title=%{customdata[0]}<extra></extra>",
         "legendgroup": "The Assembly Line",
         "marker": {
          "color": "#FF6692",
          "symbol": "circle"
         },
         "mode": "markers",
         "name": "The Assembly Line",
         "showlegend": true,
         "type": "scattergl",
         "x": {
          "bdata": "xwfHB8cHxQfFB8UH",
          "dtype": "i2"
         },
         "xaxis": "x",
         "y": [
          "AMI",
          "DOS",
          "ST",
          "AMI",
          "DOS",
          "ST"
         ],
         "yaxis": "y"
        },
        {
         "customdata": [
          [
           "Cyberdillo"
          ],
          [
           "Cyberdillo"
          ]
         ],
         "hovertemplate": "Developer_List=Pixel Technologies<br>Release_Year=%{x}<br>Platform_List=%{y}<br>Title=%{customdata[0]}<extra></extra>",
         "legendgroup": "Pixel Technologies",
         "marker": {
          "color": "#B6E880",
          "symbol": "circle"
         },
         "mode": "markers",
         "name": "Pixel Technologies",
         "showlegend": true,
         "type": "scattergl",
         "x": {
          "bdata": "zAfMBw==",
          "dtype": "i2"
         },
         "xaxis": "x",
         "y": [
          "3DO",
          "DOS"
         ],
         "yaxis": "y"
        },
        {
         "customdata": [
          [
           "CyberMage: Darklight Awakening"
          ]
         ],
         "hovertemplate": "Developer_List=Origin Systems<br>Release_Year=%{x}<br>Platform_List=%{y}<br>Title=%{customdata[0]}<extra></extra>",
         "legendgroup": "Origin Systems",
         "marker": {
          "color": "#FF97FF",
          "symbol": "circle"
         },
         "mode": "markers",
         "name": "Origin Systems",
         "showlegend": true,
         "type": "scattergl",
         "x": {
          "bdata": "ywc=",
          "dtype": "i2"
         },
         "xaxis": "x",
         "y": [
          "DOS"
         ],
         "yaxis": "y"
        },
        {
         "customdata": [
          [
           "Cyberpunk 2077"
          ],
          [
           "Cyberpunk 2077"
          ],
          [
           "Cyberpunk 2077"
          ],
          [
           "Cyberpunk 2077"
          ],
          [
           "Cyberpunk 2077"
          ],
          [
           "Cyberpunk 2077: Phantom Liberty"
          ],
          [
           "Cyberpunk 2077: Phantom Liberty"
          ],
          [
           "Cyberpunk 2077: Phantom Liberty"
          ]
         ],
         "hovertemplate": "Developer_List=CD Projekt RED<br>Release_Year=%{x}<br>Platform_List=%{y}<br>Title=%{customdata[0]}<extra></extra>",
         "legendgroup": "CD Projekt RED",
         "marker": {
          "color": "#FECB52",
          "symbol": "circle"
         },
         "mode": "markers",
         "name": "CD Projekt RED",
         "showlegend": true,
         "type": "scattergl",
         "x": {
          "bdata": "5AfkB+QH5AfkB+cH5wfnBw==",
          "dtype": "i2"
         },
         "xaxis": "x",
         "y": [
          "WIN",
          "PS4",
          "PS5",
          "XONE",
          "XSX",
          "WIN",
          "PS5",
          "XSX"
         ],
         "yaxis": "y"
        },
        {
         "customdata": [
          [
           "Daikatana"
          ],
          [
           "Daikatana"
          ],
          [
           "Deus Ex"
          ],
          [
           "Deus Ex"
          ],
          [
           "Deus Ex"
          ],
          [
           "Deus Ex: Invisible War"
          ],
          [
           "Deus Ex: Invisible War"
          ]
         ],
         "hovertemplate": "Developer_List=Ion Storm<br>Release_Year=%{x}<br>Platform_List=%{y}<br>Title=%{customdata[0]}<extra></extra>",
         "legendgroup": "Ion Storm",
         "marker": {
          "color": "#636efa",
          "symbol": "circle"
         },
         "mode": "markers",
         "name": "Ion Storm",
         "showlegend": true,
         "type": "scattergl",
         "x": {
          "bdata": "0AfQB9AH0AfQB9MH0wc=",
          "dtype": "i2"
         },
         "xaxis": "x",
         "y": [
          "N64",
          "WIN",
          "WIN",
          "MAC",
          "PS2",
          "WIN",
          "Xbox"
         ],
         "yaxis": "y"
        },
        {
         "customdata": [
          [
           "Damage Incorporated"
          ],
          [
           "Damage Incorporated"
          ]
         ],
         "hovertemplate": "Developer_List=Paranoid Productions<br>Release_Year=%{x}<br>Platform_List=%{y}<br>Title=%{customdata[0]}<extra></extra>",
         "legendgroup": "Paranoid Productions",
         "marker": {
          "color": "#EF553B",
          "symbol": "circle"
         },
         "mode": "markers",
         "name": "Paranoid Productions",
         "showlegend": true,
         "type": "scattergl",
         "x": {
          "bdata": "zQfNBw==",
          "dtype": "i2"
         },
         "xaxis": "x",
         "y": [
          "MAC",
          "WIN9X"
         ],
         "yaxis": "y"
        },
        {
         "customdata": [
          [
           "Dark Arena"
          ]
         ],
         "hovertemplate": "Developer_List=Graphic State<br>Release_Year=%{x}<br>Platform_List=%{y}<br>Title=%{customdata[0]}<extra></extra>",
         "legendgroup": "Graphic State",
         "marker": {
          "color": "#00cc96",
          "symbol": "circle"
         },
         "mode": "markers",
         "name": "Graphic State",
         "showlegend": true,
         "type": "scattergl",
         "x": {
          "bdata": "0gc=",
          "dtype": "i2"
         },
         "xaxis": "x",
         "y": [
          "GBA"
         ],
         "yaxis": "y"
        },
        {
         "customdata": [
          [
           "Darkest of Days"
          ],
          [
           "Darkest of Days"
          ],
          [
           "Darkest of Days"
          ]
         ],
         "hovertemplate": "Developer_List=8Monkey Labs<br>Release_Year=%{x}<br>Platform_List=%{y}<br>Title=%{customdata[0]}<extra></extra>",
         "legendgroup": "8Monkey Labs",
         "marker": {
          "color": "#ab63fa",
          "symbol": "circle"
         },
         "mode": "markers",
         "name": "8Monkey Labs",
         "showlegend": true,
         "type": "scattergl",
         "x": {
          "bdata": "2QfZB9kH",
          "dtype": "i2"
         },
         "xaxis": "x",
         "y": [
          "WIN",
          "X360",
          "OSX"
         ],
         "yaxis": "y"
        },
        {
         "customdata": [
          [
           "Dark Side"
          ],
          [
           "Dark Side"
          ],
          [
           "Dark Side"
          ],
          [
           "Dark Side"
          ],
          [
           "Dark Side"
          ],
          [
           "Dark Side"
          ],
          [
           "Total Eclipse"
          ],
          [
           "Total Eclipse"
          ],
          [
           "Total Eclipse"
          ],
          [
           "Total Eclipse"
          ],
          [
           "Total Eclipse"
          ],
          [
           "Total Eclipse"
          ],
          [
           "Total Eclipse II: The Sphinx Jinx"
          ],
          [
           "Total Eclipse II: The Sphinx Jinx"
          ],
          [
           "Total Eclipse II: The Sphinx Jinx"
          ],
          [
           "Total Eclipse II: The Sphinx Jinx"
          ],
          [
           "Total Eclipse II: The Sphinx Jinx"
          ],
          [
           "Total Eclipse II: The Sphinx Jinx"
          ]
         ],
         "hovertemplate": "Developer_List=Incentive Software<br>Release_Year=%{x}<br>Platform_List=%{y}<br>Title=%{customdata[0]}<extra></extra>",
         "legendgroup": "Incentive Software",
         "marker": {
          "color": "#FFA15A",
          "symbol": "circle"
         },
         "mode": "markers",
         "name": "Incentive Software",
         "showlegend": true,
         "type": "scattergl",
         "x": {
          "bdata": "xAfEB8QHxAfEB8QHxAfEB8QHxAfEB8QHxwfHB8cHxwfHB8cH",
          "dtype": "i2"
         },
         "xaxis": "x",
         "y": [
          "AMI",
          "ST",
          "AMSCPC",
          "C64",
          "DOS",
          "ZX",
          "ST",
          "AMI",
          "DOS",
          "C64",
          "ZX",
          "AMSCPC",
          "ST",
          "AMI",
          "DOS",
          "C64",
          "ZX",
          "AMSCPC"
         ],
         "yaxis": "y"
        },
        {
         "customdata": [
          [
           "The Darkness"
          ],
          [
           "The Darkness"
          ],
          [
           "Payday 3"
          ],
          [
           "Payday 3"
          ],
          [
           "Payday 3"
          ],
          [
           "Syndicate"
          ],
          [
           "Syndicate"
          ],
          [
           "Syndicate"
          ]
         ],
         "hovertemplate": "Developer_List=Starbreeze Studios<br>Release_Year=%{x}<br>Platform_List=%{y}<br>Title=%{customdata[0]}<extra></extra>",
         "legendgroup": "Starbreeze Studios",
         "marker": {
          "color": "#19d3f3",
          "symbol": "circle"
         },
         "mode": "markers",
         "name": "Starbreeze Studios",
         "showlegend": true,
         "type": "scattergl",
         "x": {
          "bdata": "1wfXB+cH5wfnB9wH3AfcBw==",
          "dtype": "i2"
         },
         "xaxis": "x",
         "y": [
          "PS3",
          "X360",
          "WIN",
          "PS5",
          "XSX",
          "WIN",
          "PS3",
          "X360"
         ],
         "yaxis": "y"
        },
        {
         "customdata": [
          [
           "The Darkness II"
          ],
          [
           "The Darkness II"
          ],
          [
           "The Darkness II"
          ],
          [
           "The Darkness II"
          ],
          [
           "Pariah"
          ],
          [
           "Pariah"
          ],
          [
           "Unreal"
          ],
          [
           "Unreal"
          ],
          [
           "Unreal Tournament"
          ],
          [
           "Unreal Tournament"
          ],
          [
           "Unreal Tournament"
          ],
          [
           "Unreal Tournament"
          ],
          [
           "Unreal Tournament"
          ],
          [
           "Unreal Tournament 2003"
          ],
          [
           "Unreal Tournament 2003"
          ],
          [
           "Unreal Tournament 2003"
          ],
          [
           "Unreal Championship"
          ],
          [
           "Unreal Tournament 2004"
          ],
          [
           "Unreal Tournament 2004"
          ],
          [
           "Unreal Tournament 2004"
          ],
          [
           "WarPath"
          ],
          [
           "WarPath"
          ]
         ],
         "hovertemplate": "Developer_List=Digital Extremes<br>Release_Year=%{x}<br>Platform_List=%{y}<br>Title=%{customdata[0]}<extra></extra>",
         "legendgroup": "Digital Extremes",
         "marker": {
          "color": "#FF6692",
          "symbol": "circle"
         },
         "mode": "markers",
         "name": "Digital Extremes",
         "showlegend": true,
         "type": "scattergl",
         "x": {
          "bdata": "3AfcB9wH3AfVB9UHzgfOB88HzwfPB88HzwfSB9IH0gfSB9QH1AfUB9YH1gc=",
          "dtype": "i2"
         },
         "xaxis": "x",
         "y": [
          "WIN",
          "PS3",
          "X360",
          "OSX",
          "WIN",
          "Xbox",
          "WIN",
          "MAC",
          "WIN",
          "LIN",
          "MAC",
          "PS2",
          "DC",
          "WIN",
          "OSX",
          "LIN",
          "Xbox",
          "WIN",
          "LIN",
          "OSX",
          "WIN",
          "Xbox"
         ],
         "yaxis": "y"
        },
        {
         "customdata": [
          [
           "Darkwatch"
          ],
          [
           "Darkwatch"
          ]
         ],
         "hovertemplate": "Developer_List=High Moon Studios<br>Release_Year=%{x}<br>Platform_List=%{y}<br>Title=%{customdata[0]}<extra></extra>",
         "legendgroup": "High Moon Studios",
         "marker": {
          "color": "#B6E880",
          "symbol": "circle"
         },
         "mode": "markers",
         "name": "High Moon Studios",
         "showlegend": true,
         "type": "scattergl",
         "x": {
          "bdata": "1QfVBw==",
          "dtype": "i2"
         },
         "xaxis": "x",
         "y": [
          "PS2",
          "Xbox"
         ],
         "yaxis": "y"
        },
        {
         "customdata": [
          [
           "Day of the Viper"
          ],
          [
           "Day of the Viper"
          ],
          [
           "Day of the Viper"
          ],
          [
           "Eradicator"
          ]
         ],
         "hovertemplate": "Developer_List=Accolade<br>Release_Year=%{x}<br>Platform_List=%{y}<br>Title=%{customdata[0]}<extra></extra>",
         "legendgroup": "Accolade",
         "marker": {
          "color": "#FF97FF",
          "symbol": "circle"
         },
         "mode": "markers",
         "name": "Accolade",
         "showlegend": true,
         "type": "scattergl",
         "x": {
          "bdata": "xQfFB8UHzAc=",
          "dtype": "i2"
         },
         "xaxis": "x",
         "y": [
          "AMI",
          "ST",
          "DOS",
          "DOS"
         ],
         "yaxis": "y"
        },
        {
         "customdata": [
          [
           "Dead Effect"
          ],
          [
           "Dead Effect"
          ],
          [
           "Dead Effect"
          ],
          [
           "Dead Effect"
          ]
         ],
         "hovertemplate": "Developer_List=InDev Brain<br>Release_Year=%{x}<br>Platform_List=%{y}<br>Title=%{customdata[0]}<extra></extra>",
         "legendgroup": "InDev Brain",
         "marker": {
          "color": "#FECB52",
          "symbol": "circle"
         },
         "mode": "markers",
         "name": "InDev Brain",
         "showlegend": true,
         "type": "scattergl",
         "x": {
          "bdata": "3QfdB90H3Qc=",
          "dtype": "i2"
         },
         "xaxis": "x",
         "y": [
          "iOS",
          "Android",
          "WIN",
          "OSX"
         ],
         "yaxis": "y"
        },
        {
         "customdata": [
          [
           "Dead Effect 2"
          ],
          [
           "Dead Effect 2"
          ],
          [
           "Dead Effect 2"
          ],
          [
           "Dead Effect 2"
          ],
          [
           "Dead Effect 2"
          ],
          [
           "Dead Effect 2"
          ],
          [
           "Dead Effect 2"
          ]
         ],
         "hovertemplate": "Developer_List=BadFly Interactive<br>Release_Year=%{x}<br>Platform_List=%{y}<br>Title=%{customdata[0]}<extra></extra>",
         "legendgroup": "BadFly Interactive",
         "marker": {
          "color": "#636efa",
          "symbol": "circle"
         },
         "mode": "markers",
         "name": "BadFly Interactive",
         "showlegend": true,
         "type": "scattergl",
         "x": {
          "bdata": "3wffB98H3wffB98H3wc=",
          "dtype": "i2"
         },
         "xaxis": "x",
         "y": [
          "iOS",
          "Android",
          "WIN",
          "OSX",
          "PS4",
          "XONE",
          "NX"
         ],
         "yaxis": "y"
        },
        {
         "customdata": [
          [
           "Dead Island 2"
          ],
          [
           "Dead Island 2"
          ],
          [
           "Dead Island 2"
          ],
          [
           "Dead Island 2"
          ],
          [
           "Dead Island 2"
          ],
          [
           "Homefront: The Revolution"
          ],
          [
           "Homefront: The Revolution"
          ],
          [
           "Homefront: The Revolution"
          ]
         ],
         "hovertemplate": "Developer_List=Dambuster Studios<br>Release_Year=%{x}<br>Platform_List=%{y}<br>Title=%{customdata[0]}<extra></extra>",
         "legendgroup": "Dambuster Studios",
         "marker": {
          "color": "#EF553B",
          "symbol": "circle"
         },
         "mode": "markers",
         "name": "Dambuster Studios",
         "showlegend": true,
         "type": "scattergl",
         "x": {
          "bdata": "5wfnB+cH5wfnB+AH4AfgBw==",
          "dtype": "i2"
         },
         "xaxis": "x",
         "y": [
          "WIN",
          "PS4",
          "PS5",
          "XONE",
          "XSX",
          "WIN",
          "PS4",
          "XONE"
         ],
         "yaxis": "y"
        },
        {
         "customdata": [
          [
           "Deadly Dozen"
          ],
          [
           "Deadly Dozen: Pacific Theater"
          ],
          [
           "Hour of Victory"
          ],
          [
           "Hour of Victory"
          ],
          [
           "Line of Sight: Vietnam"
          ]
         ],
         "hovertemplate": "Developer_List=nFusion Interactive<br>Release_Year=%{x}<br>Platform_List=%{y}<br>Title=%{customdata[0]}<extra></extra>",
         "legendgroup": "nFusion Interactive",
         "marker": {
          "color": "#00cc96",
          "symbol": "circle"
         },
         "mode": "markers",
         "name": "nFusion Interactive",
         "showlegend": true,
         "type": "scattergl",
         "x": {
          "bdata": "0QfSB9cH1wfTBw==",
          "dtype": "i2"
         },
         "xaxis": "x",
         "y": [
          "WIN",
          "WIN",
          "X360",
          "WIN",
          "WIN"
         ],
         "yaxis": "y"
        },
        {
         "customdata": [
          [
           "Deathloop"
          ],
          [
           "Deathloop"
          ],
          [
           "Deathloop"
          ],
          [
           "Dishonored 2"
          ],
          [
           "Dishonored 2"
          ],
          [
           "Dishonored 2"
          ],
          [
           "Dishonored: Death of the Outsider"
          ],
          [
           "Dishonored: Death of the Outsider"
          ],
          [
           "Dishonored: Death of the Outsider"
          ],
          [
           "Wolfenstein: Youngblood"
          ],
          [
           "Wolfenstein: Youngblood"
          ],
          [
           "Wolfenstein: Youngblood"
          ],
          [
           "Wolfenstein: Youngblood"
          ]
         ],
         "hovertemplate": "Developer_List=Arkane Lyon<br>Release_Year=%{x}<br>Platform_List=%{y}<br>Title=%{customdata[0]}<extra></extra>",
         "legendgroup": "Arkane Lyon",
         "marker": {
          "color": "#ab63fa",
          "symbol": "circle"
         },
         "mode": "markers",
         "name": "Arkane Lyon",
         "showlegend": true,
         "type": "scattergl",
         "x": {
          "bdata": "5QflB+UH4AfgB+AH4QfhB+EH4wfjB+MH4wc=",
          "dtype": "i2"
         },
         "xaxis": "x",
         "y": [
          "WIN",
          "PS5",
          "XSX",
          "WIN",
          "PS4",
          "XONE",
          "WIN",
          "PS4",
          "XONE",
          "WIN",
          "PS4",
          "XONE",
          "NX"
         ],
         "yaxis": "y"
        },
        {
         "customdata": [
          [
           "Dead Man's Hand"
          ],
          [
           "Dead Man's Hand"
          ],
          [
           "Prey"
          ],
          [
           "Prey"
          ],
          [
           "Prey"
          ],
          [
           "Prey"
          ]
         ],
         "hovertemplate": "Developer_List=Human Head Studios<br>Release_Year=%{x}<br>Platform_List=%{y}<br>Title=%{customdata[0]}<extra></extra>",
         "legendgroup": "Human Head Studios",
         "marker": {
          "color": "#FFA15A",
          "symbol": "circle"
         },
         "mode": "markers",
         "name": "Human Head Studios",
         "showlegend": true,
         "type": "scattergl",
         "x": {
          "bdata": "1AfUB9YH1gfWB9YH",
          "dtype": "i2"
         },
         "xaxis": "x",
         "y": [
          "WIN",
          "Xbox",
          "WIN",
          "X360",
          "OSX",
          "LIN"
         ],
         "yaxis": "y"
        },
        {
         "customdata": [
          [
           "Deep Rock Galactic"
          ],
          [
           "Deep Rock Galactic"
          ],
          [
           "Deep Rock Galactic"
          ],
          [
           "Deep Rock Galactic"
          ],
          [
           "Deep Rock Galactic"
          ]
         ],
         "hovertemplate": "Developer_List=Ghost Ship Games<br>Release_Year=%{x}<br>Platform_List=%{y}<br>Title=%{customdata[0]}<extra></extra>",
         "legendgroup": "Ghost Ship Games",
         "marker": {
          "color": "#19d3f3",
          "symbol": "circle"
         },
         "mode": "markers",
         "name": "Ghost Ship Games",
         "showlegend": true,
         "type": "scattergl",
         "x": {
          "bdata": "4gfiB+IH4gfiBw==",
          "dtype": "i2"
         },
         "xaxis": "x",
         "y": [
          "WIN",
          "XONE",
          "PS4",
          "PS5",
          "XSX"
         ],
         "yaxis": "y"
        },
        {
         "customdata": [
          [
           "Defcon 5"
          ],
          [
           "Defcon 5"
          ],
          [
           "Defcon 5"
          ]
         ],
         "hovertemplate": "Developer_List=Millennium Interactive<br>Release_Year=%{x}<br>Platform_List=%{y}<br>Title=%{customdata[0]}<extra></extra>",
         "legendgroup": "Millennium Interactive",
         "marker": {
          "color": "#FF6692",
          "symbol": "circle"
         },
         "mode": "markers",
         "name": "Millennium Interactive",
         "showlegend": true,
         "type": "scattergl",
         "x": {
          "bdata": "AAAA",
          "dtype": "i1"
         },
         "xaxis": "x",
         "y": [
          "3DO",
          "PS1",
          "SAT"
         ],
         "yaxis": "y"
        },
        {
         "customdata": [
          [
           "Delta Force"
          ],
          [
           "Delta Force 2"
          ],
          [
           "Delta Force: Land Warrior"
          ],
          [
           "Delta Force: Black Hawk Down"
          ],
          [
           "Delta Force: Black Hawk Down"
          ],
          [
           "Delta Force: Black Hawk Down"
          ],
          [
           "Delta Force: Black Hawk Down"
          ],
          [
           "Delta Force: Xtreme"
          ],
          [
           "Delta Force: Xtreme 2"
          ],
          [
           "Joint Operations: Typhoon Rising"
          ],
          [
           "Joint Operations: Escalation"
          ]
         ],
         "hovertemplate": "Developer_List=NovaLogic<br>Release_Year=%{x}<br>Platform_List=%{y}<br>Title=%{customdata[0]}<extra></extra>",
         "legendgroup": "NovaLogic",
         "marker": {
          "color": "#B6E880",
          "symbol": "circle"
         },
         "mode": "markers",
         "name": "NovaLogic",
         "showlegend": true,
         "type": "scattergl",
         "x": {
          "bdata": "zgfPB9AH0wfTB9MH0wfVB9kH1AfUBw==",
          "dtype": "i2"
         },
         "xaxis": "x",
         "y": [
          "WIN",
          "WIN",
          "WIN",
          "WIN",
          "OSX",
          "PS2",
          "Xbox",
          "WIN",
          "WIN",
          "WIN",
          "WIN"
         ],
         "yaxis": "y"
        },
        {
         "customdata": [
          [
           "Dementium: The Ward"
          ],
          [
           "Dementium II"
          ]
         ],
         "hovertemplate": "Developer_List=Renegade Kid<br>Release_Year=%{x}<br>Platform_List=%{y}<br>Title=%{customdata[0]}<extra></extra>",
         "legendgroup": "Renegade Kid",
         "marker": {
          "color": "#FF97FF",
          "symbol": "circle"
         },
         "mode": "markers",
         "name": "Renegade Kid",
         "showlegend": true,
         "type": "scattergl",
         "x": {
          "bdata": "1wfaBw==",
          "dtype": "i2"
         },
         "xaxis": "x",
         "y": [
          "DS",
          "DS"
         ],
         "yaxis": "y"
        },
        {
         "customdata": [
          [
           "Depth Dwellers"
          ]
         ],
         "hovertemplate": "Developer_List=TriSoft<br>Release_Year=%{x}<br>Platform_List=%{y}<br>Title=%{customdata[0]}<extra></extra>",
         "legendgroup": "TriSoft",
         "marker": {
          "color": "#FECB52",
          "symbol": "circle"
         },
         "mode": "markers",
         "name": "TriSoft",
         "showlegend": true,
         "type": "scattergl",
         "x": {
          "bdata": "ygc=",
          "dtype": "i2"
         },
         "xaxis": "x",
         "y": [
          "DOS"
         ],
         "yaxis": "y"
        },
        {
         "customdata": [
          [
           "Descent"
          ],
          [
           "Descent II"
          ],
          [
           "Descent III"
          ],
          [
           "Descent III"
          ],
          [
           "Descent III"
          ]
         ],
         "hovertemplate": "Developer_List=Parallax Software<br>Release_Year=%{x}<br>Platform_List=%{y}<br>Title=%{customdata[0]}<extra></extra>",
         "legendgroup": "Parallax Software",
         "marker": {
          "color": "#636efa",
          "symbol": "circle"
         },
         "mode": "markers",
         "name": "Parallax Software",
         "showlegend": true,
         "type": "scattergl",
         "x": {
          "bdata": "ywfMB88HzwfPBw==",
          "dtype": "i2"
         },
         "xaxis": "x",
         "y": [
          "DOS",
          "DOS",
          "WIN",
          "MAC",
          "LIN"
         ],
         "yaxis": "y"
        },
        {
         "customdata": [
          [
           "Despair 3"
          ]
         ],
         "hovertemplate": "Developer_List=U-Neek Software<br>Release_Year=%{x}<br>Platform_List=%{y}<br>Title=%{customdata[0]}<extra></extra>",
         "legendgroup": "U-Neek Software",
         "marker": {
          "color": "#EF553B",
          "symbol": "circle"
         },
         "mode": "markers",
         "name": "U-Neek Software",
         "showlegend": true,
         "type": "scattergl",
         "x": {
          "bdata": "ywc=",
          "dtype": "i2"
         },
         "xaxis": "x",
         "y": [
          "DOS"
         ],
         "yaxis": "y"
        },
        {
         "customdata": [
          [
           "Destiny"
          ],
          [
           "Destiny"
          ],
          [
           "Destiny"
          ],
          [
           "Destiny"
          ],
          [
           "Destiny 2"
          ],
          [
           "Destiny 2"
          ],
          [
           "Destiny 2"
          ],
          [
           "Destiny 2"
          ],
          [
           "Destiny 2"
          ],
          [
           "Halo: Combat Evolved"
          ],
          [
           "Halo: Combat Evolved"
          ],
          [
           "Halo: Combat Evolved"
          ],
          [
           "Halo 2"
          ],
          [
           "Halo 2"
          ],
          [
           "Halo 3"
          ],
          [
           "Halo 3"
          ],
          [
           "Halo 3"
          ],
          [
           "Halo 3"
          ],
          [
           "Halo 3: ODST"
          ],
          [
           "Halo 3: ODST"
          ],
          [
           "Halo 3: ODST"
          ],
          [
           "Halo 3: ODST"
          ],
          [
           "Halo: Reach"
          ],
          [
           "Halo: Reach"
          ],
          [
           "Halo: Reach"
          ],
          [
           "Halo: Reach"
          ],
          [
           "Marathon"
          ],
          [
           "Marathon"
          ],
          [
           "Marathon"
          ],
          [
           "Marathon"
          ],
          [
           "Marathon"
          ],
          [
           "Marathon 2: Durandal"
          ],
          [
           "Marathon 2: Durandal"
          ],
          [
           "Marathon 2: Durandal"
          ],
          [
           "Marathon 2: Durandal"
          ],
          [
           "Marathon 2: Durandal"
          ],
          [
           "Marathon 2: Durandal"
          ],
          [
           "Marathon Infinity"
          ],
          [
           "Marathon Infinity"
          ],
          [
           "Marathon Infinity"
          ],
          [
           "Marathon Infinity"
          ],
          [
           "Pathways into Darkness"
          ]
         ],
         "hovertemplate": "Developer_List=Bungie<br>Release_Year=%{x}<br>Platform_List=%{y}<br>Title=%{customdata[0]}<extra></extra>",
         "legendgroup": "Bungie",
         "marker": {
          "color": "#00cc96",
          "symbol": "circle"
         },
         "mode": "markers",
         "name": "Bungie",
         "showlegend": true,
         "type": "scattergl",
         "x": {
          "bdata": "3gfeB94H3gfhB+EH4QfhB+EH0QfRB9EH1AfUB9cH1wfXB9cH2QfZB9kH2QfaB9oH2gfaB8oHygfKB8oHygfLB8sHywfLB8sHywfMB8wHzAfMBwAA",
          "dtype": "i2"
         },
         "xaxis": "x",
         "y": [
          "PS3",
          "PS4",
          "X360",
          "XONE",
          "PS4",
          "XONE",
          "WIN",
          "PS5",
          "XSX",
          "Xbox",
          "WIN",
          "OSX",
          "Xbox",
          "WIN",
          "X360",
          "XONE",
          "WIN",
          "XSX",
          "X360",
          "XONE",
          "WIN",
          "XSX",
          "X360",
          "XONE",
          "WIN",
          "XSX",
          "Apple Pippin",
          "MAC",
          "ported to LIN",
          "OSX",
          "WIN through the Aleph One project",
          "Apple Pippin",
          "MAC",
          "WIN",
          "XBLA",
          "ported to LIN",
          "OSX through the Aleph One project",
          "MAC",
          "ported to LIN",
          "OSX",
          "WIN through the Aleph One project",
          "MAC"
         ],
         "yaxis": "y"
        },
        {
         "customdata": [
          [
           "Deus"
          ],
          [
           "Deus"
          ]
         ],
         "hovertemplate": "Developer_List=Silmarils<br>Release_Year=%{x}<br>Platform_List=%{y}<br>Title=%{customdata[0]}<extra></extra>",
         "legendgroup": "Silmarils",
         "marker": {
          "color": "#ab63fa",
          "symbol": "circle"
         },
         "mode": "markers",
         "name": "Silmarils",
         "showlegend": true,
         "type": "scattergl",
         "x": {
          "bdata": "zAfMBw==",
          "dtype": "i2"
         },
         "xaxis": "x",
         "y": [
          "DOS",
          "WIN"
         ],
         "yaxis": "y"
        },
        {
         "customdata": [
          [
           "Deus Ex: Human Revolution"
          ],
          [
           "Deus Ex: Human Revolution"
          ],
          [
           "Deus Ex: Human Revolution"
          ],
          [
           "Deus Ex: Human Revolution"
          ],
          [
           "Deus Ex: Human Revolution"
          ],
          [
           "Deus Ex: Mankind Divided"
          ],
          [
           "Deus Ex: Mankind Divided"
          ],
          [
           "Deus Ex: Mankind Divided"
          ],
          [
           "Deus Ex: Mankind Divided"
          ],
          [
           "Deus Ex: Mankind Divided"
          ]
         ],
         "hovertemplate": "Developer_List=Eidos Montréal<br>Release_Year=%{x}<br>Platform_List=%{y}<br>Title=%{customdata[0]}<extra></extra>",
         "legendgroup": "Eidos Montréal",
         "marker": {
          "color": "#FFA15A",
          "symbol": "circle"
         },
         "mode": "markers",
         "name": "Eidos Montréal",
         "showlegend": true,
         "type": "scattergl",
         "x": {
          "bdata": "2wfbB9sH2wfbB+AH4AfgB+AH4Ac=",
          "dtype": "i2"
         },
         "xaxis": "x",
         "y": [
          "WIN",
          "PS3",
          "X360",
          "OSX",
          "WiiU",
          "WIN",
          "PS4",
          "XONE",
          "LIN",
          "OSX"
         ],
         "yaxis": "y"
        },
        {
         "customdata": [
          [
           "Devastation"
          ],
          [
           "Devastation"
          ]
         ],
         "hovertemplate": "Developer_List=Digitalo Studios<br>Release_Year=%{x}<br>Platform_List=%{y}<br>Title=%{customdata[0]}<extra></extra>",
         "legendgroup": "Digitalo Studios",
         "marker": {
          "color": "#19d3f3",
          "symbol": "circle"
         },
         "mode": "markers",
         "name": "Digitalo Studios",
         "showlegend": true,
         "type": "scattergl",
         "x": {
          "bdata": "0wfTBw==",
          "dtype": "i2"
         },
         "xaxis": "x",
         "y": [
          "LIN",
          "WIN"
         ],
         "yaxis": "y"
        },
        {
         "customdata": [
          [
           "Devil Daggers"
          ],
          [
           "Devil Daggers"
          ],
          [
           "Devil Daggers"
          ]
         ],
         "hovertemplate": "Developer_List=Sorath<br>Release_Year=%{x}<br>Platform_List=%{y}<br>Title=%{customdata[0]}<extra></extra>",
         "legendgroup": "Sorath",
         "marker": {
          "color": "#FF6692",
          "symbol": "circle"
         },
         "mode": "markers",
         "name": "Sorath",
         "showlegend": true,
         "type": "scattergl",
         "x": {
          "bdata": "4AfgB+AH",
          "dtype": "i2"
         },
         "xaxis": "x",
         "y": [
          "WIN",
          "LIN",
          "OSX"
         ],
         "yaxis": "y"
        },
        {
         "customdata": [
          [
           "Die Hard: Nakatomi Plaza"
          ]
         ],
         "hovertemplate": "Developer_List=Piranha Games<br>Release_Year=%{x}<br>Platform_List=%{y}<br>Title=%{customdata[0]}<extra></extra>",
         "legendgroup": "Piranha Games",
         "marker": {
          "color": "#B6E880",
          "symbol": "circle"
         },
         "mode": "markers",
         "name": "Piranha Games",
         "showlegend": true,
         "type": "scattergl",
         "x": {
          "bdata": "0gc=",
          "dtype": "i2"
         },
         "xaxis": "x",
         "y": [
          "WIN"
         ],
         "yaxis": "y"
        },
        {
         "customdata": [
          [
           "Dishonored"
          ],
          [
           "Dishonored"
          ],
          [
           "Dishonored"
          ],
          [
           "Dishonored"
          ],
          [
           "Dishonored"
          ]
         ],
         "hovertemplate": "Developer_List=Arkane Studios<br>Release_Year=%{x}<br>Platform_List=%{y}<br>Title=%{customdata[0]}<extra></extra>",
         "legendgroup": "Arkane Studios",
         "marker": {
          "color": "#FF97FF",
          "symbol": "circle"
         },
         "mode": "markers",
         "name": "Arkane Studios",
         "showlegend": true,
         "type": "scattergl",
         "x": {
          "bdata": "3AfcB9wH3AfcBw==",
          "dtype": "i2"
         },
         "xaxis": "x",
         "y": [
          "WIN",
          "PS3",
          "X360",
          "PS4",
          "XONE"
         ],
         "yaxis": "y"
        },
        {
         "customdata": [
          [
           "Disruptor"
          ],
          [
           "Resistance: Fall of Man"
          ],
          [
           "Resistance 2"
          ],
          [
           "Resistance 3"
          ]
         ],
         "hovertemplate": "Developer_List=Insomniac Games<br>Release_Year=%{x}<br>Platform_List=%{y}<br>Title=%{customdata[0]}<extra></extra>",
         "legendgroup": "Insomniac Games",
         "marker": {
          "color": "#FECB52",
          "symbol": "circle"
         },
         "mode": "markers",
         "name": "Insomniac Games",
         "showlegend": true,
         "type": "scattergl",
         "x": {
          "bdata": "zAfWB9gH2wc=",
          "dtype": "i2"
         },
         "xaxis": "x",
         "y": [
          "PS1",
          "PS3",
          "PS3",
          "PS3"
         ],
         "yaxis": "y"
        },
        {
         "customdata": [
          [
           "Doom 64"
          ],
          [
           "Doom 64"
          ],
          [
           "Doom 64"
          ],
          [
           "Doom 64"
          ],
          [
           "Doom 64"
          ]
         ],
         "hovertemplate": "Developer_List=Midway Studios San Diego<br>Release_Year=%{x}<br>Platform_List=%{y}<br>Title=%{customdata[0]}<extra></extra>",
         "legendgroup": "Midway Studios San Diego",
         "marker": {
          "color": "#636efa",
          "symbol": "circle"
         },
         "mode": "markers",
         "name": "Midway Studios San Diego",
         "showlegend": true,
         "type": "scattergl",
         "x": {
          "bdata": "zQfNB80HzQfNBw==",
          "dtype": "i2"
         },
         "xaxis": "x",
         "y": [
          "N64",
          "WIN",
          "PS4",
          "XONE",
          "NX"
         ],
         "yaxis": "y"
        },
        {
         "customdata": [
          [
           "Doom 3: Resurrection of Evil"
          ],
          [
           "Doom 3: Resurrection of Evil"
          ],
          [
           "Doom 3: Resurrection of Evil"
          ]
         ],
         "hovertemplate": "Developer_List=Nerve Software<br>Release_Year=%{x}<br>Platform_List=%{y}<br>Title=%{customdata[0]}<extra></extra>",
         "legendgroup": "Nerve Software",
         "marker": {
          "color": "#EF553B",
          "symbol": "circle"
         },
         "mode": "markers",
         "name": "Nerve Software",
         "showlegend": true,
         "type": "scattergl",
         "x": {
          "bdata": "1QfVB9UH",
          "dtype": "i2"
         },
         "xaxis": "x",
         "y": [
          "WIN",
          "LIN",
          "Xbox"
         ],
         "yaxis": "y"
        },
        {
         "customdata": [
          [
           "Dreamkiller"
          ],
          [
           "Painkiller: Overdose"
          ]
         ],
         "hovertemplate": "Developer_List=Mindware Studios<br>Release_Year=%{x}<br>Platform_List=%{y}<br>Title=%{customdata[0]}<extra></extra>",
         "legendgroup": "Mindware Studios",
         "marker": {
          "color": "#00cc96",
          "symbol": "circle"
         },
         "mode": "markers",
         "name": "Mindware Studios",
         "showlegend": true,
         "type": "scattergl",
         "x": {
          "bdata": "2QfXBw==",
          "dtype": "i2"
         },
         "xaxis": "x",
         "y": [
          "WIN",
          "WIN"
         ],
         "yaxis": "y"
        },
        {
         "customdata": [
          [
           "Driller"
          ],
          [
           "Driller"
          ],
          [
           "Driller"
          ],
          [
           "Driller"
          ],
          [
           "Driller"
          ],
          [
           "Driller"
          ]
         ],
         "hovertemplate": "Developer_List=Major Developments<br>Release_Year=%{x}<br>Platform_List=%{y}<br>Title=%{customdata[0]}<extra></extra>",
         "legendgroup": "Major Developments",
         "marker": {
          "color": "#ab63fa",
          "symbol": "circle"
         },
         "mode": "markers",
         "name": "Major Developments",
         "showlegend": true,
         "type": "scattergl",
         "x": {
          "bdata": "wwfDB8MHwwfDB8MH",
          "dtype": "i2"
         },
         "xaxis": "x",
         "y": [
          "AMI",
          "ST",
          "AMSCPC",
          "C64",
          "DOS",
          "ZX"
         ],
         "yaxis": "y"
        },
        {
         "customdata": [
          [
           "Duke Nukem 3D"
          ],
          [
           "Duke Nukem 3D"
          ],
          [
           "Duke Nukem 3D"
          ],
          [
           "Duke Nukem 3D"
          ],
          [
           "Duke Nukem 3D"
          ],
          [
           "Duke Nukem 3D"
          ],
          [
           "Duke Nukem 3D"
          ],
          [
           "Duke Nukem 3D"
          ],
          [
           "Duke Nukem 3D"
          ],
          [
           "Duke Nukem 3D"
          ],
          [
           "Duke Nukem 3D"
          ],
          [
           "Duke Nukem 3D"
          ],
          [
           "Duke Nukem 3D"
          ],
          [
           "Duke Nukem 3D"
          ],
          [
           "Duke Nukem 3D"
          ],
          [
           "Duke Nukem 3D"
          ],
          [
           "Duke Nukem 3D: Atomic Edition"
          ],
          [
           "Duke Nukem 3D: Atomic Edition"
          ],
          [
           "Phantom Fury"
          ],
          [
           "Prey Invasion"
          ],
          [
           "Shadow Warrior"
          ],
          [
           "Shadow Warrior"
          ],
          [
           "Wrath: Aeon of Ruin"
          ],
          [
           "Wrath: Aeon of Ruin"
          ],
          [
           "Wrath: Aeon of Ruin"
          ],
          [
           "Wrath: Aeon of Ruin"
          ],
          [
           "Wrath: Aeon of Ruin"
          ],
          [
           "Wrath: Aeon of Ruin"
          ]
         ],
         "hovertemplate": "Developer_List=3D Realms<br>Release_Year=%{x}<br>Platform_List=%{y}<br>Title=%{customdata[0]}<extra></extra>",
         "legendgroup": "3D Realms",
         "marker": {
          "color": "#FFA15A",
          "symbol": "circle"
         },
         "mode": "markers",
         "name": "3D Realms",
         "showlegend": true,
         "type": "scattergl",
         "x": {
          "bdata": "zAfMB8wHzAfMB8wHzAfMB8wHzAfMB8wHzAfMB8wHzAcAAAAA6AfZB80HzQfjB+MH4wfjB+MH4wc=",
          "dtype": "i2"
         },
         "xaxis": "x",
         "y": [
          "DOS",
          "Game.com",
          "GEN",
          "iOS",
          "MAC",
          "MOBIMAE (Nokia N900)",
          "N64",
          "PS1",
          "SAT",
          "WIN",
          "X360 (XBLA)",
          "Zeebo",
          "and source ports to many other platforms",
          "PS4",
          "XONE",
          "NX",
          "DOS",
          "MAC",
          "WIN",
          "iOS",
          "DOS",
          "MAC",
          "WIN",
          "OSX",
          "LIN",
          "PS4",
          "XONE",
          "NX"
         ],
         "yaxis": "y"
        },
        {
         "customdata": [
          [
           "Duke: Nuclear Winter"
          ]
         ],
         "hovertemplate": "Developer_List=Simply Silly Software<br>Release_Year=%{x}<br>Platform_List=%{y}<br>Title=%{customdata[0]}<extra></extra>",
         "legendgroup": "Simply Silly Software",
         "marker": {
          "color": "#19d3f3",
          "symbol": "circle"
         },
         "mode": "markers",
         "name": "Simply Silly Software",
         "showlegend": true,
         "type": "scattergl",
         "x": {
          "bdata": "zQc=",
          "dtype": "i2"
         },
         "xaxis": "x",
         "y": [
          "DOS"
         ],
         "yaxis": "y"
        },
        {
         "customdata": [
          [
           "Duke Nukem Advance"
          ],
          [
           "Ice Nine"
          ]
         ],
         "hovertemplate": "Developer_List=Torus Games<br>Release_Year=%{x}<br>Platform_List=%{y}<br>Title=%{customdata[0]}<extra></extra>",
         "legendgroup": "Torus Games",
         "marker": {
          "color": "#FF6692",
          "symbol": "circle"
         },
         "mode": "markers",
         "name": "Torus Games",
         "showlegend": true,
         "type": "scattergl",
         "x": {
          "bdata": "0gfVBw==",
          "dtype": "i2"
         },
         "xaxis": "x",
         "y": [
          "GBA",
          "GBA"
         ],
         "yaxis": "y"
        },
        {
         "customdata": [
          [
           "Dusk"
          ],
          [
           "Dusk"
          ],
          [
           "Dusk"
          ],
          [
           "Dusk"
          ]
         ],
         "hovertemplate": "Developer_List=David Szymanski<br>Release_Year=%{x}<br>Platform_List=%{y}<br>Title=%{customdata[0]}<extra></extra>",
         "legendgroup": "David Szymanski",
         "marker": {
          "color": "#B6E880",
          "symbol": "circle"
         },
         "mode": "markers",
         "name": "David Szymanski",
         "showlegend": true,
         "type": "scattergl",
         "x": {
          "bdata": "4gfiB+IH4gc=",
          "dtype": "i2"
         },
         "xaxis": "x",
         "y": [
          "WIN",
          "LIN",
          "OSX",
          "NX"
         ],
         "yaxis": "y"
        },
        {
         "customdata": [
          [
           "Dusk"
          ],
          [
           "Dusk"
          ],
          [
           "Dusk"
          ],
          [
           "Dusk"
          ]
         ],
         "hovertemplate": "Developer_List=New Blood Interactive<br>Release_Year=%{x}<br>Platform_List=%{y}<br>Title=%{customdata[0]}<extra></extra>",
         "legendgroup": "New Blood Interactive",
         "marker": {
          "color": "#FF97FF",
          "symbol": "circle"
         },
         "mode": "markers",
         "name": "New Blood Interactive",
         "showlegend": true,
         "type": "scattergl",
         "x": {
          "bdata": "4gfiB+IH4gc=",
          "dtype": "i2"
         },
         "xaxis": "x",
         "y": [
          "WIN",
          "LIN",
          "OSX",
          "NX"
         ],
         "yaxis": "y"
        },
        {
         "customdata": [
          [
           "Earthfall"
          ],
          [
           "Earthfall"
          ],
          [
           "Earthfall"
          ],
          [
           "Earthfall"
          ]
         ],
         "hovertemplate": "Developer_List=Holospark<br>Release_Year=%{x}<br>Platform_List=%{y}<br>Title=%{customdata[0]}<extra></extra>",
         "legendgroup": "Holospark",
         "marker": {
          "color": "#FECB52",
          "symbol": "circle"
         },
         "mode": "markers",
         "name": "Holospark",
         "showlegend": true,
         "type": "scattergl",
         "x": {
          "bdata": "4gfiB+IH4gc=",
          "dtype": "i2"
         },
         "xaxis": "x",
         "y": [
          "WIN",
          "PS4",
          "XONE",
          "NX"
         ],
         "yaxis": "y"
        },
        {
         "customdata": [
          [
           "Eldritch"
          ],
          [
           "Eldritch"
          ],
          [
           "Eldritch"
          ]
         ],
         "hovertemplate": "Developer_List=Minor Key Games<br>Release_Year=%{x}<br>Platform_List=%{y}<br>Title=%{customdata[0]}<extra></extra>",
         "legendgroup": "Minor Key Games",
         "marker": {
          "color": "#636efa",
          "symbol": "circle"
         },
         "mode": "markers",
         "name": "Minor Key Games",
         "showlegend": true,
         "type": "scattergl",
         "x": {
          "bdata": "3QfdB90H",
          "dtype": "i2"
         },
         "xaxis": "x",
         "y": [
          "WIN",
          "LIN",
          "OSX"
         ],
         "yaxis": "y"
        },
        {
         "customdata": [
          [
           "Epidemic"
          ]
         ],
         "hovertemplate": "Developer_List=Genki Co.<br>Release_Year=%{x}<br>Platform_List=%{y}<br>Title=%{customdata[0]}<extra></extra>",
         "legendgroup": "Genki Co.",
         "marker": {
          "color": "#EF553B",
          "symbol": "circle"
         },
         "mode": "markers",
         "name": "Genki Co.",
         "showlegend": true,
         "type": "scattergl",
         "x": {
          "bdata": "ywc=",
          "dtype": "i2"
         },
         "xaxis": "x",
         "y": [
          "PS1"
         ],
         "yaxis": "y"
        },
        {
         "customdata": [
          [
           "Escape from Monster Manor"
          ]
         ],
         "hovertemplate": "Developer_List=The 3DO Company<br>Release_Year=%{x}<br>Platform_List=%{y}<br>Title=%{customdata[0]}<extra></extra>",
         "legendgroup": "The 3DO Company",
         "marker": {
          "color": "#00cc96",
          "symbol": "circle"
         },
         "mode": "markers",
         "name": "The 3DO Company",
         "showlegend": true,
         "type": "scattergl",
         "x": {
          "bdata": "yQc=",
          "dtype": "i2"
         },
         "xaxis": "x",
         "y": [
          "3DO"
         ],
         "yaxis": "y"
        },
        {
         "customdata": [
          [
           "Escape from Tarkov"
          ]
         ],
         "hovertemplate": "Developer_List=Battlestate Games<br>Release_Year=%{x}<br>Platform_List=%{y}<br>Title=%{customdata[0]}<extra></extra>",
         "legendgroup": "Battlestate Games",
         "marker": {
          "color": "#ab63fa",
          "symbol": "circle"
         },
         "mode": "markers",
         "name": "Battlestate Games",
         "showlegend": true,
         "type": "scattergl",
         "x": {
          "bdata": "4Qc=",
          "dtype": "i2"
         },
         "xaxis": "x",
         "y": [
          "WIN"
         ],
         "yaxis": "y"
        },
        {
         "customdata": [
          [
           "Exodus from the Earth"
          ]
         ],
         "hovertemplate": "Developer_List=Parallax Art Studio<br>Release_Year=%{x}<br>Platform_List=%{y}<br>Title=%{customdata[0]}<extra></extra>",
         "legendgroup": "Parallax Art Studio",
         "marker": {
          "color": "#FFA15A",
          "symbol": "circle"
         },
         "mode": "markers",
         "name": "Parallax Art Studio",
         "showlegend": true,
         "type": "scattergl",
         "x": {
          "bdata": "1wc=",
          "dtype": "i2"
         },
         "xaxis": "x",
         "y": [
          "WIN"
         ],
         "yaxis": "y"
        },
        {
         "customdata": [
          [
           "Extreme Paintbrawl"
          ]
         ],
         "hovertemplate": "Developer_List=Head Games Publishing<br>Release_Year=%{x}<br>Platform_List=%{y}<br>Title=%{customdata[0]}<extra></extra>",
         "legendgroup": "Head Games Publishing",
         "marker": {
          "color": "#19d3f3",
          "symbol": "circle"
         },
         "mode": "markers",
         "name": "Head Games Publishing",
         "showlegend": true,
         "type": "scattergl",
         "x": {
          "bdata": "zgc=",
          "dtype": "i2"
         },
         "xaxis": "x",
         "y": [
          "DOS/PC"
         ],
         "yaxis": "y"
        },
        {
         "customdata": [
          [
           "E.Y.E.: Divine Cybermancy"
          ],
          [
           "Necromunda: Hired Gun"
          ],
          [
           "Necromunda: Hired Gun"
          ],
          [
           "Necromunda: Hired Gun"
          ],
          [
           "Necromunda: Hired Gun"
          ],
          [
           "Necromunda: Hired Gun"
          ],
          [
           "Space Hulk: Deathwing"
          ],
          [
           "Space Hulk: Deathwing"
          ]
         ],
         "hovertemplate": "Developer_List=Streum On Studio<br>Release_Year=%{x}<br>Platform_List=%{y}<br>Title=%{customdata[0]}<extra></extra>",
         "legendgroup": "Streum On Studio",
         "marker": {
          "color": "#FF6692",
          "symbol": "circle"
         },
         "mode": "markers",
         "name": "Streum On Studio",
         "showlegend": true,
         "type": "scattergl",
         "x": {
          "bdata": "2wflB+UH5QflB+UH4AfgBw==",
          "dtype": "i2"
         },
         "xaxis": "x",
         "y": [
          "WIN",
          "WIN",
          "PS4",
          "PS5",
          "XONE",
          "XSX",
          "WIN",
          "PS4"
         ],
         "yaxis": "y"
        },
        {
         "customdata": [
          [
           "Fallout 3"
          ],
          [
           "Fallout 3"
          ],
          [
           "Fallout 3"
          ],
          [
           "Fallout 4"
          ],
          [
           "Fallout 4"
          ],
          [
           "Fallout 4"
          ],
          [
           "Fallout 4"
          ],
          [
           "Fallout 4"
          ],
          [
           "Fallout 76"
          ],
          [
           "Fallout 76"
          ],
          [
           "Fallout 76"
          ],
          [
           "Starfield"
          ],
          [
           "Starfield"
          ]
         ],
         "hovertemplate": "Developer_List=Bethesda Game Studios<br>Release_Year=%{x}<br>Platform_List=%{y}<br>Title=%{customdata[0]}<extra></extra>",
         "legendgroup": "Bethesda Game Studios",
         "marker": {
          "color": "#B6E880",
          "symbol": "circle"
         },
         "mode": "markers",
         "name": "Bethesda Game Studios",
         "showlegend": true,
         "type": "scattergl",
         "x": {
          "bdata": "2AfYB9gH3wffB98H3wffB+IH4gfiB+cH5wc=",
          "dtype": "i2"
         },
         "xaxis": "x",
         "y": [
          "WIN",
          "PS3",
          "X360",
          "WIN",
          "PS4",
          "XONE",
          "PS5",
          "XSX",
          "WIN",
          "PS4",
          "XONE",
          "WIN",
          "XSX"
         ],
         "yaxis": "y"
        },
        {
         "customdata": [
          [
           "Fallout: New Vegas"
          ],
          [
           "Fallout: New Vegas"
          ],
          [
           "Fallout: New Vegas"
          ],
          [
           "The Outer Worlds"
          ],
          [
           "The Outer Worlds"
          ],
          [
           "The Outer Worlds"
          ],
          [
           "The Outer Worlds"
          ],
          [
           "The Outer Worlds"
          ],
          [
           "The Outer Worlds"
          ]
         ],
         "hovertemplate": "Developer_List=Obsidian Entertainment<br>Release_Year=%{x}<br>Platform_List=%{y}<br>Title=%{customdata[0]}<extra></extra>",
         "legendgroup": "Obsidian Entertainment",
         "marker": {
          "color": "#FF97FF",
          "symbol": "circle"
         },
         "mode": "markers",
         "name": "Obsidian Entertainment",
         "showlegend": true,
         "type": "scattergl",
         "x": {
          "bdata": "2gfaB9oH4wfjB+MH4wfjB+MH",
          "dtype": "i2"
         },
         "xaxis": "x",
         "y": [
          "WIN",
          "PS3",
          "X360",
          "WIN",
          "PS4",
          "XONE",
          "NX",
          "PS5",
          "XSX"
         ],
         "yaxis": "y"
        },
        {
         "customdata": [
          [
           "F.E.A.R. Extraction Point"
          ],
          [
           "F.E.A.R. Extraction Point"
          ],
          [
           "F.E.A.R. Perseus Mandate"
          ],
          [
           "F.E.A.R. Perseus Mandate"
          ]
         ],
         "hovertemplate": "Developer_List=Timegate Studios<br>Release_Year=%{x}<br>Platform_List=%{y}<br>Title=%{customdata[0]}<extra></extra>",
         "legendgroup": "Timegate Studios",
         "marker": {
          "color": "#FECB52",
          "symbol": "circle"
         },
         "mode": "markers",
         "name": "Timegate Studios",
         "showlegend": true,
         "type": "scattergl",
         "x": {
          "bdata": "1gfWB9cH1wc=",
          "dtype": "i2"
         },
         "xaxis": "x",
         "y": [
          "WIN",
          "X360",
          "WIN",
          "X360"
         ],
         "yaxis": "y"
        },
        {
         "customdata": [
          [
           "F.E.A.R. 3"
          ],
          [
           "F.E.A.R. 3"
          ],
          [
           "F.E.A.R. 3"
          ]
         ],
         "hovertemplate": "Developer_List=Day 1 Studios<br>Release_Year=%{x}<br>Platform_List=%{y}<br>Title=%{customdata[0]}<extra></extra>",
         "legendgroup": "Day 1 Studios",
         "marker": {
          "color": "#636efa",
          "symbol": "circle"
         },
         "mode": "markers",
         "name": "Day 1 Studios",
         "showlegend": true,
         "type": "scattergl",
         "x": {
          "bdata": "2wfbB9sH",
          "dtype": "i2"
         },
         "xaxis": "x",
         "y": [
          "WIN",
          "PS3",
          "X360"
         ],
         "yaxis": "y"
        },
        {
         "customdata": [
          [
           "Far Cry: Instincts"
          ],
          [
           "Far Cry Instincts: Evolution"
          ],
          [
           "Far Cry Instincts: Predator"
          ],
          [
           "Far Cry: Vengeance"
          ],
          [
           "Far Cry 2"
          ],
          [
           "Far Cry 2"
          ],
          [
           "Far Cry 2"
          ],
          [
           "Far Cry 3"
          ],
          [
           "Far Cry 3"
          ],
          [
           "Far Cry 3"
          ],
          [
           "Far Cry 3"
          ],
          [
           "Far Cry 3"
          ],
          [
           "Far Cry 3: Blood Dragon"
          ],
          [
           "Far Cry 3: Blood Dragon"
          ],
          [
           "Far Cry 3: Blood Dragon"
          ],
          [
           "Far Cry 3: Blood Dragon"
          ],
          [
           "Far Cry 3: Blood Dragon"
          ],
          [
           "Far Cry 4"
          ],
          [
           "Far Cry 4"
          ],
          [
           "Far Cry 4"
          ],
          [
           "Far Cry 4"
          ],
          [
           "Far Cry 4"
          ],
          [
           "Far Cry Primal"
          ],
          [
           "Far Cry Primal"
          ],
          [
           "Far Cry Primal"
          ],
          [
           "Far Cry 5"
          ],
          [
           "Far Cry 5"
          ],
          [
           "Far Cry 5"
          ],
          [
           "Far Cry New Dawn"
          ],
          [
           "Far Cry New Dawn"
          ],
          [
           "Far Cry New Dawn"
          ],
          [
           "Tom Clancy's Rainbow Six 3: Raven Shield"
          ],
          [
           "Tom Clancy's Rainbow Six 3: Raven Shield"
          ],
          [
           "Tom Clancy's Rainbow Six 3"
          ],
          [
           "Tom Clancy's Rainbow Six 3"
          ],
          [
           "Tom Clancy's Rainbow Six 3"
          ],
          [
           "Tom Clancy's Rainbow Six: Lockdown"
          ],
          [
           "Tom Clancy's Rainbow Six: Lockdown"
          ],
          [
           "Tom Clancy's Rainbow Six: Lockdown"
          ],
          [
           "Tom Clancy's Rainbow Six: Lockdown"
          ],
          [
           "Tom Clancy's Rainbow Six: Vegas"
          ],
          [
           "Tom Clancy's Rainbow Six: Vegas"
          ],
          [
           "Tom Clancy's Rainbow Six: Vegas"
          ],
          [
           "Tom Clancy's Rainbow Six: Vegas"
          ],
          [
           "Tom Clancy's Rainbow Six: Vegas 2"
          ],
          [
           "Tom Clancy's Rainbow Six: Vegas 2"
          ],
          [
           "Tom Clancy's Rainbow Six: Vegas 2"
          ],
          [
           "Tom Clancy's Rainbow Six: Siege"
          ],
          [
           "Tom Clancy's Rainbow Six: Siege"
          ],
          [
           "Tom Clancy's Rainbow Six: Siege"
          ],
          [
           "Tom Clancy's Rainbow Six: Siege"
          ],
          [
           "Tom Clancy's Rainbow Six: Siege"
          ],
          [
           "Tom Clancy's Rainbow Six Extraction"
          ],
          [
           "Tom Clancy's Rainbow Six Extraction"
          ],
          [
           "Tom Clancy's Rainbow Six Extraction"
          ],
          [
           "Tom Clancy's Rainbow Six Extraction"
          ],
          [
           "Tom Clancy's Rainbow Six Extraction"
          ]
         ],
         "hovertemplate": "Developer_List=Ubisoft Montreal<br>Release_Year=%{x}<br>Platform_List=%{y}<br>Title=%{customdata[0]}<extra></extra>",
         "legendgroup": "Ubisoft Montreal",
         "marker": {
          "color": "#EF553B",
          "symbol": "circle"
         },
         "mode": "markers",
         "name": "Ubisoft Montreal",
         "showlegend": true,
         "type": "scattergl",
         "x": {
          "bdata": "1QfWB9YH1gfYB9gH2AfcB9wH3AfcB9wH3QfdB90H3QfdB94H3gfeB94H3gfgB+AH4AfiB+IH4gfjB+MH4wfTB9MH0wfTB9MH1QfVB9UH1QfWB9YH1gfWB9gH2AfYB98H3wffB98H3wfmB+YH5gfmB+YH",
          "dtype": "i2"
         },
         "xaxis": "x",
         "y": [
          "Xbox",
          "Xbox",
          "X360",
          "Wii",
          "WIN",
          "PS3",
          "X360",
          "WIN",
          "PS3",
          "X360",
          "PS4",
          "XONE",
          "WIN",
          "PS3 (PSN)",
          "X360 (XBLA)",
          "PS4",
          "XONE",
          "WIN",
          "PS3",
          "PS4",
          "X360",
          "XONE",
          "WIN",
          "PS4",
          "XONE",
          "WIN",
          "PS4",
          "XONE",
          "WIN",
          "PS4",
          "XONE",
          "WIN",
          "OSX",
          "Xbox",
          "PS2",
          "GCN",
          "PS2",
          "Xbox",
          "GCN",
          "WIN",
          "WIN",
          "X360",
          "PS3",
          "PSP",
          "WIN",
          "PS3",
          "X360",
          "WIN",
          "PS4",
          "XONE",
          "PS5",
          "XSX",
          "WIN",
          "PS4",
          "XONE",
          "PS5",
          "XSX"
         ],
         "yaxis": "y"
        },
        {
         "customdata": [
          [
           "Far Cry 5"
          ],
          [
           "Far Cry 5"
          ],
          [
           "Far Cry 5"
          ],
          [
           "Far Cry 6"
          ],
          [
           "Far Cry 6"
          ],
          [
           "Far Cry 6"
          ],
          [
           "Far Cry 6"
          ],
          [
           "Far Cry 6"
          ]
         ],
         "hovertemplate": "Developer_List=Ubisoft Toronto<br>Release_Year=%{x}<br>Platform_List=%{y}<br>Title=%{customdata[0]}<extra></extra>",
         "legendgroup": "Ubisoft Toronto",
         "marker": {
          "color": "#00cc96",
          "symbol": "circle"
         },
         "mode": "markers",
         "name": "Ubisoft Toronto",
         "showlegend": true,
         "type": "scattergl",
         "x": {
          "bdata": "4gfiB+IH5QflB+UH5QflBw==",
          "dtype": "i2"
         },
         "xaxis": "x",
         "y": [
          "WIN",
          "PS4",
          "XONE",
          "WIN",
          "PS4",
          "PS5",
          "XONE",
          "XSX"
         ],
         "yaxis": "y"
        },
        {
         "customdata": [
          [
           "Final Doom"
          ],
          [
           "Final Doom"
          ],
          [
           "Final Doom"
          ],
          [
           "Final Doom"
          ],
          [
           "Final Doom"
          ]
         ],
         "hovertemplate": "Developer_List=id Software TeamTNT Casali brothers<br>Release_Year=%{x}<br>Platform_List=%{y}<br>Title=%{customdata[0]}<extra></extra>",
         "legendgroup": "id Software TeamTNT Casali brothers",
         "marker": {
          "color": "#ab63fa",
          "symbol": "circle"
         },
         "mode": "markers",
         "name": "id Software TeamTNT Casali brothers",
         "showlegend": true,
         "type": "scattergl",
         "x": {
          "bdata": "zAfMB8wHzAfMBw==",
          "dtype": "i2"
         },
         "xaxis": "x",
         "y": [
          "DOS",
          "WIN",
          "MAC",
          "PS1",
          "PS3 (PSN)"
         ],
         "yaxis": "y"
        },
        {
         "customdata": [
          [
           "The Finals"
          ],
          [
           "The Finals"
          ],
          [
           "The Finals"
          ]
         ],
         "hovertemplate": "Developer_List=Embark Studios<br>Release_Year=%{x}<br>Platform_List=%{y}<br>Title=%{customdata[0]}<extra></extra>",
         "legendgroup": "Embark Studios",
         "marker": {
          "color": "#FFA15A",
          "symbol": "circle"
         },
         "mode": "markers",
         "name": "Embark Studios",
         "showlegend": true,
         "type": "scattergl",
         "x": {
          "bdata": "5wfnB+cH",
          "dtype": "i2"
         },
         "xaxis": "x",
         "y": [
          "WIN",
          "PS5",
          "XSX"
         ],
         "yaxis": "y"
        },
        {
         "customdata": [
          [
           "Flying Heroes"
          ],
          [
           "Vietcong"
          ],
          [
           "Vietcong"
          ],
          [
           "Vietcong"
          ],
          [
           "Vietcong 2"
          ]
         ],
         "hovertemplate": "Developer_List=Pterodon Illusion Softworks<br>Release_Year=%{x}<br>Platform_List=%{y}<br>Title=%{customdata[0]}<extra></extra>",
         "legendgroup": "Pterodon Illusion Softworks",
         "marker": {
          "color": "#19d3f3",
          "symbol": "circle"
         },
         "mode": "markers",
         "name": "Pterodon Illusion Softworks",
         "showlegend": true,
         "type": "scattergl",
         "x": {
          "bdata": "0AfTB9MH0wfVBw==",
          "dtype": "i2"
         },
         "xaxis": "x",
         "y": [
          "WIN",
          "WIN",
          "PS2",
          "Xbox",
          "WIN"
         ],
         "yaxis": "y"
        },
        {
         "customdata": [
          [
           "Forbes Corporate Warrior"
          ]
         ],
         "hovertemplate": "Developer_List=Byron Preiss Multimedia Company<br>Release_Year=%{x}<br>Platform_List=%{y}<br>Title=%{customdata[0]}<extra></extra>",
         "legendgroup": "Byron Preiss Multimedia Company",
         "marker": {
          "color": "#FF6692",
          "symbol": "circle"
         },
         "mode": "markers",
         "name": "Byron Preiss Multimedia Company",
         "showlegend": true,
         "type": "scattergl",
         "x": {
          "bdata": "zQc=",
          "dtype": "i2"
         },
         "xaxis": "x",
         "y": [
          "WIN9X"
         ],
         "yaxis": "y"
        },
        {
         "customdata": [
          [
           "The Fortress of Dr. Radiaki"
          ]
         ],
         "hovertemplate": "Developer_List=Future Visionary<br>Release_Year=%{x}<br>Platform_List=%{y}<br>Title=%{customdata[0]}<extra></extra>",
         "legendgroup": "Future Visionary",
         "marker": {
          "color": "#B6E880",
          "symbol": "circle"
         },
         "mode": "markers",
         "name": "Future Visionary",
         "showlegend": true,
         "type": "scattergl",
         "x": {
          "bdata": "ygc=",
          "dtype": "i2"
         },
         "xaxis": "x",
         "y": [
          "DOS"
         ],
         "yaxis": "y"
        },
        {
         "customdata": [
          [
           "The Fortress of Dr. Radiaki"
          ]
         ],
         "hovertemplate": "Developer_List=Inc. Maelstrom Software<br>Release_Year=%{x}<br>Platform_List=%{y}<br>Title=%{customdata[0]}<extra></extra>",
         "legendgroup": "Inc. Maelstrom Software",
         "marker": {
          "color": "#FF97FF",
          "symbol": "circle"
         },
         "mode": "markers",
         "name": "Inc. Maelstrom Software",
         "showlegend": true,
         "type": "scattergl",
         "x": {
          "bdata": "ygc=",
          "dtype": "i2"
         },
         "xaxis": "x",
         "y": [
          "DOS"
         ],
         "yaxis": "y"
        },
        {
         "customdata": [
          [
           "Frontlines: Fuel of War"
          ],
          [
           "Frontlines: Fuel of War"
          ],
          [
           "Homefront"
          ],
          [
           "Homefront"
          ],
          [
           "Homefront"
          ]
         ],
         "hovertemplate": "Developer_List=Kaos Studios<br>Release_Year=%{x}<br>Platform_List=%{y}<br>Title=%{customdata[0]}<extra></extra>",
         "legendgroup": "Kaos Studios",
         "marker": {
          "color": "#FECB52",
          "symbol": "circle"
         },
         "mode": "markers",
         "name": "Kaos Studios",
         "showlegend": true,
         "type": "scattergl",
         "x": {
          "bdata": "2AfYB9sH2wfbBw==",
          "dtype": "i2"
         },
         "xaxis": "x",
         "y": [
          "WIN",
          "X360",
          "WIN",
          "PS3",
          "X360"
         ],
         "yaxis": "y"
        },
        {
         "customdata": [
          [
           "Geist"
          ],
          [
           "Medal of Honor: Allied Assault"
          ],
          [
           "Medal of Honor: Allied Assault"
          ],
          [
           "Medal of Honor: Allied Assault"
          ],
          [
           "Men of Valor"
          ],
          [
           "Men of Valor"
          ]
         ],
         "hovertemplate": "Developer_List=Inc.<br>Release_Year=%{x}<br>Platform_List=%{y}<br>Title=%{customdata[0]}<extra></extra>",
         "legendgroup": "Inc.",
         "marker": {
          "color": "#636efa",
          "symbol": "circle"
         },
         "mode": "markers",
         "name": "Inc.",
         "showlegend": true,
         "type": "scattergl",
         "x": {
          "bdata": "1QfSB9IH0gfUB9QH",
          "dtype": "i2"
         },
         "xaxis": "x",
         "y": [
          "GameCube",
          "WIN",
          "OSX",
          "LIN",
          "Xbox",
          "WIN"
         ],
         "yaxis": "y"
        },
        {
         "customdata": [
          [
           "Generation Zero"
          ],
          [
           "Generation Zero"
          ],
          [
           "Generation Zero"
          ]
         ],
         "hovertemplate": "Developer_List=Systemic Reaction<br>Release_Year=%{x}<br>Platform_List=%{y}<br>Title=%{customdata[0]}<extra></extra>",
         "legendgroup": "Systemic Reaction",
         "marker": {
          "color": "#EF553B",
          "symbol": "circle"
         },
         "mode": "markers",
         "name": "Systemic Reaction",
         "showlegend": true,
         "type": "scattergl",
         "x": {
          "bdata": "4wfjB+MH",
          "dtype": "i2"
         },
         "xaxis": "x",
         "y": [
          "WIN",
          "PS4",
          "XONE"
         ],
         "yaxis": "y"
        },
        {
         "customdata": [
          [
           "Ghost in the Shell: Stand Alone Complex"
          ]
         ],
         "hovertemplate": "Developer_List=G-Artists<br>Release_Year=%{x}<br>Platform_List=%{y}<br>Title=%{customdata[0]}<extra></extra>",
         "legendgroup": "G-Artists",
         "marker": {
          "color": "#00cc96",
          "symbol": "circle"
         },
         "mode": "markers",
         "name": "G-Artists",
         "showlegend": true,
         "type": "scattergl",
         "x": {
          "bdata": "1Qc=",
          "dtype": "i2"
         },
         "xaxis": "x",
         "y": [
          "PSP"
         ],
         "yaxis": "y"
        },
        {
         "customdata": [
          [
           "Global Operations"
          ]
         ],
         "hovertemplate": "Developer_List=Barking Dog Studios<br>Release_Year=%{x}<br>Platform_List=%{y}<br>Title=%{customdata[0]}<extra></extra>",
         "legendgroup": "Barking Dog Studios",
         "marker": {
          "color": "#ab63fa",
          "symbol": "circle"
         },
         "mode": "markers",
         "name": "Barking Dog Studios",
         "showlegend": true,
         "type": "scattergl",
         "x": {
          "bdata": "0gc=",
          "dtype": "i2"
         },
         "xaxis": "x",
         "y": [
          "WIN"
         ],
         "yaxis": "y"
        },
        {
         "customdata": [
          [
           "Gloom"
          ],
          [
           "Gloom"
          ],
          [
           "Gloom 3"
          ],
          [
           "Gloom 3"
          ]
         ],
         "hovertemplate": "Developer_List=Black Magic Software<br>Release_Year=%{x}<br>Platform_List=%{y}<br>Title=%{customdata[0]}<extra></extra>",
         "legendgroup": "Black Magic Software",
         "marker": {
          "color": "#FFA15A",
          "symbol": "circle"
         },
         "mode": "markers",
         "name": "Black Magic Software",
         "showlegend": true,
         "type": "scattergl",
         "x": {
          "bdata": "ywfLB80HzQc=",
          "dtype": "i2"
         },
         "xaxis": "x",
         "y": [
          "AMI",
          "AMI32",
          "AMI",
          "AMI32"
         ],
         "yaxis": "y"
        },
        {
         "customdata": [
          [
           "Gods and Generals"
          ]
         ],
         "hovertemplate": "Developer_List=AniVision<br>Release_Year=%{x}<br>Platform_List=%{y}<br>Title=%{customdata[0]}<extra></extra>",
         "legendgroup": "AniVision",
         "marker": {
          "color": "#19d3f3",
          "symbol": "circle"
         },
         "mode": "markers",
         "name": "AniVision",
         "showlegend": true,
         "type": "scattergl",
         "x": {
          "bdata": "0wc=",
          "dtype": "i2"
         },
         "xaxis": "x",
         "y": [
          "WIN"
         ],
         "yaxis": "y"
        },
        {
         "customdata": [
          [
           "GoldenEye 007"
          ],
          [
           "Perfect Dark"
          ],
          [
           "Perfect Dark Zero"
          ]
         ],
         "hovertemplate": "Developer_List=Rare<br>Release_Year=%{x}<br>Platform_List=%{y}<br>Title=%{customdata[0]}<extra></extra>",
         "legendgroup": "Rare",
         "marker": {
          "color": "#FF6692",
          "symbol": "circle"
         },
         "mode": "markers",
         "name": "Rare",
         "showlegend": true,
         "type": "scattergl",
         "x": {
          "bdata": "zQfQB9UH",
          "dtype": "i2"
         },
         "xaxis": "x",
         "y": [
          "N64",
          "N64",
          "X360"
         ],
         "yaxis": "y"
        },
        {
         "customdata": [
          [
           "Golgo 13: Top Secret Episode"
          ]
         ],
         "hovertemplate": "Developer_List=Vic Tokai<br>Release_Year=%{x}<br>Platform_List=%{y}<br>Title=%{customdata[0]}<extra></extra>",
         "legendgroup": "Vic Tokai",
         "marker": {
          "color": "#B6E880",
          "symbol": "circle"
         },
         "mode": "markers",
         "name": "Vic Tokai",
         "showlegend": true,
         "type": "scattergl",
         "x": {
          "bdata": "xAc=",
          "dtype": "i2"
         },
         "xaxis": "x",
         "y": [
          "NES"
         ],
         "yaxis": "y"
        },
        {
         "customdata": [
          [
           "Gore: Ultimate Soldier"
          ],
          [
           "Patriots: A Nation Under Fire"
          ],
          [
           "Secret Service 2: Security Breach"
          ]
         ],
         "hovertemplate": "Developer_List=4D Rulers<br>Release_Year=%{x}<br>Platform_List=%{y}<br>Title=%{customdata[0]}<extra></extra>",
         "legendgroup": "4D Rulers",
         "marker": {
          "color": "#FF97FF",
          "symbol": "circle"
         },
         "mode": "markers",
         "name": "4D Rulers",
         "showlegend": true,
         "type": "scattergl",
         "x": {
          "bdata": "0gcAANMH",
          "dtype": "i2"
         },
         "xaxis": "x",
         "y": [
          "WIN",
          "WIN",
          "WIN"
         ],
         "yaxis": "y"
        },
        {
         "customdata": [
          [
           "Grand Theft Auto V"
          ],
          [
           "Grand Theft Auto V"
          ],
          [
           "Grand Theft Auto V"
          ],
          [
           "Grand Theft Auto V"
          ],
          [
           "Grand Theft Auto V"
          ]
         ],
         "hovertemplate": "Developer_List=Rockstar North<br>Release_Year=%{x}<br>Platform_List=%{y}<br>Title=%{customdata[0]}<extra></extra>",
         "legendgroup": "Rockstar North",
         "marker": {
          "color": "#FECB52",
          "symbol": "circle"
         },
         "mode": "markers",
         "name": "Rockstar North",
         "showlegend": true,
         "type": "scattergl",
         "x": {
          "bdata": "3QfdB90H3QfdBw==",
          "dtype": "i2"
         },
         "xaxis": "x",
         "y": [
          "PS4",
          "XONE",
          "WIN",
          "PS5",
          "XSX"
         ],
         "yaxis": "y"
        },
        {
         "customdata": [
          [
           "GTFO"
          ]
         ],
         "hovertemplate": "Developer_List=10 Chambers Collective<br>Release_Year=%{x}<br>Platform_List=%{y}<br>Title=%{customdata[0]}<extra></extra>",
         "legendgroup": "10 Chambers Collective",
         "marker": {
          "color": "#636efa",
          "symbol": "circle"
         },
         "mode": "markers",
         "name": "10 Chambers Collective",
         "showlegend": true,
         "type": "scattergl",
         "x": {
          "bdata": "5Qc=",
          "dtype": "i2"
         },
         "xaxis": "x",
         "y": [
          "WIN"
         ],
         "yaxis": "y"
        },
        {
         "customdata": [
          [
           "Gun Buster"
          ]
         ],
         "hovertemplate": "Developer_List=Taito<br>Release_Year=%{x}<br>Platform_List=%{y}<br>Title=%{customdata[0]}<extra></extra>",
         "legendgroup": "Taito",
         "marker": {
          "color": "#EF553B",
          "symbol": "circle"
         },
         "mode": "markers",
         "name": "Taito",
         "showlegend": true,
         "type": "scattergl",
         "x": {
          "bdata": "AA==",
          "dtype": "i1"
         },
         "xaxis": "x",
         "y": [
          "Arcade"
         ],
         "yaxis": "y"
        },
        {
         "customdata": [
          [
           "Gungriffon Blaze"
          ]
         ],
         "hovertemplate": "Developer_List=Game Arts<br>Release_Year=%{x}<br>Platform_List=%{y}<br>Title=%{customdata[0]}<extra></extra>",
         "legendgroup": "Game Arts",
         "marker": {
          "color": "#00cc96",
          "symbol": "circle"
         },
         "mode": "markers",
         "name": "Game Arts",
         "showlegend": true,
         "type": "scattergl",
         "x": {
          "bdata": "0Ac=",
          "dtype": "i2"
         },
         "xaxis": "x",
         "y": [
          "PS2"
         ],
         "yaxis": "y"
        },
        {
         "customdata": [
          [
           "Gungriffon Blaze"
          ],
          [
           "Resident Evil Survivor 2 Code: Veronica"
          ],
          [
           "Resident Evil Survivor 2 Code: Veronica"
          ],
          [
           "Resident Evil: The Umbrella Chronicles"
          ],
          [
           "Resident Evil: The Umbrella Chronicles"
          ],
          [
           "Resident Evil: The Darkside Chronicles"
          ],
          [
           "Resident Evil: The Darkside Chronicles"
          ],
          [
           "Resident Evil 7: Biohazard"
          ],
          [
           "Resident Evil 7: Biohazard"
          ],
          [
           "Resident Evil 7: Biohazard"
          ],
          [
           "Resident Evil 7: Biohazard"
          ],
          [
           "Resident Evil 7: Biohazard"
          ],
          [
           "Resident Evil 7: Biohazard"
          ],
          [
           "Resident Evil Village"
          ],
          [
           "Resident Evil Village"
          ],
          [
           "Resident Evil Village"
          ],
          [
           "Resident Evil Village"
          ],
          [
           "Resident Evil Village"
          ]
         ],
         "hovertemplate": "Developer_List=Capcom<br>Release_Year=%{x}<br>Platform_List=%{y}<br>Title=%{customdata[0]}<extra></extra>",
         "legendgroup": "Capcom",
         "marker": {
          "color": "#ab63fa",
          "symbol": "circle"
         },
         "mode": "markers",
         "name": "Capcom",
         "showlegend": true,
         "type": "scattergl",
         "x": {
          "bdata": "0AfRB9EH1wfXB9kH2QfhB+EH4QfhB+EH4QflB+UH5QflB+UH",
          "dtype": "i2"
         },
         "xaxis": "x",
         "y": [
          "PS2",
          "Arcade",
          "PS2",
          "Wii",
          "PS3 (PSN)",
          "Wii",
          "PS3 (PSN)",
          "WIN",
          "PS4",
          "XONE",
          "NX",
          "PS5",
          "XSX",
          "WIN",
          "PS4",
          "PS5",
          "XONE",
          "XSX"
         ],
         "yaxis": "y"
        },
        {
         "customdata": [
          [
           "Gunman Chronicles"
          ]
         ],
         "hovertemplate": "Developer_List=Rewolf Software<br>Release_Year=%{x}<br>Platform_List=%{y}<br>Title=%{customdata[0]}<extra></extra>",
         "legendgroup": "Rewolf Software",
         "marker": {
          "color": "#FFA15A",
          "symbol": "circle"
         },
         "mode": "markers",
         "name": "Rewolf Software",
         "showlegend": true,
         "type": "scattergl",
         "x": {
          "bdata": "0Ac=",
          "dtype": "i2"
         },
         "xaxis": "x",
         "y": [
          "WIN"
         ],
         "yaxis": "y"
        },
        {
         "customdata": [
          [
           "Gunmetal"
          ],
          [
           "Gunmetal"
          ]
         ],
         "hovertemplate": "Developer_List=Mad Genius Software<br>Release_Year=%{x}<br>Platform_List=%{y}<br>Title=%{customdata[0]}<extra></extra>",
         "legendgroup": "Mad Genius Software",
         "marker": {
          "color": "#19d3f3",
          "symbol": "circle"
         },
         "mode": "markers",
         "name": "Mad Genius Software",
         "showlegend": true,
         "type": "scattergl",
         "x": {
          "bdata": "zgfOBw==",
          "dtype": "i2"
         },
         "xaxis": "x",
         "y": [
          "DOS",
          "WIN"
         ],
         "yaxis": "y"
        },
        {
         "customdata": [
          [
           "H.U.R.L."
          ]
         ],
         "hovertemplate": "Developer_List=Millennium Media Group<br>Release_Year=%{x}<br>Platform_List=%{y}<br>Title=%{customdata[0]}<extra></extra>",
         "legendgroup": "Millennium Media Group",
         "marker": {
          "color": "#FF6692",
          "symbol": "circle"
         },
         "mode": "markers",
         "name": "Millennium Media Group",
         "showlegend": true,
         "type": "scattergl",
         "x": {
          "bdata": "ywc=",
          "dtype": "i2"
         },
         "xaxis": "x",
         "y": [
          "DOS"
         ],
         "yaxis": "y"
        },
        {
         "customdata": [
          [
           "Hacx: Twitch 'n Kill"
          ]
         ],
         "hovertemplate": "Developer_List=Banjo Software<br>Release_Year=%{x}<br>Platform_List=%{y}<br>Title=%{customdata[0]}<extra></extra>",
         "legendgroup": "Banjo Software",
         "marker": {
          "color": "#B6E880",
          "symbol": "circle"
         },
         "mode": "markers",
         "name": "Banjo Software",
         "showlegend": true,
         "type": "scattergl",
         "x": {
          "bdata": "AA==",
          "dtype": "i1"
         },
         "xaxis": "x",
         "y": [
          "DOS"
         ],
         "yaxis": "y"
        },
        {
         "customdata": [
          [
           "Halo: Combat Evolved Anniversary"
          ],
          [
           "Halo: Combat Evolved Anniversary"
          ],
          [
           "Halo: Combat Evolved Anniversary"
          ],
          [
           "Halo: Combat Evolved Anniversary"
          ],
          [
           "Halo 4"
          ],
          [
           "Halo 4"
          ],
          [
           "Halo 4"
          ],
          [
           "Halo 4"
          ],
          [
           "Halo 2 Anniversary"
          ],
          [
           "Halo 2 Anniversary"
          ],
          [
           "Halo 2 Anniversary"
          ],
          [
           "Halo 5: Guardians"
          ],
          [
           "Halo Infinite"
          ],
          [
           "Halo Infinite"
          ],
          [
           "Halo Infinite"
          ]
         ],
         "hovertemplate": "Developer_List=343 Industries<br>Release_Year=%{x}<br>Platform_List=%{y}<br>Title=%{customdata[0]}<extra></extra>",
         "legendgroup": "343 Industries",
         "marker": {
          "color": "#FF97FF",
          "symbol": "circle"
         },
         "mode": "markers",
         "name": "343 Industries",
         "showlegend": true,
         "type": "scattergl",
         "x": {
          "bdata": "2wfbB9sH2wfcB9wH3AfcB94H3gfeB98H5QflB+UH",
          "dtype": "i2"
         },
         "xaxis": "x",
         "y": [
          "X360",
          "XONE",
          "WIN",
          "XSX",
          "X360",
          "XONE",
          "WIN",
          "XSX",
          "XONE",
          "WIN",
          "XSX",
          "XONE",
          "XONE",
          "XSX",
          "WIN"
         ],
         "yaxis": "y"
        },
        {
         "customdata": [
          [
           "Hard Reset"
          ],
          [
           "Hard Reset"
          ],
          [
           "Hard Reset"
          ],
          [
           "Shadow Warrior"
          ],
          [
           "Shadow Warrior"
          ],
          [
           "Shadow Warrior"
          ],
          [
           "Shadow Warrior"
          ],
          [
           "Shadow Warrior"
          ],
          [
           "Shadow Warrior 2"
          ],
          [
           "Shadow Warrior 2"
          ],
          [
           "Shadow Warrior 2"
          ],
          [
           "Shadow Warrior 3"
          ],
          [
           "Shadow Warrior 3"
          ],
          [
           "Shadow Warrior 3"
          ],
          [
           "Shadow Warrior 3"
          ],
          [
           "Shadow Warrior 3"
          ]
         ],
         "hovertemplate": "Developer_List=Flying Wild Hog<br>Release_Year=%{x}<br>Platform_List=%{y}<br>Title=%{customdata[0]}<extra></extra>",
         "legendgroup": "Flying Wild Hog",
         "marker": {
          "color": "#FECB52",
          "symbol": "circle"
         },
         "mode": "markers",
         "name": "Flying Wild Hog",
         "showlegend": true,
         "type": "scattergl",
         "x": {
          "bdata": "2wfbB9sH3QfdB90H3QfdB+AH4AfgB+YH5gfmB+YH5gc=",
          "dtype": "i2"
         },
         "xaxis": "x",
         "y": [
          "WIN",
          "PS4",
          "XONE",
          "WIN",
          "PS4",
          "XONE",
          "OSX",
          "LIN",
          "WIN",
          "PS4",
          "XONE",
          "WIN",
          "PS4",
          "XONE",
          "PS5",
          "XSX"
         ],
         "yaxis": "y"
        },
        {
         "customdata": [
          [
           "Haze"
          ],
          [
           "TimeSplitters"
          ],
          [
           "TimeSplitters 2"
          ],
          [
           "TimeSplitters 2"
          ],
          [
           "TimeSplitters 2"
          ],
          [
           "TimeSplitters: Future Perfect"
          ],
          [
           "TimeSplitters: Future Perfect"
          ],
          [
           "TimeSplitters: Future Perfect"
          ]
         ],
         "hovertemplate": "Developer_List=Free Radical Design<br>Release_Year=%{x}<br>Platform_List=%{y}<br>Title=%{customdata[0]}<extra></extra>",
         "legendgroup": "Free Radical Design",
         "marker": {
          "color": "#636efa",
          "symbol": "circle"
         },
         "mode": "markers",
         "name": "Free Radical Design",
         "showlegend": true,
         "type": "scattergl",
         "x": {
          "bdata": "2AfQB9IH0gfSB9UH1QfVBw==",
          "dtype": "i2"
         },
         "xaxis": "x",
         "y": [
          "PS3",
          "PS2",
          "PS2",
          "Xbox",
          "GCN",
          "PS2",
          "Xbox",
          "GCN"
         ],
         "yaxis": "y"
        },
        {
         "customdata": [
          [
           "Heat Project"
          ]
         ],
         "hovertemplate": "Developer_List=DOOBIC Entertainment<br>Release_Year=%{x}<br>Platform_List=%{y}<br>Title=%{customdata[0]}<extra></extra>",
         "legendgroup": "DOOBIC Entertainment",
         "marker": {
          "color": "#EF553B",
          "symbol": "circle"
         },
         "mode": "markers",
         "name": "DOOBIC Entertainment",
         "showlegend": true,
         "type": "scattergl",
         "x": {
          "bdata": "0wc=",
          "dtype": "i2"
         },
         "xaxis": "x",
         "y": [
          "WIN"
         ],
         "yaxis": "y"
        },
        {
         "customdata": [
          [
           "Heavy Bullets"
          ],
          [
           "Heavy Bullets"
          ]
         ],
         "hovertemplate": "Developer_List=Terri Vellmann<br>Release_Year=%{x}<br>Platform_List=%{y}<br>Title=%{customdata[0]}<extra></extra>",
         "legendgroup": "Terri Vellmann",
         "marker": {
          "color": "#00cc96",
          "symbol": "circle"
         },
         "mode": "markers",
         "name": "Terri Vellmann",
         "showlegend": true,
         "type": "scattergl",
         "x": {
          "bdata": "3gfeBw==",
          "dtype": "i2"
         },
         "xaxis": "x",
         "y": [
          "WIN",
          "MAC"
         ],
         "yaxis": "y"
        },
        {
         "customdata": [
          [
           "Heavy Bullets"
          ],
          [
           "Heavy Bullets"
          ],
          [
           "Strafe"
          ]
         ],
         "hovertemplate": "Developer_List=Devolver Digital<br>Release_Year=%{x}<br>Platform_List=%{y}<br>Title=%{customdata[0]}<extra></extra>",
         "legendgroup": "Devolver Digital",
         "marker": {
          "color": "#ab63fa",
          "symbol": "circle"
         },
         "mode": "markers",
         "name": "Devolver Digital",
         "showlegend": true,
         "type": "scattergl",
         "x": {
          "bdata": "3gfeB+EH",
          "dtype": "i2"
         },
         "xaxis": "x",
         "y": [
          "WIN",
          "MAC",
          "WIN"
         ],
         "yaxis": "y"
        },
        {
         "customdata": [
          [
           "Hellgate: London"
          ]
         ],
         "hovertemplate": "Developer_List=Flagship Studios<br>Release_Year=%{x}<br>Platform_List=%{y}<br>Title=%{customdata[0]}<extra></extra>",
         "legendgroup": "Flagship Studios",
         "marker": {
          "color": "#FFA15A",
          "symbol": "circle"
         },
         "mode": "markers",
         "name": "Flagship Studios",
         "showlegend": true,
         "type": "scattergl",
         "x": {
          "bdata": "1wc=",
          "dtype": "i2"
         },
         "xaxis": "x",
         "y": [
          "WIN"
         ],
         "yaxis": "y"
        },
        {
         "customdata": [
          [
           "Hell Let Loose"
          ],
          [
           "Hell Let Loose"
          ],
          [
           "Hell Let Loose"
          ]
         ],
         "hovertemplate": "Developer_List=Expression Games<br>Release_Year=%{x}<br>Platform_List=%{y}<br>Title=%{customdata[0]}<extra></extra>",
         "legendgroup": "Expression Games",
         "marker": {
          "color": "#19d3f3",
          "symbol": "circle"
         },
         "mode": "markers",
         "name": "Expression Games",
         "showlegend": true,
         "type": "scattergl",
         "x": {
          "bdata": "5QflB+UH",
          "dtype": "i2"
         },
         "xaxis": "x",
         "y": [
          "WIN",
          "PS5",
          "XSX"
         ],
         "yaxis": "y"
        },
        {
         "customdata": [
          [
           "Hell Let Loose"
          ],
          [
           "Hell Let Loose"
          ],
          [
           "Hell Let Loose"
          ]
         ],
         "hovertemplate": "Developer_List=Cover 6 Studios<br>Release_Year=%{x}<br>Platform_List=%{y}<br>Title=%{customdata[0]}<extra></extra>",
         "legendgroup": "Cover 6 Studios",
         "marker": {
          "color": "#FF6692",
          "symbol": "circle"
         },
         "mode": "markers",
         "name": "Cover 6 Studios",
         "showlegend": true,
         "type": "scattergl",
         "x": {
          "bdata": "5QflB+UH",
          "dtype": "i2"
         },
         "xaxis": "x",
         "y": [
          "WIN",
          "PS5",
          "XSX"
         ],
         "yaxis": "y"
        },
        {
         "customdata": [
          [
           "Hrot"
          ]
         ],
         "hovertemplate": "Developer_List=Spytihněv<br>Release_Year=%{x}<br>Platform_List=%{y}<br>Title=%{customdata[0]}<extra></extra>",
         "legendgroup": "Spytihněv",
         "marker": {
          "color": "#B6E880",
          "symbol": "circle"
         },
         "mode": "markers",
         "name": "Spytihněv",
         "showlegend": true,
         "type": "scattergl",
         "x": {
          "bdata": "5Qc=",
          "dtype": "i2"
         },
         "xaxis": "x",
         "y": [
          "WIN"
         ],
         "yaxis": "y"
        },
        {
         "customdata": [
          [
           "Hidden & Dangerous"
          ],
          [
           "Hidden & Dangerous"
          ],
          [
           "Hidden & Dangerous"
          ],
          [
           "Hidden & Dangerous 2"
          ]
         ],
         "hovertemplate": "Developer_List=Illusion Softworks<br>Release_Year=%{x}<br>Platform_List=%{y}<br>Title=%{customdata[0]}<extra></extra>",
         "legendgroup": "Illusion Softworks",
         "marker": {
          "color": "#FF97FF",
          "symbol": "circle"
         },
         "mode": "markers",
         "name": "Illusion Softworks",
         "showlegend": true,
         "type": "scattergl",
         "x": {
          "bdata": "zwfPB88H0wc=",
          "dtype": "i2"
         },
         "xaxis": "x",
         "y": [
          "WIN",
          "DC",
          "PS1",
          "WIN"
         ],
         "yaxis": "y"
        },
        {
         "customdata": [
          [
           "High on Life"
          ],
          [
           "High on Life"
          ],
          [
           "High on Life"
          ],
          [
           "High on Life"
          ],
          [
           "High on Life"
          ]
         ],
         "hovertemplate": "Developer_List=Squanch Games<br>Release_Year=%{x}<br>Platform_List=%{y}<br>Title=%{customdata[0]}<extra></extra>",
         "legendgroup": "Squanch Games",
         "marker": {
          "color": "#FECB52",
          "symbol": "circle"
         },
         "mode": "markers",
         "name": "Squanch Games",
         "showlegend": true,
         "type": "scattergl",
         "x": {
          "bdata": "5gfmB+YH5gfmBw==",
          "dtype": "i2"
         },
         "xaxis": "x",
         "y": [
          "WIN",
          "XONE",
          "XSX",
          "PS4",
          "PS5"
         ],
         "yaxis": "y"
        },
        {
         "customdata": [
          [
           "The History Channel: Civil War – A Nation Divided"
          ],
          [
           "The History Channel: Civil War – A Nation Divided"
          ],
          [
           "The History Channel: Civil War – A Nation Divided"
          ],
          [
           "The History Channel: Battle for the Pacific"
          ],
          [
           "The History Channel: Battle for the Pacific"
          ],
          [
           "The History Channel: Battle for the Pacific"
          ],
          [
           "The History Channel: Battle for the Pacific"
          ],
          [
           "The History Channel: Battle for the Pacific"
          ],
          [
           "Jurassic: The Hunted"
          ],
          [
           "Jurassic: The Hunted"
          ],
          [
           "Jurassic: The Hunted"
          ],
          [
           "Jurassic: The Hunted"
          ],
          [
           "Secret Service"
          ],
          [
           "Secret Service"
          ],
          [
           "Secret Service"
          ],
          [
           "Soldier of Fortune: Payback"
          ],
          [
           "Soldier of Fortune: Payback"
          ],
          [
           "Soldier of Fortune: Payback"
          ]
         ],
         "hovertemplate": "Developer_List=Cauldron HQ<br>Release_Year=%{x}<br>Platform_List=%{y}<br>Title=%{customdata[0]}<extra></extra>",
         "legendgroup": "Cauldron HQ",
         "marker": {
          "color": "#636efa",
          "symbol": "circle"
         },
         "mode": "markers",
         "name": "Cauldron HQ",
         "showlegend": true,
         "type": "scattergl",
         "x": {
          "bdata": "1gfWB9YH1wfXB9cH1wfXB9kH2QfZB9kH2AfYB9gH1wfXB9cH",
          "dtype": "i2"
         },
         "xaxis": "x",
         "y": [
          "WIN",
          "PS2",
          "X360",
          "WIN",
          "PS2",
          "PS3",
          "X360",
          "Wii",
          "PS2",
          "PS3",
          "Wii",
          "X360",
          "WIN",
          "PS2",
          "X360",
          "WIN",
          "PS3",
          "X360"
         ],
         "yaxis": "y"
        },
        {
         "customdata": [
          [
           "Horizon V"
          ]
         ],
         "hovertemplate": "Developer_List=Gebelli Software<br>Release_Year=%{x}<br>Platform_List=%{y}<br>Title=%{customdata[0]}<extra></extra>",
         "legendgroup": "Gebelli Software",
         "marker": {
          "color": "#EF553B",
          "symbol": "circle"
         },
         "mode": "markers",
         "name": "Gebelli Software",
         "showlegend": true,
         "type": "scattergl",
         "x": {
          "bdata": "vgc=",
          "dtype": "i2"
         },
         "xaxis": "x",
         "y": [
          "Apple II"
         ],
         "yaxis": "y"
        },
        {
         "customdata": [
          [
           "Industria"
          ],
          [
           "Industria"
          ],
          [
           "Industria"
          ]
         ],
         "hovertemplate": "Developer_List=Bleakmill<br>Release_Year=%{x}<br>Platform_List=%{y}<br>Title=%{customdata[0]}<extra></extra>",
         "legendgroup": "Bleakmill",
         "marker": {
          "color": "#00cc96",
          "symbol": "circle"
         },
         "mode": "markers",
         "name": "Bleakmill",
         "showlegend": true,
         "type": "scattergl",
         "x": {
          "bdata": "5QflB+UH",
          "dtype": "i2"
         },
         "xaxis": "x",
         "y": [
          "WIN",
          "PS5",
          "XSX"
         ],
         "yaxis": "y"
        },
        {
         "customdata": [
          [
           "Inner Chains"
          ]
         ],
         "hovertemplate": "Developer_List=Telepaths Tree<br>Release_Year=%{x}<br>Platform_List=%{y}<br>Title=%{customdata[0]}<extra></extra>",
         "legendgroup": "Telepaths Tree",
         "marker": {
          "color": "#ab63fa",
          "symbol": "circle"
         },
         "mode": "markers",
         "name": "Telepaths Tree",
         "showlegend": true,
         "type": "scattergl",
         "x": {
          "bdata": "4Qc=",
          "dtype": "i2"
         },
         "xaxis": "x",
         "y": [
          "WIN"
         ],
         "yaxis": "y"
        },
        {
         "customdata": [
          [
           "In Pursuit of Greed"
          ]
         ],
         "hovertemplate": "Developer_List=Mind Shear Software<br>Release_Year=%{x}<br>Platform_List=%{y}<br>Title=%{customdata[0]}<extra></extra>",
         "legendgroup": "Mind Shear Software",
         "marker": {
          "color": "#FFA15A",
          "symbol": "circle"
         },
         "mode": "markers",
         "name": "Mind Shear Software",
         "showlegend": true,
         "type": "scattergl",
         "x": {
          "bdata": "ywc=",
          "dtype": "i2"
         },
         "xaxis": "x",
         "y": [
          "DOS"
         ],
         "yaxis": "y"
        },
        {
         "customdata": [
          [
           "Insurgency"
          ],
          [
           "Insurgency"
          ],
          [
           "Insurgency"
          ],
          [
           "Insurgency: Sandstorm"
          ],
          [
           "Insurgency: Sandstorm"
          ],
          [
           "Insurgency: Sandstorm"
          ],
          [
           "Insurgency: Sandstorm"
          ],
          [
           "Insurgency: Sandstorm"
          ]
         ],
         "hovertemplate": "Developer_List=New World Interactive<br>Release_Year=%{x}<br>Platform_List=%{y}<br>Title=%{customdata[0]}<extra></extra>",
         "legendgroup": "New World Interactive",
         "marker": {
          "color": "#19d3f3",
          "symbol": "circle"
         },
         "mode": "markers",
         "name": "New World Interactive",
         "showlegend": true,
         "type": "scattergl",
         "x": {
          "bdata": "3gfeB94H4gfiB+IH4gfiBw==",
          "dtype": "i2"
         },
         "xaxis": "x",
         "y": [
          "WIN",
          "OSX",
          "LIN",
          "WIN",
          "PS4",
          "XONE",
          "PS5",
          "XSX"
         ],
         "yaxis": "y"
        },
        {
         "customdata": [
          [
           "Ion Fury"
          ],
          [
           "Ion Fury"
          ],
          [
           "Ion Fury"
          ],
          [
           "Ion Fury"
          ],
          [
           "Ion Fury"
          ],
          [
           "Phantom Fury"
          ]
         ],
         "hovertemplate": "Developer_List=Voidpoint<br>Release_Year=%{x}<br>Platform_List=%{y}<br>Title=%{customdata[0]}<extra></extra>",
         "legendgroup": "Voidpoint",
         "marker": {
          "color": "#FF6692",
          "symbol": "circle"
         },
         "mode": "markers",
         "name": "Voidpoint",
         "showlegend": true,
         "type": "scattergl",
         "x": {
          "bdata": "AAAAAAAAAAAAAOgH",
          "dtype": "i2"
         },
         "xaxis": "x",
         "y": [
          "WIN",
          "LIN",
          "PS4",
          "XONE",
          "NX",
          "WIN"
         ],
         "yaxis": "y"
        },
        {
         "customdata": [
          [
           "Ion Fury"
          ],
          [
           "Ion Fury"
          ],
          [
           "Ion Fury"
          ],
          [
           "Ion Fury"
          ],
          [
           "Ion Fury"
          ]
         ],
         "hovertemplate": "Developer_List=General Arcade<br>Release_Year=%{x}<br>Platform_List=%{y}<br>Title=%{customdata[0]}<extra></extra>",
         "legendgroup": "General Arcade",
         "marker": {
          "color": "#B6E880",
          "symbol": "circle"
         },
         "mode": "markers",
         "name": "General Arcade",
         "showlegend": true,
         "type": "scattergl",
         "x": {
          "bdata": "AAAAAAA=",
          "dtype": "i1"
         },
         "xaxis": "x",
         "y": [
          "WIN",
          "LIN",
          "PS4",
          "XONE",
          "NX"
         ],
         "yaxis": "y"
        },
        {
         "customdata": [
          [
           "Iron Angel of the Apocalypse"
          ],
          [
           "Iron Angel of the Apocalypse: The Return"
          ]
         ],
         "hovertemplate": "Developer_List=Synergy Inc.<br>Release_Year=%{x}<br>Platform_List=%{y}<br>Title=%{customdata[0]}<extra></extra>",
         "legendgroup": "Synergy Inc.",
         "marker": {
          "color": "#FF97FF",
          "symbol": "circle"
         },
         "mode": "markers",
         "name": "Synergy Inc.",
         "showlegend": true,
         "type": "scattergl",
         "x": {
          "bdata": "ygfLBw==",
          "dtype": "i2"
         },
         "xaxis": "x",
         "y": [
          "3DO",
          "3DO"
         ],
         "yaxis": "y"
        },
        {
         "customdata": [
          [
           "Iron Grip: Warlord"
          ]
         ],
         "hovertemplate": "Developer_List=ISOTX<br>Release_Year=%{x}<br>Platform_List=%{y}<br>Title=%{customdata[0]}<extra></extra>",
         "legendgroup": "ISOTX",
         "marker": {
          "color": "#FECB52",
          "symbol": "circle"
         },
         "mode": "markers",
         "name": "ISOTX",
         "showlegend": true,
         "type": "scattergl",
         "x": {
          "bdata": "2Ac=",
          "dtype": "i2"
         },
         "xaxis": "x",
         "y": [
          "WIN"
         ],
         "yaxis": "y"
        },
        {
         "customdata": [
          [
           "Iron Storm"
          ],
          [
           "Iron Storm"
          ]
         ],
         "hovertemplate": "Developer_List=4X Studio<br>Release_Year=%{x}<br>Platform_List=%{y}<br>Title=%{customdata[0]}<extra></extra>",
         "legendgroup": "4X Studio",
         "marker": {
          "color": "#636efa",
          "symbol": "circle"
         },
         "mode": "markers",
         "name": "4X Studio",
         "showlegend": true,
         "type": "scattergl",
         "x": {
          "bdata": "0gfSBw==",
          "dtype": "i2"
         },
         "xaxis": "x",
         "y": [
          "WIN",
          "PS2"
         ],
         "yaxis": "y"
        },
        {
         "customdata": [
          [
           "Island Peril"
          ]
         ],
         "hovertemplate": "Developer_List=electric fantasies<br>Release_Year=%{x}<br>Platform_List=%{y}<br>Title=%{customdata[0]}<extra></extra>",
         "legendgroup": "electric fantasies",
         "marker": {
          "color": "#EF553B",
          "symbol": "circle"
         },
         "mode": "markers",
         "name": "electric fantasies",
         "showlegend": true,
         "type": "scattergl",
         "x": {
          "bdata": "AA==",
          "dtype": "i1"
         },
         "xaxis": "x",
         "y": [
          "DOS"
         ],
         "yaxis": "y"
        },
        {
         "customdata": [
          [
           "Isle of the Dead"
          ]
         ],
         "hovertemplate": "Developer_List=Rainmaker Software<br>Release_Year=%{x}<br>Platform_List=%{y}<br>Title=%{customdata[0]}<extra></extra>",
         "legendgroup": "Rainmaker Software",
         "marker": {
          "color": "#00cc96",
          "symbol": "circle"
         },
         "mode": "markers",
         "name": "Rainmaker Software",
         "showlegend": true,
         "type": "scattergl",
         "x": {
          "bdata": "AA==",
          "dtype": "i1"
         },
         "xaxis": "x",
         "y": [
          "DOS"
         ],
         "yaxis": "y"
        },
        {
         "customdata": [
          [
           "Journey to the Savage Planet"
          ],
          [
           "Journey to the Savage Planet"
          ],
          [
           "Journey to the Savage Planet"
          ],
          [
           "Journey to the Savage Planet"
          ],
          [
           "Journey to the Savage Planet"
          ],
          [
           "Journey to the Savage Planet"
          ]
         ],
         "hovertemplate": "Developer_List=Typhoon Studios<br>Release_Year=%{x}<br>Platform_List=%{y}<br>Title=%{customdata[0]}<extra></extra>",
         "legendgroup": "Typhoon Studios",
         "marker": {
          "color": "#ab63fa",
          "symbol": "circle"
         },
         "mode": "markers",
         "name": "Typhoon Studios",
         "showlegend": true,
         "type": "scattergl",
         "x": {
          "bdata": "5AfkB+QH5AfkB+QH",
          "dtype": "i2"
         },
         "xaxis": "x",
         "y": [
          "WIN",
          "PS4",
          "PS5",
          "XONE",
          "XSX",
          "NX"
         ],
         "yaxis": "y"
        },
        {
         "customdata": [
          [
           "Juggernaut: The New Story"
          ]
         ],
         "hovertemplate": "Developer_List=Canopy Games<br>Release_Year=%{x}<br>Platform_List=%{y}<br>Title=%{customdata[0]}<extra></extra>",
         "legendgroup": "Canopy Games",
         "marker": {
          "color": "#FFA15A",
          "symbol": "circle"
         },
         "mode": "markers",
         "name": "Canopy Games",
         "showlegend": true,
         "type": "scattergl",
         "x": {
          "bdata": "zgc=",
          "dtype": "i2"
         },
         "xaxis": "x",
         "y": [
          "WIN"
         ],
         "yaxis": "y"
        },
        {
         "customdata": [
          [
           "Jumping Flash!"
          ],
          [
           "Jumping Flash!"
          ],
          [
           "Jumping Flash! 2"
          ],
          [
           "Jumping Flash! 2"
          ]
         ],
         "hovertemplate": "Developer_List=Exact<br>Release_Year=%{x}<br>Platform_List=%{y}<br>Title=%{customdata[0]}<extra></extra>",
         "legendgroup": "Exact",
         "marker": {
          "color": "#19d3f3",
          "symbol": "circle"
         },
         "mode": "markers",
         "name": "Exact",
         "showlegend": true,
         "type": "scattergl",
         "x": {
          "bdata": "ywfLB8wHzAc=",
          "dtype": "i2"
         },
         "xaxis": "x",
         "y": [
          "PS1",
          "PSN",
          "PS1",
          "PSN"
         ],
         "yaxis": "y"
        },
        {
         "customdata": [
          [
           "Jurassic Park: Trespasser"
          ],
          [
           "Medal of Honor"
          ],
          [
           "Medal of Honor: Underground"
          ],
          [
           "Medal of Honor: Underground"
          ]
         ],
         "hovertemplate": "Developer_List=DreamWorks Interactive<br>Release_Year=%{x}<br>Platform_List=%{y}<br>Title=%{customdata[0]}<extra></extra>",
         "legendgroup": "DreamWorks Interactive",
         "marker": {
          "color": "#FF6692",
          "symbol": "circle"
         },
         "mode": "markers",
         "name": "DreamWorks Interactive",
         "showlegend": true,
         "type": "scattergl",
         "x": {
          "bdata": "zgfPB9AH0Ac=",
          "dtype": "i2"
         },
         "xaxis": "x",
         "y": [
          "WIN",
          "PS1",
          "PS1",
          "GBA"
         ],
         "yaxis": "y"
        },
        {
         "customdata": [
          [
           "Ken's Labyrinth"
          ]
         ],
         "hovertemplate": "Developer_List=Ken Silverman<br>Release_Year=%{x}<br>Platform_List=%{y}<br>Title=%{customdata[0]}<extra></extra>",
         "legendgroup": "Ken Silverman",
         "marker": {
          "color": "#B6E880",
          "symbol": "circle"
         },
         "mode": "markers",
         "name": "Ken Silverman",
         "showlegend": true,
         "type": "scattergl",
         "x": {
          "bdata": "AA==",
          "dtype": "i1"
         },
         "xaxis": "x",
         "y": [
          "DOS"
         ],
         "yaxis": "y"
        },
        {
         "customdata": [
          [
           "Kidō Senshi Z-Gundam: Hot Scramble"
          ]
         ],
         "hovertemplate": "Developer_List=Bandai<br>Release_Year=%{x}<br>Platform_List=%{y}<br>Title=%{customdata[0]}<extra></extra>",
         "legendgroup": "Bandai",
         "marker": {
          "color": "#FF97FF",
          "symbol": "circle"
         },
         "mode": "markers",
         "name": "Bandai",
         "showlegend": true,
         "type": "scattergl",
         "x": {
          "bdata": "wgc=",
          "dtype": "i2"
         },
         "xaxis": "x",
         "y": [
          "NES"
         ],
         "yaxis": "y"
        },
        {
         "customdata": [
          [
           "Killing Floor"
          ],
          [
           "Killing Floor"
          ],
          [
           "Killing Floor"
          ],
          [
           "Killing Floor 2"
          ],
          [
           "Killing Floor 2"
          ],
          [
           "Killing Floor 2"
          ],
          [
           "Red Orchestra: Ostfront 41-45"
          ],
          [
           "Red Orchestra 2: Heroes of Stalingrad"
          ],
          [
           "Rising Storm"
          ],
          [
           "Rising Storm 2: Vietnam"
          ]
         ],
         "hovertemplate": "Developer_List=Tripwire Interactive<br>Release_Year=%{x}<br>Platform_List=%{y}<br>Title=%{customdata[0]}<extra></extra>",
         "legendgroup": "Tripwire Interactive",
         "marker": {
          "color": "#FECB52",
          "symbol": "circle"
         },
         "mode": "markers",
         "name": "Tripwire Interactive",
         "showlegend": true,
         "type": "scattergl",
         "x": {
          "bdata": "2QfZB9kH4AfgB+AH1gfbB90H4Qc=",
          "dtype": "i2"
         },
         "xaxis": "x",
         "y": [
          "WIN",
          "OSX",
          "LIN",
          "WIN",
          "PS4",
          "XONE",
          "WIN",
          "WIN",
          "WIN",
          "WIN"
         ],
         "yaxis": "y"
        },
        {
         "customdata": [
          [
           "Killing Time"
          ],
          [
           "Killing Time"
          ],
          [
           "Killing Time"
          ]
         ],
         "hovertemplate": "Developer_List=Studio 3DO<br>Release_Year=%{x}<br>Platform_List=%{y}<br>Title=%{customdata[0]}<extra></extra>",
         "legendgroup": "Studio 3DO",
         "marker": {
          "color": "#636efa",
          "symbol": "circle"
         },
         "mode": "markers",
         "name": "Studio 3DO",
         "showlegend": true,
         "type": "scattergl",
         "x": {
          "bdata": "ywfLB8sH",
          "dtype": "i2"
         },
         "xaxis": "x",
         "y": [
          "3DO",
          "MAC",
          "WIN"
         ],
         "yaxis": "y"
        },
        {
         "customdata": [
          [
           "Killzone"
          ],
          [
           "Killzone"
          ],
          [
           "Killzone 2"
          ],
          [
           "Killzone 3"
          ],
          [
           "Killzone: Shadow Fall"
          ]
         ],
         "hovertemplate": "Developer_List=Guerrilla Games<br>Release_Year=%{x}<br>Platform_List=%{y}<br>Title=%{customdata[0]}<extra></extra>",
         "legendgroup": "Guerrilla Games",
         "marker": {
          "color": "#EF553B",
          "symbol": "circle"
         },
         "mode": "markers",
         "name": "Guerrilla Games",
         "showlegend": true,
         "type": "scattergl",
         "x": {
          "bdata": "1AfUB9kH2wfdBw==",
          "dtype": "i2"
         },
         "xaxis": "x",
         "y": [
          "PS2",
          "PS3",
          "PS3",
          "PS3",
          "PS4"
         ],
         "yaxis": "y"
        },
        {
         "customdata": [
          [
           "Killzone: Mercenary"
          ]
         ],
         "hovertemplate": "Developer_List=Guerrilla Cambridge<br>Release_Year=%{x}<br>Platform_List=%{y}<br>Title=%{customdata[0]}<extra></extra>",
         "legendgroup": "Guerrilla Cambridge",
         "marker": {
          "color": "#00cc96",
          "symbol": "circle"
         },
         "mode": "markers",
         "name": "Guerrilla Cambridge",
         "showlegend": true,
         "type": "scattergl",
         "x": {
          "bdata": "3Qc=",
          "dtype": "i2"
         },
         "xaxis": "x",
         "y": [
          "VITA"
         ],
         "yaxis": "y"
        },
        {
         "customdata": [
          [
           "Kingpin: Life of Crime"
          ],
          [
           "Kingpin: Life of Crime"
          ],
          [
           "Quake II Mission Pack: The Reckoning"
          ],
          [
           "Redneck Rampage"
          ],
          [
           "Redneck Rampage"
          ],
          [
           "Redneck Rampage: Suckin' Grits on Route 66"
          ],
          [
           "Redneck Rampage Rides Again"
          ]
         ],
         "hovertemplate": "Developer_List=Xatrix Entertainment<br>Release_Year=%{x}<br>Platform_List=%{y}<br>Title=%{customdata[0]}<extra></extra>",
         "legendgroup": "Xatrix Entertainment",
         "marker": {
          "color": "#ab63fa",
          "symbol": "circle"
         },
         "mode": "markers",
         "name": "Xatrix Entertainment",
         "showlegend": true,
         "type": "scattergl",
         "x": {
          "bdata": "zwfPB84HzQfNB80Hzgc=",
          "dtype": "i2"
         },
         "xaxis": "x",
         "y": [
          "WIN",
          "LIN",
          "WIN",
          "DOS",
          "MAC",
          "DOS",
          "DOS"
         ],
         "yaxis": "y"
        },
        {
         "customdata": [
          [
           "Peter Jackson's King Kong: The Official Game of the Movie"
          ],
          [
           "Peter Jackson's King Kong: The Official Game of the Movie"
          ],
          [
           "Peter Jackson's King Kong: The Official Game of the Movie"
          ],
          [
           "Peter Jackson's King Kong: The Official Game of the Movie"
          ],
          [
           "Peter Jackson's King Kong: The Official Game of the Movie"
          ],
          [
           "Peter Jackson's King Kong: The Official Game of the Movie"
          ],
          [
           "Peter Jackson's King Kong: The Official Game of the Movie"
          ],
          [
           "ZombiU"
          ],
          [
           "ZombiU"
          ],
          [
           "ZombiU"
          ],
          [
           "ZombiU"
          ]
         ],
         "hovertemplate": "Developer_List=Ubisoft Montpellier<br>Release_Year=%{x}<br>Platform_List=%{y}<br>Title=%{customdata[0]}<extra></extra>",
         "legendgroup": "Ubisoft Montpellier",
         "marker": {
          "color": "#FFA15A",
          "symbol": "circle"
         },
         "mode": "markers",
         "name": "Ubisoft Montpellier",
         "showlegend": true,
         "type": "scattergl",
         "x": {
          "bdata": "1QfVB9UH1QfVB9UH1QfcB9wH3AfcBw==",
          "dtype": "i2"
         },
         "xaxis": "x",
         "y": [
          "WIN",
          "PS2",
          "Xbox",
          "X360",
          "GCN",
          "DS",
          "PSP",
          "WiiU",
          "WIN",
          "PS4",
          "XONE"
         ],
         "yaxis": "y"
        },
        {
         "customdata": [
          [
           "Kingdom of the Dead"
          ]
         ],
         "hovertemplate": "Developer_List=Dirigo Games<br>Release_Year=%{x}<br>Platform_List=%{y}<br>Title=%{customdata[0]}<extra></extra>",
         "legendgroup": "Dirigo Games",
         "marker": {
          "color": "#19d3f3",
          "symbol": "circle"
         },
         "mode": "markers",
         "name": "Dirigo Games",
         "showlegend": true,
         "type": "scattergl",
         "x": {
          "bdata": "5gc=",
          "dtype": "i2"
         },
         "xaxis": "x",
         "y": [
          "WIN"
         ],
         "yaxis": "y"
        },
        {
         "customdata": [
          [
           "Kingdom of the Dead"
          ]
         ],
         "hovertemplate": "Developer_List=Hook S.r.l.<br>Release_Year=%{x}<br>Platform_List=%{y}<br>Title=%{customdata[0]}<extra></extra>",
         "legendgroup": "Hook S.r.l.",
         "marker": {
          "color": "#FF6692",
          "symbol": "circle"
         },
         "mode": "markers",
         "name": "Hook S.r.l.",
         "showlegend": true,
         "type": "scattergl",
         "x": {
          "bdata": "5gc=",
          "dtype": "i2"
         },
         "xaxis": "x",
         "y": [
          "WIN"
         ],
         "yaxis": "y"
        },
        {
         "customdata": [
          [
           "Kiss: Psycho Circus: The Nightmare Child"
          ],
          [
           "Kiss: Psycho Circus: The Nightmare Child"
          ]
         ],
         "hovertemplate": "Developer_List=Third Law Interactive<br>Release_Year=%{x}<br>Platform_List=%{y}<br>Title=%{customdata[0]}<extra></extra>",
         "legendgroup": "Third Law Interactive",
         "marker": {
          "color": "#B6E880",
          "symbol": "circle"
         },
         "mode": "markers",
         "name": "Third Law Interactive",
         "showlegend": true,
         "type": "scattergl",
         "x": {
          "bdata": "0AfQBw==",
          "dtype": "i2"
         },
         "xaxis": "x",
         "y": [
          "DC",
          "WIN"
         ],
         "yaxis": "y"
        },
        {
         "customdata": [
          [
           "Land of the Dead: Road to Fiddler's Green"
          ],
          [
           "Land of the Dead: Road to Fiddler's Green"
          ]
         ],
         "hovertemplate": "Developer_List=Brainbox Games<br>Release_Year=%{x}<br>Platform_List=%{y}<br>Title=%{customdata[0]}<extra></extra>",
         "legendgroup": "Brainbox Games",
         "marker": {
          "color": "#FF97FF",
          "symbol": "circle"
         },
         "mode": "markers",
         "name": "Brainbox Games",
         "showlegend": true,
         "type": "scattergl",
         "x": {
          "bdata": "1QfVBw==",
          "dtype": "i2"
         },
         "xaxis": "x",
         "y": [
          "WIN",
          "Xbox"
         ],
         "yaxis": "y"
        },
        {
         "customdata": [
          [
           "Laser Arena"
          ]
         ],
         "hovertemplate": "Developer_List=Trainwreck Studios<br>Release_Year=%{x}<br>Platform_List=%{y}<br>Title=%{customdata[0]}<extra></extra>",
         "legendgroup": "Trainwreck Studios",
         "marker": {
          "color": "#FECB52",
          "symbol": "circle"
         },
         "mode": "markers",
         "name": "Trainwreck Studios",
         "showlegend": true,
         "type": "scattergl",
         "x": {
          "bdata": "AA==",
          "dtype": "i1"
         },
         "xaxis": "x",
         "y": [
          "WIN"
         ],
         "yaxis": "y"
        },
        {
         "customdata": [
          [
           "Legend of the Seven Paladins"
          ]
         ],
         "hovertemplate": "Developer_List=Accend Inc<br>Release_Year=%{x}<br>Platform_List=%{y}<br>Title=%{customdata[0]}<extra></extra>",
         "legendgroup": "Accend Inc",
         "marker": {
          "color": "#636efa",
          "symbol": "circle"
         },
         "mode": "markers",
         "name": "Accend Inc",
         "showlegend": true,
         "type": "scattergl",
         "x": {
          "bdata": "ygc=",
          "dtype": "i2"
         },
         "xaxis": "x",
         "y": [
          "DOS"
         ],
         "yaxis": "y"
        },
        {
         "customdata": [
          [
           "Legends of Might and Magic"
          ]
         ],
         "hovertemplate": "Developer_List=New World Computing<br>Release_Year=%{x}<br>Platform_List=%{y}<br>Title=%{customdata[0]}<extra></extra>",
         "legendgroup": "New World Computing",
         "marker": {
          "color": "#EF553B",
          "symbol": "circle"
         },
         "mode": "markers",
         "name": "New World Computing",
         "showlegend": true,
         "type": "scattergl",
         "x": {
          "bdata": "0Qc=",
          "dtype": "i2"
         },
         "xaxis": "x",
         "y": [
          "WIN"
         ],
         "yaxis": "y"
        },
        {
         "customdata": [
          [
           "Lethal Tender"
          ],
          [
           "Terminal Terror"
          ]
         ],
         "hovertemplate": "Developer_List=Pie in the Sky Software<br>Release_Year=%{x}<br>Platform_List=%{y}<br>Title=%{customdata[0]}<extra></extra>",
         "legendgroup": "Pie in the Sky Software",
         "marker": {
          "color": "#00cc96",
          "symbol": "circle"
         },
         "mode": "markers",
         "name": "Pie in the Sky Software",
         "showlegend": true,
         "type": "scattergl",
         "x": {
          "bdata": "AADKBw==",
          "dtype": "i2"
         },
         "xaxis": "x",
         "y": [
          "DOS",
          "DOS"
         ],
         "yaxis": "y"
        },
        {
         "customdata": [
          [
           "Lichdom: Battlemage"
          ],
          [
           "Lichdom: Battlemage"
          ],
          [
           "Lichdom: Battlemage"
          ]
         ],
         "hovertemplate": "Developer_List=Xaviant<br>Release_Year=%{x}<br>Platform_List=%{y}<br>Title=%{customdata[0]}<extra></extra>",
         "legendgroup": "Xaviant",
         "marker": {
          "color": "#ab63fa",
          "symbol": "circle"
         },
         "mode": "markers",
         "name": "Xaviant",
         "showlegend": true,
         "type": "scattergl",
         "x": {
          "bdata": "3gfeB94H",
          "dtype": "i2"
         },
         "xaxis": "x",
         "y": [
          "WIN",
          "PS4",
          "XONE"
         ],
         "yaxis": "y"
        },
        {
         "customdata": [
          [
           "Lifeforce Tenka"
          ],
          [
           "Lifeforce Tenka"
          ]
         ],
         "hovertemplate": "Developer_List=Psygnosis<br>Release_Year=%{x}<br>Platform_List=%{y}<br>Title=%{customdata[0]}<extra></extra>",
         "legendgroup": "Psygnosis",
         "marker": {
          "color": "#FFA15A",
          "symbol": "circle"
         },
         "mode": "markers",
         "name": "Psygnosis",
         "showlegend": true,
         "type": "scattergl",
         "x": {
          "bdata": "zQfNBw==",
          "dtype": "i2"
         },
         "xaxis": "x",
         "y": [
          "PS1",
          "WIN"
         ],
         "yaxis": "y"
        },
        {
         "customdata": [
          [
           "Lunicus"
          ],
          [
           "Lunicus"
          ]
         ],
         "hovertemplate": "Developer_List=Cyberflix Incorporated<br>Release_Year=%{x}<br>Platform_List=%{y}<br>Title=%{customdata[0]}<extra></extra>",
         "legendgroup": "Cyberflix Incorporated",
         "marker": {
          "color": "#19d3f3",
          "symbol": "circle"
         },
         "mode": "markers",
         "name": "Cyberflix Incorporated",
         "showlegend": true,
         "type": "scattergl",
         "x": {
          "bdata": "AAA=",
          "dtype": "i1"
         },
         "xaxis": "x",
         "y": [
          "MAC",
          "WIN3X"
         ],
         "yaxis": "y"
        },
        {
         "customdata": [
          [
           "Mace Griffin: Bounty Hunter"
          ],
          [
           "Mace Griffin: Bounty Hunter"
          ],
          [
           "Mace Griffin: Bounty Hunter"
          ]
         ],
         "hovertemplate": "Developer_List=Warthog Games<br>Release_Year=%{x}<br>Platform_List=%{y}<br>Title=%{customdata[0]}<extra></extra>",
         "legendgroup": "Warthog Games",
         "marker": {
          "color": "#FF6692",
          "symbol": "circle"
         },
         "mode": "markers",
         "name": "Warthog Games",
         "showlegend": true,
         "type": "scattergl",
         "x": {
          "bdata": "0wfTB9MH",
          "dtype": "i2"
         },
         "xaxis": "x",
         "y": [
          "PS2",
          "Xbox",
          "WIN"
         ],
         "yaxis": "y"
        },
        {
         "customdata": [
          [
           "MAG"
          ]
         ],
         "hovertemplate": "Developer_List=Zipper Interactive<br>Release_Year=%{x}<br>Platform_List=%{y}<br>Title=%{customdata[0]}<extra></extra>",
         "legendgroup": "Zipper Interactive",
         "marker": {
          "color": "#B6E880",
          "symbol": "circle"
         },
         "mode": "markers",
         "name": "Zipper Interactive",
         "showlegend": true,
         "type": "scattergl",
         "x": {
          "bdata": "2gc=",
          "dtype": "i2"
         },
         "xaxis": "x",
         "y": [
          "PS3"
         ],
         "yaxis": "y"
        },
        {
         "customdata": [
          [
           "Magic Carpet"
          ],
          [
           "Magic Carpet"
          ],
          [
           "Magic Carpet"
          ]
         ],
         "hovertemplate": "Developer_List=Bullfrog Productions<br>Release_Year=%{x}<br>Platform_List=%{y}<br>Title=%{customdata[0]}<extra></extra>",
         "legendgroup": "Bullfrog Productions",
         "marker": {
          "color": "#FF97FF",
          "symbol": "circle"
         },
         "mode": "markers",
         "name": "Bullfrog Productions",
         "showlegend": true,
         "type": "scattergl",
         "x": {
          "bdata": "ygfKB8oH",
          "dtype": "i2"
         },
         "xaxis": "x",
         "y": [
          "DOS",
          "PS",
          "Saturn"
         ],
         "yaxis": "y"
        },
        {
         "customdata": [
          [
           "Magic Carpet"
          ],
          [
           "Magic Carpet"
          ],
          [
           "Magic Carpet"
          ],
          [
           "Space Hulk"
          ],
          [
           "Space Hulk"
          ]
         ],
         "hovertemplate": "Developer_List=Electronic Arts<br>Release_Year=%{x}<br>Platform_List=%{y}<br>Title=%{customdata[0]}<extra></extra>",
         "legendgroup": "Electronic Arts",
         "marker": {
          "color": "#FECB52",
          "symbol": "circle"
         },
         "mode": "markers",
         "name": "Electronic Arts",
         "showlegend": true,
         "type": "scattergl",
         "x": {
          "bdata": "ygfKB8oHAAAAAA==",
          "dtype": "i2"
         },
         "xaxis": "x",
         "y": [
          "DOS",
          "PS",
          "Saturn",
          "AMI",
          "DOS"
         ],
         "yaxis": "y"
        },
        {
         "customdata": [
          [
           "Malice"
          ],
          [
           "Malice"
          ],
          [
           "Malice"
          ],
          [
           "Malice"
          ]
         ],
         "hovertemplate": "Developer_List=Ratloop<br>Release_Year=%{x}<br>Platform_List=%{y}<br>Title=%{customdata[0]}<extra></extra>",
         "legendgroup": "Ratloop",
         "marker": {
          "color": "#636efa",
          "symbol": "circle"
         },
         "mode": "markers",
         "name": "Ratloop",
         "showlegend": true,
         "type": "scattergl",
         "x": {
          "bdata": "zQfNB80HzQc=",
          "dtype": "i2"
         },
         "xaxis": "x",
         "y": [
          "DOS",
          "LIN",
          "MAC",
          "WIN"
         ],
         "yaxis": "y"
        },
        {
         "customdata": [
          [
           "Men in Black: The Series – Crashdown"
          ],
          [
           "Spec Ops II: Omega Squad"
          ]
         ],
         "hovertemplate": "Developer_List=Runecraft<br>Release_Year=%{x}<br>Platform_List=%{y}<br>Title=%{customdata[0]}<extra></extra>",
         "legendgroup": "Runecraft",
         "marker": {
          "color": "#EF553B",
          "symbol": "circle"
         },
         "mode": "markers",
         "name": "Runecraft",
         "showlegend": true,
         "type": "scattergl",
         "x": {
          "bdata": "0QfQBw==",
          "dtype": "i2"
         },
         "xaxis": "x",
         "y": [
          "PS1",
          "DC"
         ],
         "yaxis": "y"
        },
        {
         "customdata": [
          [
           "The Mark"
          ]
         ],
         "hovertemplate": "Developer_List=T7 Games<br>Release_Year=%{x}<br>Platform_List=%{y}<br>Title=%{customdata[0]}<extra></extra>",
         "legendgroup": "T7 Games",
         "marker": {
          "color": "#00cc96",
          "symbol": "circle"
         },
         "mode": "markers",
         "name": "T7 Games",
         "showlegend": true,
         "type": "scattergl",
         "x": {
          "bdata": "1gc=",
          "dtype": "i2"
         },
         "xaxis": "x",
         "y": [
          "WIN"
         ],
         "yaxis": "y"
        },
        {
         "customdata": [
          [
           "Maze War"
          ],
          [
           "Maze War"
          ],
          [
           "Maze War"
          ],
          [
           "Maze War"
          ],
          [
           "Maze War"
          ],
          [
           "Maze War"
          ]
         ],
         "hovertemplate": "Developer_List=Steve Colley<br>Release_Year=%{x}<br>Platform_List=%{y}<br>Title=%{customdata[0]}<extra></extra>",
         "legendgroup": "Steve Colley",
         "marker": {
          "color": "#ab63fa",
          "symbol": "circle"
         },
         "mode": "markers",
         "name": "Steve Colley",
         "showlegend": true,
         "type": "scattergl",
         "x": {
          "bdata": "tge2B7YHtge2B7YH",
          "dtype": "i2"
         },
         "xaxis": "x",
         "y": [
          "Imlac PDS-1",
          "MAC",
          "NeXT Computer",
          "Palm OS",
          "Xerox Star",
          "X11"
         ],
         "yaxis": "y"
        },
        {
         "customdata": [
          [
           "Maximum Action"
          ]
         ],
         "hovertemplate": "Developer_List=George Mandell<br>Release_Year=%{x}<br>Platform_List=%{y}<br>Title=%{customdata[0]}<extra></extra>",
         "legendgroup": "George Mandell",
         "marker": {
          "color": "#FFA15A",
          "symbol": "circle"
         },
         "mode": "markers",
         "name": "George Mandell",
         "showlegend": true,
         "type": "scattergl",
         "x": {
          "bdata": "4gc=",
          "dtype": "i2"
         },
         "xaxis": "x",
         "y": [
          "WIN"
         ],
         "yaxis": "y"
        },
        {
         "customdata": [
          [
           "Maximum Action"
          ]
         ],
         "hovertemplate": "Developer_List=Balloon Moose Games<br>Release_Year=%{x}<br>Platform_List=%{y}<br>Title=%{customdata[0]}<extra></extra>",
         "legendgroup": "Balloon Moose Games",
         "marker": {
          "color": "#19d3f3",
          "symbol": "circle"
         },
         "mode": "markers",
         "name": "Balloon Moose Games",
         "showlegend": true,
         "type": "scattergl",
         "x": {
          "bdata": "4gc=",
          "dtype": "i2"
         },
         "xaxis": "x",
         "y": [
          "WIN"
         ],
         "yaxis": "y"
        },
        {
         "customdata": [
          [
           "Medal of Honor: Allied Assault"
          ],
          [
           "Medal of Honor: Allied Assault"
          ],
          [
           "Medal of Honor: Allied Assault"
          ],
          [
           "Men of Valor"
          ],
          [
           "Men of Valor"
          ]
         ],
         "hovertemplate": "Developer_List=2015<br>Release_Year=%{x}<br>Platform_List=%{y}<br>Title=%{customdata[0]}<extra></extra>",
         "legendgroup": "2015",
         "marker": {
          "color": "#FF6692",
          "symbol": "circle"
         },
         "mode": "markers",
         "name": "2015",
         "showlegend": true,
         "type": "scattergl",
         "x": {
          "bdata": "0gfSB9IH1AfUBw==",
          "dtype": "i2"
         },
         "xaxis": "x",
         "y": [
          "WIN",
          "OSX",
          "LIN",
          "Xbox",
          "WIN"
         ],
         "yaxis": "y"
        },
        {
         "customdata": [
          [
           "Medal of Honor: Allied Assault: Breakthrough"
          ],
          [
           "Medal of Honor: Allied Assault: Breakthrough"
          ],
          [
           "Medal of Honor: Allied Assault: Breakthrough"
          ]
         ],
         "hovertemplate": "Developer_List=TKO Software<br>Release_Year=%{x}<br>Platform_List=%{y}<br>Title=%{customdata[0]}<extra></extra>",
         "legendgroup": "TKO Software",
         "marker": {
          "color": "#B6E880",
          "symbol": "circle"
         },
         "mode": "markers",
         "name": "TKO Software",
         "showlegend": true,
         "type": "scattergl",
         "x": {
          "bdata": "0wfTB9MH",
          "dtype": "i2"
         },
         "xaxis": "x",
         "y": [
          "WIN",
          "OSX",
          "LIN"
         ],
         "yaxis": "y"
        },
        {
         "customdata": [
          [
           "Medal of Honor: Heroes"
          ]
         ],
         "hovertemplate": "Developer_List=Team Fusion<br>Release_Year=%{x}<br>Platform_List=%{y}<br>Title=%{customdata[0]}<extra></extra>",
         "legendgroup": "Team Fusion",
         "marker": {
          "color": "#FF97FF",
          "symbol": "circle"
         },
         "mode": "markers",
         "name": "Team Fusion",
         "showlegend": true,
         "type": "scattergl",
         "x": {
          "bdata": "1gc=",
          "dtype": "i2"
         },
         "xaxis": "x",
         "y": [
          "PSP"
         ],
         "yaxis": "y"
        },
        {
         "customdata": [
          [
           "Medal of Honor: Vanguard"
          ],
          [
           "Medal of Honor: Vanguard"
          ]
         ],
         "hovertemplate": "Developer_List=Budcat Creations<br>Release_Year=%{x}<br>Platform_List=%{y}<br>Title=%{customdata[0]}<extra></extra>",
         "legendgroup": "Budcat Creations",
         "marker": {
          "color": "#FECB52",
          "symbol": "circle"
         },
         "mode": "markers",
         "name": "Budcat Creations",
         "showlegend": true,
         "type": "scattergl",
         "x": {
          "bdata": "1wfXBw==",
          "dtype": "i2"
         },
         "xaxis": "x",
         "y": [
          "PS2",
          "Wii"
         ],
         "yaxis": "y"
        },
        {
         "customdata": [
          [
           "Medal of Honor"
          ],
          [
           "Medal of Honor"
          ],
          [
           "Medal of Honor"
          ],
          [
           "Medal of Honor: Warfighter"
          ],
          [
           "Medal of Honor: Warfighter"
          ],
          [
           "Medal of Honor: Warfighter"
          ]
         ],
         "hovertemplate": "Developer_List=Danger Close Games<br>Release_Year=%{x}<br>Platform_List=%{y}<br>Title=%{customdata[0]}<extra></extra>",
         "legendgroup": "Danger Close Games",
         "marker": {
          "color": "#636efa",
          "symbol": "circle"
         },
         "mode": "markers",
         "name": "Danger Close Games",
         "showlegend": true,
         "type": "scattergl",
         "x": {
          "bdata": "2gfaB9oH3AfcB9wH",
          "dtype": "i2"
         },
         "xaxis": "x",
         "y": [
          "WIN",
          "PS3",
          "X360",
          "WIN",
          "PS3",
          "X360"
         ],
         "yaxis": "y"
        },
        {
         "customdata": [
          [
           "Metal Head"
          ],
          [
           "Star Trek"
          ]
         ],
         "hovertemplate": "Developer_List=Sega<br>Release_Year=%{x}<br>Platform_List=%{y}<br>Title=%{customdata[0]}<extra></extra>",
         "legendgroup": "Sega",
         "marker": {
          "color": "#EF553B",
          "symbol": "circle"
         },
         "mode": "markers",
         "name": "Sega",
         "showlegend": true,
         "type": "scattergl",
         "x": {
          "bdata": "ywe+Bw==",
          "dtype": "i2"
         },
         "xaxis": "x",
         "y": [
          "Sega 32X",
          "Arcade"
         ],
         "yaxis": "y"
        },
        {
         "customdata": [
          [
           "Metal: Hellsinger"
          ],
          [
           "Metal: Hellsinger"
          ],
          [
           "Metal: Hellsinger"
          ],
          [
           "Metal: Hellsinger"
          ],
          [
           "Metal: Hellsinger"
          ]
         ],
         "hovertemplate": "Developer_List=The Outsiders<br>Release_Year=%{x}<br>Platform_List=%{y}<br>Title=%{customdata[0]}<extra></extra>",
         "legendgroup": "The Outsiders",
         "marker": {
          "color": "#00cc96",
          "symbol": "circle"
         },
         "mode": "markers",
         "name": "The Outsiders",
         "showlegend": true,
         "type": "scattergl",
         "x": {
          "bdata": "5gfmB+YH5gfmBw==",
          "dtype": "i2"
         },
         "xaxis": "x",
         "y": [
          "WIN",
          "PS5",
          "XSX",
          "PS4",
          "XONE"
         ],
         "yaxis": "y"
        },
        {
         "customdata": [
          [
           "Metro 2033"
          ],
          [
           "Metro 2033"
          ],
          [
           "Metro 2033"
          ],
          [
           "Metro 2033"
          ],
          [
           "Metro 2033"
          ],
          [
           "Metro 2033"
          ],
          [
           "Metro 2033"
          ],
          [
           "Metro: Last Light"
          ],
          [
           "Metro: Last Light"
          ],
          [
           "Metro: Last Light"
          ],
          [
           "Metro: Last Light"
          ],
          [
           "Metro: Last Light"
          ],
          [
           "Metro: Last Light"
          ],
          [
           "Metro: Last Light"
          ],
          [
           "Metro: Last Light"
          ],
          [
           "Metro Exodus"
          ],
          [
           "Metro Exodus"
          ],
          [
           "Metro Exodus"
          ],
          [
           "Metro Exodus"
          ],
          [
           "Metro Exodus"
          ],
          [
           "Metro Exodus"
          ],
          [
           "Metro Exodus"
          ]
         ],
         "hovertemplate": "Developer_List=4A Games<br>Release_Year=%{x}<br>Platform_List=%{y}<br>Title=%{customdata[0]}<extra></extra>",
         "legendgroup": "4A Games",
         "marker": {
          "color": "#ab63fa",
          "symbol": "circle"
         },
         "mode": "markers",
         "name": "4A Games",
         "showlegend": true,
         "type": "scattergl",
         "x": {
          "bdata": "2gfaB9oH2gfaB9oH2gfdB90H3QfdB90H3QfdB90H4wfjB+MH4wfjB+MH4wc=",
          "dtype": "i2"
         },
         "xaxis": "x",
         "y": [
          "WIN",
          "X360",
          "PS4",
          "XONE",
          "LIN",
          "OSX",
          "NX",
          "WIN",
          "PS3",
          "X360",
          "OSX",
          "LIN",
          "PS4",
          "XONE",
          "NX",
          "WIN",
          "PS4",
          "XONE",
          "OSX",
          "LIN",
          "PS5",
          "XSX"
         ],
         "yaxis": "y"
        },
        {
         "customdata": [
          [
           "Metroid Prime"
          ],
          [
           "Metroid Prime"
          ],
          [
           "Metroid Prime"
          ],
          [
           "Metroid Prime 2: Echoes"
          ],
          [
           "Metroid Prime 2: Echoes"
          ],
          [
           "Metroid Prime 3: Corruption"
          ]
         ],
         "hovertemplate": "Developer_List=Retro Studios<br>Release_Year=%{x}<br>Platform_List=%{y}<br>Title=%{customdata[0]}<extra></extra>",
         "legendgroup": "Retro Studios",
         "marker": {
          "color": "#FFA15A",
          "symbol": "circle"
         },
         "mode": "markers",
         "name": "Retro Studios",
         "showlegend": true,
         "type": "scattergl",
         "x": {
          "bdata": "0gfSB9IH1AfUB9cH",
          "dtype": "i2"
         },
         "xaxis": "x",
         "y": [
          "GCN",
          "Wii",
          "NX",
          "GCN",
          "Wii",
          "Wii"
         ],
         "yaxis": "y"
        },
        {
         "customdata": [
          [
           "Metroid Prime Hunters"
          ]
         ],
         "hovertemplate": "Developer_List=Nintendo Software Technology<br>Release_Year=%{x}<br>Platform_List=%{y}<br>Title=%{customdata[0]}<extra></extra>",
         "legendgroup": "Nintendo Software Technology",
         "marker": {
          "color": "#19d3f3",
          "symbol": "circle"
         },
         "mode": "markers",
         "name": "Nintendo Software Technology",
         "showlegend": true,
         "type": "scattergl",
         "x": {
          "bdata": "1gc=",
          "dtype": "i2"
         },
         "xaxis": "x",
         "y": [
          "DS"
         ],
         "yaxis": "y"
        },
        {
         "customdata": [
          [
           "Metroid Prime: Federation Force"
          ]
         ],
         "hovertemplate": "Developer_List=Next Level Games<br>Release_Year=%{x}<br>Platform_List=%{y}<br>Title=%{customdata[0]}<extra></extra>",
         "legendgroup": "Next Level Games",
         "marker": {
          "color": "#FF6692",
          "symbol": "circle"
         },
         "mode": "markers",
         "name": "Next Level Games",
         "showlegend": true,
         "type": "scattergl",
         "x": {
          "bdata": "4Ac=",
          "dtype": "i2"
         },
         "xaxis": "x",
         "y": [
          "3DS"
         ],
         "yaxis": "y"
        },
        {
         "customdata": [
          [
           "Midair"
          ]
         ],
         "hovertemplate": "Developer_List=Archetype Studios<br>Release_Year=%{x}<br>Platform_List=%{y}<br>Title=%{customdata[0]}<extra></extra>",
         "legendgroup": "Archetype Studios",
         "marker": {
          "color": "#B6E880",
          "symbol": "circle"
         },
         "mode": "markers",
         "name": "Archetype Studios",
         "showlegend": true,
         "type": "scattergl",
         "x": {
          "bdata": "4gc=",
          "dtype": "i2"
         },
         "xaxis": "x",
         "y": [
          "WIN"
         ],
         "yaxis": "y"
        },
        {
         "customdata": [
          [
           "MIDI Maze"
          ],
          [
           "MIDI Maze"
          ],
          [
           "MIDI Maze"
          ],
          [
           "MIDI Maze"
          ],
          [
           "MIDI Maze"
          ]
         ],
         "hovertemplate": "Developer_List=Xanth Software F/X<br>Release_Year=%{x}<br>Platform_List=%{y}<br>Title=%{customdata[0]}<extra></extra>",
         "legendgroup": "Xanth Software F/X",
         "marker": {
          "color": "#FF97FF",
          "symbol": "circle"
         },
         "mode": "markers",
         "name": "Xanth Software F/X",
         "showlegend": true,
         "type": "scattergl",
         "x": {
          "bdata": "wwfDB8MHwwfDBw==",
          "dtype": "i2"
         },
         "xaxis": "x",
         "y": [
          "ST",
          "Atari 8-bit",
          "GB",
          "GG",
          "SNES"
         ],
         "yaxis": "y"
        },
        {
         "customdata": [
          [
           "Midwinter"
          ],
          [
           "Midwinter"
          ],
          [
           "Midwinter"
          ],
          [
           "Midwinter II: Flames of Freedom"
          ],
          [
           "Midwinter II: Flames of Freedom"
          ],
          [
           "Midwinter II: Flames of Freedom"
          ]
         ],
         "hovertemplate": "Developer_List=Maelstrom Games<br>Release_Year=%{x}<br>Platform_List=%{y}<br>Title=%{customdata[0]}<extra></extra>",
         "legendgroup": "Maelstrom Games",
         "marker": {
          "color": "#FECB52",
          "symbol": "circle"
         },
         "mode": "markers",
         "name": "Maelstrom Games",
         "showlegend": true,
         "type": "scattergl",
         "x": {
          "bdata": "xQfFB8UHxwfHB8cH",
          "dtype": "i2"
         },
         "xaxis": "x",
         "y": [
          "AMI",
          "DOS",
          "ST",
          "AMI",
          "DOS",
          "ST"
         ],
         "yaxis": "y"
        },
        {
         "customdata": [
          [
           "Mission Against Terror"
          ]
         ],
         "hovertemplate": "Developer_List=Kingsoft Dalian JingCai Studio<br>Release_Year=%{x}<br>Platform_List=%{y}<br>Title=%{customdata[0]}<extra></extra>",
         "legendgroup": "Kingsoft Dalian JingCai Studio",
         "marker": {
          "color": "#636efa",
          "symbol": "circle"
         },
         "mode": "markers",
         "name": "Kingsoft Dalian JingCai Studio",
         "showlegend": true,
         "type": "scattergl",
         "x": {
          "bdata": "2gc=",
          "dtype": "i2"
         },
         "xaxis": "x",
         "y": [
          "WIN"
         ],
         "yaxis": "y"
        },
        {
         "customdata": [
          [
           "Mob Enforcer"
          ],
          [
           "Mob Enforcer"
          ]
         ],
         "hovertemplate": "Developer_List=Touchdown Entertainment<br>Release_Year=%{x}<br>Platform_List=%{y}<br>Title=%{customdata[0]}<extra></extra>",
         "legendgroup": "Touchdown Entertainment",
         "marker": {
          "color": "#EF553B",
          "symbol": "circle"
         },
         "mode": "markers",
         "name": "Touchdown Entertainment",
         "showlegend": true,
         "type": "scattergl",
         "x": {
          "bdata": "1AfUBw==",
          "dtype": "i2"
         },
         "xaxis": "x",
         "y": [
          "WIN",
          "Xbox"
         ],
         "yaxis": "y"
        },
        {
         "customdata": [
          [
           "Mobile Forces"
          ]
         ],
         "hovertemplate": "Developer_List=Rage Games Realtime Worlds<br>Release_Year=%{x}<br>Platform_List=%{y}<br>Title=%{customdata[0]}<extra></extra>",
         "legendgroup": "Rage Games Realtime Worlds",
         "marker": {
          "color": "#00cc96",
          "symbol": "circle"
         },
         "mode": "markers",
         "name": "Rage Games Realtime Worlds",
         "showlegend": true,
         "type": "scattergl",
         "x": {
          "bdata": "0gc=",
          "dtype": "i2"
         },
         "xaxis": "x",
         "y": [
          "WIN"
         ],
         "yaxis": "y"
        },
        {
         "customdata": [
          [
           "Mortal Coil: Adrenalin Intelligence"
          ]
         ],
         "hovertemplate": "Developer_List=Crush Ltd.<br>Release_Year=%{x}<br>Platform_List=%{y}<br>Title=%{customdata[0]}<extra></extra>",
         "legendgroup": "Crush Ltd.",
         "marker": {
          "color": "#ab63fa",
          "symbol": "circle"
         },
         "mode": "markers",
         "name": "Crush Ltd.",
         "showlegend": true,
         "type": "scattergl",
         "x": {
          "bdata": "ywc=",
          "dtype": "i2"
         },
         "xaxis": "x",
         "y": [
          "DOS"
         ],
         "yaxis": "y"
        },
        {
         "customdata": [
          [
           "Mortyr (2093–1944)"
          ]
         ],
         "hovertemplate": "Developer_List=Mirage Media<br>Release_Year=%{x}<br>Platform_List=%{y}<br>Title=%{customdata[0]}<extra></extra>",
         "legendgroup": "Mirage Media",
         "marker": {
          "color": "#FFA15A",
          "symbol": "circle"
         },
         "mode": "markers",
         "name": "Mirage Media",
         "showlegend": true,
         "type": "scattergl",
         "x": {
          "bdata": "zwc=",
          "dtype": "i2"
         },
         "xaxis": "x",
         "y": [
          "WIN"
         ],
         "yaxis": "y"
        },
        {
         "customdata": [
          [
           "Mothergunship"
          ],
          [
           "Mothergunship"
          ],
          [
           "Mothergunship"
          ]
         ],
         "hovertemplate": "Developer_List=Grip Digital<br>Release_Year=%{x}<br>Platform_List=%{y}<br>Title=%{customdata[0]}<extra></extra>",
         "legendgroup": "Grip Digital",
         "marker": {
          "color": "#19d3f3",
          "symbol": "circle"
         },
         "mode": "markers",
         "name": "Grip Digital",
         "showlegend": true,
         "type": "scattergl",
         "x": {
          "bdata": "4gfiB+IH",
          "dtype": "i2"
         },
         "xaxis": "x",
         "y": [
          "WIN",
          "PS4",
          "XONE"
         ],
         "yaxis": "y"
        },
        {
         "customdata": [
          [
           "Mothergunship"
          ],
          [
           "Mothergunship"
          ],
          [
           "Mothergunship"
          ],
          [
           "Tower of Guns"
          ]
         ],
         "hovertemplate": "Developer_List=Terrible Posture Games<br>Release_Year=%{x}<br>Platform_List=%{y}<br>Title=%{customdata[0]}<extra></extra>",
         "legendgroup": "Terrible Posture Games",
         "marker": {
          "color": "#FF6692",
          "symbol": "circle"
         },
         "mode": "markers",
         "name": "Terrible Posture Games",
         "showlegend": true,
         "type": "scattergl",
         "x": {
          "bdata": "4gfiB+IH3gc=",
          "dtype": "i2"
         },
         "xaxis": "x",
         "y": [
          "WIN",
          "PS4",
          "XONE",
          "WIN"
         ],
         "yaxis": "y"
        },
        {
         "customdata": [
          [
           "NAM"
          ],
          [
           "NAM"
          ],
          [
           "World War II GI"
          ],
          [
           "World War II GI"
          ]
         ],
         "hovertemplate": "Developer_List=TNT Team<br>Release_Year=%{x}<br>Platform_List=%{y}<br>Title=%{customdata[0]}<extra></extra>",
         "legendgroup": "TNT Team",
         "marker": {
          "color": "#B6E880",
          "symbol": "circle"
         },
         "mode": "markers",
         "name": "TNT Team",
         "showlegend": true,
         "type": "scattergl",
         "x": {
          "bdata": "zgfOB88Hzwc=",
          "dtype": "i2"
         },
         "xaxis": "x",
         "y": [
          "DOS",
          "WIN",
          "DOS",
          "WIN"
         ],
         "yaxis": "y"
        },
        {
         "customdata": [
          [
           "Natural Selection"
          ]
         ],
         "hovertemplate": "Developer_List=Unknown Worlds Entertainment<br>Release_Year=%{x}<br>Platform_List=%{y}<br>Title=%{customdata[0]}<extra></extra>",
         "legendgroup": "Unknown Worlds Entertainment",
         "marker": {
          "color": "#FF97FF",
          "symbol": "circle"
         },
         "mode": "markers",
         "name": "Unknown Worlds Entertainment",
         "showlegend": true,
         "type": "scattergl",
         "x": {
          "bdata": "0gc=",
          "dtype": "i2"
         },
         "xaxis": "x",
         "y": [
          "WIN"
         ],
         "yaxis": "y"
        },
        {
         "customdata": [
          [
           "Nerf Arena Blast"
          ]
         ],
         "hovertemplate": "Developer_List=Visionary Media<br>Release_Year=%{x}<br>Platform_List=%{y}<br>Title=%{customdata[0]}<extra></extra>",
         "legendgroup": "Visionary Media",
         "marker": {
          "color": "#FECB52",
          "symbol": "circle"
         },
         "mode": "markers",
         "name": "Visionary Media",
         "showlegend": true,
         "type": "scattergl",
         "x": {
          "bdata": "zwc=",
          "dtype": "i2"
         },
         "xaxis": "x",
         "y": [
          "WIN"
         ],
         "yaxis": "y"
        },
        {
         "customdata": [
          [
           "Neon White"
          ],
          [
           "Neon White"
          ],
          [
           "Neon White"
          ],
          [
           "Neon White"
          ],
          [
           "Neon White"
          ],
          [
           "Neon White"
          ]
         ],
         "hovertemplate": "Developer_List=Angel Matrix<br>Release_Year=%{x}<br>Platform_List=%{y}<br>Title=%{customdata[0]}<extra></extra>",
         "legendgroup": "Angel Matrix",
         "marker": {
          "color": "#636efa",
          "symbol": "circle"
         },
         "mode": "markers",
         "name": "Angel Matrix",
         "showlegend": true,
         "type": "scattergl",
         "x": {
          "bdata": "5gfmB+YH5gfmB+YH",
          "dtype": "i2"
         },
         "xaxis": "x",
         "y": [
          "WIN",
          "NX",
          "PS4",
          "PS5",
          "XONE",
          "XSX"
         ],
         "yaxis": "y"
        },
        {
         "customdata": [
          [
           "Neuro Hunter"
          ]
         ],
         "hovertemplate": "Developer_List=Media Art<br>Release_Year=%{x}<br>Platform_List=%{y}<br>Title=%{customdata[0]}<extra></extra>",
         "legendgroup": "Media Art",
         "marker": {
          "color": "#EF553B",
          "symbol": "circle"
         },
         "mode": "markers",
         "name": "Media Art",
         "showlegend": true,
         "type": "scattergl",
         "x": {
          "bdata": "1Qc=",
          "dtype": "i2"
         },
         "xaxis": "x",
         "y": [
          "WIN"
         ],
         "yaxis": "y"
        },
        {
         "customdata": [
          [
           "Neuro"
          ]
         ],
         "hovertemplate": "Developer_List=Revolt Games<br>Release_Year=%{x}<br>Platform_List=%{y}<br>Title=%{customdata[0]}<extra></extra>",
         "legendgroup": "Revolt Games",
         "marker": {
          "color": "#00cc96",
          "symbol": "circle"
         },
         "mode": "markers",
         "name": "Revolt Games",
         "showlegend": true,
         "type": "scattergl",
         "x": {
          "bdata": "1gc=",
          "dtype": "i2"
         },
         "xaxis": "x",
         "y": [
          "WIN"
         ],
         "yaxis": "y"
        },
        {
         "customdata": [
          [
           "New World Order"
          ]
         ],
         "hovertemplate": "Developer_List=Termite Games<br>Release_Year=%{x}<br>Platform_List=%{y}<br>Title=%{customdata[0]}<extra></extra>",
         "legendgroup": "Termite Games",
         "marker": {
          "color": "#ab63fa",
          "symbol": "circle"
         },
         "mode": "markers",
         "name": "Termite Games",
         "showlegend": true,
         "type": "scattergl",
         "x": {
          "bdata": "0gc=",
          "dtype": "i2"
         },
         "xaxis": "x",
         "y": [
          "WIN"
         ],
         "yaxis": "y"
        },
        {
         "customdata": [
          [
           "Nexuiz"
          ],
          [
           "Nexuiz"
          ],
          [
           "Nexuiz"
          ],
          [
           "Nexuiz"
          ],
          [
           "Nexuiz"
          ],
          [
           "Nexuiz"
          ]
         ],
         "hovertemplate": "Developer_List=Alientrap<br>Release_Year=%{x}<br>Platform_List=%{y}<br>Title=%{customdata[0]}<extra></extra>",
         "legendgroup": "Alientrap",
         "marker": {
          "color": "#FFA15A",
          "symbol": "circle"
         },
         "mode": "markers",
         "name": "Alientrap",
         "showlegend": true,
         "type": "scattergl",
         "x": {
          "bdata": "1QfVB9UH1QfVB9UH",
          "dtype": "i2"
         },
         "xaxis": "x",
         "y": [
          "LIN",
          "FreeBSD",
          "WIN",
          "OSX",
          "AmigaOS 4",
          "AROS"
         ],
         "yaxis": "y"
        },
        {
         "customdata": [
          [
           "Nitemare 3D"
          ],
          [
           "Nitemare 3D"
          ]
         ],
         "hovertemplate": "Developer_List=Gray Design Associates<br>Release_Year=%{x}<br>Platform_List=%{y}<br>Title=%{customdata[0]}<extra></extra>",
         "legendgroup": "Gray Design Associates",
         "marker": {
          "color": "#19d3f3",
          "symbol": "circle"
         },
         "mode": "markers",
         "name": "Gray Design Associates",
         "showlegend": true,
         "type": "scattergl",
         "x": {
          "bdata": "ygfKBw==",
          "dtype": "i2"
         },
         "xaxis": "x",
         "y": [
          "DOS",
          "WIN"
         ],
         "yaxis": "y"
        },
        {
         "customdata": [
          [
           "No Man's Sky"
          ],
          [
           "No Man's Sky"
          ],
          [
           "No Man's Sky"
          ],
          [
           "No Man's Sky"
          ],
          [
           "No Man's Sky"
          ],
          [
           "No Man's Sky"
          ],
          [
           "No Man's Sky"
          ]
         ],
         "hovertemplate": "Developer_List=Hello Games<br>Release_Year=%{x}<br>Platform_List=%{y}<br>Title=%{customdata[0]}<extra></extra>",
         "legendgroup": "Hello Games",
         "marker": {
          "color": "#FF6692",
          "symbol": "circle"
         },
         "mode": "markers",
         "name": "Hello Games",
         "showlegend": true,
         "type": "scattergl",
         "x": {
          "bdata": "4AfgB+AH4AfgB+AH4Ac=",
          "dtype": "i2"
         },
         "xaxis": "x",
         "y": [
          "WIN",
          "PS4",
          "XONE",
          "PS5",
          "XSX",
          "NX",
          "OSX"
         ],
         "yaxis": "y"
        },
        {
         "customdata": [
          [
           "Nosferatu: The Wrath of Malachi"
          ]
         ],
         "hovertemplate": "Developer_List=Idol FX<br>Release_Year=%{x}<br>Platform_List=%{y}<br>Title=%{customdata[0]}<extra></extra>",
         "legendgroup": "Idol FX",
         "marker": {
          "color": "#B6E880",
          "symbol": "circle"
         },
         "mode": "markers",
         "name": "Idol FX",
         "showlegend": true,
         "type": "scattergl",
         "x": {
          "bdata": "0wc=",
          "dtype": "i2"
         },
         "xaxis": "x",
         "y": [
          "WIN"
         ],
         "yaxis": "y"
        },
        {
         "customdata": [
          [
           "NRA Gun Club"
          ]
         ],
         "hovertemplate": "Developer_List=Crave Entertainment<br>Release_Year=%{x}<br>Platform_List=%{y}<br>Title=%{customdata[0]}<extra></extra>",
         "legendgroup": "Crave Entertainment",
         "marker": {
          "color": "#FF97FF",
          "symbol": "circle"
         },
         "mode": "markers",
         "name": "Crave Entertainment",
         "showlegend": true,
         "type": "scattergl",
         "x": {
          "bdata": "1gc=",
          "dtype": "i2"
         },
         "xaxis": "x",
         "y": [
          "PS2"
         ],
         "yaxis": "y"
        },
        {
         "customdata": [
          [
           "Oddworld: Stranger's Wrath"
          ],
          [
           "Oddworld: Stranger's Wrath"
          ],
          [
           "Oddworld: Stranger's Wrath"
          ],
          [
           "Oddworld: Stranger's Wrath"
          ],
          [
           "Oddworld: Stranger's Wrath"
          ],
          [
           "Oddworld: Stranger's Wrath"
          ],
          [
           "Oddworld: Stranger's Wrath"
          ],
          [
           "Oddworld: Stranger's Wrath"
          ],
          [
           "Oddworld: Stranger's Wrath"
          ],
          [
           "Oddworld: Stranger's Wrath"
          ]
         ],
         "hovertemplate": "Developer_List=Oddworld Inhabitants<br>Release_Year=%{x}<br>Platform_List=%{y}<br>Title=%{customdata[0]}<extra></extra>",
         "legendgroup": "Oddworld Inhabitants",
         "marker": {
          "color": "#FECB52",
          "symbol": "circle"
         },
         "mode": "markers",
         "name": "Oddworld Inhabitants",
         "showlegend": true,
         "type": "scattergl",
         "x": {
          "bdata": "1QfVB9UH1QfVB9UH1QfVB9UH1Qc=",
          "dtype": "i2"
         },
         "xaxis": "x",
         "y": [
          "Xbox",
          "WIN",
          "PS3 (PSN)",
          "VITA",
          "iOS",
          "Android",
          "OSX",
          "NX",
          "PS4",
          "XONE"
         ],
         "yaxis": "y"
        },
        {
         "customdata": [
          [
           "Onslaught"
          ]
         ],
         "hovertemplate": "Developer_List=Shade<br>Release_Year=%{x}<br>Platform_List=%{y}<br>Title=%{customdata[0]}<extra></extra>",
         "legendgroup": "Shade",
         "marker": {
          "color": "#636efa",
          "symbol": "circle"
         },
         "mode": "markers",
         "name": "Shade",
         "showlegend": true,
         "type": "scattergl",
         "x": {
          "bdata": "2Qc=",
          "dtype": "i2"
         },
         "xaxis": "x",
         "y": [
          "Wii"
         ],
         "yaxis": "y"
        },
        {
         "customdata": [
          [
           "Operation: Blockade"
          ],
          [
           "Operation: Blockade"
          ]
         ],
         "hovertemplate": "Developer_List=Screaming Games<br>Release_Year=%{x}<br>Platform_List=%{y}<br>Title=%{customdata[0]}<extra></extra>",
         "legendgroup": "Screaming Games",
         "marker": {
          "color": "#EF553B",
          "symbol": "circle"
         },
         "mode": "markers",
         "name": "Screaming Games",
         "showlegend": true,
         "type": "scattergl",
         "x": {
          "bdata": "0gfSBw==",
          "dtype": "i2"
         },
         "xaxis": "x",
         "y": [
          "Arcade",
          "WIN"
         ],
         "yaxis": "y"
        },
        {
         "customdata": [
          [
           "Operation Flashpoint: Cold War Crisis"
          ],
          [
           "Operation Flashpoint: Cold War Crisis"
          ]
         ],
         "hovertemplate": "Developer_List=Bohemia Interactive Studio<br>Release_Year=%{x}<br>Platform_List=%{y}<br>Title=%{customdata[0]}<extra></extra>",
         "legendgroup": "Bohemia Interactive Studio",
         "marker": {
          "color": "#00cc96",
          "symbol": "circle"
         },
         "mode": "markers",
         "name": "Bohemia Interactive Studio",
         "showlegend": true,
         "type": "scattergl",
         "x": {
          "bdata": "0QfRBw==",
          "dtype": "i2"
         },
         "xaxis": "x",
         "y": [
          "WIN",
          "Xbox"
         ],
         "yaxis": "y"
        },
        {
         "customdata": [
          [
           "Operation Flashpoint: Dragon Rising"
          ],
          [
           "Operation Flashpoint: Dragon Rising"
          ],
          [
           "Operation Flashpoint: Dragon Rising"
          ],
          [
           "Operation Flashpoint: Red River"
          ],
          [
           "Operation Flashpoint: Red River"
          ],
          [
           "Operation Flashpoint: Red River"
          ]
         ],
         "hovertemplate": "Developer_List=Codemasters<br>Release_Year=%{x}<br>Platform_List=%{y}<br>Title=%{customdata[0]}<extra></extra>",
         "legendgroup": "Codemasters",
         "marker": {
          "color": "#ab63fa",
          "symbol": "circle"
         },
         "mode": "markers",
         "name": "Codemasters",
         "showlegend": true,
         "type": "scattergl",
         "x": {
          "bdata": "2QfZB9kH2wfbB9sH",
          "dtype": "i2"
         },
         "xaxis": "x",
         "y": [
          "WIN",
          "PS3",
          "X360",
          "WIN",
          "PS3",
          "X360"
         ],
         "yaxis": "y"
        },
        {
         "customdata": [
          [
           "Operation: Matriarchy"
          ]
         ],
         "hovertemplate": "Developer_List=MADia Entertainment<br>Release_Year=%{x}<br>Platform_List=%{y}<br>Title=%{customdata[0]}<extra></extra>",
         "legendgroup": "MADia Entertainment",
         "marker": {
          "color": "#FFA15A",
          "symbol": "circle"
         },
         "mode": "markers",
         "name": "MADia Entertainment",
         "showlegend": true,
         "type": "scattergl",
         "x": {
          "bdata": "1Qc=",
          "dtype": "i2"
         },
         "xaxis": "x",
         "y": [
          "WIN"
         ],
         "yaxis": "y"
        },
        {
         "customdata": [
          [
           "Orion: Prelude"
          ]
         ],
         "hovertemplate": "Developer_List=Spiral Game Studios<br>Release_Year=%{x}<br>Platform_List=%{y}<br>Title=%{customdata[0]}<extra></extra>",
         "legendgroup": "Spiral Game Studios",
         "marker": {
          "color": "#19d3f3",
          "symbol": "circle"
         },
         "mode": "markers",
         "name": "Spiral Game Studios",
         "showlegend": true,
         "type": "scattergl",
         "x": {
          "bdata": "3gc=",
          "dtype": "i2"
         },
         "xaxis": "x",
         "y": [
          "WIN"
         ],
         "yaxis": "y"
        },
        {
         "customdata": [
          [
           "Outlaws"
          ],
          [
           "Rescue on Fractalus!"
          ],
          [
           "Star Wars: Dark Forces"
          ],
          [
           "Star Wars: Dark Forces"
          ],
          [
           "Star Wars: Dark Forces"
          ],
          [
           "Star Wars: Dark Forces"
          ],
          [
           "Star Wars: Dark Forces"
          ],
          [
           "Star Wars: Dark Forces"
          ],
          [
           "Star Wars: Dark Forces"
          ],
          [
           "Star Wars: Dark Forces"
          ],
          [
           "Star Wars: Dark Forces"
          ],
          [
           "Star Wars Jedi Knight: Dark Forces II"
          ],
          [
           "Star Wars Jedi Knight: Mysteries of the Sith"
          ],
          [
           "Star Wars: Republic Commando"
          ],
          [
           "Star Wars: Republic Commando"
          ],
          [
           "Star Wars: Republic Commando"
          ],
          [
           "Star Wars: Republic Commando"
          ]
         ],
         "hovertemplate": "Developer_List=LucasArts<br>Release_Year=%{x}<br>Platform_List=%{y}<br>Title=%{customdata[0]}<extra></extra>",
         "legendgroup": "LucasArts",
         "marker": {
          "color": "#FF6692",
          "symbol": "circle"
         },
         "mode": "markers",
         "name": "LucasArts",
         "showlegend": true,
         "type": "scattergl",
         "x": {
          "bdata": "zQfBB8sHywfLB8sHywfLB8sHywfLB80HzgfVB9UH1QfVBw==",
          "dtype": "i2"
         },
         "xaxis": "x",
         "y": [
          "WIN",
          "A400/800",
          "DOS",
          "MAC",
          "PS1",
          "WIN",
          "PS4",
          "PS5",
          "XONE",
          "XSX",
          "NX",
          "WIN",
          "WIN",
          "WIN",
          "Xbox",
          "PS4",
          "NX"
         ],
         "yaxis": "y"
        },
        {
         "customdata": [
          [
           "Outtrigger"
          ],
          [
           "Outtrigger"
          ]
         ],
         "hovertemplate": "Developer_List=Sega-AM2<br>Release_Year=%{x}<br>Platform_List=%{y}<br>Title=%{customdata[0]}<extra></extra>",
         "legendgroup": "Sega-AM2",
         "marker": {
          "color": "#B6E880",
          "symbol": "circle"
         },
         "mode": "markers",
         "name": "Sega-AM2",
         "showlegend": true,
         "type": "scattergl",
         "x": {
          "bdata": "zwfPBw==",
          "dtype": "i2"
         },
         "xaxis": "x",
         "y": [
          "Arcade",
          "DC"
         ],
         "yaxis": "y"
        },
        {
         "customdata": [
          [
           "Overkill's The Walking Dead"
          ],
          [
           "Payday: The Heist"
          ],
          [
           "Payday: The Heist"
          ],
          [
           "Payday 2"
          ],
          [
           "Payday 2"
          ],
          [
           "Payday 2"
          ],
          [
           "Payday 2"
          ],
          [
           "Payday 2"
          ],
          [
           "Payday 2"
          ],
          [
           "Payday 2"
          ]
         ],
         "hovertemplate": "Developer_List=Overkill Software<br>Release_Year=%{x}<br>Platform_List=%{y}<br>Title=%{customdata[0]}<extra></extra>",
         "legendgroup": "Overkill Software",
         "marker": {
          "color": "#FF97FF",
          "symbol": "circle"
         },
         "mode": "markers",
         "name": "Overkill Software",
         "showlegend": true,
         "type": "scattergl",
         "x": {
          "bdata": "4gfbB9sH3QfdB90H3QfdB90H3Qc=",
          "dtype": "i2"
         },
         "xaxis": "x",
         "y": [
          "WIN",
          "PS3",
          "WIN",
          "WIN",
          "PS3",
          "X360",
          "PS4",
          "XONE",
          "LIN",
          "NX"
         ],
         "yaxis": "y"
        },
        {
         "customdata": [
          [
           "Overwatch"
          ],
          [
           "Overwatch"
          ],
          [
           "Overwatch"
          ],
          [
           "Overwatch"
          ],
          [
           "Overwatch 2"
          ],
          [
           "Overwatch 2"
          ],
          [
           "Overwatch 2"
          ],
          [
           "Overwatch 2"
          ],
          [
           "Overwatch 2"
          ],
          [
           "Overwatch 2"
          ]
         ],
         "hovertemplate": "Developer_List=Blizzard Entertainment<br>Release_Year=%{x}<br>Platform_List=%{y}<br>Title=%{customdata[0]}<extra></extra>",
         "legendgroup": "Blizzard Entertainment",
         "marker": {
          "color": "#FECB52",
          "symbol": "circle"
         },
         "mode": "markers",
         "name": "Blizzard Entertainment",
         "showlegend": true,
         "type": "scattergl",
         "x": {
          "bdata": "4AfgB+AH4AfmB+YH5gfmB+YH5gc=",
          "dtype": "i2"
         },
         "xaxis": "x",
         "y": [
          "WIN",
          "PS4",
          "XONE",
          "NX",
          "WIN",
          "PS4",
          "PS5",
          "XONE",
          "XSX",
          "NX"
         ],
         "yaxis": "y"
        },
        {
         "customdata": [
          [
           "Painkiller: Resurrection"
          ]
         ],
         "hovertemplate": "Developer_List=HomeGrown Games<br>Release_Year=%{x}<br>Platform_List=%{y}<br>Title=%{customdata[0]}<extra></extra>",
         "legendgroup": "HomeGrown Games",
         "marker": {
          "color": "#636efa",
          "symbol": "circle"
         },
         "mode": "markers",
         "name": "HomeGrown Games",
         "showlegend": true,
         "type": "scattergl",
         "x": {
          "bdata": "2Qc=",
          "dtype": "i2"
         },
         "xaxis": "x",
         "y": [
          "WIN"
         ],
         "yaxis": "y"
        },
        {
         "customdata": [
          [
           "Painkiller: Redemption"
          ],
          [
           "Painkiller: Recurring Evil"
          ]
         ],
         "hovertemplate": "Developer_List=Eggtooth<br>Release_Year=%{x}<br>Platform_List=%{y}<br>Title=%{customdata[0]}<extra></extra>",
         "legendgroup": "Eggtooth",
         "marker": {
          "color": "#EF553B",
          "symbol": "circle"
         },
         "mode": "markers",
         "name": "Eggtooth",
         "showlegend": true,
         "type": "scattergl",
         "x": {
          "bdata": "2wfcBw==",
          "dtype": "i2"
         },
         "xaxis": "x",
         "y": [
          "WIN",
          "WIN"
         ],
         "yaxis": "y"
        },
        {
         "customdata": [
          [
           "Painkiller: Redemption"
          ]
         ],
         "hovertemplate": "Developer_List=Homegrown Games<br>Release_Year=%{x}<br>Platform_List=%{y}<br>Title=%{customdata[0]}<extra></extra>",
         "legendgroup": "Homegrown Games",
         "marker": {
          "color": "#00cc96",
          "symbol": "circle"
         },
         "mode": "markers",
         "name": "Homegrown Games",
         "showlegend": true,
         "type": "scattergl",
         "x": {
          "bdata": "2wc=",
          "dtype": "i2"
         },
         "xaxis": "x",
         "y": [
          "WIN"
         ],
         "yaxis": "y"
        },
        {
         "customdata": [
          [
           "Painkiller: Recurring Evil"
          ]
         ],
         "hovertemplate": "Developer_List=Med-Art<br>Release_Year=%{x}<br>Platform_List=%{y}<br>Title=%{customdata[0]}<extra></extra>",
         "legendgroup": "Med-Art",
         "marker": {
          "color": "#ab63fa",
          "symbol": "circle"
         },
         "mode": "markers",
         "name": "Med-Art",
         "showlegend": true,
         "type": "scattergl",
         "x": {
          "bdata": "3Ac=",
          "dtype": "i2"
         },
         "xaxis": "x",
         "y": [
          "WIN"
         ],
         "yaxis": "y"
        },
        {
         "customdata": [
          [
           "Paladins: Champions of the Realm"
          ],
          [
           "Paladins: Champions of the Realm"
          ],
          [
           "Paladins: Champions of the Realm"
          ],
          [
           "Paladins: Champions of the Realm"
          ],
          [
           "Tribes: Ascend"
          ]
         ],
         "hovertemplate": "Developer_List=Hi-Rez Studios<br>Release_Year=%{x}<br>Platform_List=%{y}<br>Title=%{customdata[0]}<extra></extra>",
         "legendgroup": "Hi-Rez Studios",
         "marker": {
          "color": "#FFA15A",
          "symbol": "circle"
         },
         "mode": "markers",
         "name": "Hi-Rez Studios",
         "showlegend": true,
         "type": "scattergl",
         "x": {
          "bdata": "3wffB98H3wfcBw==",
          "dtype": "i2"
         },
         "xaxis": "x",
         "y": [
          "WIN",
          "PS4",
          "XONE",
          "NX",
          "WIN"
         ],
         "yaxis": "y"
        },
        {
         "customdata": [
          [
           "Parkan: The Imperial Chronicles"
          ],
          [
           "Parkan: Iron Strategy"
          ],
          [
           "Parkan II"
          ]
         ],
         "hovertemplate": "Developer_List=Nikita<br>Release_Year=%{x}<br>Platform_List=%{y}<br>Title=%{customdata[0]}<extra></extra>",
         "legendgroup": "Nikita",
         "marker": {
          "color": "#19d3f3",
          "symbol": "circle"
         },
         "mode": "markers",
         "name": "Nikita",
         "showlegend": true,
         "type": "scattergl",
         "x": {
          "bdata": "AADRB9QH",
          "dtype": "i2"
         },
         "xaxis": "x",
         "y": [
          "WIN",
          "WIN",
          "WIN"
         ],
         "yaxis": "y"
        },
        {
         "customdata": [
          [
           "Pencil Whipped"
          ]
         ],
         "hovertemplate": "Developer_List=ChiselBrain<br>Release_Year=%{x}<br>Platform_List=%{y}<br>Title=%{customdata[0]}<extra></extra>",
         "legendgroup": "ChiselBrain",
         "marker": {
          "color": "#FF6692",
          "symbol": "circle"
         },
         "mode": "markers",
         "name": "ChiselBrain",
         "showlegend": true,
         "type": "scattergl",
         "x": {
          "bdata": "0Qc=",
          "dtype": "i2"
         },
         "xaxis": "x",
         "y": [
          "WIN"
         ],
         "yaxis": "y"
        },
        {
         "customdata": [
          [
           "Perfect Dark"
          ]
         ],
         "hovertemplate": "Developer_List=4J Studios<br>Release_Year=%{x}<br>Platform_List=%{y}<br>Title=%{customdata[0]}<extra></extra>",
         "legendgroup": "4J Studios",
         "marker": {
          "color": "#B6E880",
          "symbol": "circle"
         },
         "mode": "markers",
         "name": "4J Studios",
         "showlegend": true,
         "type": "scattergl",
         "x": {
          "bdata": "2gc=",
          "dtype": "i2"
         },
         "xaxis": "x",
         "y": [
          "X360 (XBLA)"
         ],
         "yaxis": "y"
        },
        {
         "customdata": [
          [
           "Phantom Slayer"
          ],
          [
           "Phantom Slayer"
          ]
         ],
         "hovertemplate": "Developer_List=Med Systems<br>Release_Year=%{x}<br>Platform_List=%{y}<br>Title=%{customdata[0]}<extra></extra>",
         "legendgroup": "Med Systems",
         "marker": {
          "color": "#FF97FF",
          "symbol": "circle"
         },
         "mode": "markers",
         "name": "Med Systems",
         "showlegend": true,
         "type": "scattergl",
         "x": {
          "bdata": "vge+Bw==",
          "dtype": "i2"
         },
         "xaxis": "x",
         "y": [
          "TRS80",
          "DRA"
         ],
         "yaxis": "y"
        },
        {
         "customdata": [
          [
           "PlanetSide"
          ]
         ],
         "hovertemplate": "Developer_List=Sony Online Entertainment<br>Release_Year=%{x}<br>Platform_List=%{y}<br>Title=%{customdata[0]}<extra></extra>",
         "legendgroup": "Sony Online Entertainment",
         "marker": {
          "color": "#FECB52",
          "symbol": "circle"
         },
         "mode": "markers",
         "name": "Sony Online Entertainment",
         "showlegend": true,
         "type": "scattergl",
         "x": {
          "bdata": "0wc=",
          "dtype": "i2"
         },
         "xaxis": "x",
         "y": [
          "WIN"
         ],
         "yaxis": "y"
        },
        {
         "customdata": [
          [
           "PlanetSide 2"
          ],
          [
           "PlanetSide 2"
          ]
         ],
         "hovertemplate": "Developer_List=Toadman Interactive<br>Release_Year=%{x}<br>Platform_List=%{y}<br>Title=%{customdata[0]}<extra></extra>",
         "legendgroup": "Toadman Interactive",
         "marker": {
          "color": "#636efa",
          "symbol": "circle"
         },
         "mode": "markers",
         "name": "Toadman Interactive",
         "showlegend": true,
         "type": "scattergl",
         "x": {
          "bdata": "3AfcBw==",
          "dtype": "i2"
         },
         "xaxis": "x",
         "y": [
          "WIN",
          "PS4"
         ],
         "yaxis": "y"
        },
        {
         "customdata": [
          [
           "PlanetSide Arena"
          ]
         ],
         "hovertemplate": "Developer_List=Daybreak Game Company<br>Release_Year=%{x}<br>Platform_List=%{y}<br>Title=%{customdata[0]}<extra></extra>",
         "legendgroup": "Daybreak Game Company",
         "marker": {
          "color": "#EF553B",
          "symbol": "circle"
         },
         "mode": "markers",
         "name": "Daybreak Game Company",
         "showlegend": true,
         "type": "scattergl",
         "x": {
          "bdata": "4wc=",
          "dtype": "i2"
         },
         "xaxis": "x",
         "y": [
          "WIN"
         ],
         "yaxis": "y"
        },
        {
         "customdata": [
          [
           "PO'ed"
          ],
          [
           "PO'ed"
          ]
         ],
         "hovertemplate": "Developer_List=Any Channel<br>Release_Year=%{x}<br>Platform_List=%{y}<br>Title=%{customdata[0]}<extra></extra>",
         "legendgroup": "Any Channel",
         "marker": {
          "color": "#00cc96",
          "symbol": "circle"
         },
         "mode": "markers",
         "name": "Any Channel",
         "showlegend": true,
         "type": "scattergl",
         "x": {
          "bdata": "ywfLBw==",
          "dtype": "i2"
         },
         "xaxis": "x",
         "y": [
          "3DO",
          "PS1"
         ],
         "yaxis": "y"
        },
        {
         "customdata": [
          [
           "Point Blank"
          ]
         ],
         "hovertemplate": "Developer_List=Zepetto<br>Release_Year=%{x}<br>Platform_List=%{y}<br>Title=%{customdata[0]}<extra></extra>",
         "legendgroup": "Zepetto",
         "marker": {
          "color": "#ab63fa",
          "symbol": "circle"
         },
         "mode": "markers",
         "name": "Zepetto",
         "showlegend": true,
         "type": "scattergl",
         "x": {
          "bdata": "AA==",
          "dtype": "i1"
         },
         "xaxis": "x",
         "y": [
          "WIN"
         ],
         "yaxis": "y"
        },
        {
         "customdata": [
          [
           "Postal 2"
          ],
          [
           "Postal 2"
          ],
          [
           "Postal 2"
          ],
          [
           "Postal 4: No Regerts"
          ],
          [
           "Postal 4: No Regerts"
          ],
          [
           "Postal 4: No Regerts"
          ]
         ],
         "hovertemplate": "Developer_List=Running with Scissors<br>Release_Year=%{x}<br>Platform_List=%{y}<br>Title=%{customdata[0]}<extra></extra>",
         "legendgroup": "Running with Scissors",
         "marker": {
          "color": "#FFA15A",
          "symbol": "circle"
         },
         "mode": "markers",
         "name": "Running with Scissors",
         "showlegend": true,
         "type": "scattergl",
         "x": {
          "bdata": "0wfTB9MH4wfjB+MH",
          "dtype": "i2"
         },
         "xaxis": "x",
         "y": [
          "WIN",
          "OSX",
          "LIN",
          "WIN",
          "PS4",
          "PS5"
         ],
         "yaxis": "y"
        },
        {
         "customdata": [
          [
           "PowerSlave"
          ],
          [
           "PowerSlave"
          ],
          [
           "PowerSlave"
          ]
         ],
         "hovertemplate": "Developer_List=Lobotomy Software<br>Release_Year=%{x}<br>Platform_List=%{y}<br>Title=%{customdata[0]}<extra></extra>",
         "legendgroup": "Lobotomy Software",
         "marker": {
          "color": "#19d3f3",
          "symbol": "circle"
         },
         "mode": "markers",
         "name": "Lobotomy Software",
         "showlegend": true,
         "type": "scattergl",
         "x": {
          "bdata": "zAfMB8wH",
          "dtype": "i2"
         },
         "xaxis": "x",
         "y": [
          "DOS",
          "PS1",
          "SAT"
         ],
         "yaxis": "y"
        },
        {
         "customdata": [
          [
           "Prey Invasion"
          ]
         ],
         "hovertemplate": "Developer_List=Machine Works NorthWest<br>Release_Year=%{x}<br>Platform_List=%{y}<br>Title=%{customdata[0]}<extra></extra>",
         "legendgroup": "Machine Works NorthWest",
         "marker": {
          "color": "#FF6692",
          "symbol": "circle"
         },
         "mode": "markers",
         "name": "Machine Works NorthWest",
         "showlegend": true,
         "type": "scattergl",
         "x": {
          "bdata": "2Qc=",
          "dtype": "i2"
         },
         "xaxis": "x",
         "y": [
          "iOS"
         ],
         "yaxis": "y"
        },
        {
         "customdata": [
          [
           "Prey"
          ],
          [
           "Prey"
          ],
          [
           "Prey"
          ],
          [
           "Redfall"
          ],
          [
           "Redfall"
          ]
         ],
         "hovertemplate": "Developer_List=Arkane Austin<br>Release_Year=%{x}<br>Platform_List=%{y}<br>Title=%{customdata[0]}<extra></extra>",
         "legendgroup": "Arkane Austin",
         "marker": {
          "color": "#B6E880",
          "symbol": "circle"
         },
         "mode": "markers",
         "name": "Arkane Austin",
         "showlegend": true,
         "type": "scattergl",
         "x": {
          "bdata": "4QfhB+EH5wfnBw==",
          "dtype": "i2"
         },
         "xaxis": "x",
         "y": [
          "WIN",
          "PS4",
          "XONE",
          "WIN",
          "XSX"
         ],
         "yaxis": "y"
        },
        {
         "customdata": [
          [
           "Prime Target"
          ]
         ],
         "hovertemplate": "Developer_List=Marathon Engine<br>Release_Year=%{x}<br>Platform_List=%{y}<br>Title=%{customdata[0]}<extra></extra>",
         "legendgroup": "Marathon Engine",
         "marker": {
          "color": "#FF97FF",
          "symbol": "circle"
         },
         "mode": "markers",
         "name": "Marathon Engine",
         "showlegend": true,
         "type": "scattergl",
         "x": {
          "bdata": "zAc=",
          "dtype": "i2"
         },
         "xaxis": "x",
         "y": [
          "Mac"
         ],
         "yaxis": "y"
        },
        {
         "customdata": [
          [
           "Prodeus"
          ],
          [
           "Prodeus"
          ],
          [
           "Prodeus"
          ],
          [
           "Prodeus"
          ],
          [
           "Prodeus"
          ],
          [
           "Prodeus"
          ]
         ],
         "hovertemplate": "Developer_List=Mike Voeller<br>Release_Year=%{x}<br>Platform_List=%{y}<br>Title=%{customdata[0]}<extra></extra>",
         "legendgroup": "Mike Voeller",
         "marker": {
          "color": "#FECB52",
          "symbol": "circle"
         },
         "mode": "markers",
         "name": "Mike Voeller",
         "showlegend": true,
         "type": "scattergl",
         "x": {
          "bdata": "5AfkB+QH5AfkB+QH",
          "dtype": "i2"
         },
         "xaxis": "x",
         "y": [
          "WIN",
          "LIN",
          "OSX",
          "PS4",
          "XONE",
          "NX"
         ],
         "yaxis": "y"
        },
        {
         "customdata": [
          [
           "Prodeus"
          ],
          [
           "Prodeus"
          ],
          [
           "Prodeus"
          ],
          [
           "Prodeus"
          ],
          [
           "Prodeus"
          ],
          [
           "Prodeus"
          ]
         ],
         "hovertemplate": "Developer_List=Jason Mojica<br>Release_Year=%{x}<br>Platform_List=%{y}<br>Title=%{customdata[0]}<extra></extra>",
         "legendgroup": "Jason Mojica",
         "marker": {
          "color": "#636efa",
          "symbol": "circle"
         },
         "mode": "markers",
         "name": "Jason Mojica",
         "showlegend": true,
         "type": "scattergl",
         "x": {
          "bdata": "5AfkB+QH5AfkB+QH",
          "dtype": "i2"
         },
         "xaxis": "x",
         "y": [
          "WIN",
          "LIN",
          "OSX",
          "PS4",
          "XONE",
          "NX"
         ],
         "yaxis": "y"
        },
        {
         "customdata": [
          [
           "Project I.G.I."
          ],
          [
           "I.G.I.-2: Covert Strike"
          ]
         ],
         "hovertemplate": "Developer_List=Innerloop Studios<br>Release_Year=%{x}<br>Platform_List=%{y}<br>Title=%{customdata[0]}<extra></extra>",
         "legendgroup": "Innerloop Studios",
         "marker": {
          "color": "#EF553B",
          "symbol": "circle"
         },
         "mode": "markers",
         "name": "Innerloop Studios",
         "showlegend": true,
         "type": "scattergl",
         "x": {
          "bdata": "0AfTBw==",
          "dtype": "i2"
         },
         "xaxis": "x",
         "y": [
          "WIN",
          "WIN"
         ],
         "yaxis": "y"
        },
        {
         "customdata": [
          [
           "Project Snowblind"
          ],
          [
           "Project Snowblind"
          ],
          [
           "Project Snowblind"
          ]
         ],
         "hovertemplate": "Developer_List=Crystal Dynamics<br>Release_Year=%{x}<br>Platform_List=%{y}<br>Title=%{customdata[0]}<extra></extra>",
         "legendgroup": "Crystal Dynamics",
         "marker": {
          "color": "#00cc96",
          "symbol": "circle"
         },
         "mode": "markers",
         "name": "Crystal Dynamics",
         "showlegend": true,
         "type": "scattergl",
         "x": {
          "bdata": "1QfVB9UH",
          "dtype": "i2"
         },
         "xaxis": "x",
         "y": [
          "WIN",
          "PS2",
          "Xbox"
         ],
         "yaxis": "y"
        },
        {
         "customdata": [
          [
           "Project Warlock"
          ],
          [
           "Project Warlock"
          ],
          [
           "Project Warlock"
          ],
          [
           "Project Warlock"
          ]
         ],
         "hovertemplate": "Developer_List=Buckshot Software<br>Release_Year=%{x}<br>Platform_List=%{y}<br>Title=%{customdata[0]}<extra></extra>",
         "legendgroup": "Buckshot Software",
         "marker": {
          "color": "#ab63fa",
          "symbol": "circle"
         },
         "mode": "markers",
         "name": "Buckshot Software",
         "showlegend": true,
         "type": "scattergl",
         "x": {
          "bdata": "4gfiB+IH4gc=",
          "dtype": "i2"
         },
         "xaxis": "x",
         "y": [
          "WIN",
          "PS4",
          "NX",
          "XONE"
         ],
         "yaxis": "y"
        },
        {
         "customdata": [
          [
           "Psychotoxic"
          ]
         ],
         "hovertemplate": "Developer_List=NuClearVision Entertainment<br>Release_Year=%{x}<br>Platform_List=%{y}<br>Title=%{customdata[0]}<extra></extra>",
         "legendgroup": "NuClearVision Entertainment",
         "marker": {
          "color": "#FFA15A",
          "symbol": "circle"
         },
         "mode": "markers",
         "name": "NuClearVision Entertainment",
         "showlegend": true,
         "type": "scattergl",
         "x": {
          "bdata": "1Ac=",
          "dtype": "i2"
         },
         "xaxis": "x",
         "y": [
          "WIN"
         ],
         "yaxis": "y"
        },
        {
         "customdata": [
          [
           "Pulsar: Lost Colony"
          ],
          [
           "Pulsar: Lost Colony"
          ],
          [
           "Pulsar: Lost Colony"
          ]
         ],
         "hovertemplate": "Developer_List=Leafy Games LLC<br>Release_Year=%{x}<br>Platform_List=%{y}<br>Title=%{customdata[0]}<extra></extra>",
         "legendgroup": "Leafy Games LLC",
         "marker": {
          "color": "#19d3f3",
          "symbol": "circle"
         },
         "mode": "markers",
         "name": "Leafy Games LLC",
         "showlegend": true,
         "type": "scattergl",
         "x": {
          "bdata": "5QflB+UH",
          "dtype": "i2"
         },
         "xaxis": "x",
         "y": [
          "WIN",
          "OS X",
          "Linux"
         ],
         "yaxis": "y"
        },
        {
         "customdata": [
          [
           "Quake Mission Pack No. 1: Scourge of Armagon"
          ]
         ],
         "hovertemplate": "Developer_List=Hipnotic Interactive<br>Release_Year=%{x}<br>Platform_List=%{y}<br>Title=%{customdata[0]}<extra></extra>",
         "legendgroup": "Hipnotic Interactive",
         "marker": {
          "color": "#FF6692",
          "symbol": "circle"
         },
         "mode": "markers",
         "name": "Hipnotic Interactive",
         "showlegend": true,
         "type": "scattergl",
         "x": {
          "bdata": "zQc=",
          "dtype": "i2"
         },
         "xaxis": "x",
         "y": [
          "DOS"
         ],
         "yaxis": "y"
        },
        {
         "customdata": [
          [
           "Quake Mission Pack No. 2: Dissolution of Eternity"
          ],
          [
           "Quake II Mission Pack: Ground Zero"
          ],
          [
           "Strife: Quest for the Sigil"
          ]
         ],
         "hovertemplate": "Developer_List=Rogue Entertainment<br>Release_Year=%{x}<br>Platform_List=%{y}<br>Title=%{customdata[0]}<extra></extra>",
         "legendgroup": "Rogue Entertainment",
         "marker": {
          "color": "#B6E880",
          "symbol": "circle"
         },
         "mode": "markers",
         "name": "Rogue Entertainment",
         "showlegend": true,
         "type": "scattergl",
         "x": {
          "bdata": "zQfOB8wH",
          "dtype": "i2"
         },
         "xaxis": "x",
         "y": [
          "DOS",
          "WIN",
          "DOS"
         ],
         "yaxis": "y"
        },
        {
         "customdata": [
          [
           "Quest for Bush"
          ]
         ],
         "hovertemplate": "Developer_List=al-Qaeda<br>Release_Year=%{x}<br>Platform_List=%{y}<br>Title=%{customdata[0]}<extra></extra>",
         "legendgroup": "al-Qaeda",
         "marker": {
          "color": "#FF97FF",
          "symbol": "circle"
         },
         "mode": "markers",
         "name": "al-Qaeda",
         "showlegend": true,
         "type": "scattergl",
         "x": {
          "bdata": "1gc=",
          "dtype": "i2"
         },
         "xaxis": "x",
         "y": [
          "WIN"
         ],
         "yaxis": "y"
        },
        {
         "customdata": [
          [
           "Quest for Saddam"
          ]
         ],
         "hovertemplate": "Developer_List=Petrilla Entertainment<br>Release_Year=%{x}<br>Platform_List=%{y}<br>Title=%{customdata[0]}<extra></extra>",
         "legendgroup": "Petrilla Entertainment",
         "marker": {
          "color": "#FECB52",
          "symbol": "circle"
         },
         "mode": "markers",
         "name": "Petrilla Entertainment",
         "showlegend": true,
         "type": "scattergl",
         "x": {
          "bdata": "0wc=",
          "dtype": "i2"
         },
         "xaxis": "x",
         "y": [
          "WIN"
         ],
         "yaxis": "y"
        },
        {
         "customdata": [
          [
           "Quest of Persia: The End of Innocence"
          ]
         ],
         "hovertemplate": "Developer_List=Puya Arts<br>Release_Year=%{x}<br>Platform_List=%{y}<br>Title=%{customdata[0]}<extra></extra>",
         "legendgroup": "Puya Arts",
         "marker": {
          "color": "#636efa",
          "symbol": "circle"
         },
         "mode": "markers",
         "name": "Puya Arts",
         "showlegend": true,
         "type": "scattergl",
         "x": {
          "bdata": "1Qc=",
          "dtype": "i2"
         },
         "xaxis": "x",
         "y": [
          "WIN"
         ],
         "yaxis": "y"
        },
        {
         "customdata": [
          [
           "Quiver"
          ]
         ],
         "hovertemplate": "Developer_List=ADvertainment Software<br>Release_Year=%{x}<br>Platform_List=%{y}<br>Title=%{customdata[0]}<extra></extra>",
         "legendgroup": "ADvertainment Software",
         "marker": {
          "color": "#EF553B",
          "symbol": "circle"
         },
         "mode": "markers",
         "name": "ADvertainment Software",
         "showlegend": true,
         "type": "scattergl",
         "x": {
          "bdata": "AA==",
          "dtype": "i1"
         },
         "xaxis": "x",
         "y": [
          "DOS"
         ],
         "yaxis": "y"
        },
        {
         "customdata": [
          [
           "Radix: Beyond the Void"
          ]
         ],
         "hovertemplate": "Developer_List=Neutral Storm Entertainment<br>Release_Year=%{x}<br>Platform_List=%{y}<br>Title=%{customdata[0]}<extra></extra>",
         "legendgroup": "Neutral Storm Entertainment",
         "marker": {
          "color": "#00cc96",
          "symbol": "circle"
         },
         "mode": "markers",
         "name": "Neutral Storm Entertainment",
         "showlegend": true,
         "type": "scattergl",
         "x": {
          "bdata": "ywc=",
          "dtype": "i2"
         },
         "xaxis": "x",
         "y": [
          "DOS"
         ],
         "yaxis": "y"
        },
        {
         "customdata": [
          [
           "Rage 2"
          ],
          [
           "Rage 2"
          ],
          [
           "Rage 2"
          ]
         ],
         "hovertemplate": "Developer_List=Avalanche Studios<br>Release_Year=%{x}<br>Platform_List=%{y}<br>Title=%{customdata[0]}<extra></extra>",
         "legendgroup": "Avalanche Studios",
         "marker": {
          "color": "#ab63fa",
          "symbol": "circle"
         },
         "mode": "markers",
         "name": "Avalanche Studios",
         "showlegend": true,
         "type": "scattergl",
         "x": {
          "bdata": "4wfjB+MH",
          "dtype": "i2"
         },
         "xaxis": "x",
         "y": [
          "WIN",
          "PS4",
          "XONE"
         ],
         "yaxis": "y"
        },
        {
         "customdata": [
          [
           "Raven Squad: Operation Hidden Dagger"
          ],
          [
           "Raven Squad: Operation Hidden Dagger"
          ]
         ],
         "hovertemplate": "Developer_List=Atomic Motion<br>Release_Year=%{x}<br>Platform_List=%{y}<br>Title=%{customdata[0]}<extra></extra>",
         "legendgroup": "Atomic Motion",
         "marker": {
          "color": "#FFA15A",
          "symbol": "circle"
         },
         "mode": "markers",
         "name": "Atomic Motion",
         "showlegend": true,
         "type": "scattergl",
         "x": {
          "bdata": "2QfZBw==",
          "dtype": "i2"
         },
         "xaxis": "x",
         "y": [
          "WIN",
          "X360"
         ],
         "yaxis": "y"
        },
        {
         "customdata": [
          [
           "Ready or Not"
          ]
         ],
         "hovertemplate": "Developer_List=VOID Interactive<br>Release_Year=%{x}<br>Platform_List=%{y}<br>Title=%{customdata[0]}<extra></extra>",
         "legendgroup": "VOID Interactive",
         "marker": {
          "color": "#19d3f3",
          "symbol": "circle"
         },
         "mode": "markers",
         "name": "VOID Interactive",
         "showlegend": true,
         "type": "scattergl",
         "x": {
          "bdata": "5Qc=",
          "dtype": "i2"
         },
         "xaxis": "x",
         "y": [
          "WIN"
         ],
         "yaxis": "y"
        },
        {
         "customdata": [
          [
           "Realms of the Haunting"
          ]
         ],
         "hovertemplate": "Developer_List=Gremlin Interactive<br>Release_Year=%{x}<br>Platform_List=%{y}<br>Title=%{customdata[0]}<extra></extra>",
         "legendgroup": "Gremlin Interactive",
         "marker": {
          "color": "#FF6692",
          "symbol": "circle"
         },
         "mode": "markers",
         "name": "Gremlin Interactive",
         "showlegend": true,
         "type": "scattergl",
         "x": {
          "bdata": "AA==",
          "dtype": "i1"
         },
         "xaxis": "x",
         "y": [
          "DOS"
         ],
         "yaxis": "y"
        },
        {
         "customdata": [
          [
           "Rebel Moon"
          ],
          [
           "Rebel Moon Rising"
          ]
         ],
         "hovertemplate": "Developer_List=Fenris Wolf Ltd.<br>Release_Year=%{x}<br>Platform_List=%{y}<br>Title=%{customdata[0]}<extra></extra>",
         "legendgroup": "Fenris Wolf Ltd.",
         "marker": {
          "color": "#B6E880",
          "symbol": "circle"
         },
         "mode": "markers",
         "name": "Fenris Wolf Ltd.",
         "showlegend": true,
         "type": "scattergl",
         "x": {
          "bdata": "AADNBw==",
          "dtype": "i2"
         },
         "xaxis": "x",
         "y": [
          "WIN",
          "WIN"
         ],
         "yaxis": "y"
        },
        {
         "customdata": [
          [
           "Rec Room"
          ],
          [
           "Rec Room"
          ]
         ],
         "hovertemplate": "Developer_List=Against Gravity<br>Release_Year=%{x}<br>Platform_List=%{y}<br>Title=%{customdata[0]}<extra></extra>",
         "legendgroup": "Against Gravity",
         "marker": {
          "color": "#FF97FF",
          "symbol": "circle"
         },
         "mode": "markers",
         "name": "Against Gravity",
         "showlegend": true,
         "type": "scattergl",
         "x": {
          "bdata": "4AfgBw==",
          "dtype": "i2"
         },
         "xaxis": "x",
         "y": [
          "WIN",
          "PS4"
         ],
         "yaxis": "y"
        },
        {
         "customdata": [
          [
           "Red Babe"
          ]
         ],
         "hovertemplate": "Developer_List=The DaRK CaVErN Productions<br>Release_Year=%{x}<br>Platform_List=%{y}<br>Title=%{customdata[0]}<extra></extra>",
         "legendgroup": "The DaRK CaVErN Productions",
         "marker": {
          "color": "#FECB52",
          "symbol": "circle"
         },
         "mode": "markers",
         "name": "The DaRK CaVErN Productions",
         "showlegend": true,
         "type": "scattergl",
         "x": {
          "bdata": "ygc=",
          "dtype": "i2"
         },
         "xaxis": "x",
         "y": [
          "DOS"
         ],
         "yaxis": "y"
        },
        {
         "customdata": [
          [
           "Red Faction"
          ],
          [
           "Red Faction"
          ],
          [
           "Red Faction"
          ],
          [
           "Red Faction"
          ],
          [
           "Red Faction"
          ],
          [
           "Red Faction II"
          ],
          [
           "Red Faction II"
          ],
          [
           "Red Faction II"
          ],
          [
           "Red Faction II"
          ]
         ],
         "hovertemplate": "Developer_List=Volition<br>Release_Year=%{x}<br>Platform_List=%{y}<br>Title=%{customdata[0]}<extra></extra>",
         "legendgroup": "Volition",
         "marker": {
          "color": "#636efa",
          "symbol": "circle"
         },
         "mode": "markers",
         "name": "Volition",
         "showlegend": true,
         "type": "scattergl",
         "x": {
          "bdata": "0QfRB9EH0QfRB9IH0gfSB9IH",
          "dtype": "i2"
         },
         "xaxis": "x",
         "y": [
          "PS2",
          "WIN",
          "OSX",
          "NGE",
          "PS4 (PSN)",
          "PS2",
          "WIN",
          "Xbox",
          "GCN"
         ],
         "yaxis": "y"
        },
        {
         "customdata": [
          [
           "Red Ocean"
          ]
         ],
         "hovertemplate": "Developer_List=Collision Studios<br>Release_Year=%{x}<br>Platform_List=%{y}<br>Title=%{customdata[0]}<extra></extra>",
         "legendgroup": "Collision Studios",
         "marker": {
          "color": "#EF553B",
          "symbol": "circle"
         },
         "mode": "markers",
         "name": "Collision Studios",
         "showlegend": true,
         "type": "scattergl",
         "x": {
          "bdata": "1wc=",
          "dtype": "i2"
         },
         "xaxis": "x",
         "y": [
          "WIN"
         ],
         "yaxis": "y"
        },
        {
         "customdata": [
          [
           "Red Steel"
          ],
          [
           "Red Steel 2"
          ],
          [
           "Tom Clancy's Ghost Recon Advanced Warfighter"
          ],
          [
           "Tom Clancy's Ghost Recon Advanced Warfighter"
          ],
          [
           "Tom Clancy's Ghost Recon Advanced Warfighter"
          ],
          [
           "Tom Clancy's Ghost Recon Advanced Warfighter"
          ],
          [
           "Tom Clancy's Ghost Recon Advanced Warfighter 2"
          ],
          [
           "Tom Clancy's Ghost Recon Advanced Warfighter 2"
          ],
          [
           "Tom Clancy's Ghost Recon Advanced Warfighter 2"
          ],
          [
           "Tom Clancy's Ghost Recon Advanced Warfighter 2"
          ],
          [
           "XIII"
          ],
          [
           "XIII"
          ],
          [
           "XIII"
          ],
          [
           "XIII"
          ],
          [
           "XIII"
          ]
         ],
         "hovertemplate": "Developer_List=Ubisoft Paris<br>Release_Year=%{x}<br>Platform_List=%{y}<br>Title=%{customdata[0]}<extra></extra>",
         "legendgroup": "Ubisoft Paris",
         "marker": {
          "color": "#00cc96",
          "symbol": "circle"
         },
         "mode": "markers",
         "name": "Ubisoft Paris",
         "showlegend": true,
         "type": "scattergl",
         "x": {
          "bdata": "1gfaB9YH1gfWB9YH1wfXB9cH1wfTB9MH0wfTB9MH",
          "dtype": "i2"
         },
         "xaxis": "x",
         "y": [
          "Wii",
          "Wii",
          "PS2",
          "Xbox",
          "X360",
          "WIN",
          "X360",
          "WIN",
          "PS3",
          "PSP",
          "WIN",
          "PS2",
          "Xbox",
          "GCN",
          "OSX"
         ],
         "yaxis": "y"
        },
        {
         "customdata": [
          [
           "Redline"
          ]
         ],
         "hovertemplate": "Developer_List=Beyond Games<br>Release_Year=%{x}<br>Platform_List=%{y}<br>Title=%{customdata[0]}<extra></extra>",
         "legendgroup": "Beyond Games",
         "marker": {
          "color": "#ab63fa",
          "symbol": "circle"
         },
         "mode": "markers",
         "name": "Beyond Games",
         "showlegend": true,
         "type": "scattergl",
         "x": {
          "bdata": "zwc=",
          "dtype": "i2"
         },
         "xaxis": "x",
         "y": [
          "WIN"
         ],
         "yaxis": "y"
        },
        {
         "customdata": [
          [
           "The Regiment"
          ]
         ],
         "hovertemplate": "Developer_List=Kuju London<br>Release_Year=%{x}<br>Platform_List=%{y}<br>Title=%{customdata[0]}<extra></extra>",
         "legendgroup": "Kuju London",
         "marker": {
          "color": "#FFA15A",
          "symbol": "circle"
         },
         "mode": "markers",
         "name": "Kuju London",
         "showlegend": true,
         "type": "scattergl",
         "x": {
          "bdata": "1gc=",
          "dtype": "i2"
         },
         "xaxis": "x",
         "y": [
          "WIN"
         ],
         "yaxis": "y"
        },
        {
         "customdata": [
          [
           "Renegade X"
          ]
         ],
         "hovertemplate": "Developer_List=Totem Arts<br>Release_Year=%{x}<br>Platform_List=%{y}<br>Title=%{customdata[0]}<extra></extra>",
         "legendgroup": "Totem Arts",
         "marker": {
          "color": "#19d3f3",
          "symbol": "circle"
         },
         "mode": "markers",
         "name": "Totem Arts",
         "showlegend": true,
         "type": "scattergl",
         "x": {
          "bdata": "AA==",
          "dtype": "i1"
         },
         "xaxis": "x",
         "y": [
          "WIN"
         ],
         "yaxis": "y"
        },
        {
         "customdata": [
          [
           "Requiem: Avenging Angel"
          ]
         ],
         "hovertemplate": "Developer_List=Cyclone Studios<br>Release_Year=%{x}<br>Platform_List=%{y}<br>Title=%{customdata[0]}<extra></extra>",
         "legendgroup": "Cyclone Studios",
         "marker": {
          "color": "#FF6692",
          "symbol": "circle"
         },
         "mode": "markers",
         "name": "Cyclone Studios",
         "showlegend": true,
         "type": "scattergl",
         "x": {
          "bdata": "zwc=",
          "dtype": "i2"
         },
         "xaxis": "x",
         "y": [
          "WIN"
         ],
         "yaxis": "y"
        },
        {
         "customdata": [
          [
           "Resident Evil Survivor"
          ],
          [
           "Resident Evil Survivor"
          ]
         ],
         "hovertemplate": "Developer_List=Tose<br>Release_Year=%{x}<br>Platform_List=%{y}<br>Title=%{customdata[0]}<extra></extra>",
         "legendgroup": "Tose",
         "marker": {
          "color": "#B6E880",
          "symbol": "circle"
         },
         "mode": "markers",
         "name": "Tose",
         "showlegend": true,
         "type": "scattergl",
         "x": {
          "bdata": "0AfQBw==",
          "dtype": "i2"
         },
         "xaxis": "x",
         "y": [
          "PS1",
          "WIN"
         ],
         "yaxis": "y"
        },
        {
         "customdata": [
          [
           "Resident Evil: Dead Aim"
          ],
          [
           "Resident Evil: The Umbrella Chronicles"
          ],
          [
           "Resident Evil: The Umbrella Chronicles"
          ],
          [
           "Resident Evil: The Darkside Chronicles"
          ],
          [
           "Resident Evil: The Darkside Chronicles"
          ]
         ],
         "hovertemplate": "Developer_List=Cavia<br>Release_Year=%{x}<br>Platform_List=%{y}<br>Title=%{customdata[0]}<extra></extra>",
         "legendgroup": "Cavia",
         "marker": {
          "color": "#FF97FF",
          "symbol": "circle"
         },
         "mode": "markers",
         "name": "Cavia",
         "showlegend": true,
         "type": "scattergl",
         "x": {
          "bdata": "0wfXB9cH2QfZBw==",
          "dtype": "i2"
         },
         "xaxis": "x",
         "y": [
          "PS2",
          "Wii",
          "PS3 (PSN)",
          "Wii",
          "PS3 (PSN)"
         ],
         "yaxis": "y"
        },
        {
         "customdata": [
          [
           "Resistance: Burning Skies"
          ]
         ],
         "hovertemplate": "Developer_List=Nihilistic Software<br>Release_Year=%{x}<br>Platform_List=%{y}<br>Title=%{customdata[0]}<extra></extra>",
         "legendgroup": "Nihilistic Software",
         "marker": {
          "color": "#FECB52",
          "symbol": "circle"
         },
         "mode": "markers",
         "name": "Nihilistic Software",
         "showlegend": true,
         "type": "scattergl",
         "x": {
          "bdata": "3Ac=",
          "dtype": "i2"
         },
         "xaxis": "x",
         "y": [
          "VITA"
         ],
         "yaxis": "y"
        },
        {
         "customdata": [
          [
           "Rise of the Triad"
          ],
          [
           "Rise of the Triad"
          ]
         ],
         "hovertemplate": "Developer_List=Apogee Software<br>Release_Year=%{x}<br>Platform_List=%{y}<br>Title=%{customdata[0]}<extra></extra>",
         "legendgroup": "Apogee Software",
         "marker": {
          "color": "#636efa",
          "symbol": "circle"
         },
         "mode": "markers",
         "name": "Apogee Software",
         "showlegend": true,
         "type": "scattergl",
         "x": {
          "bdata": "ygfKBw==",
          "dtype": "i2"
         },
         "xaxis": "x",
         "y": [
          "DOS",
          "iOS"
         ],
         "yaxis": "y"
        },
        {
         "customdata": [
          [
           "Rise of the Triad"
          ]
         ],
         "hovertemplate": "Developer_List=Interceptor Entertainment<br>Release_Year=%{x}<br>Platform_List=%{y}<br>Title=%{customdata[0]}<extra></extra>",
         "legendgroup": "Interceptor Entertainment",
         "marker": {
          "color": "#EF553B",
          "symbol": "circle"
         },
         "mode": "markers",
         "name": "Interceptor Entertainment",
         "showlegend": true,
         "type": "scattergl",
         "x": {
          "bdata": "3Qc=",
          "dtype": "i2"
         },
         "xaxis": "x",
         "y": [
          "WIN"
         ],
         "yaxis": "y"
        },
        {
         "customdata": [
          [
           "Rising Storm 2: Vietnam"
          ]
         ],
         "hovertemplate": "Developer_List=Antimatter Games<br>Release_Year=%{x}<br>Platform_List=%{y}<br>Title=%{customdata[0]}<extra></extra>",
         "legendgroup": "Antimatter Games",
         "marker": {
          "color": "#00cc96",
          "symbol": "circle"
         },
         "mode": "markers",
         "name": "Antimatter Games",
         "showlegend": true,
         "type": "scattergl",
         "x": {
          "bdata": "4Qc=",
          "dtype": "i2"
         },
         "xaxis": "x",
         "y": [
          "WIN"
         ],
         "yaxis": "y"
        },
        {
         "customdata": [
          [
           "RoboCop 3"
          ],
          [
           "RoboCop 3"
          ],
          [
           "RoboCop 3"
          ]
         ],
         "hovertemplate": "Developer_List=Digital Image Design<br>Release_Year=%{x}<br>Platform_List=%{y}<br>Title=%{customdata[0]}<extra></extra>",
         "legendgroup": "Digital Image Design",
         "marker": {
          "color": "#ab63fa",
          "symbol": "circle"
         },
         "mode": "markers",
         "name": "Digital Image Design",
         "showlegend": true,
         "type": "scattergl",
         "x": {
          "bdata": "xwfHB8cH",
          "dtype": "i2"
         },
         "xaxis": "x",
         "y": [
          "AMI",
          "ST",
          "DOS"
         ],
         "yaxis": "y"
        },
        {
         "customdata": [
          [
           "RoboCop"
          ],
          [
           "RoboCop"
          ],
          [
           "RoboCop"
          ],
          [
           "RoboCop"
          ]
         ],
         "hovertemplate": "Developer_List=Titus Interactive Studio<br>Release_Year=%{x}<br>Platform_List=%{y}<br>Title=%{customdata[0]}<extra></extra>",
         "legendgroup": "Titus Interactive Studio",
         "marker": {
          "color": "#FFA15A",
          "symbol": "circle"
         },
         "mode": "markers",
         "name": "Titus Interactive Studio",
         "showlegend": true,
         "type": "scattergl",
         "x": {
          "bdata": "0wfTB9MH0wc=",
          "dtype": "i2"
         },
         "xaxis": "x",
         "y": [
          "GCN",
          "PS2",
          "WIN",
          "Xbox"
         ],
         "yaxis": "y"
        },
        {
         "customdata": [
          [
           "RoboCop: Rogue City"
          ],
          [
           "RoboCop: Rogue City"
          ],
          [
           "RoboCop: Rogue City"
          ],
          [
           "Terminator: Resistance"
          ],
          [
           "Terminator: Resistance"
          ],
          [
           "Terminator: Resistance"
          ],
          [
           "Terminator: Resistance"
          ],
          [
           "Terminator: Resistance"
          ]
         ],
         "hovertemplate": "Developer_List=Teyon<br>Release_Year=%{x}<br>Platform_List=%{y}<br>Title=%{customdata[0]}<extra></extra>",
         "legendgroup": "Teyon",
         "marker": {
          "color": "#19d3f3",
          "symbol": "circle"
         },
         "mode": "markers",
         "name": "Teyon",
         "showlegend": true,
         "type": "scattergl",
         "x": {
          "bdata": "5wfnB+cH4wfjB+MH4wfjBw==",
          "dtype": "i2"
         },
         "xaxis": "x",
         "y": [
          "WIN",
          "PS5",
          "XSX",
          "WIN",
          "PS4",
          "XONE",
          "PS5",
          "XSX"
         ],
         "yaxis": "y"
        },
        {
         "customdata": [
          [
           "Robotica"
          ]
         ],
         "hovertemplate": "Developer_List=Micronet<br>Release_Year=%{x}<br>Platform_List=%{y}<br>Title=%{customdata[0]}<extra></extra>",
         "legendgroup": "Micronet",
         "marker": {
          "color": "#FF6692",
          "symbol": "circle"
         },
         "mode": "markers",
         "name": "Micronet",
         "showlegend": true,
         "type": "scattergl",
         "x": {
          "bdata": "ywc=",
          "dtype": "i2"
         },
         "xaxis": "x",
         "y": [
          "SAT"
         ],
         "yaxis": "y"
        },
        {
         "customdata": [
          [
           "Rust"
          ],
          [
           "Rust"
          ],
          [
           "Rust"
          ],
          [
           "Rust"
          ]
         ],
         "hovertemplate": "Developer_List=Facepunch Studios Ltd<br>Release_Year=%{x}<br>Platform_List=%{y}<br>Title=%{customdata[0]}<extra></extra>",
         "legendgroup": "Facepunch Studios Ltd",
         "marker": {
          "color": "#B6E880",
          "symbol": "circle"
         },
         "mode": "markers",
         "name": "Facepunch Studios Ltd",
         "showlegend": true,
         "type": "scattergl",
         "x": {
          "bdata": "3QfdB90H3Qc=",
          "dtype": "i2"
         },
         "xaxis": "x",
         "y": [
          "WIN",
          "OSX",
          "PS4",
          "XONE"
         ],
         "yaxis": "y"
        },
        {
         "customdata": [
          [
           "Rust"
          ],
          [
           "Rust"
          ],
          [
           "Rust"
          ],
          [
           "Rust"
          ]
         ],
         "hovertemplate": "Developer_List=Double Eleven<br>Release_Year=%{x}<br>Platform_List=%{y}<br>Title=%{customdata[0]}<extra></extra>",
         "legendgroup": "Double Eleven",
         "marker": {
          "color": "#FF97FF",
          "symbol": "circle"
         },
         "mode": "markers",
         "name": "Double Eleven",
         "showlegend": true,
         "type": "scattergl",
         "x": {
          "bdata": "3QfdB90H3Qc=",
          "dtype": "i2"
         },
         "xaxis": "x",
         "y": [
          "WIN",
          "OSX",
          "PS4",
          "XONE"
         ],
         "yaxis": "y"
        },
        {
         "customdata": [
          [
           "Sanctum"
          ],
          [
           "Sanctum"
          ],
          [
           "Sanctum 2"
          ],
          [
           "Sanctum 2"
          ],
          [
           "Sanctum 2"
          ],
          [
           "Sanctum 2"
          ],
          [
           "Sanctum 2"
          ]
         ],
         "hovertemplate": "Developer_List=Coffee Stain Studios<br>Release_Year=%{x}<br>Platform_List=%{y}<br>Title=%{customdata[0]}<extra></extra>",
         "legendgroup": "Coffee Stain Studios",
         "marker": {
          "color": "#FECB52",
          "symbol": "circle"
         },
         "mode": "markers",
         "name": "Coffee Stain Studios",
         "showlegend": true,
         "type": "scattergl",
         "x": {
          "bdata": "2wfbB90H3QfdB90H3Qc=",
          "dtype": "i2"
         },
         "xaxis": "x",
         "y": [
          "WIN",
          "OSX",
          "WIN",
          "OSX",
          "LIN",
          "X360",
          "PS3"
         ],
         "yaxis": "y"
        },
        {
         "customdata": [
          [
           "Sanctum 2"
          ],
          [
           "Sanctum 2"
          ],
          [
           "Sanctum 2"
          ],
          [
           "Sanctum 2"
          ],
          [
           "Sanctum 2"
          ]
         ],
         "hovertemplate": "Developer_List=Reverb Publishing<br>Release_Year=%{x}<br>Platform_List=%{y}<br>Title=%{customdata[0]}<extra></extra>",
         "legendgroup": "Reverb Publishing",
         "marker": {
          "color": "#636efa",
          "symbol": "circle"
         },
         "mode": "markers",
         "name": "Reverb Publishing",
         "showlegend": true,
         "type": "scattergl",
         "x": {
          "bdata": "3QfdB90H3QfdBw==",
          "dtype": "i2"
         },
         "xaxis": "x",
         "y": [
          "WIN",
          "OSX",
          "LIN",
          "X360",
          "PS3"
         ],
         "yaxis": "y"
        },
        {
         "customdata": [
          [
           "Saucer Attack"
          ]
         ],
         "hovertemplate": "Developer_List=Lotus Soft<br>Release_Year=%{x}<br>Platform_List=%{y}<br>Title=%{customdata[0]}<extra></extra>",
         "legendgroup": "Lotus Soft",
         "marker": {
          "color": "#EF553B",
          "symbol": "circle"
         },
         "mode": "markers",
         "name": "Lotus Soft",
         "showlegend": true,
         "type": "scattergl",
         "x": {
          "bdata": "wAc=",
          "dtype": "i2"
         },
         "xaxis": "x",
         "y": [
          "C64"
         ],
         "yaxis": "y"
        },
        {
         "customdata": [
          [
           "Savage: The Battle for Newerth"
          ],
          [
           "Savage: The Battle for Newerth"
          ],
          [
           "Savage: The Battle for Newerth"
          ],
          [
           "Savage 2: A Tortured Soul"
          ],
          [
           "Savage 2: A Tortured Soul"
          ],
          [
           "Savage 2: A Tortured Soul"
          ]
         ],
         "hovertemplate": "Developer_List=S2 Games<br>Release_Year=%{x}<br>Platform_List=%{y}<br>Title=%{customdata[0]}<extra></extra>",
         "legendgroup": "S2 Games",
         "marker": {
          "color": "#00cc96",
          "symbol": "circle"
         },
         "mode": "markers",
         "name": "S2 Games",
         "showlegend": true,
         "type": "scattergl",
         "x": {
          "bdata": "0wfTB9MH2AfYB9gH",
          "dtype": "i2"
         },
         "xaxis": "x",
         "y": [
          "LIN",
          "OSX",
          "WIN",
          "LIN",
          "OSX",
          "WIN"
         ],
         "yaxis": "y"
        },
        {
         "customdata": [
          [
           "Scarab of Ra"
          ]
         ],
         "hovertemplate": "Developer_List=Semicolon Software<br>Release_Year=%{x}<br>Platform_List=%{y}<br>Title=%{customdata[0]}<extra></extra>",
         "legendgroup": "Semicolon Software",
         "marker": {
          "color": "#ab63fa",
          "symbol": "circle"
         },
         "mode": "markers",
         "name": "Semicolon Software",
         "showlegend": true,
         "type": "scattergl",
         "x": {
          "bdata": "wwc=",
          "dtype": "i2"
         },
         "xaxis": "x",
         "y": [
          "Mac"
         ],
         "yaxis": "y"
        },
        {
         "customdata": [
          [
           "Scorn"
          ],
          [
           "Scorn"
          ],
          [
           "Scorn"
          ]
         ],
         "hovertemplate": "Developer_List=Ebb Software<br>Release_Year=%{x}<br>Platform_List=%{y}<br>Title=%{customdata[0]}<extra></extra>",
         "legendgroup": "Ebb Software",
         "marker": {
          "color": "#FFA15A",
          "symbol": "circle"
         },
         "mode": "markers",
         "name": "Ebb Software",
         "showlegend": true,
         "type": "scattergl",
         "x": {
          "bdata": "5gfmB+YH",
          "dtype": "i2"
         },
         "xaxis": "x",
         "y": [
          "WIN",
          "PS5",
          "XSX"
         ],
         "yaxis": "y"
        },
        {
         "customdata": [
          [
           "Scorpion: Disfigured"
          ]
         ],
         "hovertemplate": "Developer_List=B-Cool Interactive<br>Release_Year=%{x}<br>Platform_List=%{y}<br>Title=%{customdata[0]}<extra></extra>",
         "legendgroup": "B-Cool Interactive",
         "marker": {
          "color": "#19d3f3",
          "symbol": "circle"
         },
         "mode": "markers",
         "name": "B-Cool Interactive",
         "showlegend": true,
         "type": "scattergl",
         "x": {
          "bdata": "2Qc=",
          "dtype": "i2"
         },
         "xaxis": "x",
         "y": [
          "WIN"
         ],
         "yaxis": "y"
        },
        {
         "customdata": [
          [
           "Secret Service"
          ]
         ],
         "hovertemplate": "Developer_List=Fun Labs<br>Release_Year=%{x}<br>Platform_List=%{y}<br>Title=%{customdata[0]}<extra></extra>",
         "legendgroup": "Fun Labs",
         "marker": {
          "color": "#FF6692",
          "symbol": "circle"
         },
         "mode": "markers",
         "name": "Fun Labs",
         "showlegend": true,
         "type": "scattergl",
         "x": {
          "bdata": "0Qc=",
          "dtype": "i2"
         },
         "xaxis": "x",
         "y": [
          "WIN"
         ],
         "yaxis": "y"
        },
        {
         "customdata": [
          [
           "Section 8"
          ],
          [
           "Section 8"
          ],
          [
           "Section 8"
          ],
          [
           "Section 8: Prejudice"
          ],
          [
           "Section 8: Prejudice"
          ],
          [
           "Section 8: Prejudice"
          ]
         ],
         "hovertemplate": "Developer_List=TimeGate Studios<br>Release_Year=%{x}<br>Platform_List=%{y}<br>Title=%{customdata[0]}<extra></extra>",
         "legendgroup": "TimeGate Studios",
         "marker": {
          "color": "#B6E880",
          "symbol": "circle"
         },
         "mode": "markers",
         "name": "TimeGate Studios",
         "showlegend": true,
         "type": "scattergl",
         "x": {
          "bdata": "2QfZB9kH2wfbB9sH",
          "dtype": "i2"
         },
         "xaxis": "x",
         "y": [
          "WIN",
          "X360",
          "PS3",
          "WIN",
          "PS3 (PSN)",
          "X360 (XBLA)"
         ],
         "yaxis": "y"
        },
        {
         "customdata": [
          [
           "Sensory Overload"
          ]
         ],
         "hovertemplate": "Developer_List=Reality Bytes<br>Release_Year=%{x}<br>Platform_List=%{y}<br>Title=%{customdata[0]}<extra></extra>",
         "legendgroup": "Reality Bytes",
         "marker": {
          "color": "#FF97FF",
          "symbol": "circle"
         },
         "mode": "markers",
         "name": "Reality Bytes",
         "showlegend": true,
         "type": "scattergl",
         "x": {
          "bdata": "AA==",
          "dtype": "i1"
         },
         "xaxis": "x",
         "y": [
          "MACc"
         ],
         "yaxis": "y"
        },
        {
         "customdata": [
          [
           "Serious Sam: The First Encounter"
          ],
          [
           "Serious Sam: The First Encounter"
          ],
          [
           "Serious Sam: The Second Encounter"
          ],
          [
           "Serious Sam: The Second Encounter"
          ],
          [
           "Serious Sam 2"
          ],
          [
           "Serious Sam 2"
          ],
          [
           "Serious Sam HD: The First Encounter"
          ],
          [
           "Serious Sam HD: The First Encounter"
          ],
          [
           "Serious Sam HD: The First Encounter"
          ],
          [
           "Serious Sam HD: The First Encounter"
          ],
          [
           "Serious Sam HD: The First Encounter"
          ],
          [
           "Serious Sam HD: The First Encounter"
          ],
          [
           "Serious Sam HD: The Second Encounter"
          ],
          [
           "Serious Sam HD: The Second Encounter"
          ],
          [
           "Serious Sam HD: The Second Encounter"
          ],
          [
           "Serious Sam HD: The Second Encounter"
          ],
          [
           "Serious Sam HD: The Second Encounter"
          ],
          [
           "Serious Sam HD: The Second Encounter"
          ],
          [
           "Serious Sam 3: BFE"
          ],
          [
           "Serious Sam 3: BFE"
          ],
          [
           "Serious Sam 3: BFE"
          ],
          [
           "Serious Sam 3: BFE"
          ],
          [
           "Serious Sam 3: BFE"
          ],
          [
           "Serious Sam 3: BFE"
          ],
          [
           "Serious Sam 3: BFE"
          ],
          [
           "Serious Sam 3: BFE"
          ],
          [
           "Serious Sam 4"
          ],
          [
           "Serious Sam 4"
          ],
          [
           "Serious Sam 4"
          ],
          [
           "Serious Sam: Siberian Mayhem"
          ],
          [
           "Serious Sam: Siberian Mayhem"
          ],
          [
           "Serious Sam: Siberian Mayhem"
          ]
         ],
         "hovertemplate": "Developer_List=Croteam<br>Release_Year=%{x}<br>Platform_List=%{y}<br>Title=%{customdata[0]}<extra></extra>",
         "legendgroup": "Croteam",
         "marker": {
          "color": "#FECB52",
          "symbol": "circle"
         },
         "mode": "markers",
         "name": "Croteam",
         "showlegend": true,
         "type": "scattergl",
         "x": {
          "bdata": "0QfRB9IH0gfVB9UH2QfZB9kH2QfZB9kH2gfaB9oH2gfaB9oH2wfbB9sH2wfbB9sH2wfbB+QH5AfkB+YH5gfmBw==",
          "dtype": "i2"
         },
         "xaxis": "x",
         "y": [
          "WIN",
          "Xbox",
          "WIN",
          "Xbox",
          "WIN",
          "Xbox",
          "WIN",
          "X360 (XBLA)",
          "LIN",
          "PS4",
          "XONE",
          "NX",
          "WIN",
          "X360 (XBLA)",
          "LIN",
          "PS4",
          "XONE",
          "NX",
          "WIN",
          "OSX",
          "LIN",
          "X360 (XBLA)",
          "PS3 (PSN)",
          "PS4",
          "XONE",
          "NX",
          "WIN",
          "PS5",
          "XSX",
          "WIN",
          "PS5",
          "XSX"
         ],
         "yaxis": "y"
        },
        {
         "customdata": [
          [
           "Serious Sam: Next Encounter"
          ],
          [
           "Serious Sam: Next Encounter"
          ]
         ],
         "hovertemplate": "Developer_List=Climax Solent<br>Release_Year=%{x}<br>Platform_List=%{y}<br>Title=%{customdata[0]}<extra></extra>",
         "legendgroup": "Climax Solent",
         "marker": {
          "color": "#636efa",
          "symbol": "circle"
         },
         "mode": "markers",
         "name": "Climax Solent",
         "showlegend": true,
         "type": "scattergl",
         "x": {
          "bdata": "1AfUBw==",
          "dtype": "i2"
         },
         "xaxis": "x",
         "y": [
          "PS2",
          "GCN"
         ],
         "yaxis": "y"
        },
        {
         "customdata": [
          [
           "Serious Sam: Siberian Mayhem"
          ],
          [
           "Serious Sam: Siberian Mayhem"
          ],
          [
           "Serious Sam: Siberian Mayhem"
          ]
         ],
         "hovertemplate": "Developer_List=Timelock Studio<br>Release_Year=%{x}<br>Platform_List=%{y}<br>Title=%{customdata[0]}<extra></extra>",
         "legendgroup": "Timelock Studio",
         "marker": {
          "color": "#EF553B",
          "symbol": "circle"
         },
         "mode": "markers",
         "name": "Timelock Studio",
         "showlegend": true,
         "type": "scattergl",
         "x": {
          "bdata": "5gfmB+YH",
          "dtype": "i2"
         },
         "xaxis": "x",
         "y": [
          "WIN",
          "PS5",
          "XSX"
         ],
         "yaxis": "y"
        },
        {
         "customdata": [
          [
           "Shadowrun"
          ],
          [
           "Shadowrun"
          ]
         ],
         "hovertemplate": "Developer_List=FASA Interactive<br>Release_Year=%{x}<br>Platform_List=%{y}<br>Title=%{customdata[0]}<extra></extra>",
         "legendgroup": "FASA Interactive",
         "marker": {
          "color": "#00cc96",
          "symbol": "circle"
         },
         "mode": "markers",
         "name": "FASA Interactive",
         "showlegend": true,
         "type": "scattergl",
         "x": {
          "bdata": "1wfXBw==",
          "dtype": "i2"
         },
         "xaxis": "x",
         "y": [
          "WIN",
          "X360"
         ],
         "yaxis": "y"
        },
        {
         "customdata": [
          [
           "Shattered Horizon"
          ]
         ],
         "hovertemplate": "Developer_List=Futuremark Games Studio<br>Release_Year=%{x}<br>Platform_List=%{y}<br>Title=%{customdata[0]}<extra></extra>",
         "legendgroup": "Futuremark Games Studio",
         "marker": {
          "color": "#ab63fa",
          "symbol": "circle"
         },
         "mode": "markers",
         "name": "Futuremark Games Studio",
         "showlegend": true,
         "type": "scattergl",
         "x": {
          "bdata": "2Qc=",
          "dtype": "i2"
         },
         "xaxis": "x",
         "y": [
          "WIN"
         ],
         "yaxis": "y"
        },
        {
         "customdata": [
          [
           "Shellshock 2: Blood Trails"
          ],
          [
           "Shellshock 2: Blood Trails"
          ],
          [
           "Shellshock 2: Blood Trails"
          ]
         ],
         "hovertemplate": "Developer_List=Rebellion Derby<br>Release_Year=%{x}<br>Platform_List=%{y}<br>Title=%{customdata[0]}<extra></extra>",
         "legendgroup": "Rebellion Derby",
         "marker": {
          "color": "#FFA15A",
          "symbol": "circle"
         },
         "mode": "markers",
         "name": "Rebellion Derby",
         "showlegend": true,
         "type": "scattergl",
         "x": {
          "bdata": "2QfZB9kH",
          "dtype": "i2"
         },
         "xaxis": "x",
         "y": [
          "WIN",
          "PS3",
          "X360"
         ],
         "yaxis": "y"
        },
        {
         "customdata": [
          [
           "The Ship"
          ]
         ],
         "hovertemplate": "Developer_List=Outerlight<br>Release_Year=%{x}<br>Platform_List=%{y}<br>Title=%{customdata[0]}<extra></extra>",
         "legendgroup": "Outerlight",
         "marker": {
          "color": "#19d3f3",
          "symbol": "circle"
         },
         "mode": "markers",
         "name": "Outerlight",
         "showlegend": true,
         "type": "scattergl",
         "x": {
          "bdata": "1gc=",
          "dtype": "i2"
         },
         "xaxis": "x",
         "y": [
          "WIN"
         ],
         "yaxis": "y"
        },
        {
         "customdata": [
          [
           "Shrak"
          ],
          [
           "Shrak"
          ]
         ],
         "hovertemplate": "Developer_List=Quantum Axcess<br>Release_Year=%{x}<br>Platform_List=%{y}<br>Title=%{customdata[0]}<extra></extra>",
         "legendgroup": "Quantum Axcess",
         "marker": {
          "color": "#FF6692",
          "symbol": "circle"
         },
         "mode": "markers",
         "name": "Quantum Axcess",
         "showlegend": true,
         "type": "scattergl",
         "x": {
          "bdata": "zQfNBw==",
          "dtype": "i2"
         },
         "xaxis": "x",
         "y": [
          "DOS",
          "WIN"
         ],
         "yaxis": "y"
        },
        {
         "customdata": [
          [
           "Silent Debuggers"
          ],
          [
           "Silent Debuggers"
          ]
         ],
         "hovertemplate": "Developer_List=Data East<br>Release_Year=%{x}<br>Platform_List=%{y}<br>Title=%{customdata[0]}<extra></extra>",
         "legendgroup": "Data East",
         "marker": {
          "color": "#B6E880",
          "symbol": "circle"
         },
         "mode": "markers",
         "name": "Data East",
         "showlegend": true,
         "type": "scattergl",
         "x": {
          "bdata": "xwfHBw==",
          "dtype": "i2"
         },
         "xaxis": "x",
         "y": [
          "PCE",
          "VC"
         ],
         "yaxis": "y"
        },
        {
         "customdata": [
          [
           "Slaygon"
          ],
          [
           "Slaygon"
          ]
         ],
         "hovertemplate": "Developer_List=John Conley<br>Release_Year=%{x}<br>Platform_List=%{y}<br>Title=%{customdata[0]}<extra></extra>",
         "legendgroup": "John Conley",
         "marker": {
          "color": "#FF97FF",
          "symbol": "circle"
         },
         "mode": "markers",
         "name": "John Conley",
         "showlegend": true,
         "type": "scattergl",
         "x": {
          "bdata": "AAA=",
          "dtype": "i1"
         },
         "xaxis": "x",
         "y": [
          "AMI",
          "ST"
         ],
         "yaxis": "y"
        },
        {
         "customdata": [
          [
           "Slaygon"
          ],
          [
           "Slaygon"
          ]
         ],
         "hovertemplate": "Developer_List=James Oxley<br>Release_Year=%{x}<br>Platform_List=%{y}<br>Title=%{customdata[0]}<extra></extra>",
         "legendgroup": "James Oxley",
         "marker": {
          "color": "#FECB52",
          "symbol": "circle"
         },
         "mode": "markers",
         "name": "James Oxley",
         "showlegend": true,
         "type": "scattergl",
         "x": {
          "bdata": "AAA=",
          "dtype": "i1"
         },
         "xaxis": "x",
         "y": [
          "AMI",
          "ST"
         ],
         "yaxis": "y"
        },
        {
         "customdata": [
          [
           "Smokin' Guns"
          ],
          [
           "Smokin' Guns"
          ],
          [
           "Smokin' Guns"
          ]
         ],
         "hovertemplate": "Developer_List=Smokin' Guns Productions<br>Release_Year=%{x}<br>Platform_List=%{y}<br>Title=%{customdata[0]}<extra></extra>",
         "legendgroup": "Smokin' Guns Productions",
         "marker": {
          "color": "#636efa",
          "symbol": "circle"
         },
         "mode": "markers",
         "name": "Smokin' Guns Productions",
         "showlegend": true,
         "type": "scattergl",
         "x": {
          "bdata": "2QfZB9kH",
          "dtype": "i2"
         },
         "xaxis": "x",
         "y": [
          "LIN",
          "OSX",
          "WIN"
         ],
         "yaxis": "y"
        },
        {
         "customdata": [
          [
           "Sniper: Path of Vengeance"
          ]
         ],
         "hovertemplate": "Developer_List=Xicat Interactive<br>Release_Year=%{x}<br>Platform_List=%{y}<br>Title=%{customdata[0]}<extra></extra>",
         "legendgroup": "Xicat Interactive",
         "marker": {
          "color": "#EF553B",
          "symbol": "circle"
         },
         "mode": "markers",
         "name": "Xicat Interactive",
         "showlegend": true,
         "type": "scattergl",
         "x": {
          "bdata": "0gc=",
          "dtype": "i2"
         },
         "xaxis": "x",
         "y": [
          "WIN"
         ],
         "yaxis": "y"
        },
        {
         "customdata": [
          [
           "Solarix"
          ]
         ],
         "hovertemplate": "Developer_List=Pulsetense Games<br>Release_Year=%{x}<br>Platform_List=%{y}<br>Title=%{customdata[0]}<extra></extra>",
         "legendgroup": "Pulsetense Games",
         "marker": {
          "color": "#00cc96",
          "symbol": "circle"
         },
         "mode": "markers",
         "name": "Pulsetense Games",
         "showlegend": true,
         "type": "scattergl",
         "x": {
          "bdata": "3wc=",
          "dtype": "i2"
         },
         "xaxis": "x",
         "y": [
          "WIN"
         ],
         "yaxis": "y"
        },
        {
         "customdata": [
          [
           "SoulTrap"
          ]
         ],
         "hovertemplate": "Developer_List=Microforum<br>Release_Year=%{x}<br>Platform_List=%{y}<br>Title=%{customdata[0]}<extra></extra>",
         "legendgroup": "Microforum",
         "marker": {
          "color": "#ab63fa",
          "symbol": "circle"
         },
         "mode": "markers",
         "name": "Microforum",
         "showlegend": true,
         "type": "scattergl",
         "x": {
          "bdata": "zAc=",
          "dtype": "i2"
         },
         "xaxis": "x",
         "y": [
          "WIN"
         ],
         "yaxis": "y"
        },
        {
         "customdata": [
          [
           "South Park"
          ],
          [
           "South Park"
          ]
         ],
         "hovertemplate": "Developer_List=Iguana Entertainment Appaloosa Interactive<br>Release_Year=%{x}<br>Platform_List=%{y}<br>Title=%{customdata[0]}<extra></extra>",
         "legendgroup": "Iguana Entertainment Appaloosa Interactive",
         "marker": {
          "color": "#FFA15A",
          "symbol": "circle"
         },
         "mode": "markers",
         "name": "Iguana Entertainment Appaloosa Interactive",
         "showlegend": true,
         "type": "scattergl",
         "x": {
          "bdata": "zgfOBw==",
          "dtype": "i2"
         },
         "xaxis": "x",
         "y": [
          "N64",
          "PS1"
         ],
         "yaxis": "y"
        },
        {
         "customdata": [
          [
           "Space Hulk: Vengeance of the Blood Angels"
          ],
          [
           "Space Hulk: Vengeance of the Blood Angels"
          ],
          [
           "Space Hulk: Vengeance of the Blood Angels"
          ]
         ],
         "hovertemplate": "Developer_List=Key Game<br>Release_Year=%{x}<br>Platform_List=%{y}<br>Title=%{customdata[0]}<extra></extra>",
         "legendgroup": "Key Game",
         "marker": {
          "color": "#19d3f3",
          "symbol": "circle"
         },
         "mode": "markers",
         "name": "Key Game",
         "showlegend": true,
         "type": "scattergl",
         "x": {
          "bdata": "ywfLB8sH",
          "dtype": "i2"
         },
         "xaxis": "x",
         "y": [
          "3DO",
          "PS1",
          "SAT"
         ],
         "yaxis": "y"
        },
        {
         "customdata": [
          [
           "Spasim"
          ]
         ],
         "hovertemplate": "Developer_List=Jim Bowery<br>Release_Year=%{x}<br>Platform_List=%{y}<br>Title=%{customdata[0]}<extra></extra>",
         "legendgroup": "Jim Bowery",
         "marker": {
          "color": "#FF6692",
          "symbol": "circle"
         },
         "mode": "markers",
         "name": "Jim Bowery",
         "showlegend": true,
         "type": "scattergl",
         "x": {
          "bdata": "AA==",
          "dtype": "i1"
         },
         "xaxis": "x",
         "y": [
          "PLATO"
         ],
         "yaxis": "y"
        },
        {
         "customdata": [
          [
           "Special Force"
          ]
         ],
         "hovertemplate": "Developer_List=Hadeel<br>Release_Year=%{x}<br>Platform_List=%{y}<br>Title=%{customdata[0]}<extra></extra>",
         "legendgroup": "Hadeel",
         "marker": {
          "color": "#B6E880",
          "symbol": "circle"
         },
         "mode": "markers",
         "name": "Hadeel",
         "showlegend": true,
         "type": "scattergl",
         "x": {
          "bdata": "0wc=",
          "dtype": "i2"
         },
         "xaxis": "x",
         "y": [
          "WIN"
         ],
         "yaxis": "y"
        },
        {
         "customdata": [
          [
           "Special Force"
          ],
          [
           "Special Force 2: Tale of the Truthful Pledge"
          ]
         ],
         "hovertemplate": "Developer_List=Hezbollah Central Internet Bureau<br>Release_Year=%{x}<br>Platform_List=%{y}<br>Title=%{customdata[0]}<extra></extra>",
         "legendgroup": "Hezbollah Central Internet Bureau",
         "marker": {
          "color": "#FF97FF",
          "symbol": "circle"
         },
         "mode": "markers",
         "name": "Hezbollah Central Internet Bureau",
         "showlegend": true,
         "type": "scattergl",
         "x": {
          "bdata": "0wfXBw==",
          "dtype": "i2"
         },
         "xaxis": "x",
         "y": [
          "WIN",
          "WIN"
         ],
         "yaxis": "y"
        },
        {
         "customdata": [
          [
           "Special Force 2: Tale of the Truthful Pledge"
          ]
         ],
         "hovertemplate": "Developer_List=Might 3D<br>Release_Year=%{x}<br>Platform_List=%{y}<br>Title=%{customdata[0]}<extra></extra>",
         "legendgroup": "Might 3D",
         "marker": {
          "color": "#FECB52",
          "symbol": "circle"
         },
         "mode": "markers",
         "name": "Might 3D",
         "showlegend": true,
         "type": "scattergl",
         "x": {
          "bdata": "1wc=",
          "dtype": "i2"
         },
         "xaxis": "x",
         "y": [
          "WIN"
         ],
         "yaxis": "y"
        },
        {
         "customdata": [
          [
           "Special Operation 85: Hostage Rescue"
          ]
         ],
         "hovertemplate": "Developer_List=Association of Islamic Unions of Students<br>Release_Year=%{x}<br>Platform_List=%{y}<br>Title=%{customdata[0]}<extra></extra>",
         "legendgroup": "Association of Islamic Unions of Students",
         "marker": {
          "color": "#636efa",
          "symbol": "circle"
         },
         "mode": "markers",
         "name": "Association of Islamic Unions of Students",
         "showlegend": true,
         "type": "scattergl",
         "x": {
          "bdata": "1wc=",
          "dtype": "i2"
         },
         "xaxis": "x",
         "y": [
          "WIN"
         ],
         "yaxis": "y"
        },
        {
         "customdata": [
          [
           "Splat Magazine Renegade Paintball"
          ],
          [
           "Splat Magazine Renegade Paintball"
          ]
         ],
         "hovertemplate": "Developer_List=Global Star Software<br>Release_Year=%{x}<br>Platform_List=%{y}<br>Title=%{customdata[0]}<extra></extra>",
         "legendgroup": "Global Star Software",
         "marker": {
          "color": "#EF553B",
          "symbol": "circle"
         },
         "mode": "markers",
         "name": "Global Star Software",
         "showlegend": true,
         "type": "scattergl",
         "x": {
          "bdata": "1QfVBw==",
          "dtype": "i2"
         },
         "xaxis": "x",
         "y": [
          "WIN",
          "Xbox"
         ],
         "yaxis": "y"
        },
        {
         "customdata": [
          [
           "Splitgate"
          ],
          [
           "Splitgate"
          ],
          [
           "Splitgate"
          ],
          [
           "Splitgate"
          ],
          [
           "Splitgate"
          ],
          [
           "Splitgate"
          ]
         ],
         "hovertemplate": "Developer_List=1047 Games<br>Release_Year=%{x}<br>Platform_List=%{y}<br>Title=%{customdata[0]}<extra></extra>",
         "legendgroup": "1047 Games",
         "marker": {
          "color": "#00cc96",
          "symbol": "circle"
         },
         "mode": "markers",
         "name": "1047 Games",
         "showlegend": true,
         "type": "scattergl",
         "x": {
          "bdata": "4wfjB+MH4wfjB+MH",
          "dtype": "i2"
         },
         "xaxis": "x",
         "y": [
          "WIN",
          "LIN",
          "PS4",
          "PS5",
          "XONE",
          "XSX"
         ],
         "yaxis": "y"
        },
        {
         "customdata": [
          [
           "The Stalin Subway"
          ],
          [
           "The Stalin Subway: Red Veil"
          ]
         ],
         "hovertemplate": "Developer_List=G5 Software<br>Release_Year=%{x}<br>Platform_List=%{y}<br>Title=%{customdata[0]}<extra></extra>",
         "legendgroup": "G5 Software",
         "marker": {
          "color": "#ab63fa",
          "symbol": "circle"
         },
         "mode": "markers",
         "name": "G5 Software",
         "showlegend": true,
         "type": "scattergl",
         "x": {
          "bdata": "1QfWBw==",
          "dtype": "i2"
         },
         "xaxis": "x",
         "y": [
          "WIN",
          "WIN"
         ],
         "yaxis": "y"
        },
        {
         "customdata": [
          [
           "Star Citizen"
          ]
         ],
         "hovertemplate": "Developer_List=Cloud Imperium Games<br>Release_Year=%{x}<br>Platform_List=%{y}<br>Title=%{customdata[0]}<extra></extra>",
         "legendgroup": "Cloud Imperium Games",
         "marker": {
          "color": "#FFA15A",
          "symbol": "circle"
         },
         "mode": "markers",
         "name": "Cloud Imperium Games",
         "showlegend": true,
         "type": "scattergl",
         "x": {
          "bdata": "AA==",
          "dtype": "i1"
         },
         "xaxis": "x",
         "y": [
          "WIN"
         ],
         "yaxis": "y"
        },
        {
         "customdata": [
          [
           "Star Cruiser"
          ],
          [
           "Star Cruiser"
          ],
          [
           "Star Cruiser"
          ],
          [
           "Star Cruiser"
          ],
          [
           "Star Cruiser 2"
          ],
          [
           "Star Cruiser 2"
          ]
         ],
         "hovertemplate": "Developer_List=Arsys Software<br>Release_Year=%{x}<br>Platform_List=%{y}<br>Title=%{customdata[0]}<extra></extra>",
         "legendgroup": "Arsys Software",
         "marker": {
          "color": "#19d3f3",
          "symbol": "circle"
         },
         "mode": "markers",
         "name": "Arsys Software",
         "showlegend": true,
         "type": "scattergl",
         "x": {
          "bdata": "xAfEB8QHxAfIB8gH",
          "dtype": "i2"
         },
         "xaxis": "x",
         "y": [
          "PC88",
          "PC98",
          "X68K",
          "GEN",
          "PC98",
          "FMT"
         ],
         "yaxis": "y"
        },
        {
         "customdata": [
          [
           "Star Luster"
          ],
          [
           "Star Luster"
          ],
          [
           "Star Luster"
          ],
          [
           "Star Luster"
          ],
          [
           "Time Crisis 4"
          ],
          [
           "Time Crisis 4"
          ]
         ],
         "hovertemplate": "Developer_List=Namco<br>Release_Year=%{x}<br>Platform_List=%{y}<br>Title=%{customdata[0]}<extra></extra>",
         "legendgroup": "Namco",
         "marker": {
          "color": "#FF6692",
          "symbol": "circle"
         },
         "mode": "markers",
         "name": "Namco",
         "showlegend": true,
         "type": "scattergl",
         "x": {
          "bdata": "wQfBB8EHwQfWB9YH",
          "dtype": "i2"
         },
         "xaxis": "x",
         "y": [
          "NES",
          "Arcade",
          "X68K",
          "VC",
          "Arcade",
          "PS3"
         ],
         "yaxis": "y"
        },
        {
         "customdata": [
          [
           "Star Raiders II"
          ],
          [
           "Star Raiders II"
          ],
          [
           "Star Raiders II"
          ],
          [
           "Star Raiders II"
          ],
          [
           "Star Raiders II"
          ]
         ],
         "hovertemplate": "Developer_List=Atari Corp.<br>Release_Year=%{x}<br>Platform_List=%{y}<br>Title=%{customdata[0]}<extra></extra>",
         "legendgroup": "Atari Corp.",
         "marker": {
          "color": "#B6E880",
          "symbol": "circle"
         },
         "mode": "markers",
         "name": "Atari Corp.",
         "showlegend": true,
         "type": "scattergl",
         "x": {
          "bdata": "wgfCB8IHwgfCBw==",
          "dtype": "i2"
         },
         "xaxis": "x",
         "y": [
          "ATR",
          "AMSCPC",
          "C64",
          "DOS",
          "ZX"
         ],
         "yaxis": "y"
        },
        {
         "customdata": [
          [
           "Starhawk"
          ]
         ],
         "hovertemplate": "Developer_List=Cinematronics<br>Release_Year=%{x}<br>Platform_List=%{y}<br>Title=%{customdata[0]}<extra></extra>",
         "legendgroup": "Cinematronics",
         "marker": {
          "color": "#FF97FF",
          "symbol": "circle"
         },
         "mode": "markers",
         "name": "Cinematronics",
         "showlegend": true,
         "type": "scattergl",
         "x": {
          "bdata": "uwc=",
          "dtype": "i2"
         },
         "xaxis": "x",
         "y": [
          "ARC"
         ],
         "yaxis": "y"
        },
        {
         "customdata": [
          [
           "Starship Troopers"
          ]
         ],
         "hovertemplate": "Developer_List=Strangelite<br>Release_Year=%{x}<br>Platform_List=%{y}<br>Title=%{customdata[0]}<extra></extra>",
         "legendgroup": "Strangelite",
         "marker": {
          "color": "#FECB52",
          "symbol": "circle"
         },
         "mode": "markers",
         "name": "Strangelite",
         "showlegend": true,
         "type": "scattergl",
         "x": {
          "bdata": "1Qc=",
          "dtype": "i2"
         },
         "xaxis": "x",
         "y": [
          "WIN"
         ],
         "yaxis": "y"
        },
        {
         "customdata": [
          [
           "Starfox"
          ],
          [
           "Starfox"
          ],
          [
           "Starfox"
          ]
         ],
         "hovertemplate": "Developer_List=Realtime Games Software<br>Release_Year=%{x}<br>Platform_List=%{y}<br>Title=%{customdata[0]}<extra></extra>",
         "legendgroup": "Realtime Games Software",
         "marker": {
          "color": "#636efa",
          "symbol": "circle"
         },
         "mode": "markers",
         "name": "Realtime Games Software",
         "showlegend": true,
         "type": "scattergl",
         "x": {
          "bdata": "wwfDB8MH",
          "dtype": "i2"
         },
         "xaxis": "x",
         "y": [
          "AMSCPC",
          "C64",
          "ZX"
         ],
         "yaxis": "y"
        },
        {
         "customdata": [
          [
           "Star Trek: The Next Generation: Klingon Honor Guard"
          ],
          [
           "Star Trek: The Next Generation: Klingon Honor Guard"
          ]
         ],
         "hovertemplate": "Developer_List=MicroProse<br>Release_Year=%{x}<br>Platform_List=%{y}<br>Title=%{customdata[0]}<extra></extra>",
         "legendgroup": "MicroProse",
         "marker": {
          "color": "#EF553B",
          "symbol": "circle"
         },
         "mode": "markers",
         "name": "MicroProse",
         "showlegend": true,
         "type": "scattergl",
         "x": {
          "bdata": "zgfOBw==",
          "dtype": "i2"
         },
         "xaxis": "x",
         "y": [
          "MAC",
          "WIN"
         ],
         "yaxis": "y"
        },
        {
         "customdata": [
          [
           "Star Wars: Battlefront"
          ],
          [
           "Star Wars: Battlefront"
          ],
          [
           "Star Wars: Battlefront"
          ],
          [
           "Star Wars: Battlefront"
          ],
          [
           "Star Wars: Battlefront"
          ],
          [
           "Star Wars: Battlefront"
          ],
          [
           "Star Wars: Battlefront"
          ],
          [
           "Star Wars: Battlefront"
          ],
          [
           "Star Wars: Battlefront"
          ],
          [
           "Star Wars: Battlefront"
          ],
          [
           "Star Wars: Battlefront II"
          ],
          [
           "Star Wars: Battlefront II"
          ],
          [
           "Star Wars: Battlefront II"
          ],
          [
           "Star Wars: Battlefront II"
          ],
          [
           "Star Wars: Battlefront II"
          ],
          [
           "Star Wars: Battlefront II"
          ],
          [
           "Star Wars: Battlefront II"
          ],
          [
           "Star Wars: Battlefront II"
          ],
          [
           "Star Wars: Battlefront II"
          ]
         ],
         "hovertemplate": "Developer_List=Pandemic Studios<br>Release_Year=%{x}<br>Platform_List=%{y}<br>Title=%{customdata[0]}<extra></extra>",
         "legendgroup": "Pandemic Studios",
         "marker": {
          "color": "#00cc96",
          "symbol": "circle"
         },
         "mode": "markers",
         "name": "Pandemic Studios",
         "showlegend": true,
         "type": "scattergl",
         "x": {
          "bdata": "1AfUB9QH1AfUB9QH1AfUB9QH1AfVB9UH1QfVB9UH1QfVB9UH1Qc=",
          "dtype": "i2"
         },
         "xaxis": "x",
         "y": [
          "WIN",
          "PS2",
          "Xbox",
          "OSX",
          "MOBI",
          "PS4",
          "PS5",
          "XONE",
          "XSX",
          "NX",
          "WIN",
          "PS2",
          "Xbox",
          "PSP",
          "PS4",
          "PS5",
          "XONE",
          "XSX",
          "NX"
         ],
         "yaxis": "y"
        },
        {
         "customdata": [
          [
           "Stellar 7"
          ],
          [
           "Stellar 7"
          ]
         ],
         "hovertemplate": "Developer_List=Damon Slye<br>Release_Year=%{x}<br>Platform_List=%{y}<br>Title=%{customdata[0]}<extra></extra>",
         "legendgroup": "Damon Slye",
         "marker": {
          "color": "#ab63fa",
          "symbol": "circle"
         },
         "mode": "markers",
         "name": "Damon Slye",
         "showlegend": true,
         "type": "scattergl",
         "x": {
          "bdata": "vwe/Bw==",
          "dtype": "i2"
         },
         "xaxis": "x",
         "y": [
          "AP2",
          "C64"
         ],
         "yaxis": "y"
        },
        {
         "customdata": [
          [
           "Submarine Commander"
          ]
         ],
         "hovertemplate": "Developer_List=Thorn EMI Computer Software<br>Release_Year=%{x}<br>Platform_List=%{y}<br>Title=%{customdata[0]}<extra></extra>",
         "legendgroup": "Thorn EMI Computer Software",
         "marker": {
          "color": "#FFA15A",
          "symbol": "circle"
         },
         "mode": "markers",
         "name": "Thorn EMI Computer Software",
         "showlegend": true,
         "type": "scattergl",
         "x": {
          "bdata": "vgc=",
          "dtype": "i2"
         },
         "xaxis": "x",
         "y": [
          "A400/800"
         ],
         "yaxis": "y"
        },
        {
         "customdata": [
          [
           "The Suffering"
          ],
          [
           "The Suffering"
          ],
          [
           "The Suffering"
          ],
          [
           "The Suffering: Ties That Bind"
          ],
          [
           "The Suffering: Ties That Bind"
          ],
          [
           "The Suffering: Ties That Bind"
          ]
         ],
         "hovertemplate": "Developer_List=Surreal Software<br>Release_Year=%{x}<br>Platform_List=%{y}<br>Title=%{customdata[0]}<extra></extra>",
         "legendgroup": "Surreal Software",
         "marker": {
          "color": "#19d3f3",
          "symbol": "circle"
         },
         "mode": "markers",
         "name": "Surreal Software",
         "showlegend": true,
         "type": "scattergl",
         "x": {
          "bdata": "1AfUB9QH1QfVB9UH",
          "dtype": "i2"
         },
         "xaxis": "x",
         "y": [
          "WIN",
          "PS2",
          "Xbox",
          "WIN",
          "PS2",
          "Xbox"
         ],
         "yaxis": "y"
        },
        {
         "customdata": [
          [
           "Super 3D Noah's Ark"
          ],
          [
           "Super 3D Noah's Ark"
          ]
         ],
         "hovertemplate": "Developer_List=Wisdom Tree<br>Release_Year=%{x}<br>Platform_List=%{y}<br>Title=%{customdata[0]}<extra></extra>",
         "legendgroup": "Wisdom Tree",
         "marker": {
          "color": "#FF6692",
          "symbol": "circle"
         },
         "mode": "markers",
         "name": "Wisdom Tree",
         "showlegend": true,
         "type": "scattergl",
         "x": {
          "bdata": "AAA=",
          "dtype": "i1"
         },
         "xaxis": "x",
         "y": [
          "SNES",
          "DOS"
         ],
         "yaxis": "y"
        },
        {
         "customdata": [
          [
           "Superhot"
          ],
          [
           "Superhot"
          ],
          [
           "Superhot"
          ],
          [
           "Superhot"
          ],
          [
           "Superhot"
          ],
          [
           "Superhot"
          ],
          [
           "Superhot: Mind Control Delete"
          ],
          [
           "Superhot: Mind Control Delete"
          ],
          [
           "Superhot: Mind Control Delete"
          ],
          [
           "Superhot: Mind Control Delete"
          ]
         ],
         "hovertemplate": "Developer_List=Superhot Team<br>Release_Year=%{x}<br>Platform_List=%{y}<br>Title=%{customdata[0]}<extra></extra>",
         "legendgroup": "Superhot Team",
         "marker": {
          "color": "#B6E880",
          "symbol": "circle"
         },
         "mode": "markers",
         "name": "Superhot Team",
         "showlegend": true,
         "type": "scattergl",
         "x": {
          "bdata": "4AfgB+AH4AfgB+AH5AfkB+QH5Ac=",
          "dtype": "i2"
         },
         "xaxis": "x",
         "y": [
          "WIN",
          "OSX",
          "LIN",
          "XONE",
          "PS4",
          "NX",
          "WIN",
          "PS4",
          "XONE",
          "XSX"
         ],
         "yaxis": "y"
        },
        {
         "customdata": [
          [
           "The Super Spy"
          ]
         ],
         "hovertemplate": "Developer_List=SNK<br>Release_Year=%{x}<br>Platform_List=%{y}<br>Title=%{customdata[0]}<extra></extra>",
         "legendgroup": "SNK",
         "marker": {
          "color": "#FF97FF",
          "symbol": "circle"
         },
         "mode": "markers",
         "name": "SNK",
         "showlegend": true,
         "type": "scattergl",
         "x": {
          "bdata": "xgc=",
          "dtype": "i2"
         },
         "xaxis": "x",
         "y": [
          "Arcade"
         ],
         "yaxis": "y"
        },
        {
         "customdata": [
          [
           "SWAT 3: Close Quarters Battle"
          ]
         ],
         "hovertemplate": "Developer_List=Sierra Northwest<br>Release_Year=%{x}<br>Platform_List=%{y}<br>Title=%{customdata[0]}<extra></extra>",
         "legendgroup": "Sierra Northwest",
         "marker": {
          "color": "#FECB52",
          "symbol": "circle"
         },
         "mode": "markers",
         "name": "Sierra Northwest",
         "showlegend": true,
         "type": "scattergl",
         "x": {
          "bdata": "zwc=",
          "dtype": "i2"
         },
         "xaxis": "x",
         "y": [
          "WIN"
         ],
         "yaxis": "y"
        },
        {
         "customdata": [
          [
           "System Shock"
          ],
          [
           "System Shock"
          ],
          [
           "System Shock"
          ],
          [
           "System Shock 2"
          ],
          [
           "System Shock 2"
          ],
          [
           "System Shock 2"
          ],
          [
           "Terra Nova: Strike Force Centauri"
          ]
         ],
         "hovertemplate": "Developer_List=Looking Glass Studios<br>Release_Year=%{x}<br>Platform_List=%{y}<br>Title=%{customdata[0]}<extra></extra>",
         "legendgroup": "Looking Glass Studios",
         "marker": {
          "color": "#636efa",
          "symbol": "circle"
         },
         "mode": "markers",
         "name": "Looking Glass Studios",
         "showlegend": true,
         "type": "scattergl",
         "x": {
          "bdata": "ygfKB8oHzwfPB88HzAc=",
          "dtype": "i2"
         },
         "xaxis": "x",
         "y": [
          "DOS",
          "MAC",
          "WIN",
          "WIN",
          "OSX",
          "LIN",
          "DOS"
         ],
         "yaxis": "y"
        },
        {
         "customdata": [
          [
           "Tactical Ops: Assault on Terror"
          ]
         ],
         "hovertemplate": "Developer_List=Kamehan Studios<br>Release_Year=%{x}<br>Platform_List=%{y}<br>Title=%{customdata[0]}<extra></extra>",
         "legendgroup": "Kamehan Studios",
         "marker": {
          "color": "#EF553B",
          "symbol": "circle"
         },
         "mode": "markers",
         "name": "Kamehan Studios",
         "showlegend": true,
         "type": "scattergl",
         "x": {
          "bdata": "0gc=",
          "dtype": "i2"
         },
         "xaxis": "x",
         "y": [
          "WIN"
         ],
         "yaxis": "y"
        },
        {
         "customdata": [
          [
           "Tau Ceti"
          ],
          [
           "Tau Ceti"
          ],
          [
           "Tau Ceti"
          ],
          [
           "Tau Ceti"
          ],
          [
           "Tau Ceti"
          ]
         ],
         "hovertemplate": "Developer_List=CRL Group<br>Release_Year=%{x}<br>Platform_List=%{y}<br>Title=%{customdata[0]}<extra></extra>",
         "legendgroup": "CRL Group",
         "marker": {
          "color": "#00cc96",
          "symbol": "circle"
         },
         "mode": "markers",
         "name": "CRL Group",
         "showlegend": true,
         "type": "scattergl",
         "x": {
          "bdata": "wQfBB8EHwQfBBw==",
          "dtype": "i2"
         },
         "xaxis": "x",
         "y": [
          "ST",
          "AMSCPC",
          "C64",
          "DOS",
          "ZX"
         ],
         "yaxis": "y"
        },
        {
         "customdata": [
          [
           "Team Fortress"
          ],
          [
           "Team Fortress"
          ],
          [
           "Team Fortress"
          ]
         ],
         "hovertemplate": "Developer_List=Team Fortress Software<br>Release_Year=%{x}<br>Platform_List=%{y}<br>Title=%{customdata[0]}<extra></extra>",
         "legendgroup": "Team Fortress Software",
         "marker": {
          "color": "#ab63fa",
          "symbol": "circle"
         },
         "mode": "markers",
         "name": "Team Fortress Software",
         "showlegend": true,
         "type": "scattergl",
         "x": {
          "bdata": "zwfPB88H",
          "dtype": "i2"
         },
         "xaxis": "x",
         "y": [
          "LIN",
          "OSX",
          "WIN"
         ],
         "yaxis": "y"
        },
        {
         "customdata": [
          [
           "The Terminator"
          ],
          [
           "The Terminator 2029"
          ],
          [
           "The Terminator: Rampage"
          ],
          [
           "The Terminator: Future Shock"
          ],
          [
           "The Terminator: SkyNET"
          ]
         ],
         "hovertemplate": "Developer_List=Bethesda Softworks<br>Release_Year=%{x}<br>Platform_List=%{y}<br>Title=%{customdata[0]}<extra></extra>",
         "legendgroup": "Bethesda Softworks",
         "marker": {
          "color": "#FFA15A",
          "symbol": "circle"
         },
         "mode": "markers",
         "name": "Bethesda Softworks",
         "showlegend": true,
         "type": "scattergl",
         "x": {
          "bdata": "AADIBwAAAAAAAA==",
          "dtype": "i2"
         },
         "xaxis": "x",
         "y": [
          "DOS",
          "DOS",
          "DOS",
          "DOS",
          "DOS"
         ],
         "yaxis": "y"
        },
        {
         "customdata": [
          [
           "Terminator 3: Rise of the Machines"
          ],
          [
           "Terminator 3: Rise of the Machines"
          ],
          [
           "The World Is Not Enough"
          ],
          [
           "The World Is Not Enough"
          ]
         ],
         "hovertemplate": "Developer_List=Black Ops Entertainment<br>Release_Year=%{x}<br>Platform_List=%{y}<br>Title=%{customdata[0]}<extra></extra>",
         "legendgroup": "Black Ops Entertainment",
         "marker": {
          "color": "#19d3f3",
          "symbol": "circle"
         },
         "mode": "markers",
         "name": "Black Ops Entertainment",
         "showlegend": true,
         "type": "scattergl",
         "x": {
          "bdata": "0wfTB9AH0Ac=",
          "dtype": "i2"
         },
         "xaxis": "x",
         "y": [
          "PS2",
          "Xbox",
          "N64",
          "PS1"
         ],
         "yaxis": "y"
        },
        {
         "customdata": [
          [
           "Terminator 3: War of the Machines"
          ]
         ],
         "hovertemplate": "Developer_List=Clever's Games<br>Release_Year=%{x}<br>Platform_List=%{y}<br>Title=%{customdata[0]}<extra></extra>",
         "legendgroup": "Clever's Games",
         "marker": {
          "color": "#FF6692",
          "symbol": "circle"
         },
         "mode": "markers",
         "name": "Clever's Games",
         "showlegend": true,
         "type": "scattergl",
         "x": {
          "bdata": "0wc=",
          "dtype": "i2"
         },
         "xaxis": "x",
         "y": [
          "WIN"
         ],
         "yaxis": "y"
        },
        {
         "customdata": [
          [
           "Terrawars: New York Invasion"
          ]
         ],
         "hovertemplate": "Developer_List=Ladyluck Digital Media<br>Release_Year=%{x}<br>Platform_List=%{y}<br>Title=%{customdata[0]}<extra></extra>",
         "legendgroup": "Ladyluck Digital Media",
         "marker": {
          "color": "#B6E880",
          "symbol": "circle"
         },
         "mode": "markers",
         "name": "Ladyluck Digital Media",
         "showlegend": true,
         "type": "scattergl",
         "x": {
          "bdata": "1gc=",
          "dtype": "i2"
         },
         "xaxis": "x",
         "y": [
          "WIN"
         ],
         "yaxis": "y"
        },
        {
         "customdata": [
          [
           "Terror Attack: Project Fateh"
          ],
          [
           "Terror Attack: Project Fateh"
          ],
          [
           "Terror Attack: Project Fateh"
          ]
         ],
         "hovertemplate": "Developer_List=Shivam Sai Gupta<br>Release_Year=%{x}<br>Platform_List=%{y}<br>Title=%{customdata[0]}<extra></extra>",
         "legendgroup": "Shivam Sai Gupta",
         "marker": {
          "color": "#FF97FF",
          "symbol": "circle"
         },
         "mode": "markers",
         "name": "Shivam Sai Gupta",
         "showlegend": true,
         "type": "scattergl",
         "x": {
          "bdata": "2gfaB9oH",
          "dtype": "i2"
         },
         "xaxis": "x",
         "y": [
          "iPhone",
          "MOBI",
          "WIN"
         ],
         "yaxis": "y"
        },
        {
         "customdata": [
          [
           "Terror In Christmas Town"
          ]
         ],
         "hovertemplate": "Developer_List=Michael Zerbo<br>Release_Year=%{x}<br>Platform_List=%{y}<br>Title=%{customdata[0]}<extra></extra>",
         "legendgroup": "Michael Zerbo",
         "marker": {
          "color": "#FECB52",
          "symbol": "circle"
         },
         "mode": "markers",
         "name": "Michael Zerbo",
         "showlegend": true,
         "type": "scattergl",
         "x": {
          "bdata": "ywc=",
          "dtype": "i2"
         },
         "xaxis": "x",
         "y": [
          "DOS"
         ],
         "yaxis": "y"
        },
        {
         "customdata": [
          [
           "Testament"
          ]
         ],
         "hovertemplate": "Developer_List=Insanity<br>Release_Year=%{x}<br>Platform_List=%{y}<br>Title=%{customdata[0]}<extra></extra>",
         "legendgroup": "Insanity",
         "marker": {
          "color": "#636efa",
          "symbol": "circle"
         },
         "mode": "markers",
         "name": "Insanity",
         "showlegend": true,
         "type": "scattergl",
         "x": {
          "bdata": "zAc=",
          "dtype": "i2"
         },
         "xaxis": "x",
         "y": [
          "AMI"
         ],
         "yaxis": "y"
        },
        {
         "customdata": [
          [
           "The Walking Dead: Survival Instinct"
          ],
          [
           "The Walking Dead: Survival Instinct"
          ],
          [
           "The Walking Dead: Survival Instinct"
          ],
          [
           "The Walking Dead: Survival Instinct"
          ]
         ],
         "hovertemplate": "Developer_List=Terminal Reality<br>Release_Year=%{x}<br>Platform_List=%{y}<br>Title=%{customdata[0]}<extra></extra>",
         "legendgroup": "Terminal Reality",
         "marker": {
          "color": "#EF553B",
          "symbol": "circle"
         },
         "mode": "markers",
         "name": "Terminal Reality",
         "showlegend": true,
         "type": "scattergl",
         "x": {
          "bdata": "3QfdB90H3Qc=",
          "dtype": "i2"
         },
         "xaxis": "x",
         "y": [
          "WIN",
          "PS3",
          "X360",
          "WiiU"
         ],
         "yaxis": "y"
        },
        {
         "customdata": [
          [
           "Tom Clancy's Ghost Recon"
          ],
          [
           "Tom Clancy's Ghost Recon"
          ],
          [
           "Tom Clancy's Ghost Recon"
          ],
          [
           "Tom Clancy's Ghost Recon"
          ],
          [
           "Tom Clancy's Ghost Recon"
          ],
          [
           "Tom Clancy's Ghost Recon Advanced Warfighter"
          ],
          [
           "Tom Clancy's Ghost Recon Advanced Warfighter"
          ],
          [
           "Tom Clancy's Ghost Recon Advanced Warfighter"
          ],
          [
           "Tom Clancy's Ghost Recon Advanced Warfighter"
          ],
          [
           "Tom Clancy's Ghost Recon Advanced Warfighter 2"
          ],
          [
           "Tom Clancy's Ghost Recon Advanced Warfighter 2"
          ],
          [
           "Tom Clancy's Ghost Recon Advanced Warfighter 2"
          ],
          [
           "Tom Clancy's Ghost Recon Advanced Warfighter 2"
          ],
          [
           "Tom Clancy's Rainbow Six"
          ],
          [
           "Tom Clancy's Rainbow Six"
          ],
          [
           "Tom Clancy's Rainbow Six"
          ],
          [
           "Tom Clancy's Rainbow Six"
          ],
          [
           "Tom Clancy's Rainbow Six"
          ],
          [
           "Tom Clancy's Rainbow Six: Rogue Spear"
          ],
          [
           "Tom Clancy's Rainbow Six: Rogue Spear"
          ],
          [
           "Tom Clancy's Rainbow Six: Rogue Spear"
          ],
          [
           "Tom Clancy's Rainbow Six: Rogue Spear"
          ],
          [
           "Tom Clancy's Rainbow Six 3: Raven Shield"
          ],
          [
           "Tom Clancy's Rainbow Six 3: Raven Shield"
          ],
          [
           "Tom Clancy's Rainbow Six: Lockdown"
          ],
          [
           "Tom Clancy's Rainbow Six: Lockdown"
          ],
          [
           "Tom Clancy's Rainbow Six: Lockdown"
          ],
          [
           "Tom Clancy's Rainbow Six: Lockdown"
          ]
         ],
         "hovertemplate": "Developer_List=Red Storm Entertainment<br>Release_Year=%{x}<br>Platform_List=%{y}<br>Title=%{customdata[0]}<extra></extra>",
         "legendgroup": "Red Storm Entertainment",
         "marker": {
          "color": "#00cc96",
          "symbol": "circle"
         },
         "mode": "markers",
         "name": "Red Storm Entertainment",
         "showlegend": true,
         "type": "scattergl",
         "x": {
          "bdata": "0QfRB9EH0QfRB9YH1gfWB9YH1wfXB9cH1wfOB84HzgfOB84HzwfPB88HzwfTB9MH1QfVB9UH1Qc=",
          "dtype": "i2"
         },
         "xaxis": "x",
         "y": [
          "WIN",
          "MAC",
          "Xbox",
          "PS2",
          "GCN",
          "PS2",
          "Xbox",
          "X360",
          "WIN",
          "X360",
          "WIN",
          "PS3",
          "PSP",
          "WIN",
          "N64",
          "PS1",
          "MAC",
          "DC",
          "WIN",
          "DC",
          "MAC",
          "PS1",
          "WIN",
          "OSX",
          "PS2",
          "Xbox",
          "GCN",
          "WIN"
         ],
         "yaxis": "y"
        },
        {
         "customdata": [
          [
           "Tom Clancy's Ghost Recon Advanced Warfighter"
          ],
          [
           "Tom Clancy's Ghost Recon Advanced Warfighter"
          ],
          [
           "Tom Clancy's Ghost Recon Advanced Warfighter"
          ],
          [
           "Tom Clancy's Ghost Recon Advanced Warfighter"
          ],
          [
           "Tom Clancy's Ghost Recon Advanced Warfighter 2"
          ],
          [
           "Tom Clancy's Ghost Recon Advanced Warfighter 2"
          ],
          [
           "Tom Clancy's Ghost Recon Advanced Warfighter 2"
          ],
          [
           "Tom Clancy's Ghost Recon Advanced Warfighter 2"
          ]
         ],
         "hovertemplate": "Developer_List=GRIN<br>Release_Year=%{x}<br>Platform_List=%{y}<br>Title=%{customdata[0]}<extra></extra>",
         "legendgroup": "GRIN",
         "marker": {
          "color": "#ab63fa",
          "symbol": "circle"
         },
         "mode": "markers",
         "name": "GRIN",
         "showlegend": true,
         "type": "scattergl",
         "x": {
          "bdata": "1gfWB9YH1gfXB9cH1wfXBw==",
          "dtype": "i2"
         },
         "xaxis": "x",
         "y": [
          "PS2",
          "Xbox",
          "X360",
          "WIN",
          "X360",
          "WIN",
          "PS3",
          "PSP"
         ],
         "yaxis": "y"
        },
        {
         "customdata": [
          [
           "Tom Clancy's Rainbow Six: Take-Down – Missions in Korea"
          ]
         ],
         "hovertemplate": "Developer_List=Kama Digital Entertainment<br>Release_Year=%{x}<br>Platform_List=%{y}<br>Title=%{customdata[0]}<extra></extra>",
         "legendgroup": "Kama Digital Entertainment",
         "marker": {
          "color": "#FFA15A",
          "symbol": "circle"
         },
         "mode": "markers",
         "name": "Kama Digital Entertainment",
         "showlegend": true,
         "type": "scattergl",
         "x": {
          "bdata": "0Qc=",
          "dtype": "i2"
         },
         "xaxis": "x",
         "y": [
          "WIN"
         ],
         "yaxis": "y"
        },
        {
         "customdata": [
          [
           "Tom Clancy's Rainbow Six 3: Raven Shield"
          ],
          [
           "Tom Clancy's Rainbow Six 3: Raven Shield"
          ],
          [
           "Tom Clancy's Rainbow Six 3: Black Arrow"
          ]
         ],
         "hovertemplate": "Developer_List=Ubisoft Milan<br>Release_Year=%{x}<br>Platform_List=%{y}<br>Title=%{customdata[0]}<extra></extra>",
         "legendgroup": "Ubisoft Milan",
         "marker": {
          "color": "#19d3f3",
          "symbol": "circle"
         },
         "mode": "markers",
         "name": "Ubisoft Milan",
         "showlegend": true,
         "type": "scattergl",
         "x": {
          "bdata": "0wfTB9QH",
          "dtype": "i2"
         },
         "xaxis": "x",
         "y": [
          "WIN",
          "OSX",
          "Xbox"
         ],
         "yaxis": "y"
        },
        {
         "customdata": [
          [
           "Tom Clancy's Rainbow Six 3"
          ],
          [
           "Tom Clancy's Rainbow Six 3"
          ],
          [
           "Tom Clancy's Rainbow Six 3"
          ]
         ],
         "hovertemplate": "Developer_List=Ubisoft Shanghai<br>Release_Year=%{x}<br>Platform_List=%{y}<br>Title=%{customdata[0]}<extra></extra>",
         "legendgroup": "Ubisoft Shanghai",
         "marker": {
          "color": "#FF6692",
          "symbol": "circle"
         },
         "mode": "markers",
         "name": "Ubisoft Shanghai",
         "showlegend": true,
         "type": "scattergl",
         "x": {
          "bdata": "0wfTB9MH",
          "dtype": "i2"
         },
         "xaxis": "x",
         "y": [
          "Xbox",
          "PS2",
          "GCN"
         ],
         "yaxis": "y"
        },
        {
         "customdata": [
          [
           "Tom Clancy's Rainbow Six: Critical Hour"
          ]
         ],
         "hovertemplate": "Developer_List=Ubisoft Quebec<br>Release_Year=%{x}<br>Platform_List=%{y}<br>Title=%{customdata[0]}<extra></extra>",
         "legendgroup": "Ubisoft Quebec",
         "marker": {
          "color": "#B6E880",
          "symbol": "circle"
         },
         "mode": "markers",
         "name": "Ubisoft Quebec",
         "showlegend": true,
         "type": "scattergl",
         "x": {
          "bdata": "1gc=",
          "dtype": "i2"
         },
         "xaxis": "x",
         "y": [
          "Xbox"
         ],
         "yaxis": "y"
        },
        {
         "customdata": [
          [
           "Trepang2"
          ],
          [
           "Trepang2"
          ],
          [
           "Trepang2"
          ]
         ],
         "hovertemplate": "Developer_List=Trepang Studios<br>Release_Year=%{x}<br>Platform_List=%{y}<br>Title=%{customdata[0]}<extra></extra>",
         "legendgroup": "Trepang Studios",
         "marker": {
          "color": "#FF97FF",
          "symbol": "circle"
         },
         "mode": "markers",
         "name": "Trepang Studios",
         "showlegend": true,
         "type": "scattergl",
         "x": {
          "bdata": "5wfnB+cH",
          "dtype": "i2"
         },
         "xaxis": "x",
         "y": [
          "WIN",
          "PS5",
          "XSX"
         ],
         "yaxis": "y"
        },
        {
         "customdata": [
          [
           "Starsiege: Tribes"
          ],
          [
           "Tribes 2"
          ],
          [
           "Tribes 2"
          ]
         ],
         "hovertemplate": "Developer_List=Dynamix<br>Release_Year=%{x}<br>Platform_List=%{y}<br>Title=%{customdata[0]}<extra></extra>",
         "legendgroup": "Dynamix",
         "marker": {
          "color": "#FECB52",
          "symbol": "circle"
         },
         "mode": "markers",
         "name": "Dynamix",
         "showlegend": true,
         "type": "scattergl",
         "x": {
          "bdata": "zgfRB9EH",
          "dtype": "i2"
         },
         "xaxis": "x",
         "y": [
          "WIN",
          "LIN",
          "WIN"
         ],
         "yaxis": "y"
        },
        {
         "customdata": [
          [
           "Tribes: Aerial Assault"
          ]
         ],
         "hovertemplate": "Developer_List=Inevitable Entertainment<br>Release_Year=%{x}<br>Platform_List=%{y}<br>Title=%{customdata[0]}<extra></extra>",
         "legendgroup": "Inevitable Entertainment",
         "marker": {
          "color": "#636efa",
          "symbol": "circle"
         },
         "mode": "markers",
         "name": "Inevitable Entertainment",
         "showlegend": true,
         "type": "scattergl",
         "x": {
          "bdata": "0gc=",
          "dtype": "i2"
         },
         "xaxis": "x",
         "y": [
          "PS2"
         ],
         "yaxis": "y"
        },
        {
         "customdata": [
          [
           "The Truth About 9th Company"
          ]
         ],
         "hovertemplate": "Developer_List=Extreme Developers Kranx Productions<br>Release_Year=%{x}<br>Platform_List=%{y}<br>Title=%{customdata[0]}<extra></extra>",
         "legendgroup": "Extreme Developers Kranx Productions",
         "marker": {
          "color": "#EF553B",
          "symbol": "circle"
         },
         "mode": "markers",
         "name": "Extreme Developers Kranx Productions",
         "showlegend": true,
         "type": "scattergl",
         "x": {
          "bdata": "2Ac=",
          "dtype": "i2"
         },
         "xaxis": "x",
         "y": [
          "WIN"
         ],
         "yaxis": "y"
        },
        {
         "customdata": [
          [
           "Tunnel Rats: 1968"
          ]
         ],
         "hovertemplate": "Developer_List=Replay Studios<br>Release_Year=%{x}<br>Platform_List=%{y}<br>Title=%{customdata[0]}<extra></extra>",
         "legendgroup": "Replay Studios",
         "marker": {
          "color": "#00cc96",
          "symbol": "circle"
         },
         "mode": "markers",
         "name": "Replay Studios",
         "showlegend": true,
         "type": "scattergl",
         "x": {
          "bdata": "2Qc=",
          "dtype": "i2"
         },
         "xaxis": "x",
         "y": [
          "WIN"
         ],
         "yaxis": "y"
        },
        {
         "customdata": [
          [
           "Turok: Dinosaur Hunter"
          ],
          [
           "Turok: Dinosaur Hunter"
          ],
          [
           "Turok: Dinosaur Hunter"
          ],
          [
           "Turok: Dinosaur Hunter"
          ],
          [
           "Turok: Dinosaur Hunter"
          ],
          [
           "Turok: Dinosaur Hunter"
          ],
          [
           "Turok: Dinosaur Hunter"
          ],
          [
           "Turok 2: Seeds of Evil"
          ],
          [
           "Turok 2: Seeds of Evil"
          ],
          [
           "Turok 2: Seeds of Evil"
          ],
          [
           "Turok 2: Seeds of Evil"
          ],
          [
           "Turok 2: Seeds of Evil"
          ],
          [
           "Turok 2: Seeds of Evil"
          ],
          [
           "Turok 2: Seeds of Evil"
          ]
         ],
         "hovertemplate": "Developer_List=Iguana Entertainment<br>Release_Year=%{x}<br>Platform_List=%{y}<br>Title=%{customdata[0]}<extra></extra>",
         "legendgroup": "Iguana Entertainment",
         "marker": {
          "color": "#ab63fa",
          "symbol": "circle"
         },
         "mode": "markers",
         "name": "Iguana Entertainment",
         "showlegend": true,
         "type": "scattergl",
         "x": {
          "bdata": "zQfNB80HzQfNB80HzQfOB84HzgfOB84HzgfOBw==",
          "dtype": "i2"
         },
         "xaxis": "x",
         "y": [
          "N64",
          "WIN",
          "OSX",
          "XONE",
          "LIN",
          "NX",
          "PS4",
          "N64",
          "WIN",
          "XONE",
          "LIN",
          "OSX",
          "NX",
          "PS4"
         ],
         "yaxis": "y"
        },
        {
         "customdata": [
          [
           "Turok: Rage Wars"
          ],
          [
           "Turok 3: Shadow of Oblivion"
          ],
          [
           "Turok 3: Shadow of Oblivion"
          ],
          [
           "Turok 3: Shadow of Oblivion"
          ],
          [
           "Turok 3: Shadow of Oblivion"
          ],
          [
           "Turok 3: Shadow of Oblivion"
          ],
          [
           "Turok 3: Shadow of Oblivion"
          ],
          [
           "Turok 3: Shadow of Oblivion"
          ],
          [
           "Turok: Evolution"
          ],
          [
           "Turok: Evolution"
          ],
          [
           "Turok: Evolution"
          ],
          [
           "Turok: Evolution"
          ]
         ],
         "hovertemplate": "Developer_List=Acclaim Studios Austin<br>Release_Year=%{x}<br>Platform_List=%{y}<br>Title=%{customdata[0]}<extra></extra>",
         "legendgroup": "Acclaim Studios Austin",
         "marker": {
          "color": "#FFA15A",
          "symbol": "circle"
         },
         "mode": "markers",
         "name": "Acclaim Studios Austin",
         "showlegend": true,
         "type": "scattergl",
         "x": {
          "bdata": "zwfQB9AH0AfQB9AH0AfQB9IH0gfSB9IH",
          "dtype": "i2"
         },
         "xaxis": "x",
         "y": [
          "N64",
          "N64",
          "WIN",
          "PS4",
          "PS5",
          "XONE",
          "XSX",
          "NX",
          "PS2",
          "Xbox",
          "GCN",
          "WIN"
         ],
         "yaxis": "y"
        },
        {
         "customdata": [
          [
           "Turok"
          ],
          [
           "Turok"
          ],
          [
           "Turok"
          ]
         ],
         "hovertemplate": "Developer_List=Propaganda Games<br>Release_Year=%{x}<br>Platform_List=%{y}<br>Title=%{customdata[0]}<extra></extra>",
         "legendgroup": "Propaganda Games",
         "marker": {
          "color": "#19d3f3",
          "symbol": "circle"
         },
         "mode": "markers",
         "name": "Propaganda Games",
         "showlegend": true,
         "type": "scattergl",
         "x": {
          "bdata": "2AfYB9gH",
          "dtype": "i2"
         },
         "xaxis": "x",
         "y": [
          "PS3",
          "X360",
          "WIN"
         ],
         "yaxis": "y"
        },
        {
         "customdata": [
          [
           "ÜberSoldier"
          ],
          [
           "ÜberSoldier II"
          ]
         ],
         "hovertemplate": "Developer_List=Burut Creative Team<br>Release_Year=%{x}<br>Platform_List=%{y}<br>Title=%{customdata[0]}<extra></extra>",
         "legendgroup": "Burut Creative Team",
         "marker": {
          "color": "#FF6692",
          "symbol": "circle"
         },
         "mode": "markers",
         "name": "Burut Creative Team",
         "showlegend": true,
         "type": "scattergl",
         "x": {
          "bdata": "1QfYBw==",
          "dtype": "i2"
         },
         "xaxis": "x",
         "y": [
          "WIN",
          "WIN"
         ],
         "yaxis": "y"
        },
        {
         "customdata": [
          [
           "UberStrike"
          ],
          [
           "UberStrike"
          ]
         ],
         "hovertemplate": "Developer_List=Cmune Ltd.<br>Release_Year=%{x}<br>Platform_List=%{y}<br>Title=%{customdata[0]}<extra></extra>",
         "legendgroup": "Cmune Ltd.",
         "marker": {
          "color": "#B6E880",
          "symbol": "circle"
         },
         "mode": "markers",
         "name": "Cmune Ltd.",
         "showlegend": true,
         "type": "scattergl",
         "x": {
          "bdata": "AAA=",
          "dtype": "i1"
         },
         "xaxis": "x",
         "y": [
          "MAC",
          "WIN"
         ],
         "yaxis": "y"
        },
        {
         "customdata": [
          [
           "Ultrakill"
          ]
         ],
         "hovertemplate": "Developer_List=Arsi \"Hakita\" Patala<br>Release_Year=%{x}<br>Platform_List=%{y}<br>Title=%{customdata[0]}<extra></extra>",
         "legendgroup": "Arsi \"Hakita\" Patala",
         "marker": {
          "color": "#FF97FF",
          "symbol": "circle"
         },
         "mode": "markers",
         "name": "Arsi \"Hakita\" Patala",
         "showlegend": true,
         "type": "scattergl",
         "x": {
          "bdata": "5Ac=",
          "dtype": "i2"
         },
         "xaxis": "x",
         "y": [
          "WIN"
         ],
         "yaxis": "y"
        },
        {
         "customdata": [
          [
           "Under Ash"
          ]
         ],
         "hovertemplate": "Developer_List=Dar al-Fikr<br>Release_Year=%{x}<br>Platform_List=%{y}<br>Title=%{customdata[0]}<extra></extra>",
         "legendgroup": "Dar al-Fikr",
         "marker": {
          "color": "#FECB52",
          "symbol": "circle"
         },
         "mode": "markers",
         "name": "Dar al-Fikr",
         "showlegend": true,
         "type": "scattergl",
         "x": {
          "bdata": "0Qc=",
          "dtype": "i2"
         },
         "xaxis": "x",
         "y": [
          "WIN"
         ],
         "yaxis": "y"
        },
        {
         "customdata": [
          [
           "Under Siege"
          ]
         ],
         "hovertemplate": "Developer_List=Afkar Media<br>Release_Year=%{x}<br>Platform_List=%{y}<br>Title=%{customdata[0]}<extra></extra>",
         "legendgroup": "Afkar Media",
         "marker": {
          "color": "#636efa",
          "symbol": "circle"
         },
         "mode": "markers",
         "name": "Afkar Media",
         "showlegend": true,
         "type": "scattergl",
         "x": {
          "bdata": "1Qc=",
          "dtype": "i2"
         },
         "xaxis": "x",
         "y": [
          "WIN"
         ],
         "yaxis": "y"
        },
        {
         "customdata": [
          [
           "Unreal"
          ],
          [
           "Unreal"
          ]
         ],
         "hovertemplate": "Developer_List=Epic MegaGames<br>Release_Year=%{x}<br>Platform_List=%{y}<br>Title=%{customdata[0]}<extra></extra>",
         "legendgroup": "Epic MegaGames",
         "marker": {
          "color": "#EF553B",
          "symbol": "circle"
         },
         "mode": "markers",
         "name": "Epic MegaGames",
         "showlegend": true,
         "type": "scattergl",
         "x": {
          "bdata": "zgfOBw==",
          "dtype": "i2"
         },
         "xaxis": "x",
         "y": [
          "WIN",
          "MAC"
         ],
         "yaxis": "y"
        },
        {
         "customdata": [
          [
           "Unreal Mission Pack: Return to Na Pali"
          ],
          [
           "Unreal Mission Pack: Return to Na Pali"
          ],
          [
           "Unreal II: The Awakening"
          ],
          [
           "Unreal II: The Awakening"
          ],
          [
           "The Wheel of Time"
          ]
         ],
         "hovertemplate": "Developer_List=Legend Entertainment<br>Release_Year=%{x}<br>Platform_List=%{y}<br>Title=%{customdata[0]}<extra></extra>",
         "legendgroup": "Legend Entertainment",
         "marker": {
          "color": "#00cc96",
          "symbol": "circle"
         },
         "mode": "markers",
         "name": "Legend Entertainment",
         "showlegend": true,
         "type": "scattergl",
         "x": {
          "bdata": "zwfPB9MH0wfPBw==",
          "dtype": "i2"
         },
         "xaxis": "x",
         "y": [
          "WIN",
          "MAC",
          "WIN",
          "Xbox",
          "WIN"
         ],
         "yaxis": "y"
        },
        {
         "customdata": [
          [
           "Urban Chaos: Riot Response"
          ],
          [
           "Urban Chaos: Riot Response"
          ]
         ],
         "hovertemplate": "Developer_List=Rocksteady Studios<br>Release_Year=%{x}<br>Platform_List=%{y}<br>Title=%{customdata[0]}<extra></extra>",
         "legendgroup": "Rocksteady Studios",
         "marker": {
          "color": "#ab63fa",
          "symbol": "circle"
         },
         "mode": "markers",
         "name": "Rocksteady Studios",
         "showlegend": true,
         "type": "scattergl",
         "x": {
          "bdata": "1gfWBw==",
          "dtype": "i2"
         },
         "xaxis": "x",
         "y": [
          "PS2",
          "Xbox"
         ],
         "yaxis": "y"
        },
        {
         "customdata": [
          [
           "Urban Terror"
          ],
          [
           "Urban Terror"
          ],
          [
           "Urban Terror"
          ]
         ],
         "hovertemplate": "Developer_List=FrozenSand<br>Release_Year=%{x}<br>Platform_List=%{y}<br>Title=%{customdata[0]}<extra></extra>",
         "legendgroup": "FrozenSand",
         "marker": {
          "color": "#FFA15A",
          "symbol": "circle"
         },
         "mode": "markers",
         "name": "FrozenSand",
         "showlegend": true,
         "type": "scattergl",
         "x": {
          "bdata": "1wfXB9cH",
          "dtype": "i2"
         },
         "xaxis": "x",
         "y": [
          "LIN",
          "OSX",
          "WIN"
         ],
         "yaxis": "y"
        },
        {
         "customdata": [
          [
           "Urban Terror"
          ],
          [
           "Urban Terror"
          ],
          [
           "Urban Terror"
          ]
         ],
         "hovertemplate": "Developer_List=LLC Silicon Ice Development<br>Release_Year=%{x}<br>Platform_List=%{y}<br>Title=%{customdata[0]}<extra></extra>",
         "legendgroup": "LLC Silicon Ice Development",
         "marker": {
          "color": "#19d3f3",
          "symbol": "circle"
         },
         "mode": "markers",
         "name": "LLC Silicon Ice Development",
         "showlegend": true,
         "type": "scattergl",
         "x": {
          "bdata": "1wfXB9cH",
          "dtype": "i2"
         },
         "xaxis": "x",
         "y": [
          "LIN",
          "OSX",
          "WIN"
         ],
         "yaxis": "y"
        },
        {
         "customdata": [
          [
           "US Special Forces: Team Factor"
          ]
         ],
         "hovertemplate": "Developer_List=7FX<br>Release_Year=%{x}<br>Platform_List=%{y}<br>Title=%{customdata[0]}<extra></extra>",
         "legendgroup": "7FX",
         "marker": {
          "color": "#FF6692",
          "symbol": "circle"
         },
         "mode": "markers",
         "name": "7FX",
         "showlegend": true,
         "type": "scattergl",
         "x": {
          "bdata": "0gc=",
          "dtype": "i2"
         },
         "xaxis": "x",
         "y": [
          "WIN"
         ],
         "yaxis": "y"
        },
        {
         "customdata": [
          [
           "Valorant"
          ],
          [
           "Valorant"
          ],
          [
           "Valorant"
          ]
         ],
         "hovertemplate": "Developer_List=Riot Games<br>Release_Year=%{x}<br>Platform_List=%{y}<br>Title=%{customdata[0]}<extra></extra>",
         "legendgroup": "Riot Games",
         "marker": {
          "color": "#B6E880",
          "symbol": "circle"
         },
         "mode": "markers",
         "name": "Riot Games",
         "showlegend": true,
         "type": "scattergl",
         "x": {
          "bdata": "5AfkB+QH",
          "dtype": "i2"
         },
         "xaxis": "x",
         "y": [
          "WIN",
          "PS5",
          "XSX"
         ],
         "yaxis": "y"
        },
        {
         "customdata": [
          [
           "Vladik Brutal"
          ],
          [
           "Vladik Brutal"
          ]
         ],
         "hovertemplate": "Developer_List=Narco Games<br>Release_Year=%{x}<br>Platform_List=%{y}<br>Title=%{customdata[0]}<extra></extra>",
         "legendgroup": "Narco Games",
         "marker": {
          "color": "#FF97FF",
          "symbol": "circle"
         },
         "mode": "markers",
         "name": "Narco Games",
         "showlegend": true,
         "type": "scattergl",
         "x": {
          "bdata": "6AfoBw==",
          "dtype": "i2"
         },
         "xaxis": "x",
         "y": [
          "WIN",
          "LIN"
         ],
         "yaxis": "y"
        },
        {
         "customdata": [
          [
           "Void Bastards"
          ],
          [
           "Void Bastards"
          ],
          [
           "Void Bastards"
          ],
          [
           "Void Bastards"
          ]
         ],
         "hovertemplate": "Developer_List=Blue Manchu<br>Release_Year=%{x}<br>Platform_List=%{y}<br>Title=%{customdata[0]}<extra></extra>",
         "legendgroup": "Blue Manchu",
         "marker": {
          "color": "#FECB52",
          "symbol": "circle"
         },
         "mode": "markers",
         "name": "Blue Manchu",
         "showlegend": true,
         "type": "scattergl",
         "x": {
          "bdata": "4wfjB+MH4wc=",
          "dtype": "i2"
         },
         "xaxis": "x",
         "y": [
          "WIN",
          "XONE",
          "PS4",
          "NX"
         ],
         "yaxis": "y"
        },
        {
         "customdata": [
          [
           "Warface"
          ],
          [
           "Warface"
          ],
          [
           "Warface"
          ],
          [
           "Warface"
          ],
          [
           "Warface"
          ]
         ],
         "hovertemplate": "Developer_List=Crytek Kiev<br>Release_Year=%{x}<br>Platform_List=%{y}<br>Title=%{customdata[0]}<extra></extra>",
         "legendgroup": "Crytek Kiev",
         "marker": {
          "color": "#636efa",
          "symbol": "circle"
         },
         "mode": "markers",
         "name": "Crytek Kiev",
         "showlegend": true,
         "type": "scattergl",
         "x": {
          "bdata": "3QfdB90H3QfdBw==",
          "dtype": "i2"
         },
         "xaxis": "x",
         "y": [
          "WIN",
          "X360",
          "PS4",
          "XONE",
          "NX"
         ],
         "yaxis": "y"
        },
        {
         "customdata": [
          [
           "Warhammer 40,000: Boltgun"
          ],
          [
           "Warhammer 40,000: Boltgun"
          ],
          [
           "Warhammer 40,000: Boltgun"
          ],
          [
           "Warhammer 40,000: Boltgun"
          ],
          [
           "Warhammer 40,000: Boltgun"
          ],
          [
           "Warhammer 40,000: Boltgun"
          ]
         ],
         "hovertemplate": "Developer_List=Auroch Digital<br>Release_Year=%{x}<br>Platform_List=%{y}<br>Title=%{customdata[0]}<extra></extra>",
         "legendgroup": "Auroch Digital",
         "marker": {
          "color": "#EF553B",
          "symbol": "circle"
         },
         "mode": "markers",
         "name": "Auroch Digital",
         "showlegend": true,
         "type": "scattergl",
         "x": {
          "bdata": "5wfnB+cH5wfnB+cH",
          "dtype": "i2"
         },
         "xaxis": "x",
         "y": [
          "WIN",
          "PS4",
          "PS5",
          "XONE",
          "XSX",
          "NX"
         ],
         "yaxis": "y"
        },
        {
         "customdata": [
          [
           "Warhammer 40,000: Fire Warrior"
          ],
          [
           "Warhammer 40,000: Fire Warrior"
          ]
         ],
         "hovertemplate": "Developer_List=Kuju Entertainment<br>Release_Year=%{x}<br>Platform_List=%{y}<br>Title=%{customdata[0]}<extra></extra>",
         "legendgroup": "Kuju Entertainment",
         "marker": {
          "color": "#00cc96",
          "symbol": "circle"
         },
         "mode": "markers",
         "name": "Kuju Entertainment",
         "showlegend": true,
         "type": "scattergl",
         "x": {
          "bdata": "0wfTBw==",
          "dtype": "i2"
         },
         "xaxis": "x",
         "y": [
          "WIN",
          "PS2"
         ],
         "yaxis": "y"
        },
        {
         "customdata": [
          [
           "Warhammer: End Times – Vermintide"
          ],
          [
           "Warhammer: End Times – Vermintide"
          ],
          [
           "Warhammer: End Times – Vermintide"
          ],
          [
           "Warhammer: Vermintide 2"
          ],
          [
           "Warhammer: Vermintide 2"
          ],
          [
           "Warhammer: Vermintide 2"
          ],
          [
           "Warhammer: Vermintide 2"
          ]
         ],
         "hovertemplate": "Developer_List=Fatshark<br>Release_Year=%{x}<br>Platform_List=%{y}<br>Title=%{customdata[0]}<extra></extra>",
         "legendgroup": "Fatshark",
         "marker": {
          "color": "#ab63fa",
          "symbol": "circle"
         },
         "mode": "markers",
         "name": "Fatshark",
         "showlegend": true,
         "type": "scattergl",
         "x": {
          "bdata": "3wffB98H4gfiB+IH4gc=",
          "dtype": "i2"
         },
         "xaxis": "x",
         "y": [
          "WIN",
          "PS4",
          "XONE",
          "WIN",
          "PS4",
          "XONE",
          "XSX"
         ],
         "yaxis": "y"
        },
        {
         "customdata": [
          [
           "Warsow"
          ],
          [
           "Warsow"
          ],
          [
           "Warsow"
          ]
         ],
         "hovertemplate": "Developer_List=Chasseur de Bots<br>Release_Year=%{x}<br>Platform_List=%{y}<br>Title=%{customdata[0]}<extra></extra>",
         "legendgroup": "Chasseur de Bots",
         "marker": {
          "color": "#FFA15A",
          "symbol": "circle"
         },
         "mode": "markers",
         "name": "Chasseur de Bots",
         "showlegend": true,
         "type": "scattergl",
         "x": {
          "bdata": "1QfVB9UH",
          "dtype": "i2"
         },
         "xaxis": "x",
         "y": [
          "WIN",
          "MAC",
          "LIN"
         ],
         "yaxis": "y"
        },
        {
         "customdata": [
          [
           "Water Warfare"
          ]
         ],
         "hovertemplate": "Developer_List=Hudson Soft<br>Release_Year=%{x}<br>Platform_List=%{y}<br>Title=%{customdata[0]}<extra></extra>",
         "legendgroup": "Hudson Soft",
         "marker": {
          "color": "#19d3f3",
          "symbol": "circle"
         },
         "mode": "markers",
         "name": "Hudson Soft",
         "showlegend": true,
         "type": "scattergl",
         "x": {
          "bdata": "2Qc=",
          "dtype": "i2"
         },
         "xaxis": "x",
         "y": [
          "Wii (WiiWare)"
         ],
         "yaxis": "y"
        },
        {
         "customdata": [
          [
           "Westworld 2000"
          ]
         ],
         "hovertemplate": "Developer_List=Brooklyn Multimedia<br>Release_Year=%{x}<br>Platform_List=%{y}<br>Title=%{customdata[0]}<extra></extra>",
         "legendgroup": "Brooklyn Multimedia",
         "marker": {
          "color": "#FF6692",
          "symbol": "circle"
         },
         "mode": "markers",
         "name": "Brooklyn Multimedia",
         "showlegend": true,
         "type": "scattergl",
         "x": {
          "bdata": "zAc=",
          "dtype": "i2"
         },
         "xaxis": "x",
         "y": [
          "WIN"
         ],
         "yaxis": "y"
        },
        {
         "customdata": [
          [
           "White Law"
          ]
         ],
         "hovertemplate": "Developer_List=Resistance Records<br>Release_Year=%{x}<br>Platform_List=%{y}<br>Title=%{customdata[0]}<extra></extra>",
         "legendgroup": "Resistance Records",
         "marker": {
          "color": "#B6E880",
          "symbol": "circle"
         },
         "mode": "markers",
         "name": "Resistance Records",
         "showlegend": true,
         "type": "scattergl",
         "x": {
          "bdata": "0wc=",
          "dtype": "i2"
         },
         "xaxis": "x",
         "y": [
          "WIN"
         ],
         "yaxis": "y"
        },
        {
         "customdata": [
          [
           "Witchfire"
          ]
         ],
         "hovertemplate": "Developer_List=The Astronauts<br>Release_Year=%{x}<br>Platform_List=%{y}<br>Title=%{customdata[0]}<extra></extra>",
         "legendgroup": "The Astronauts",
         "marker": {
          "color": "#FF97FF",
          "symbol": "circle"
         },
         "mode": "markers",
         "name": "The Astronauts",
         "showlegend": true,
         "type": "scattergl",
         "x": {
          "bdata": "5wc=",
          "dtype": "i2"
         },
         "xaxis": "x",
         "y": [
          "WIN"
         ],
         "yaxis": "y"
        },
        {
         "customdata": [
          [
           "Wolfenstein: The New Order"
          ],
          [
           "Wolfenstein: The New Order"
          ],
          [
           "Wolfenstein: The New Order"
          ],
          [
           "Wolfenstein: The New Order"
          ],
          [
           "Wolfenstein: The New Order"
          ],
          [
           "Wolfenstein: The Old Blood"
          ],
          [
           "Wolfenstein: The Old Blood"
          ],
          [
           "Wolfenstein: The Old Blood"
          ],
          [
           "Wolfenstein II: The New Colossus"
          ],
          [
           "Wolfenstein II: The New Colossus"
          ],
          [
           "Wolfenstein II: The New Colossus"
          ],
          [
           "Wolfenstein II: The New Colossus"
          ],
          [
           "Wolfenstein: Youngblood"
          ],
          [
           "Wolfenstein: Youngblood"
          ],
          [
           "Wolfenstein: Youngblood"
          ],
          [
           "Wolfenstein: Youngblood"
          ]
         ],
         "hovertemplate": "Developer_List=MachineGames<br>Release_Year=%{x}<br>Platform_List=%{y}<br>Title=%{customdata[0]}<extra></extra>",
         "legendgroup": "MachineGames",
         "marker": {
          "color": "#FECB52",
          "symbol": "circle"
         },
         "mode": "markers",
         "name": "MachineGames",
         "showlegend": true,
         "type": "scattergl",
         "x": {
          "bdata": "3gfeB94H3gfeB98H3wffB+EH4QfhB+EH4wfjB+MH4wc=",
          "dtype": "i2"
         },
         "xaxis": "x",
         "y": [
          "WIN",
          "PS3",
          "PS4",
          "X360",
          "XONE",
          "WIN",
          "PS4",
          "XONE",
          "WIN",
          "PS4",
          "XONE",
          "NX",
          "WIN",
          "PS4",
          "XONE",
          "NX"
         ],
         "yaxis": "y"
        },
        {
         "customdata": [
          [
           "Wrack"
          ]
         ],
         "hovertemplate": "Developer_List=Final Boss Entertainment<br>Release_Year=%{x}<br>Platform_List=%{y}<br>Title=%{customdata[0]}<extra></extra>",
         "legendgroup": "Final Boss Entertainment",
         "marker": {
          "color": "#636efa",
          "symbol": "circle"
         },
         "mode": "markers",
         "name": "Final Boss Entertainment",
         "showlegend": true,
         "type": "scattergl",
         "x": {
          "bdata": "3gc=",
          "dtype": "i2"
         },
         "xaxis": "x",
         "y": [
          "WIN"
         ],
         "yaxis": "y"
        },
        {
         "customdata": [
          [
           "Wrath: Aeon of Ruin"
          ],
          [
           "Wrath: Aeon of Ruin"
          ],
          [
           "Wrath: Aeon of Ruin"
          ],
          [
           "Wrath: Aeon of Ruin"
          ],
          [
           "Wrath: Aeon of Ruin"
          ],
          [
           "Wrath: Aeon of Ruin"
          ]
         ],
         "hovertemplate": "Developer_List=KillPixel<br>Release_Year=%{x}<br>Platform_List=%{y}<br>Title=%{customdata[0]}<extra></extra>",
         "legendgroup": "KillPixel",
         "marker": {
          "color": "#EF553B",
          "symbol": "circle"
         },
         "mode": "markers",
         "name": "KillPixel",
         "showlegend": true,
         "type": "scattergl",
         "x": {
          "bdata": "4wfjB+MH4wfjB+MH",
          "dtype": "i2"
         },
         "xaxis": "x",
         "y": [
          "WIN",
          "OSX",
          "LIN",
          "PS4",
          "XONE",
          "NX"
         ],
         "yaxis": "y"
        },
        {
         "customdata": [
          [
           "X-Men: The Ravages of Apocalypse"
          ],
          [
           "X-Men: The Ravages of Apocalypse"
          ],
          [
           "X-Men: The Ravages of Apocalypse"
          ],
          [
           "X-Men: The Ravages of Apocalypse"
          ]
         ],
         "hovertemplate": "Developer_List=Zero Gravity Entertainment<br>Release_Year=%{x}<br>Platform_List=%{y}<br>Title=%{customdata[0]}<extra></extra>",
         "legendgroup": "Zero Gravity Entertainment",
         "marker": {
          "color": "#00cc96",
          "symbol": "circle"
         },
         "mode": "markers",
         "name": "Zero Gravity Entertainment",
         "showlegend": true,
         "type": "scattergl",
         "x": {
          "bdata": "zQfNB80HzQc=",
          "dtype": "i2"
         },
         "xaxis": "x",
         "y": [
          "DOS",
          "LIN",
          "MAC",
          "WIN"
         ],
         "yaxis": "y"
        },
        {
         "customdata": [
          [
           "XDefiant"
          ],
          [
           "XDefiant"
          ],
          [
           "XDefiant"
          ]
         ],
         "hovertemplate": "Developer_List=Ubisoft San Francisco<br>Release_Year=%{x}<br>Platform_List=%{y}<br>Title=%{customdata[0]}<extra></extra>",
         "legendgroup": "Ubisoft San Francisco",
         "marker": {
          "color": "#ab63fa",
          "symbol": "circle"
         },
         "mode": "markers",
         "name": "Ubisoft San Francisco",
         "showlegend": true,
         "type": "scattergl",
         "x": {
          "bdata": "6AfoB+gH",
          "dtype": "i2"
         },
         "xaxis": "x",
         "y": [
          "WIN",
          "PS5",
          "XSX"
         ],
         "yaxis": "y"
        },
        {
         "customdata": [
          [
           "Xenomorph"
          ],
          [
           "Xenomorph"
          ],
          [
           "Xenomorph"
          ],
          [
           "Xenomorph"
          ]
         ],
         "hovertemplate": "Developer_List=Pandora<br>Release_Year=%{x}<br>Platform_List=%{y}<br>Title=%{customdata[0]}<extra></extra>",
         "legendgroup": "Pandora",
         "marker": {
          "color": "#FFA15A",
          "symbol": "circle"
         },
         "mode": "markers",
         "name": "Pandora",
         "showlegend": true,
         "type": "scattergl",
         "x": {
          "bdata": "xgfGB8YHxgc=",
          "dtype": "i2"
         },
         "xaxis": "x",
         "y": [
          "DOS",
          "AMI",
          "ST",
          "C64"
         ],
         "yaxis": "y"
        },
        {
         "customdata": [
          [
           "XIII"
          ],
          [
           "XIII"
          ],
          [
           "XIII"
          ],
          [
           "XIII"
          ],
          [
           "XIII"
          ],
          [
           "XIII"
          ]
         ],
         "hovertemplate": "Developer_List=PlayMagic<br>Release_Year=%{x}<br>Platform_List=%{y}<br>Title=%{customdata[0]}<extra></extra>",
         "legendgroup": "PlayMagic",
         "marker": {
          "color": "#19d3f3",
          "symbol": "circle"
         },
         "mode": "markers",
         "name": "PlayMagic",
         "showlegend": true,
         "type": "scattergl",
         "x": {
          "bdata": "5AfkB+QH5AfkB+QH",
          "dtype": "i2"
         },
         "xaxis": "x",
         "y": [
          "WIN",
          "PS4",
          "XONE",
          "PS5",
          "XSX",
          "NX"
         ],
         "yaxis": "y"
        },
        {
         "customdata": [
          [
           "Xonotic"
          ],
          [
           "Xonotic"
          ],
          [
           "Xonotic"
          ]
         ],
         "hovertemplate": "Developer_List=Team Xonotic<br>Release_Year=%{x}<br>Platform_List=%{y}<br>Title=%{customdata[0]}<extra></extra>",
         "legendgroup": "Team Xonotic",
         "marker": {
          "color": "#FF6692",
          "symbol": "circle"
         },
         "mode": "markers",
         "name": "Team Xonotic",
         "showlegend": true,
         "type": "scattergl",
         "x": {
          "bdata": "2gfaB9oH",
          "dtype": "i2"
         },
         "xaxis": "x",
         "y": [
          "LIN",
          "OSX",
          "WIN"
         ],
         "yaxis": "y"
        },
        {
         "customdata": [
          [
           "Xotic"
          ],
          [
           "Xotic"
          ]
         ],
         "hovertemplate": "Developer_List=WXP Games<br>Release_Year=%{x}<br>Platform_List=%{y}<br>Title=%{customdata[0]}<extra></extra>",
         "legendgroup": "WXP Games",
         "marker": {
          "color": "#B6E880",
          "symbol": "circle"
         },
         "mode": "markers",
         "name": "WXP Games",
         "showlegend": true,
         "type": "scattergl",
         "x": {
          "bdata": "4AfgBw==",
          "dtype": "i2"
         },
         "xaxis": "x",
         "y": [
          "WIN",
          "X360"
         ],
         "yaxis": "y"
        },
        {
         "customdata": [
          [
           "Xotic"
          ],
          [
           "Xotic"
          ]
         ],
         "hovertemplate": "Developer_List=LLC.<br>Release_Year=%{x}<br>Platform_List=%{y}<br>Title=%{customdata[0]}<extra></extra>",
         "legendgroup": "LLC.",
         "marker": {
          "color": "#FF97FF",
          "symbol": "circle"
         },
         "mode": "markers",
         "name": "LLC.",
         "showlegend": true,
         "type": "scattergl",
         "x": {
          "bdata": "4AfgBw==",
          "dtype": "i2"
         },
         "xaxis": "x",
         "y": [
          "WIN",
          "X360"
         ],
         "yaxis": "y"
        },
        {
         "customdata": [
          [
           "XS"
          ],
          [
           "XS"
          ]
         ],
         "hovertemplate": "Developer_List=SCi Games<br>Release_Year=%{x}<br>Platform_List=%{y}<br>Title=%{customdata[0]}<extra></extra>",
         "legendgroup": "SCi Games",
         "marker": {
          "color": "#FECB52",
          "symbol": "circle"
         },
         "mode": "markers",
         "name": "SCi Games",
         "showlegend": true,
         "type": "scattergl",
         "x": {
          "bdata": "zAfMBw==",
          "dtype": "i2"
         },
         "xaxis": "x",
         "y": [
          "DOS",
          "WIN9X"
         ],
         "yaxis": "y"
        },
        {
         "customdata": [
          [
           "You Are Empty"
          ]
         ],
         "hovertemplate": "Developer_List=Mandel ArtPlains Digital Spray Studios<br>Release_Year=%{x}<br>Platform_List=%{y}<br>Title=%{customdata[0]}<extra></extra>",
         "legendgroup": "Mandel ArtPlains Digital Spray Studios",
         "marker": {
          "color": "#636efa",
          "symbol": "circle"
         },
         "mode": "markers",
         "name": "Mandel ArtPlains Digital Spray Studios",
         "showlegend": true,
         "type": "scattergl",
         "x": {
          "bdata": "1gc=",
          "dtype": "i2"
         },
         "xaxis": "x",
         "y": [
          "WIN"
         ],
         "yaxis": "y"
        },
        {
         "customdata": [
          [
           "Zaero"
          ]
         ],
         "hovertemplate": "Developer_List=Team Evolve<br>Release_Year=%{x}<br>Platform_List=%{y}<br>Title=%{customdata[0]}<extra></extra>",
         "legendgroup": "Team Evolve",
         "marker": {
          "color": "#EF553B",
          "symbol": "circle"
         },
         "mode": "markers",
         "name": "Team Evolve",
         "showlegend": true,
         "type": "scattergl",
         "x": {
          "bdata": "zgc=",
          "dtype": "i2"
         },
         "xaxis": "x",
         "y": [
          "WIN"
         ],
         "yaxis": "y"
        },
        {
         "customdata": [
          [
           "Zeno Clash"
          ],
          [
           "Zeno Clash"
          ],
          [
           "Zeno Clash II"
          ],
          [
           "Zeno Clash II"
          ],
          [
           "Zeno Clash II"
          ]
         ],
         "hovertemplate": "Developer_List=ACE Team<br>Release_Year=%{x}<br>Platform_List=%{y}<br>Title=%{customdata[0]}<extra></extra>",
         "legendgroup": "ACE Team",
         "marker": {
          "color": "#00cc96",
          "symbol": "circle"
         },
         "mode": "markers",
         "name": "ACE Team",
         "showlegend": true,
         "type": "scattergl",
         "x": {
          "bdata": "2QfZB90H3QfdBw==",
          "dtype": "i2"
         },
         "xaxis": "x",
         "y": [
          "WIN",
          "X360 (XBLA)",
          "WIN",
          "PS3 (PSN)",
          "X360 (XBLA)"
         ],
         "yaxis": "y"
        },
        {
         "customdata": [
          [
           "Zero Tolerance"
          ]
         ],
         "hovertemplate": "Developer_List=Technopop<br>Release_Year=%{x}<br>Platform_List=%{y}<br>Title=%{customdata[0]}<extra></extra>",
         "legendgroup": "Technopop",
         "marker": {
          "color": "#ab63fa",
          "symbol": "circle"
         },
         "mode": "markers",
         "name": "Technopop",
         "showlegend": true,
         "type": "scattergl",
         "x": {
          "bdata": "ygc=",
          "dtype": "i2"
         },
         "xaxis": "x",
         "y": [
          "GEN"
         ],
         "yaxis": "y"
        },
        {
         "customdata": [
          [
           "Ziggurat"
          ],
          [
           "Ziggurat"
          ],
          [
           "Ziggurat"
          ],
          [
           "Ziggurat"
          ],
          [
           "Ziggurat"
          ],
          [
           "Ziggurat"
          ],
          [
           "Ziggurat"
          ]
         ],
         "hovertemplate": "Developer_List=Milkstone Studios<br>Release_Year=%{x}<br>Platform_List=%{y}<br>Title=%{customdata[0]}<extra></extra>",
         "legendgroup": "Milkstone Studios",
         "marker": {
          "color": "#FFA15A",
          "symbol": "circle"
         },
         "mode": "markers",
         "name": "Milkstone Studios",
         "showlegend": true,
         "type": "scattergl",
         "x": {
          "bdata": "3gfeB94H3gfeB94H3gc=",
          "dtype": "i2"
         },
         "xaxis": "x",
         "y": [
          "WIN",
          "OSX",
          "LIN",
          "XONE",
          "PS4",
          "WiiU",
          "NX"
         ],
         "yaxis": "y"
        }
       ],
       "layout": {
        "height": 600,
        "legend": {
         "title": {
          "text": "Developer_List"
         },
         "tracegroupgap": 0
        },
        "template": {
         "data": {
          "bar": [
           {
            "error_x": {
             "color": "#2a3f5f"
            },
            "error_y": {
             "color": "#2a3f5f"
            },
            "marker": {
             "line": {
              "color": "#E5ECF6",
              "width": 0.5
             },
             "pattern": {
              "fillmode": "overlay",
              "size": 10,
              "solidity": 0.2
             }
            },
            "type": "bar"
           }
          ],
          "barpolar": [
           {
            "marker": {
             "line": {
              "color": "#E5ECF6",
              "width": 0.5
             },
             "pattern": {
              "fillmode": "overlay",
              "size": 10,
              "solidity": 0.2
             }
            },
            "type": "barpolar"
           }
          ],
          "carpet": [
           {
            "aaxis": {
             "endlinecolor": "#2a3f5f",
             "gridcolor": "white",
             "linecolor": "white",
             "minorgridcolor": "white",
             "startlinecolor": "#2a3f5f"
            },
            "baxis": {
             "endlinecolor": "#2a3f5f",
             "gridcolor": "white",
             "linecolor": "white",
             "minorgridcolor": "white",
             "startlinecolor": "#2a3f5f"
            },
            "type": "carpet"
           }
          ],
          "choropleth": [
           {
            "colorbar": {
             "outlinewidth": 0,
             "ticks": ""
            },
            "type": "choropleth"
           }
          ],
          "contour": [
           {
            "colorbar": {
             "outlinewidth": 0,
             "ticks": ""
            },
            "colorscale": [
             [
              0,
              "#0d0887"
             ],
             [
              0.1111111111111111,
              "#46039f"
             ],
             [
              0.2222222222222222,
              "#7201a8"
             ],
             [
              0.3333333333333333,
              "#9c179e"
             ],
             [
              0.4444444444444444,
              "#bd3786"
             ],
             [
              0.5555555555555556,
              "#d8576b"
             ],
             [
              0.6666666666666666,
              "#ed7953"
             ],
             [
              0.7777777777777778,
              "#fb9f3a"
             ],
             [
              0.8888888888888888,
              "#fdca26"
             ],
             [
              1,
              "#f0f921"
             ]
            ],
            "type": "contour"
           }
          ],
          "contourcarpet": [
           {
            "colorbar": {
             "outlinewidth": 0,
             "ticks": ""
            },
            "type": "contourcarpet"
           }
          ],
          "heatmap": [
           {
            "colorbar": {
             "outlinewidth": 0,
             "ticks": ""
            },
            "colorscale": [
             [
              0,
              "#0d0887"
             ],
             [
              0.1111111111111111,
              "#46039f"
             ],
             [
              0.2222222222222222,
              "#7201a8"
             ],
             [
              0.3333333333333333,
              "#9c179e"
             ],
             [
              0.4444444444444444,
              "#bd3786"
             ],
             [
              0.5555555555555556,
              "#d8576b"
             ],
             [
              0.6666666666666666,
              "#ed7953"
             ],
             [
              0.7777777777777778,
              "#fb9f3a"
             ],
             [
              0.8888888888888888,
              "#fdca26"
             ],
             [
              1,
              "#f0f921"
             ]
            ],
            "type": "heatmap"
           }
          ],
          "histogram": [
           {
            "marker": {
             "pattern": {
              "fillmode": "overlay",
              "size": 10,
              "solidity": 0.2
             }
            },
            "type": "histogram"
           }
          ],
          "histogram2d": [
           {
            "colorbar": {
             "outlinewidth": 0,
             "ticks": ""
            },
            "colorscale": [
             [
              0,
              "#0d0887"
             ],
             [
              0.1111111111111111,
              "#46039f"
             ],
             [
              0.2222222222222222,
              "#7201a8"
             ],
             [
              0.3333333333333333,
              "#9c179e"
             ],
             [
              0.4444444444444444,
              "#bd3786"
             ],
             [
              0.5555555555555556,
              "#d8576b"
             ],
             [
              0.6666666666666666,
              "#ed7953"
             ],
             [
              0.7777777777777778,
              "#fb9f3a"
             ],
             [
              0.8888888888888888,
              "#fdca26"
             ],
             [
              1,
              "#f0f921"
             ]
            ],
            "type": "histogram2d"
           }
          ],
          "histogram2dcontour": [
           {
            "colorbar": {
             "outlinewidth": 0,
             "ticks": ""
            },
            "colorscale": [
             [
              0,
              "#0d0887"
             ],
             [
              0.1111111111111111,
              "#46039f"
             ],
             [
              0.2222222222222222,
              "#7201a8"
             ],
             [
              0.3333333333333333,
              "#9c179e"
             ],
             [
              0.4444444444444444,
              "#bd3786"
             ],
             [
              0.5555555555555556,
              "#d8576b"
             ],
             [
              0.6666666666666666,
              "#ed7953"
             ],
             [
              0.7777777777777778,
              "#fb9f3a"
             ],
             [
              0.8888888888888888,
              "#fdca26"
             ],
             [
              1,
              "#f0f921"
             ]
            ],
            "type": "histogram2dcontour"
           }
          ],
          "mesh3d": [
           {
            "colorbar": {
             "outlinewidth": 0,
             "ticks": ""
            },
            "type": "mesh3d"
           }
          ],
          "parcoords": [
           {
            "line": {
             "colorbar": {
              "outlinewidth": 0,
              "ticks": ""
             }
            },
            "type": "parcoords"
           }
          ],
          "pie": [
           {
            "automargin": true,
            "type": "pie"
           }
          ],
          "scatter": [
           {
            "fillpattern": {
             "fillmode": "overlay",
             "size": 10,
             "solidity": 0.2
            },
            "type": "scatter"
           }
          ],
          "scatter3d": [
           {
            "line": {
             "colorbar": {
              "outlinewidth": 0,
              "ticks": ""
             }
            },
            "marker": {
             "colorbar": {
              "outlinewidth": 0,
              "ticks": ""
             }
            },
            "type": "scatter3d"
           }
          ],
          "scattercarpet": [
           {
            "marker": {
             "colorbar": {
              "outlinewidth": 0,
              "ticks": ""
             }
            },
            "type": "scattercarpet"
           }
          ],
          "scattergeo": [
           {
            "marker": {
             "colorbar": {
              "outlinewidth": 0,
              "ticks": ""
             }
            },
            "type": "scattergeo"
           }
          ],
          "scattergl": [
           {
            "marker": {
             "colorbar": {
              "outlinewidth": 0,
              "ticks": ""
             }
            },
            "type": "scattergl"
           }
          ],
          "scattermap": [
           {
            "marker": {
             "colorbar": {
              "outlinewidth": 0,
              "ticks": ""
             }
            },
            "type": "scattermap"
           }
          ],
          "scattermapbox": [
           {
            "marker": {
             "colorbar": {
              "outlinewidth": 0,
              "ticks": ""
             }
            },
            "type": "scattermapbox"
           }
          ],
          "scatterpolar": [
           {
            "marker": {
             "colorbar": {
              "outlinewidth": 0,
              "ticks": ""
             }
            },
            "type": "scatterpolar"
           }
          ],
          "scatterpolargl": [
           {
            "marker": {
             "colorbar": {
              "outlinewidth": 0,
              "ticks": ""
             }
            },
            "type": "scatterpolargl"
           }
          ],
          "scatterternary": [
           {
            "marker": {
             "colorbar": {
              "outlinewidth": 0,
              "ticks": ""
             }
            },
            "type": "scatterternary"
           }
          ],
          "surface": [
           {
            "colorbar": {
             "outlinewidth": 0,
             "ticks": ""
            },
            "colorscale": [
             [
              0,
              "#0d0887"
             ],
             [
              0.1111111111111111,
              "#46039f"
             ],
             [
              0.2222222222222222,
              "#7201a8"
             ],
             [
              0.3333333333333333,
              "#9c179e"
             ],
             [
              0.4444444444444444,
              "#bd3786"
             ],
             [
              0.5555555555555556,
              "#d8576b"
             ],
             [
              0.6666666666666666,
              "#ed7953"
             ],
             [
              0.7777777777777778,
              "#fb9f3a"
             ],
             [
              0.8888888888888888,
              "#fdca26"
             ],
             [
              1,
              "#f0f921"
             ]
            ],
            "type": "surface"
           }
          ],
          "table": [
           {
            "cells": {
             "fill": {
              "color": "#EBF0F8"
             },
             "line": {
              "color": "white"
             }
            },
            "header": {
             "fill": {
              "color": "#C8D4E3"
             },
             "line": {
              "color": "white"
             }
            },
            "type": "table"
           }
          ]
         },
         "layout": {
          "annotationdefaults": {
           "arrowcolor": "#2a3f5f",
           "arrowhead": 0,
           "arrowwidth": 1
          },
          "autotypenumbers": "strict",
          "coloraxis": {
           "colorbar": {
            "outlinewidth": 0,
            "ticks": ""
           }
          },
          "colorscale": {
           "diverging": [
            [
             0,
             "#8e0152"
            ],
            [
             0.1,
             "#c51b7d"
            ],
            [
             0.2,
             "#de77ae"
            ],
            [
             0.3,
             "#f1b6da"
            ],
            [
             0.4,
             "#fde0ef"
            ],
            [
             0.5,
             "#f7f7f7"
            ],
            [
             0.6,
             "#e6f5d0"
            ],
            [
             0.7,
             "#b8e186"
            ],
            [
             0.8,
             "#7fbc41"
            ],
            [
             0.9,
             "#4d9221"
            ],
            [
             1,
             "#276419"
            ]
           ],
           "sequential": [
            [
             0,
             "#0d0887"
            ],
            [
             0.1111111111111111,
             "#46039f"
            ],
            [
             0.2222222222222222,
             "#7201a8"
            ],
            [
             0.3333333333333333,
             "#9c179e"
            ],
            [
             0.4444444444444444,
             "#bd3786"
            ],
            [
             0.5555555555555556,
             "#d8576b"
            ],
            [
             0.6666666666666666,
             "#ed7953"
            ],
            [
             0.7777777777777778,
             "#fb9f3a"
            ],
            [
             0.8888888888888888,
             "#fdca26"
            ],
            [
             1,
             "#f0f921"
            ]
           ],
           "sequentialminus": [
            [
             0,
             "#0d0887"
            ],
            [
             0.1111111111111111,
             "#46039f"
            ],
            [
             0.2222222222222222,
             "#7201a8"
            ],
            [
             0.3333333333333333,
             "#9c179e"
            ],
            [
             0.4444444444444444,
             "#bd3786"
            ],
            [
             0.5555555555555556,
             "#d8576b"
            ],
            [
             0.6666666666666666,
             "#ed7953"
            ],
            [
             0.7777777777777778,
             "#fb9f3a"
            ],
            [
             0.8888888888888888,
             "#fdca26"
            ],
            [
             1,
             "#f0f921"
            ]
           ]
          },
          "colorway": [
           "#636efa",
           "#EF553B",
           "#00cc96",
           "#ab63fa",
           "#FFA15A",
           "#19d3f3",
           "#FF6692",
           "#B6E880",
           "#FF97FF",
           "#FECB52"
          ],
          "font": {
           "color": "#2a3f5f"
          },
          "geo": {
           "bgcolor": "white",
           "lakecolor": "white",
           "landcolor": "#E5ECF6",
           "showlakes": true,
           "showland": true,
           "subunitcolor": "white"
          },
          "hoverlabel": {
           "align": "left"
          },
          "hovermode": "closest",
          "mapbox": {
           "style": "light"
          },
          "paper_bgcolor": "white",
          "plot_bgcolor": "#E5ECF6",
          "polar": {
           "angularaxis": {
            "gridcolor": "white",
            "linecolor": "white",
            "ticks": ""
           },
           "bgcolor": "#E5ECF6",
           "radialaxis": {
            "gridcolor": "white",
            "linecolor": "white",
            "ticks": ""
           }
          },
          "scene": {
           "xaxis": {
            "backgroundcolor": "#E5ECF6",
            "gridcolor": "white",
            "gridwidth": 2,
            "linecolor": "white",
            "showbackground": true,
            "ticks": "",
            "zerolinecolor": "white"
           },
           "yaxis": {
            "backgroundcolor": "#E5ECF6",
            "gridcolor": "white",
            "gridwidth": 2,
            "linecolor": "white",
            "showbackground": true,
            "ticks": "",
            "zerolinecolor": "white"
           },
           "zaxis": {
            "backgroundcolor": "#E5ECF6",
            "gridcolor": "white",
            "gridwidth": 2,
            "linecolor": "white",
            "showbackground": true,
            "ticks": "",
            "zerolinecolor": "white"
           }
          },
          "shapedefaults": {
           "line": {
            "color": "#2a3f5f"
           }
          },
          "ternary": {
           "aaxis": {
            "gridcolor": "white",
            "linecolor": "white",
            "ticks": ""
           },
           "baxis": {
            "gridcolor": "white",
            "linecolor": "white",
            "ticks": ""
           },
           "bgcolor": "#E5ECF6",
           "caxis": {
            "gridcolor": "white",
            "linecolor": "white",
            "ticks": ""
           }
          },
          "title": {
           "x": 0.05
          },
          "xaxis": {
           "automargin": true,
           "gridcolor": "white",
           "linecolor": "white",
           "ticks": "",
           "title": {
            "standoff": 15
           },
           "zerolinecolor": "white",
           "zerolinewidth": 2
          },
          "yaxis": {
           "automargin": true,
           "gridcolor": "white",
           "linecolor": "white",
           "ticks": "",
           "title": {
            "standoff": 15
           },
           "zerolinecolor": "white",
           "zerolinewidth": 2
          }
         }
        },
        "title": {
         "text": "Platform Timeline Colored by Developer"
        },
        "xaxis": {
         "anchor": "y",
         "domain": [
          0,
          1
         ],
         "title": {
          "text": "Release_Year"
         }
        },
        "yaxis": {
         "anchor": "x",
         "domain": [
          0,
          1
         ],
         "title": {
          "text": "Platform_List"
         }
        }
       }
      }
     },
     "metadata": {},
     "output_type": "display_data"
    }
   ],
   "source": [
    "import plotly.express as px\n",
    "\n",
    "fig = px.scatter(df_ex, x='Release_Year', y='Platform_List', color='Developer_List',\n",
    "                 hover_data=['Title'], title='Platform Timeline Colored by Developer')\n",
    "fig.update_layout(height=600)\n",
    "fig.show()\n"
   ]
  },
  {
   "cell_type": "code",
   "execution_count": 394,
   "id": "a9151d9e",
   "metadata": {},
   "outputs": [
    {
     "data": {
      "image/png": "[encoded data removed]",
      "text/plain": [
       "<Figure size 1500x800 with 1 Axes>"
      ]
     },
     "metadata": {},
     "output_type": "display_data"
    }
   ],
   "source": [
    "top_devs = df_ex['Developer_List'].value_counts().head(5).index\n",
    "subset = df_ex[df_ex['Developer_List'].isin(top_devs)]\n",
    "\n",
    "plt.figure(figsize=(15,8))\n",
    "sns.countplot(data=subset, x='Platform_List', hue='Developer_List', palette='Set2')\n",
    "plt.title('Top Developers Across Platforms')\n",
    "plt.xlabel('Platform')\n",
    "plt.ylabel('Game Count')\n",
    "plt.xticks(rotation=90)\n",
    "plt.legend(title='Developer')\n",
    "plt.tight_layout()\n",
    "plt.show()"
   ]
  },
  {
   "cell_type": "code",
   "execution_count": 395,
   "id": "a0f201e3",
   "metadata": {},
   "outputs": [
    {
     "data": {
      "application/vnd.plotly.v1+json": {
       "config": {
        "plotlyServerURL": "https://plot.ly"
       },
       "data": [
        {
         "hovertemplate": "Platform=%{x}<br>Count=%{text}<extra></extra>",
         "legendgroup": "WIN",
         "marker": {
          "color": "#636efa",
          "pattern": {
           "shape": ""
          }
         },
         "name": "WIN",
         "orientation": "v",
         "showlegend": true,
         "text": {
          "bdata": "AAAAAACYhEA=",
          "dtype": "f8"
         },
         "textposition": "outside",
         "type": "bar",
         "x": [
          "WIN"
         ],
         "xaxis": "x",
         "y": {
          "bdata": "kwI=",
          "dtype": "i2"
         },
         "yaxis": "y"
        },
        {
         "hovertemplate": "Platform=%{x}<br>Count=%{text}<extra></extra>",
         "legendgroup": "XONE",
         "marker": {
          "color": "#EF553B",
          "pattern": {
           "shape": ""
          }
         },
         "name": "XONE",
         "orientation": "v",
         "showlegend": true,
         "text": {
          "bdata": "AAAAAADAZEA=",
          "dtype": "f8"
         },
         "textposition": "outside",
         "type": "bar",
         "x": [
          "XONE"
         ],
         "xaxis": "x",
         "y": {
          "bdata": "pgA=",
          "dtype": "i2"
         },
         "yaxis": "y"
        },
        {
         "hovertemplate": "Platform=%{x}<br>Count=%{text}<extra></extra>",
         "legendgroup": "PS4",
         "marker": {
          "color": "#00cc96",
          "pattern": {
           "shape": ""
          }
         },
         "name": "PS4",
         "orientation": "v",
         "showlegend": true,
         "text": {
          "bdata": "AAAAAABgZEA=",
          "dtype": "f8"
         },
         "textposition": "outside",
         "type": "bar",
         "x": [
          "PS4"
         ],
         "xaxis": "x",
         "y": {
          "bdata": "owA=",
          "dtype": "i2"
         },
         "yaxis": "y"
        },
        {
         "hovertemplate": "Platform=%{x}<br>Count=%{text}<extra></extra>",
         "legendgroup": "X360",
         "marker": {
          "color": "#ab63fa",
          "pattern": {
           "shape": ""
          }
         },
         "name": "X360",
         "orientation": "v",
         "showlegend": true,
         "text": {
          "bdata": "AAAAAADAYUA=",
          "dtype": "f8"
         },
         "textposition": "outside",
         "type": "bar",
         "x": [
          "X360"
         ],
         "xaxis": "x",
         "y": {
          "bdata": "jgA=",
          "dtype": "i2"
         },
         "yaxis": "y"
        },
        {
         "hovertemplate": "Platform=%{x}<br>Count=%{text}<extra></extra>",
         "legendgroup": "OSX",
         "marker": {
          "color": "#FFA15A",
          "pattern": {
           "shape": ""
          }
         },
         "name": "OSX",
         "orientation": "v",
         "showlegend": true,
         "text": {
          "bdata": "AAAAAADAX0A=",
          "dtype": "f8"
         },
         "textposition": "outside",
         "type": "bar",
         "x": [
          "OSX"
         ],
         "xaxis": "x",
         "y": {
          "bdata": "fw==",
          "dtype": "i1"
         },
         "yaxis": "y"
        },
        {
         "hovertemplate": "Platform=%{x}<br>Count=%{text}<extra></extra>",
         "legendgroup": "PS3",
         "marker": {
          "color": "#19d3f3",
          "pattern": {
           "shape": ""
          }
         },
         "name": "PS3",
         "orientation": "v",
         "showlegend": true,
         "text": {
          "bdata": "AAAAAABAXUA=",
          "dtype": "f8"
         },
         "textposition": "outside",
         "type": "bar",
         "x": [
          "PS3"
         ],
         "xaxis": "x",
         "y": {
          "bdata": "dQ==",
          "dtype": "i1"
         },
         "yaxis": "y"
        },
        {
         "hovertemplate": "Platform=%{x}<br>Count=%{text}<extra></extra>",
         "legendgroup": "LIN",
         "marker": {
          "color": "#FF6692",
          "pattern": {
           "shape": ""
          }
         },
         "name": "LIN",
         "orientation": "v",
         "showlegend": true,
         "text": {
          "bdata": "AAAAAADAW0A=",
          "dtype": "f8"
         },
         "textposition": "outside",
         "type": "bar",
         "x": [
          "LIN"
         ],
         "xaxis": "x",
         "y": {
          "bdata": "bw==",
          "dtype": "i1"
         },
         "yaxis": "y"
        },
        {
         "hovertemplate": "Platform=%{x}<br>Count=%{text}<extra></extra>",
         "legendgroup": "DOS",
         "marker": {
          "color": "#B6E880",
          "pattern": {
           "shape": ""
          }
         },
         "name": "DOS",
         "orientation": "v",
         "showlegend": true,
         "text": {
          "bdata": "AAAAAACAWkA=",
          "dtype": "f8"
         },
         "textposition": "outside",
         "type": "bar",
         "x": [
          "DOS"
         ],
         "xaxis": "x",
         "y": {
          "bdata": "ag==",
          "dtype": "i1"
         },
         "yaxis": "y"
        },
        {
         "hovertemplate": "Platform=%{x}<br>Count=%{text}<extra></extra>",
         "legendgroup": "Xbox",
         "marker": {
          "color": "#FF97FF",
          "pattern": {
           "shape": ""
          }
         },
         "name": "Xbox",
         "orientation": "v",
         "showlegend": true,
         "text": {
          "bdata": "AAAAAAAAVkA=",
          "dtype": "f8"
         },
         "textposition": "outside",
         "type": "bar",
         "x": [
          "Xbox"
         ],
         "xaxis": "x",
         "y": {
          "bdata": "WA==",
          "dtype": "i1"
         },
         "yaxis": "y"
        },
        {
         "hovertemplate": "Platform=%{x}<br>Count=%{text}<extra></extra>",
         "legendgroup": "XSX",
         "marker": {
          "color": "#FECB52",
          "pattern": {
           "shape": ""
          }
         },
         "name": "XSX",
         "orientation": "v",
         "showlegend": true,
         "text": {
          "bdata": "AAAAAACAVUA=",
          "dtype": "f8"
         },
         "textposition": "outside",
         "type": "bar",
         "x": [
          "XSX"
         ],
         "xaxis": "x",
         "y": {
          "bdata": "Vg==",
          "dtype": "i1"
         },
         "yaxis": "y"
        },
        {
         "hovertemplate": "Platform=%{x}<br>Count=%{text}<extra></extra>",
         "legendgroup": "NX",
         "marker": {
          "color": "#636efa",
          "pattern": {
           "shape": ""
          }
         },
         "name": "NX",
         "orientation": "v",
         "showlegend": true,
         "text": {
          "bdata": "AAAAAACAU0A=",
          "dtype": "f8"
         },
         "textposition": "outside",
         "type": "bar",
         "x": [
          "NX"
         ],
         "xaxis": "x",
         "y": {
          "bdata": "Tg==",
          "dtype": "i1"
         },
         "yaxis": "y"
        },
        {
         "hovertemplate": "Platform=%{x}<br>Count=%{text}<extra></extra>",
         "legendgroup": "PS2",
         "marker": {
          "color": "#EF553B",
          "pattern": {
           "shape": ""
          }
         },
         "name": "PS2",
         "orientation": "v",
         "showlegend": true,
         "text": {
          "bdata": "AAAAAADAUkA=",
          "dtype": "f8"
         },
         "textposition": "outside",
         "type": "bar",
         "x": [
          "PS2"
         ],
         "xaxis": "x",
         "y": {
          "bdata": "Sw==",
          "dtype": "i1"
         },
         "yaxis": "y"
        },
        {
         "hovertemplate": "Platform=%{x}<br>Count=%{text}<extra></extra>",
         "legendgroup": "PS5",
         "marker": {
          "color": "#00cc96",
          "pattern": {
           "shape": ""
          }
         },
         "name": "PS5",
         "orientation": "v",
         "showlegend": true,
         "text": {
          "bdata": "AAAAAAAAUkA=",
          "dtype": "f8"
         },
         "textposition": "outside",
         "type": "bar",
         "x": [
          "PS5"
         ],
         "xaxis": "x",
         "y": {
          "bdata": "SA==",
          "dtype": "i1"
         },
         "yaxis": "y"
        },
        {
         "hovertemplate": "Platform=%{x}<br>Count=%{text}<extra></extra>",
         "legendgroup": "MAC",
         "marker": {
          "color": "#ab63fa",
          "pattern": {
           "shape": ""
          }
         },
         "name": "MAC",
         "orientation": "v",
         "showlegend": true,
         "text": {
          "bdata": "AAAAAACAR0A=",
          "dtype": "f8"
         },
         "textposition": "outside",
         "type": "bar",
         "x": [
          "MAC"
         ],
         "xaxis": "x",
         "y": {
          "bdata": "Lw==",
          "dtype": "i1"
         },
         "yaxis": "y"
        },
        {
         "hovertemplate": "Platform=%{x}<br>Count=%{text}<extra></extra>",
         "legendgroup": "PS1",
         "marker": {
          "color": "#FFA15A",
          "pattern": {
           "shape": ""
          }
         },
         "name": "PS1",
         "orientation": "v",
         "showlegend": true,
         "text": {
          "bdata": "AAAAAACAQUA=",
          "dtype": "f8"
         },
         "textposition": "outside",
         "type": "bar",
         "x": [
          "PS1"
         ],
         "xaxis": "x",
         "y": {
          "bdata": "Iw==",
          "dtype": "i1"
         },
         "yaxis": "y"
        }
       ],
       "layout": {
        "barmode": "relative",
        "legend": {
         "title": {
          "text": "Platform"
         },
         "tracegroupgap": 0
        },
        "template": {
         "data": {
          "bar": [
           {
            "error_x": {
             "color": "#2a3f5f"
            },
            "error_y": {
             "color": "#2a3f5f"
            },
            "marker": {
             "line": {
              "color": "#E5ECF6",
              "width": 0.5
             },
             "pattern": {
              "fillmode": "overlay",
              "size": 10,
              "solidity": 0.2
             }
            },
            "type": "bar"
           }
          ],
          "barpolar": [
           {
            "marker": {
             "line": {
              "color": "#E5ECF6",
              "width": 0.5
             },
             "pattern": {
              "fillmode": "overlay",
              "size": 10,
              "solidity": 0.2
             }
            },
            "type": "barpolar"
           }
          ],
          "carpet": [
           {
            "aaxis": {
             "endlinecolor": "#2a3f5f",
             "gridcolor": "white",
             "linecolor": "white",
             "minorgridcolor": "white",
             "startlinecolor": "#2a3f5f"
            },
            "baxis": {
             "endlinecolor": "#2a3f5f",
             "gridcolor": "white",
             "linecolor": "white",
             "minorgridcolor": "white",
             "startlinecolor": "#2a3f5f"
            },
            "type": "carpet"
           }
          ],
          "choropleth": [
           {
            "colorbar": {
             "outlinewidth": 0,
             "ticks": ""
            },
            "type": "choropleth"
           }
          ],
          "contour": [
           {
            "colorbar": {
             "outlinewidth": 0,
             "ticks": ""
            },
            "colorscale": [
             [
              0,
              "#0d0887"
             ],
             [
              0.1111111111111111,
              "#46039f"
             ],
             [
              0.2222222222222222,
              "#7201a8"
             ],
             [
              0.3333333333333333,
              "#9c179e"
             ],
             [
              0.4444444444444444,
              "#bd3786"
             ],
             [
              0.5555555555555556,
              "#d8576b"
             ],
             [
              0.6666666666666666,
              "#ed7953"
             ],
             [
              0.7777777777777778,
              "#fb9f3a"
             ],
             [
              0.8888888888888888,
              "#fdca26"
             ],
             [
              1,
              "#f0f921"
             ]
            ],
            "type": "contour"
           }
          ],
          "contourcarpet": [
           {
            "colorbar": {
             "outlinewidth": 0,
             "ticks": ""
            },
            "type": "contourcarpet"
           }
          ],
          "heatmap": [
           {
            "colorbar": {
             "outlinewidth": 0,
             "ticks": ""
            },
            "colorscale": [
             [
              0,
              "#0d0887"
             ],
             [
              0.1111111111111111,
              "#46039f"
             ],
             [
              0.2222222222222222,
              "#7201a8"
             ],
             [
              0.3333333333333333,
              "#9c179e"
             ],
             [
              0.4444444444444444,
              "#bd3786"
             ],
             [
              0.5555555555555556,
              "#d8576b"
             ],
             [
              0.6666666666666666,
              "#ed7953"
             ],
             [
              0.7777777777777778,
              "#fb9f3a"
             ],
             [
              0.8888888888888888,
              "#fdca26"
             ],
             [
              1,
              "#f0f921"
             ]
            ],
            "type": "heatmap"
           }
          ],
          "histogram": [
           {
            "marker": {
             "pattern": {
              "fillmode": "overlay",
              "size": 10,
              "solidity": 0.2
             }
            },
            "type": "histogram"
           }
          ],
          "histogram2d": [
           {
            "colorbar": {
             "outlinewidth": 0,
             "ticks": ""
            },
            "colorscale": [
             [
              0,
              "#0d0887"
             ],
             [
              0.1111111111111111,
              "#46039f"
             ],
             [
              0.2222222222222222,
              "#7201a8"
             ],
             [
              0.3333333333333333,
              "#9c179e"
             ],
             [
              0.4444444444444444,
              "#bd3786"
             ],
             [
              0.5555555555555556,
              "#d8576b"
             ],
             [
              0.6666666666666666,
              "#ed7953"
             ],
             [
              0.7777777777777778,
              "#fb9f3a"
             ],
             [
              0.8888888888888888,
              "#fdca26"
             ],
             [
              1,
              "#f0f921"
             ]
            ],
            "type": "histogram2d"
           }
          ],
          "histogram2dcontour": [
           {
            "colorbar": {
             "outlinewidth": 0,
             "ticks": ""
            },
            "colorscale": [
             [
              0,
              "#0d0887"
             ],
             [
              0.1111111111111111,
              "#46039f"
             ],
             [
              0.2222222222222222,
              "#7201a8"
             ],
             [
              0.3333333333333333,
              "#9c179e"
             ],
             [
              0.4444444444444444,
              "#bd3786"
             ],
             [
              0.5555555555555556,
              "#d8576b"
             ],
             [
              0.6666666666666666,
              "#ed7953"
             ],
             [
              0.7777777777777778,
              "#fb9f3a"
             ],
             [
              0.8888888888888888,
              "#fdca26"
             ],
             [
              1,
              "#f0f921"
             ]
            ],
            "type": "histogram2dcontour"
           }
          ],
          "mesh3d": [
           {
            "colorbar": {
             "outlinewidth": 0,
             "ticks": ""
            },
            "type": "mesh3d"
           }
          ],
          "parcoords": [
           {
            "line": {
             "colorbar": {
              "outlinewidth": 0,
              "ticks": ""
             }
            },
            "type": "parcoords"
           }
          ],
          "pie": [
           {
            "automargin": true,
            "type": "pie"
           }
          ],
          "scatter": [
           {
            "fillpattern": {
             "fillmode": "overlay",
             "size": 10,
             "solidity": 0.2
            },
            "type": "scatter"
           }
          ],
          "scatter3d": [
           {
            "line": {
             "colorbar": {
              "outlinewidth": 0,
              "ticks": ""
             }
            },
            "marker": {
             "colorbar": {
              "outlinewidth": 0,
              "ticks": ""
             }
            },
            "type": "scatter3d"
           }
          ],
          "scattercarpet": [
           {
            "marker": {
             "colorbar": {
              "outlinewidth": 0,
              "ticks": ""
             }
            },
            "type": "scattercarpet"
           }
          ],
          "scattergeo": [
           {
            "marker": {
             "colorbar": {
              "outlinewidth": 0,
              "ticks": ""
             }
            },
            "type": "scattergeo"
           }
          ],
          "scattergl": [
           {
            "marker": {
             "colorbar": {
              "outlinewidth": 0,
              "ticks": ""
             }
            },
            "type": "scattergl"
           }
          ],
          "scattermap": [
           {
            "marker": {
             "colorbar": {
              "outlinewidth": 0,
              "ticks": ""
             }
            },
            "type": "scattermap"
           }
          ],
          "scattermapbox": [
           {
            "marker": {
             "colorbar": {
              "outlinewidth": 0,
              "ticks": ""
             }
            },
            "type": "scattermapbox"
           }
          ],
          "scatterpolar": [
           {
            "marker": {
             "colorbar": {
              "outlinewidth": 0,
              "ticks": ""
             }
            },
            "type": "scatterpolar"
           }
          ],
          "scatterpolargl": [
           {
            "marker": {
             "colorbar": {
              "outlinewidth": 0,
              "ticks": ""
             }
            },
            "type": "scatterpolargl"
           }
          ],
          "scatterternary": [
           {
            "marker": {
             "colorbar": {
              "outlinewidth": 0,
              "ticks": ""
             }
            },
            "type": "scatterternary"
           }
          ],
          "surface": [
           {
            "colorbar": {
             "outlinewidth": 0,
             "ticks": ""
            },
            "colorscale": [
             [
              0,
              "#0d0887"
             ],
             [
              0.1111111111111111,
              "#46039f"
             ],
             [
              0.2222222222222222,
              "#7201a8"
             ],
             [
              0.3333333333333333,
              "#9c179e"
             ],
             [
              0.4444444444444444,
              "#bd3786"
             ],
             [
              0.5555555555555556,
              "#d8576b"
             ],
             [
              0.6666666666666666,
              "#ed7953"
             ],
             [
              0.7777777777777778,
              "#fb9f3a"
             ],
             [
              0.8888888888888888,
              "#fdca26"
             ],
             [
              1,
              "#f0f921"
             ]
            ],
            "type": "surface"
           }
          ],
          "table": [
           {
            "cells": {
             "fill": {
              "color": "#EBF0F8"
             },
             "line": {
              "color": "white"
             }
            },
            "header": {
             "fill": {
              "color": "#C8D4E3"
             },
             "line": {
              "color": "white"
             }
            },
            "type": "table"
           }
          ]
         },
         "layout": {
          "annotationdefaults": {
           "arrowcolor": "#2a3f5f",
           "arrowhead": 0,
           "arrowwidth": 1
          },
          "autotypenumbers": "strict",
          "coloraxis": {
           "colorbar": {
            "outlinewidth": 0,
            "ticks": ""
           }
          },
          "colorscale": {
           "diverging": [
            [
             0,
             "#8e0152"
            ],
            [
             0.1,
             "#c51b7d"
            ],
            [
             0.2,
             "#de77ae"
            ],
            [
             0.3,
             "#f1b6da"
            ],
            [
             0.4,
             "#fde0ef"
            ],
            [
             0.5,
             "#f7f7f7"
            ],
            [
             0.6,
             "#e6f5d0"
            ],
            [
             0.7,
             "#b8e186"
            ],
            [
             0.8,
             "#7fbc41"
            ],
            [
             0.9,
             "#4d9221"
            ],
            [
             1,
             "#276419"
            ]
           ],
           "sequential": [
            [
             0,
             "#0d0887"
            ],
            [
             0.1111111111111111,
             "#46039f"
            ],
            [
             0.2222222222222222,
             "#7201a8"
            ],
            [
             0.3333333333333333,
             "#9c179e"
            ],
            [
             0.4444444444444444,
             "#bd3786"
            ],
            [
             0.5555555555555556,
             "#d8576b"
            ],
            [
             0.6666666666666666,
             "#ed7953"
            ],
            [
             0.7777777777777778,
             "#fb9f3a"
            ],
            [
             0.8888888888888888,
             "#fdca26"
            ],
            [
             1,
             "#f0f921"
            ]
           ],
           "sequentialminus": [
            [
             0,
             "#0d0887"
            ],
            [
             0.1111111111111111,
             "#46039f"
            ],
            [
             0.2222222222222222,
             "#7201a8"
            ],
            [
             0.3333333333333333,
             "#9c179e"
            ],
            [
             0.4444444444444444,
             "#bd3786"
            ],
            [
             0.5555555555555556,
             "#d8576b"
            ],
            [
             0.6666666666666666,
             "#ed7953"
            ],
            [
             0.7777777777777778,
             "#fb9f3a"
            ],
            [
             0.8888888888888888,
             "#fdca26"
            ],
            [
             1,
             "#f0f921"
            ]
           ]
          },
          "colorway": [
           "#636efa",
           "#EF553B",
           "#00cc96",
           "#ab63fa",
           "#FFA15A",
           "#19d3f3",
           "#FF6692",
           "#B6E880",
           "#FF97FF",
           "#FECB52"
          ],
          "font": {
           "color": "#2a3f5f"
          },
          "geo": {
           "bgcolor": "white",
           "lakecolor": "white",
           "landcolor": "#E5ECF6",
           "showlakes": true,
           "showland": true,
           "subunitcolor": "white"
          },
          "hoverlabel": {
           "align": "left"
          },
          "hovermode": "closest",
          "mapbox": {
           "style": "light"
          },
          "paper_bgcolor": "white",
          "plot_bgcolor": "#E5ECF6",
          "polar": {
           "angularaxis": {
            "gridcolor": "white",
            "linecolor": "white",
            "ticks": ""
           },
           "bgcolor": "#E5ECF6",
           "radialaxis": {
            "gridcolor": "white",
            "linecolor": "white",
            "ticks": ""
           }
          },
          "scene": {
           "xaxis": {
            "backgroundcolor": "#E5ECF6",
            "gridcolor": "white",
            "gridwidth": 2,
            "linecolor": "white",
            "showbackground": true,
            "ticks": "",
            "zerolinecolor": "white"
           },
           "yaxis": {
            "backgroundcolor": "#E5ECF6",
            "gridcolor": "white",
            "gridwidth": 2,
            "linecolor": "white",
            "showbackground": true,
            "ticks": "",
            "zerolinecolor": "white"
           },
           "zaxis": {
            "backgroundcolor": "#E5ECF6",
            "gridcolor": "white",
            "gridwidth": 2,
            "linecolor": "white",
            "showbackground": true,
            "ticks": "",
            "zerolinecolor": "white"
           }
          },
          "shapedefaults": {
           "line": {
            "color": "#2a3f5f"
           }
          },
          "ternary": {
           "aaxis": {
            "gridcolor": "white",
            "linecolor": "white",
            "ticks": ""
           },
           "baxis": {
            "gridcolor": "white",
            "linecolor": "white",
            "ticks": ""
           },
           "bgcolor": "#E5ECF6",
           "caxis": {
            "gridcolor": "white",
            "linecolor": "white",
            "ticks": ""
           }
          },
          "title": {
           "x": 0.05
          },
          "xaxis": {
           "automargin": true,
           "gridcolor": "white",
           "linecolor": "white",
           "ticks": "",
           "title": {
            "standoff": 15
           },
           "zerolinecolor": "white",
           "zerolinewidth": 2
          },
          "yaxis": {
           "automargin": true,
           "gridcolor": "white",
           "linecolor": "white",
           "ticks": "",
           "title": {
            "standoff": 15
           },
           "zerolinecolor": "white",
           "zerolinewidth": 2
          }
         }
        },
        "title": {
         "text": "Top 15 Platforms by Game Count"
        },
        "xaxis": {
         "anchor": "y",
         "categoryarray": [
          "WIN",
          "XONE",
          "PS4",
          "X360",
          "OSX",
          "PS3",
          "LIN",
          "DOS",
          "Xbox",
          "XSX",
          "NX",
          "PS2",
          "PS5",
          "MAC",
          "PS1"
         ],
         "categoryorder": "array",
         "domain": [
          0,
          1
         ],
         "tickangle": -45,
         "title": {
          "text": "Platform"
         }
        },
        "yaxis": {
         "anchor": "x",
         "domain": [
          0,
          1
         ],
         "title": {
          "text": "Count"
         }
        }
       }
      }
     },
     "metadata": {},
     "output_type": "display_data"
    }
   ],
   "source": [
    "import plotly.express as px\n",
    "\n",
    "platform_counts = df_ex['Platform_List'].value_counts().reset_index()\n",
    "platform_counts.columns = ['Platform', 'Count']\n",
    "\n",
    "fig = px.bar(platform_counts.head(15), x='Platform', y='Count',\n",
    "             title='Top 15 Platforms by Game Count',\n",
    "             text='Count', color='Platform')\n",
    "fig.update_traces(textposition='outside')\n",
    "fig.update_layout(xaxis_tickangle=-45)\n",
    "fig.show()\n"
   ]
  }
 ],
 "metadata": {
  "kernelspec": {
   "display_name": "Python 3",
   "language": "python",
   "name": "python3"
  },
  "language_info": {
   "codemirror_mode": {
    "name": "ipython",
    "version": 3
   },
   "file_extension": ".py",
   "mimetype": "text/x-python",
   "name": "python",
   "nbconvert_exporter": "python",
   "pygments_lexer": "ipython3",
   "version": "3.12.4"
  }
 },
 "nbformat": 4,
 "nbformat_minor": 5
}
